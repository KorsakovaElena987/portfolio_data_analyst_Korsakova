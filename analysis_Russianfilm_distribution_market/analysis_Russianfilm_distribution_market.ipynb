{
 "cells": [
  {
   "cell_type": "markdown",
   "metadata": {
    "id": "sIfNaMOxgFyK"
   },
   "source": [
    "## Исследование данных о российском кинопрокате\n",
    "\n"
   ]
  },
  {
   "cell_type": "markdown",
   "metadata": {},
   "source": [
    "Заказчик этого исследования — Министерство культуры Российской Федерации.\n",
    "Изучим рынок российского кинопроката и выявим текущие тренды.\n",
    "\n",
    "Уделим внимание фильмам, которые получили государственную поддержку и ответим на вопрос, насколько такие фильмы интересны зрителю.\n",
    "\n",
    "Будем работать с данными, опубликованными на портале открытых данных Министерства культуры. Набор данных содержит информацию о прокатных удостоверениях, сборах и государственной поддержке фильмов, а также информацию с сайта КиноПоиск. \n"
   ]
  },
  {
   "cell_type": "markdown",
   "metadata": {
    "id": "3bSlkCsbgFyL"
   },
   "source": [
    "### Шаг 1. Загрузка файлов и объединение их в один датафрейм. \n",
    "\n",
    "Объединим данные таким образом, чтобы все объекты из датасета `mkrf_movies` обязательно вошли в получившийся датафрейм. \n"
   ]
  },
  {
   "cell_type": "code",
   "execution_count": 71,
   "metadata": {},
   "outputs": [],
   "source": [
    "# импортируем библиотеки\n",
    "import pandas as pd\n",
    "import datetime\n",
    "import seaborn as sns\n",
    "import matplotlib.pyplot as plt"
   ]
  },
  {
   "cell_type": "code",
   "execution_count": 72,
   "metadata": {
    "id": "dw87FlzMgFyM"
   },
   "outputs": [
    {
     "name": "stdout",
     "output_type": "stream",
     "text": [
      "<class 'pandas.core.frame.DataFrame'>\n",
      "RangeIndex: 7486 entries, 0 to 7485\n",
      "Data columns (total 15 columns):\n",
      "title                    7486 non-null object\n",
      "puNumber                 7486 non-null object\n",
      "show_start_date          7486 non-null object\n",
      "type                     7486 non-null object\n",
      "film_studio              7468 non-null object\n",
      "production_country       7484 non-null object\n",
      "director                 7477 non-null object\n",
      "producer                 6918 non-null object\n",
      "age_restriction          7486 non-null object\n",
      "refundable_support       332 non-null float64\n",
      "nonrefundable_support    332 non-null float64\n",
      "budget                   332 non-null float64\n",
      "financing_source         332 non-null object\n",
      "ratings                  6519 non-null object\n",
      "genres                   6510 non-null object\n",
      "dtypes: float64(3), object(12)\n",
      "memory usage: 877.4+ KB\n"
     ]
    }
   ],
   "source": [
    "# рассмотрим таблицу с данными о прокате в российских кинотеатрах\n",
    "df_mkrf_movies=pd.read_csv('/datasets/mkrf_movies.csv')\n",
    "df_mkrf_movies.info()"
   ]
  },
  {
   "cell_type": "code",
   "execution_count": 73,
   "metadata": {
    "id": "dw87FlzMgFyM"
   },
   "outputs": [
    {
     "name": "stdout",
     "output_type": "stream",
     "text": [
      "<class 'pandas.core.frame.DataFrame'>\n",
      "RangeIndex: 3158 entries, 0 to 3157\n",
      "Data columns (total 2 columns):\n",
      "puNumber      3158 non-null int64\n",
      "box_office    3158 non-null float64\n",
      "dtypes: float64(1), int64(1)\n",
      "memory usage: 49.5 KB\n"
     ]
    }
   ],
   "source": [
    "# рассмотрим таблицу с данными о прокатных удостоверениях\n",
    "df_mkrf_shows=pd.read_csv('/datasets/mkrf_shows.csv')\n",
    "df_mkrf_shows.info()"
   ]
  },
  {
   "cell_type": "markdown",
   "metadata": {},
   "source": [

   ]
  },
  {
   "cell_type": "markdown",
   "metadata": {},
   "source": [
    "Прежде чем перейти к обработке колонок объединим данные по колонке puNumber.  "
   ]
  },
  {
   "cell_type": "code",
   "execution_count": 74,
   "metadata": {},
   "outputs": [
    {
     "data": {
      "text/plain": [
       "0       221048915\n",
       "1       111013716\n",
       "2       221038416\n",
       "3       221026916\n",
       "4       221030815\n",
       "          ...    \n",
       "7481    126008019\n",
       "7482    121037819\n",
       "7483    124010819\n",
       "7484    124010619\n",
       "7485    124010719\n",
       "Name: puNumber, Length: 7486, dtype: object"
      ]
     },
     "execution_count": 74,
     "metadata": {},
     "output_type": "execute_result"
    }
   ],
   "source": [
    "# рассмотрим о обработаем колонку puNumber из таблицы df_mkrf_movies\n",
    "df_mkrf_movies['puNumber']"
   ]
  },
  {
   "cell_type": "markdown",
   "metadata": {},
   "source": [
    "Мы видим, что в колонке имеются числа, однако тип данных заявлен как object, приведём данные к типу int и объединим таблицы в одну БД."
   ]
  },
  {
   "cell_type": "code",
   "execution_count": 75,
   "metadata": {},
   "outputs": [
    {
     "data": {
      "text/html": [
       "<div>\n",
       "<style scoped>\n",
       "    .dataframe tbody tr th:only-of-type {\n",
       "        vertical-align: middle;\n",
       "    }\n",
       "\n",
       "    .dataframe tbody tr th {\n",
       "        vertical-align: top;\n",
       "    }\n",
       "\n",
       "    .dataframe thead th {\n",
       "        text-align: right;\n",
       "    }\n",
       "</style>\n",
       "<table border=\"1\" class=\"dataframe\">\n",
       "  <thead>\n",
       "    <tr style=\"text-align: right;\">\n",
       "      <th></th>\n",
       "      <th>title</th>\n",
       "      <th>puNumber</th>\n",
       "      <th>show_start_date</th>\n",
       "      <th>type</th>\n",
       "      <th>film_studio</th>\n",
       "      <th>production_country</th>\n",
       "      <th>director</th>\n",
       "      <th>producer</th>\n",
       "      <th>age_restriction</th>\n",
       "      <th>refundable_support</th>\n",
       "      <th>nonrefundable_support</th>\n",
       "      <th>budget</th>\n",
       "      <th>financing_source</th>\n",
       "      <th>ratings</th>\n",
       "      <th>genres</th>\n",
       "    </tr>\n",
       "  </thead>\n",
       "  <tbody>\n",
       "    <tr>\n",
       "      <td>1797</td>\n",
       "      <td>Курбан-роман. (История с жертвой)</td>\n",
       "      <td>NaN</td>\n",
       "      <td>2014-05-15T12:00:00.000Z</td>\n",
       "      <td>Художественный</td>\n",
       "      <td>ФОНД \"ИННОВАЦИЯ\"</td>\n",
       "      <td>Россия</td>\n",
       "      <td>С.Юзеев</td>\n",
       "      <td>М.Галицкая</td>\n",
       "      <td>«12+» - для детей старше 12 лет</td>\n",
       "      <td>NaN</td>\n",
       "      <td>NaN</td>\n",
       "      <td>NaN</td>\n",
       "      <td>NaN</td>\n",
       "      <td>NaN</td>\n",
       "      <td>NaN</td>\n",
       "    </tr>\n",
       "  </tbody>\n",
       "</table>\n",
       "</div>"
      ],
      "text/plain": [
       "                                  title  puNumber           show_start_date  \\\n",
       "1797  Курбан-роман. (История с жертвой)       NaN  2014-05-15T12:00:00.000Z   \n",
       "\n",
       "                type       film_studio production_country director  \\\n",
       "1797  Художественный  ФОНД \"ИННОВАЦИЯ\"             Россия  С.Юзеев   \n",
       "\n",
       "        producer                  age_restriction  refundable_support  \\\n",
       "1797  М.Галицкая  «12+» - для детей старше 12 лет                 NaN   \n",
       "\n",
       "      nonrefundable_support  budget financing_source ratings genres  \n",
       "1797                    NaN     NaN              NaN     NaN    NaN  "
      ]
     },
     "metadata": {},
     "output_type": "display_data"
    },
    {
     "data": {
      "text/plain": [
       "dtype('float64')"
      ]
     },
     "metadata": {},
     "output_type": "display_data"
    }
   ],
   "source": [
    "# приводим данные к числовому типу\n",
    "df_mkrf_movies['puNumber']=pd.to_numeric(df_mkrf_movies['puNumber'], errors='coerce')\n",
    "# найдём и рассмотрим строки с нулевыми значениями\n",
    "display(df_mkrf_movies.loc[df_mkrf_movies['puNumber'].isna()==True])\n",
    "display(df_mkrf_movies['puNumber'].dtype)"
   ]
  },
  {
   "cell_type": "markdown",
   "metadata": {},
   "source": [
    "Обработав колонку мы видим, что данные преобразованы к типу float и одно значение определено, как NaN, преобразуем его в 0 и переведём колонку в int"
   ]
  },
  {
   "cell_type": "code",
   "execution_count": 76,
   "metadata": {},
   "outputs": [
    {
     "data": {
      "text/plain": [
       "0       221048915\n",
       "1       111013716\n",
       "2       221038416\n",
       "3       221026916\n",
       "4       221030815\n",
       "          ...    \n",
       "7481    126008019\n",
       "7482    121037819\n",
       "7483    124010819\n",
       "7484    124010619\n",
       "7485    124010719\n",
       "Name: puNumber, Length: 7486, dtype: int64"
      ]
     },
     "execution_count": 76,
     "metadata": {},
     "output_type": "execute_result"
    }
   ],
   "source": [
    "df_mkrf_movies['puNumber'].fillna(0).astype(int)"
   ]
  },
  {
   "cell_type": "code",
   "execution_count": 77,
   "metadata": {},
   "outputs": [
    {
     "name": "stdout",
     "output_type": "stream",
     "text": [
      "<class 'pandas.core.frame.DataFrame'>\n",
      "Int64Index: 7486 entries, 0 to 7485\n",
      "Data columns (total 16 columns):\n",
      "puNumber                 7485 non-null float64\n",
      "box_office               3158 non-null float64\n",
      "title                    7486 non-null object\n",
      "show_start_date          7486 non-null object\n",
      "type                     7486 non-null object\n",
      "film_studio              7468 non-null object\n",
      "production_country       7484 non-null object\n",
      "director                 7477 non-null object\n",
      "producer                 6918 non-null object\n",
      "age_restriction          7486 non-null object\n",
      "refundable_support       332 non-null float64\n",
      "nonrefundable_support    332 non-null float64\n",
      "budget                   332 non-null float64\n",
      "financing_source         332 non-null object\n",
      "ratings                  6519 non-null object\n",
      "genres                   6510 non-null object\n",
      "dtypes: float64(5), object(11)\n",
      "memory usage: 994.2+ KB\n"
     ]
    }
   ],
   "source": [
    "# Объединим таблицы по столбцу puNumber так, \n",
    "# чтобы все значения объекты из датасета mkrf_movies обязательно вошли в получившийся датафрейм.\n",
    "df=df_mkrf_shows.merge(df_mkrf_movies, on='puNumber', how='outer')\n",
    "df.head()\n",
    "df.info()"
   ]
  },
  {
   "cell_type": "markdown",
   "metadata": {},
   "source": [
    "В полученной таблице имеется 16 столбцов и 7486 записей. Перейдём к предобработке данных."
   ]
  },
  {
   "cell_type": "markdown",
   "metadata": {
    "id": "KLDGpPG0gFyM"
   },
   "source": [
    "### Шаг 2. Предобработка данных"
   ]
  },
  {
   "cell_type": "markdown",
   "metadata": {
    "id": "ssWwKXsxgFyO"
   },
   "source": [
    "#### Шаг 2.1. Проверим типы данных"
   ]
  },
  {
   "cell_type": "markdown",
   "metadata": {
    "id": "kVGSplJOgFyO"
   },
   "source": [
    "Исходя из предложенного описания таблиц, рассмотрим , какими должны быть типы представленных данных\n",
    "Таблица mkrf_movies содержит информацию из реестра прокатных удостоверений. У одного фильма может быть несколько прокатных удостоверений.\n",
    "\n",
    "`title` — название фильма; подходит тип object\n",
    "\n",
    "`puNumber` — номер прокатного удостоверения; преобразуем в тип int\n",
    "\n",
    "`show_start_date` — дата премьеры фильма; преобразуем в тип datetime\n",
    "\n",
    "`type` — тип фильма; подходит тип object\n",
    "\n",
    "`film_studio` — студия-производитель; подходит тип object\n",
    "\n",
    "`production_country` — страна-производитель; подходит тип object\n",
    "\n",
    "`director` — режиссёр; подходит тип object\n",
    "\n",
    "`producer` — продюсер; подходит тип object\n",
    "\n",
    "`age_restriction` — возрастная категория; преобразуем в тип int\n",
    "\n",
    "`refundable_support` — объём возвратных средств государственной поддержки; подходит тип float\n",
    "\n",
    "`nonrefundable_support` — объём невозвратных средств государственной поддержки; подходит тип float\n",
    "\n",
    "`financing_source` — источник государственного финансирования; подходит тип object\n",
    "\n",
    "`budget` — общий бюджет фильма; подходит тип float\n",
    "\n",
    "`ratings` — рейтинг фильма на КиноПоиске; преобразуем в тип float\n",
    "\n",
    "`genres` — жанр фильма; подходит тип object\n",
    "\n",
    "Вывод: будем менять тип колонок `puNumber`, `show_start_date`, `age_restriction`, `ratings`"
   ]
  },
  {
   "cell_type": "code",
   "execution_count": 78,
   "metadata": {},
   "outputs": [
    {
     "data": {
      "text/plain": [
       "0       111000113\n",
       "1       111000115\n",
       "2       111000116\n",
       "3       111000117\n",
       "4       111000118\n",
       "          ...    \n",
       "7481    126008019\n",
       "7482    121037819\n",
       "7483    124010819\n",
       "7484    124010619\n",
       "7485    124010719\n",
       "Name: puNumber, Length: 7486, dtype: int64"
      ]
     },
     "execution_count": 78,
     "metadata": {},
     "output_type": "execute_result"
    }
   ],
   "source": [
    "# изменим тип данных в колонке `puNumber`\n",
    "df['puNumber'].fillna(0).astype(int)"
   ]
  },
  {
   "cell_type": "code",
   "execution_count": 79,
   "metadata": {},
   "outputs": [
    {
     "data": {
      "text/plain": [
       "0      2013-01-17 12:00:00+00:00\n",
       "1      2015-01-14 12:00:00+00:00\n",
       "2      2016-01-13 12:00:00+00:00\n",
       "3      2017-01-10 12:00:00+00:00\n",
       "4      2018-01-23 12:00:00+00:00\n",
       "                  ...           \n",
       "7481   2019-12-23 12:00:00+00:00\n",
       "7482   2019-12-24 12:00:00+00:00\n",
       "7483   2019-12-28 12:00:00+00:00\n",
       "7484   2019-12-30 12:00:00+00:00\n",
       "7485   2019-12-30 12:00:00+00:00\n",
       "Name: show_start_date, Length: 7486, dtype: datetime64[ns, UTC]"
      ]
     },
     "execution_count": 79,
     "metadata": {},
     "output_type": "execute_result"
    }
   ],
   "source": [
    "# изменим тип данных в колонке `show_start_date`\n",
    "df['show_start_date']=pd.to_datetime(df['show_start_date'])\n",
    "df['show_start_date']"
   ]
  },
  {
   "cell_type": "code",
   "execution_count": 80,
   "metadata": {},
   "outputs": [
    {
     "data": {
      "text/plain": [
       "«16+» - для детей старше 16 лет           2851\n",
       "«18+» - запрещено для детей               1605\n",
       "«12+» - для детей старше 12 лет           1593\n",
       "«0+» - для любой зрительской аудитории     811\n",
       "«6+» - для детей старше 6 лет              626\n",
       "Name: age_restriction, dtype: int64"
      ]
     },
     "execution_count": 80,
     "metadata": {},
     "output_type": "execute_result"
    }
   ],
   "source": [
    "# изменим тип данных в колонке `age_restriction`\n",
    "df['age_restriction'].value_counts()"
   ]
  },
  {
   "cell_type": "markdown",
   "metadata": {},
   "source": [
    "После более подробного изучения стало понятно, что колонка `age_restriction` заполненв категориальными значениями и производить с ней математические операции в ходе исследования не придётся, значит можно оставить колонку без изменения типа."
   ]
  },
  {
   "cell_type": "code",
   "execution_count": 81,
   "metadata": {},
   "outputs": [
    {
     "data": {
      "text/plain": [
       "array(['5.1', '6.7', '5.8', '3.2', '5.3', '3.0', '5.4', '6.1', '5.9',\n",
       "       '4.7', '6.6', '6.0', '7.2', '7.1', '4.5', '7.3', '3.3', '6.8',\n",
       "       '5.7', nan, '4.9', '4.3', '2.8', '6.2', '3.9', '1.9', '4.8', '7.0',\n",
       "       '7.5', '6.4', '99%', '4.2', '6.5', '5.2', '5.0', '3.1', '6.3',\n",
       "       '5.6', '3.7', '2.6', '8.0', '6.9', '7.8', '4.1', '91%', '2.9',\n",
       "       '7.4', '3.4', '4.6', '7.9', '8.5', '8.1', '98%', '7.6', '94%',\n",
       "       '1.4', '3.8', '7.7', '1.5', '2.7', '4.4', '4.0', '2.5', '8.3',\n",
       "       '8.8', '1.2', '8.4', '5.5', '8.2', '8.7', '1.6', '79%', '9.2',\n",
       "       '1.0', '89%', '90%', '2.1', '28%', '2.4', '3.5', '83%', '64%',\n",
       "       '8.6', '3.6', '88%', '19%', '97%', '1.1', '62%', '1.3', '1.8',\n",
       "       '1.7', '9.0', '8.9', '9.1'], dtype=object)"
      ]
     },
     "execution_count": 81,
     "metadata": {},
     "output_type": "execute_result"
    }
   ],
   "source": [
    "#прежде чем преобразовывать колонку к типу float , посмотрим, в каком виде хранятися записи\n",
    "df['ratings'].unique()"
   ]
  },
  {
   "cell_type": "markdown",
   "metadata": {},
   "source": [
    "Как видно, некоторые значения записаны в процентах, в процесе преобразования к типу float такие значения могут быть утеряны, поэтому сначала, рассмотрим и обработаем строки с процентным рейтингом."
   ]
  },
  {
   "cell_type": "code",
   "execution_count": 82,
   "metadata": {},
   "outputs": [
    {
     "data": {
      "text/plain": [
       "29"
      ]
     },
     "execution_count": 82,
     "metadata": {},
     "output_type": "execute_result"
    }
   ],
   "source": [
    "df.loc[df['ratings'].str.contains('%')==True,'ratings'].count()"
   ]
  },
  {
   "cell_type": "markdown",
   "metadata": {},
   "source": [
    "Таких строк 29, избавимся от знака процента, и переведём значение в баллы."
   ]
  },
  {
   "cell_type": "code",
   "execution_count": 83,
   "metadata": {},
   "outputs": [
    {
     "name": "stdout",
     "output_type": "stream",
     "text": [
      "<class 'pandas.core.frame.DataFrame'>\n",
      "Int64Index: 7486 entries, 0 to 7485\n",
      "Data columns (total 16 columns):\n",
      "puNumber                 7485 non-null float64\n",
      "box_office               3158 non-null float64\n",
      "title                    7486 non-null object\n",
      "show_start_date          7486 non-null datetime64[ns, UTC]\n",
      "type                     7486 non-null object\n",
      "film_studio              7468 non-null object\n",
      "production_country       7484 non-null object\n",
      "director                 7477 non-null object\n",
      "producer                 6918 non-null object\n",
      "age_restriction          7486 non-null object\n",
      "refundable_support       332 non-null float64\n",
      "nonrefundable_support    332 non-null float64\n",
      "budget                   332 non-null float64\n",
      "financing_source         332 non-null object\n",
      "ratings                  7486 non-null float64\n",
      "genres                   6510 non-null object\n",
      "dtypes: datetime64[ns, UTC](1), float64(6), object(9)\n",
      "memory usage: 994.2+ KB\n"
     ]
    }
   ],
   "source": [
    "df['ratings'] = df['ratings'].str.replace(r'\\D+', '').fillna(0).astype(int)/10\n",
    "df.info()"
   ]
  },
  {
   "cell_type": "markdown",
   "metadata": {
    "id": "i0MOLbF-gFyP"
   },
   "source": [
    "#### Шаг 2.2. Изучим пропуски в датафрейме"
   ]
  },
  {
   "cell_type": "markdown",
   "metadata": {
    "id": "8MJD_lkngFyP"
   },
   "source": [
    "Изучим по порядку те колонки в которых есть пропуски:"
   ]
  },
  {
   "cell_type": "code",
   "execution_count": 84,
   "metadata": {},
   "outputs": [
    {
     "data": {
      "text/plain": [
       "count    3.158000e+03\n",
       "mean     7.647870e+07\n",
       "std      2.403531e+08\n",
       "min      0.000000e+00\n",
       "25%      8.623900e+04\n",
       "50%      2.327988e+06\n",
       "75%      2.397967e+07\n",
       "max      3.073569e+09\n",
       "Name: box_office, dtype: float64"
      ]
     },
     "execution_count": 84,
     "metadata": {},
     "output_type": "execute_result"
    }
   ],
   "source": [
    "# колонка box_office — сборы в рублях\n",
    "df['box_office'].describe()"
   ]
  },
  {
   "cell_type": "markdown",
   "metadata": {},
   "source": [
    "Колонка числового типа содержит информацию о сборах фильма в рублях, почти о половине фильмов информации нет, однако они вышли в прокат достаточно давно, и скорее всего какие-то сборы имеют, поэтому неверно было бы заменять пропущенные значения 0, лучше просто оставить без изменений, но при анализе учитывать, что в колонке есть пропущенные значения."
   ]
  },
  {
   "cell_type": "code",
   "execution_count": 85,
   "metadata": {},
   "outputs": [
    {
     "data": {
      "text/html": [
       "<div>\n",
       "<style scoped>\n",
       "    .dataframe tbody tr th:only-of-type {\n",
       "        vertical-align: middle;\n",
       "    }\n",
       "\n",
       "    .dataframe tbody tr th {\n",
       "        vertical-align: top;\n",
       "    }\n",
       "\n",
       "    .dataframe thead th {\n",
       "        text-align: right;\n",
       "    }\n",
       "</style>\n",
       "<table border=\"1\" class=\"dataframe\">\n",
       "  <thead>\n",
       "    <tr style=\"text-align: right;\">\n",
       "      <th></th>\n",
       "      <th>puNumber</th>\n",
       "      <th>box_office</th>\n",
       "      <th>title</th>\n",
       "      <th>show_start_date</th>\n",
       "      <th>type</th>\n",
       "      <th>film_studio</th>\n",
       "      <th>production_country</th>\n",
       "      <th>director</th>\n",
       "      <th>producer</th>\n",
       "      <th>age_restriction</th>\n",
       "      <th>refundable_support</th>\n",
       "      <th>nonrefundable_support</th>\n",
       "      <th>budget</th>\n",
       "      <th>financing_source</th>\n",
       "      <th>ratings</th>\n",
       "      <th>genres</th>\n",
       "    </tr>\n",
       "  </thead>\n",
       "  <tbody>\n",
       "    <tr>\n",
       "      <td>64</td>\n",
       "      <td>111001216.0</td>\n",
       "      <td>194527.0</td>\n",
       "      <td>Детский юмористический киножурнал \"Ералаш. Ну ...</td>\n",
       "      <td>2016-02-09 12:00:00+00:00</td>\n",
       "      <td>Художественный</td>\n",
       "      <td>ООО \"Продюсерский центр ЕРАЛАШ\"</td>\n",
       "      <td>NaN</td>\n",
       "      <td>Р.Светлов, И.Магитон, А.Арутюнян, Л.Мирский, А...</td>\n",
       "      <td>ООО \"Продюсерский центр ЕРАЛАШ\"</td>\n",
       "      <td>«0+» - для любой зрительской аудитории</td>\n",
       "      <td>NaN</td>\n",
       "      <td>NaN</td>\n",
       "      <td>NaN</td>\n",
       "      <td>NaN</td>\n",
       "      <td>7.2</td>\n",
       "      <td>детский,комедия</td>\n",
       "    </tr>\n",
       "    <tr>\n",
       "      <td>5754</td>\n",
       "      <td>214000410.0</td>\n",
       "      <td>NaN</td>\n",
       "      <td>Мульт личности. Выпуск 5</td>\n",
       "      <td>2010-01-25 12:00:00+00:00</td>\n",
       "      <td>Художественный</td>\n",
       "      <td>NaN</td>\n",
       "      <td>NaN</td>\n",
       "      <td>NaN</td>\n",
       "      <td>NaN</td>\n",
       "      <td>«0+» - для любой зрительской аудитории</td>\n",
       "      <td>NaN</td>\n",
       "      <td>NaN</td>\n",
       "      <td>NaN</td>\n",
       "      <td>NaN</td>\n",
       "      <td>4.0</td>\n",
       "      <td>мультфильм,комедия</td>\n",
       "    </tr>\n",
       "  </tbody>\n",
       "</table>\n",
       "</div>"
      ],
      "text/plain": [
       "         puNumber  box_office  \\\n",
       "64    111001216.0    194527.0   \n",
       "5754  214000410.0         NaN   \n",
       "\n",
       "                                                  title  \\\n",
       "64    Детский юмористический киножурнал \"Ералаш. Ну ...   \n",
       "5754                           Мульт личности. Выпуск 5   \n",
       "\n",
       "               show_start_date            type  \\\n",
       "64   2016-02-09 12:00:00+00:00  Художественный   \n",
       "5754 2010-01-25 12:00:00+00:00  Художественный   \n",
       "\n",
       "                          film_studio production_country  \\\n",
       "64    ООО \"Продюсерский центр ЕРАЛАШ\"                NaN   \n",
       "5754                              NaN                NaN   \n",
       "\n",
       "                                               director  \\\n",
       "64    Р.Светлов, И.Магитон, А.Арутюнян, Л.Мирский, А...   \n",
       "5754                                                NaN   \n",
       "\n",
       "                             producer                         age_restriction  \\\n",
       "64    ООО \"Продюсерский центр ЕРАЛАШ\"  «0+» - для любой зрительской аудитории   \n",
       "5754                              NaN  «0+» - для любой зрительской аудитории   \n",
       "\n",
       "      refundable_support  nonrefundable_support  budget financing_source  \\\n",
       "64                   NaN                    NaN     NaN              NaN   \n",
       "5754                 NaN                    NaN     NaN              NaN   \n",
       "\n",
       "      ratings              genres  \n",
       "64        7.2     детский,комедия  \n",
       "5754      4.0  мультфильм,комедия  "
      ]
     },
     "execution_count": 85,
     "metadata": {},
     "output_type": "execute_result"
    }
   ],
   "source": [
    "# колонка production_country — страна-производитель имеет две пропущенных строки\n",
    "df.loc[df['production_country'].isna()==True]"
   ]
  },
  {
   "cell_type": "code",
   "execution_count": 86,
   "metadata": {},
   "outputs": [],
   "source": [
    "# судя по названию, можем определить странну как Россию\n",
    "df.loc[df['production_country'].isna()==True,'production_country']='Россия'"
   ]
  },
  {
   "cell_type": "code",
   "execution_count": 87,
   "metadata": {},
   "outputs": [
    {
     "data": {
      "text/html": [
       "<div>\n",
       "<style scoped>\n",
       "    .dataframe tbody tr th:only-of-type {\n",
       "        vertical-align: middle;\n",
       "    }\n",
       "\n",
       "    .dataframe tbody tr th {\n",
       "        vertical-align: top;\n",
       "    }\n",
       "\n",
       "    .dataframe thead th {\n",
       "        text-align: right;\n",
       "    }\n",
       "</style>\n",
       "<table border=\"1\" class=\"dataframe\">\n",
       "  <thead>\n",
       "    <tr style=\"text-align: right;\">\n",
       "      <th></th>\n",
       "      <th>puNumber</th>\n",
       "      <th>box_office</th>\n",
       "      <th>title</th>\n",
       "      <th>show_start_date</th>\n",
       "      <th>type</th>\n",
       "      <th>film_studio</th>\n",
       "      <th>production_country</th>\n",
       "      <th>director</th>\n",
       "      <th>producer</th>\n",
       "      <th>age_restriction</th>\n",
       "      <th>refundable_support</th>\n",
       "      <th>nonrefundable_support</th>\n",
       "      <th>budget</th>\n",
       "      <th>financing_source</th>\n",
       "      <th>ratings</th>\n",
       "      <th>genres</th>\n",
       "    </tr>\n",
       "  </thead>\n",
       "  <tbody>\n",
       "    <tr>\n",
       "      <td>739</td>\n",
       "      <td>111021918.0</td>\n",
       "      <td>41225.0</td>\n",
       "      <td>Доживем до каникул?..</td>\n",
       "      <td>2018-11-15 12:00:00+00:00</td>\n",
       "      <td>Художественный</td>\n",
       "      <td>NaN</td>\n",
       "      <td>Россия</td>\n",
       "      <td>Я.Хальпукова (псевдоним Яна Мартынец)</td>\n",
       "      <td>Я.Хальпукова (псевдоним Яна Мартынец)</td>\n",
       "      <td>«12+» - для детей старше 12 лет</td>\n",
       "      <td>NaN</td>\n",
       "      <td>NaN</td>\n",
       "      <td>NaN</td>\n",
       "      <td>NaN</td>\n",
       "      <td>0.0</td>\n",
       "      <td>NaN</td>\n",
       "    </tr>\n",
       "    <tr>\n",
       "      <td>4179</td>\n",
       "      <td>121011114.0</td>\n",
       "      <td>NaN</td>\n",
       "      <td>Stars in Shorts</td>\n",
       "      <td>2014-06-03 12:00:00+00:00</td>\n",
       "      <td>Художественный</td>\n",
       "      <td>NaN</td>\n",
       "      <td>США, Великобритания</td>\n",
       "      <td>Роберт Фестингер, Руперт Френд, Джей Камен, Ни...</td>\n",
       "      <td>Татьяна Келли, Роберта Мунро, Руперт Френд, До...</td>\n",
       "      <td>«16+» - для детей старше 16 лет</td>\n",
       "      <td>NaN</td>\n",
       "      <td>NaN</td>\n",
       "      <td>NaN</td>\n",
       "      <td>NaN</td>\n",
       "      <td>7.3</td>\n",
       "      <td>комедия</td>\n",
       "    </tr>\n",
       "    <tr>\n",
       "      <td>5754</td>\n",
       "      <td>214000410.0</td>\n",
       "      <td>NaN</td>\n",
       "      <td>Мульт личности. Выпуск 5</td>\n",
       "      <td>2010-01-25 12:00:00+00:00</td>\n",
       "      <td>Художественный</td>\n",
       "      <td>NaN</td>\n",
       "      <td>Россия</td>\n",
       "      <td>NaN</td>\n",
       "      <td>NaN</td>\n",
       "      <td>«0+» - для любой зрительской аудитории</td>\n",
       "      <td>NaN</td>\n",
       "      <td>NaN</td>\n",
       "      <td>NaN</td>\n",
       "      <td>NaN</td>\n",
       "      <td>4.0</td>\n",
       "      <td>мультфильм,комедия</td>\n",
       "    </tr>\n",
       "    <tr>\n",
       "      <td>6824</td>\n",
       "      <td>111013818.0</td>\n",
       "      <td>NaN</td>\n",
       "      <td>Значит любит</td>\n",
       "      <td>2018-08-10 12:00:00+00:00</td>\n",
       "      <td>Художественный</td>\n",
       "      <td>NaN</td>\n",
       "      <td>Россия</td>\n",
       "      <td>А.Краевский</td>\n",
       "      <td>Е.Щербакова</td>\n",
       "      <td>«18+» - запрещено для детей</td>\n",
       "      <td>NaN</td>\n",
       "      <td>NaN</td>\n",
       "      <td>NaN</td>\n",
       "      <td>NaN</td>\n",
       "      <td>0.0</td>\n",
       "      <td>NaN</td>\n",
       "    </tr>\n",
       "    <tr>\n",
       "      <td>6863</td>\n",
       "      <td>112007018.0</td>\n",
       "      <td>NaN</td>\n",
       "      <td>Несейка. Младшая дочь</td>\n",
       "      <td>2018-09-01 12:00:00+00:00</td>\n",
       "      <td>Документальный</td>\n",
       "      <td>NaN</td>\n",
       "      <td>Россия</td>\n",
       "      <td>В.Марин</td>\n",
       "      <td>Д.Якунин, Ф.Абрютин, О.Филонова</td>\n",
       "      <td>«6+» - для детей старше 6 лет</td>\n",
       "      <td>NaN</td>\n",
       "      <td>NaN</td>\n",
       "      <td>NaN</td>\n",
       "      <td>NaN</td>\n",
       "      <td>0.0</td>\n",
       "      <td>NaN</td>\n",
       "    </tr>\n",
       "  </tbody>\n",
       "</table>\n",
       "</div>"
      ],
      "text/plain": [
       "         puNumber  box_office                     title  \\\n",
       "739   111021918.0     41225.0     Доживем до каникул?..   \n",
       "4179  121011114.0         NaN           Stars in Shorts   \n",
       "5754  214000410.0         NaN  Мульт личности. Выпуск 5   \n",
       "6824  111013818.0         NaN              Значит любит   \n",
       "6863  112007018.0         NaN     Несейка. Младшая дочь   \n",
       "\n",
       "               show_start_date             type film_studio  \\\n",
       "739  2018-11-15 12:00:00+00:00   Художественный         NaN   \n",
       "4179 2014-06-03 12:00:00+00:00   Художественный         NaN   \n",
       "5754 2010-01-25 12:00:00+00:00   Художественный         NaN   \n",
       "6824 2018-08-10 12:00:00+00:00   Художественный         NaN   \n",
       "6863 2018-09-01 12:00:00+00:00   Документальный         NaN   \n",
       "\n",
       "       production_country                                           director  \\\n",
       "739                Россия              Я.Хальпукова (псевдоним Яна Мартынец)   \n",
       "4179  США, Великобритания  Роберт Фестингер, Руперт Френд, Джей Камен, Ни...   \n",
       "5754               Россия                                                NaN   \n",
       "6824               Россия                                        А.Краевский   \n",
       "6863               Россия                                            В.Марин   \n",
       "\n",
       "                                               producer  \\\n",
       "739               Я.Хальпукова (псевдоним Яна Мартынец)   \n",
       "4179  Татьяна Келли, Роберта Мунро, Руперт Френд, До...   \n",
       "5754                                                NaN   \n",
       "6824                                        Е.Щербакова   \n",
       "6863                    Д.Якунин, Ф.Абрютин, О.Филонова   \n",
       "\n",
       "                             age_restriction  refundable_support  \\\n",
       "739          «12+» - для детей старше 12 лет                 NaN   \n",
       "4179         «16+» - для детей старше 16 лет                 NaN   \n",
       "5754  «0+» - для любой зрительской аудитории                 NaN   \n",
       "6824             «18+» - запрещено для детей                 NaN   \n",
       "6863           «6+» - для детей старше 6 лет                 NaN   \n",
       "\n",
       "      nonrefundable_support  budget financing_source  ratings  \\\n",
       "739                     NaN     NaN              NaN      0.0   \n",
       "4179                    NaN     NaN              NaN      7.3   \n",
       "5754                    NaN     NaN              NaN      4.0   \n",
       "6824                    NaN     NaN              NaN      0.0   \n",
       "6863                    NaN     NaN              NaN      0.0   \n",
       "\n",
       "                  genres  \n",
       "739                  NaN  \n",
       "4179             комедия  \n",
       "5754  мультфильм,комедия  \n",
       "6824                 NaN  \n",
       "6863                 NaN  "
      ]
     },
     "execution_count": 87,
     "metadata": {},
     "output_type": "execute_result"
    }
   ],
   "source": [
    "# колонка film_studio — студия-производитель имеет 18 пропусков\n",
    "df.loc[df['film_studio'].isna()==True].head()"
   ]
  },
  {
   "cell_type": "markdown",
   "metadata": {},
   "source": [
    "Можно восстановить значения, пользуясь ресурсами сети Интернет, но поскольку данная колонка не используется в анализе, оставим данные без изменений."
   ]
  },
  {
   "cell_type": "code",
   "execution_count": 88,
   "metadata": {
    "scrolled": true
   },
   "outputs": [
    {
     "data": {
      "text/html": [
       "<div>\n",
       "<style scoped>\n",
       "    .dataframe tbody tr th:only-of-type {\n",
       "        vertical-align: middle;\n",
       "    }\n",
       "\n",
       "    .dataframe tbody tr th {\n",
       "        vertical-align: top;\n",
       "    }\n",
       "\n",
       "    .dataframe thead th {\n",
       "        text-align: right;\n",
       "    }\n",
       "</style>\n",
       "<table border=\"1\" class=\"dataframe\">\n",
       "  <thead>\n",
       "    <tr style=\"text-align: right;\">\n",
       "      <th></th>\n",
       "      <th>puNumber</th>\n",
       "      <th>box_office</th>\n",
       "      <th>title</th>\n",
       "      <th>show_start_date</th>\n",
       "      <th>type</th>\n",
       "      <th>film_studio</th>\n",
       "      <th>production_country</th>\n",
       "      <th>director</th>\n",
       "      <th>producer</th>\n",
       "      <th>age_restriction</th>\n",
       "      <th>refundable_support</th>\n",
       "      <th>nonrefundable_support</th>\n",
       "      <th>budget</th>\n",
       "      <th>financing_source</th>\n",
       "      <th>ratings</th>\n",
       "      <th>genres</th>\n",
       "    </tr>\n",
       "  </thead>\n",
       "  <tbody>\n",
       "    <tr>\n",
       "      <td>3040</td>\n",
       "      <td>126003512.0</td>\n",
       "      <td>44350.0</td>\n",
       "      <td>Три звезды. Концерт в Waldbuhne Theater, Берли...</td>\n",
       "      <td>2012-12-04 12:00:00+00:00</td>\n",
       "      <td>Прочие</td>\n",
       "      <td>Райзинг Алтернатив</td>\n",
       "      <td>Великобритания</td>\n",
       "      <td>NaN</td>\n",
       "      <td>Вальдбюне Театр</td>\n",
       "      <td>«0+» - для любой зрительской аудитории</td>\n",
       "      <td>NaN</td>\n",
       "      <td>NaN</td>\n",
       "      <td>NaN</td>\n",
       "      <td>NaN</td>\n",
       "      <td>0.0</td>\n",
       "      <td>NaN</td>\n",
       "    </tr>\n",
       "    <tr>\n",
       "      <td>4490</td>\n",
       "      <td>126003413.0</td>\n",
       "      <td>NaN</td>\n",
       "      <td>Помпеи. Британский музей</td>\n",
       "      <td>2013-09-11 12:00:00+00:00</td>\n",
       "      <td>Прочие</td>\n",
       "      <td>МортуСкрин, Британский музей</td>\n",
       "      <td>Великобритания</td>\n",
       "      <td>NaN</td>\n",
       "      <td>Британский музей</td>\n",
       "      <td>«0+» - для любой зрительской аудитории</td>\n",
       "      <td>NaN</td>\n",
       "      <td>NaN</td>\n",
       "      <td>NaN</td>\n",
       "      <td>NaN</td>\n",
       "      <td>0.0</td>\n",
       "      <td>NaN</td>\n",
       "    </tr>\n",
       "    <tr>\n",
       "      <td>5225</td>\n",
       "      <td>217027010.0</td>\n",
       "      <td>NaN</td>\n",
       "      <td>Зур концерт (Большой концерт).</td>\n",
       "      <td>2010-06-24 12:00:00+00:00</td>\n",
       "      <td>Художественный</td>\n",
       "      <td>ООО \"Барс Рекордс\"</td>\n",
       "      <td>Россия</td>\n",
       "      <td>NaN</td>\n",
       "      <td>NaN</td>\n",
       "      <td>«12+» - для детей старше 12 лет</td>\n",
       "      <td>NaN</td>\n",
       "      <td>NaN</td>\n",
       "      <td>NaN</td>\n",
       "      <td>NaN</td>\n",
       "      <td>0.0</td>\n",
       "      <td>NaN</td>\n",
       "    </tr>\n",
       "    <tr>\n",
       "      <td>5414</td>\n",
       "      <td>217017310.0</td>\n",
       "      <td>NaN</td>\n",
       "      <td>Ганс Сэйфуллин \"Авылым чишмэлэре. Ганс Сэйфулл...</td>\n",
       "      <td>2010-04-22 12:00:00+00:00</td>\n",
       "      <td>Художественный</td>\n",
       "      <td>ООО \"Барс-Рекордс\"</td>\n",
       "      <td>Россия</td>\n",
       "      <td>NaN</td>\n",
       "      <td>NaN</td>\n",
       "      <td>«0+» - для любой зрительской аудитории</td>\n",
       "      <td>NaN</td>\n",
       "      <td>NaN</td>\n",
       "      <td>NaN</td>\n",
       "      <td>NaN</td>\n",
       "      <td>0.0</td>\n",
       "      <td>NaN</td>\n",
       "    </tr>\n",
       "    <tr>\n",
       "      <td>5632</td>\n",
       "      <td>217020610.0</td>\n",
       "      <td>NaN</td>\n",
       "      <td>Изге Вэли (Святой Валентин)</td>\n",
       "      <td>2010-05-20 12:00:00+00:00</td>\n",
       "      <td>Художественный</td>\n",
       "      <td>ООО \"Барс Рекордс\"</td>\n",
       "      <td>Россия</td>\n",
       "      <td>NaN</td>\n",
       "      <td>NaN</td>\n",
       "      <td>«12+» - для детей старше 12 лет</td>\n",
       "      <td>NaN</td>\n",
       "      <td>NaN</td>\n",
       "      <td>NaN</td>\n",
       "      <td>NaN</td>\n",
       "      <td>0.0</td>\n",
       "      <td>NaN</td>\n",
       "    </tr>\n",
       "    <tr>\n",
       "      <td>5732</td>\n",
       "      <td>126001710.0</td>\n",
       "      <td>NaN</td>\n",
       "      <td>Bon Jovi. The Circle Tour</td>\n",
       "      <td>2010-11-11 12:00:00+00:00</td>\n",
       "      <td>Прочие</td>\n",
       "      <td>Эншутц Интертейнмент Груп</td>\n",
       "      <td>США</td>\n",
       "      <td>NaN</td>\n",
       "      <td>Эншутц Интертейнмент Груп</td>\n",
       "      <td>«0+» - для любой зрительской аудитории</td>\n",
       "      <td>NaN</td>\n",
       "      <td>NaN</td>\n",
       "      <td>NaN</td>\n",
       "      <td>NaN</td>\n",
       "      <td>7.9</td>\n",
       "      <td>концерт,музыка</td>\n",
       "    </tr>\n",
       "    <tr>\n",
       "      <td>5754</td>\n",
       "      <td>214000410.0</td>\n",
       "      <td>NaN</td>\n",
       "      <td>Мульт личности. Выпуск 5</td>\n",
       "      <td>2010-01-25 12:00:00+00:00</td>\n",
       "      <td>Художественный</td>\n",
       "      <td>NaN</td>\n",
       "      <td>Россия</td>\n",
       "      <td>NaN</td>\n",
       "      <td>NaN</td>\n",
       "      <td>«0+» - для любой зрительской аудитории</td>\n",
       "      <td>NaN</td>\n",
       "      <td>NaN</td>\n",
       "      <td>NaN</td>\n",
       "      <td>NaN</td>\n",
       "      <td>4.0</td>\n",
       "      <td>мультфильм,комедия</td>\n",
       "    </tr>\n",
       "    <tr>\n",
       "      <td>6189</td>\n",
       "      <td>126001111.0</td>\n",
       "      <td>NaN</td>\n",
       "      <td>Георг Фридрих Гендель. Мессия. Оратория. Корол...</td>\n",
       "      <td>2011-04-25 12:00:00+00:00</td>\n",
       "      <td>Прочие</td>\n",
       "      <td>Опус Арт</td>\n",
       "      <td>Великобритания</td>\n",
       "      <td>NaN</td>\n",
       "      <td>Короевский колледж Кембриджа</td>\n",
       "      <td>«0+» - для любой зрительской аудитории</td>\n",
       "      <td>NaN</td>\n",
       "      <td>NaN</td>\n",
       "      <td>NaN</td>\n",
       "      <td>NaN</td>\n",
       "      <td>0.0</td>\n",
       "      <td>NaN</td>\n",
       "    </tr>\n",
       "    <tr>\n",
       "      <td>6206</td>\n",
       "      <td>126002711.0</td>\n",
       "      <td>NaN</td>\n",
       "      <td>Питер Гэбриэл и New Blood Orchestra 3D</td>\n",
       "      <td>2011-11-11 12:00:00+00:00</td>\n",
       "      <td>Прочие</td>\n",
       "      <td>Омниверс Визион</td>\n",
       "      <td>Великобритания</td>\n",
       "      <td>NaN</td>\n",
       "      <td>Омниверс Визион</td>\n",
       "      <td>«0+» - для любой зрительской аудитории</td>\n",
       "      <td>NaN</td>\n",
       "      <td>NaN</td>\n",
       "      <td>NaN</td>\n",
       "      <td>NaN</td>\n",
       "      <td>6.7</td>\n",
       "      <td>концерт,музыка</td>\n",
       "    </tr>\n",
       "  </tbody>\n",
       "</table>\n",
       "</div>"
      ],
      "text/plain": [
       "         puNumber  box_office  \\\n",
       "3040  126003512.0     44350.0   \n",
       "4490  126003413.0         NaN   \n",
       "5225  217027010.0         NaN   \n",
       "5414  217017310.0         NaN   \n",
       "5632  217020610.0         NaN   \n",
       "5732  126001710.0         NaN   \n",
       "5754  214000410.0         NaN   \n",
       "6189  126001111.0         NaN   \n",
       "6206  126002711.0         NaN   \n",
       "\n",
       "                                                  title  \\\n",
       "3040  Три звезды. Концерт в Waldbuhne Theater, Берли...   \n",
       "4490                           Помпеи. Британский музей   \n",
       "5225                     Зур концерт (Большой концерт).   \n",
       "5414  Ганс Сэйфуллин \"Авылым чишмэлэре. Ганс Сэйфулл...   \n",
       "5632                        Изге Вэли (Святой Валентин)   \n",
       "5732                          Bon Jovi. The Circle Tour   \n",
       "5754                           Мульт личности. Выпуск 5   \n",
       "6189  Георг Фридрих Гендель. Мессия. Оратория. Корол...   \n",
       "6206             Питер Гэбриэл и New Blood Orchestra 3D   \n",
       "\n",
       "               show_start_date            type                   film_studio  \\\n",
       "3040 2012-12-04 12:00:00+00:00          Прочие            Райзинг Алтернатив   \n",
       "4490 2013-09-11 12:00:00+00:00          Прочие  МортуСкрин, Британский музей   \n",
       "5225 2010-06-24 12:00:00+00:00  Художественный            ООО \"Барс Рекордс\"   \n",
       "5414 2010-04-22 12:00:00+00:00  Художественный            ООО \"Барс-Рекордс\"   \n",
       "5632 2010-05-20 12:00:00+00:00  Художественный            ООО \"Барс Рекордс\"   \n",
       "5732 2010-11-11 12:00:00+00:00          Прочие     Эншутц Интертейнмент Груп   \n",
       "5754 2010-01-25 12:00:00+00:00  Художественный                           NaN   \n",
       "6189 2011-04-25 12:00:00+00:00          Прочие                      Опус Арт   \n",
       "6206 2011-11-11 12:00:00+00:00          Прочие               Омниверс Визион   \n",
       "\n",
       "     production_country director                      producer  \\\n",
       "3040     Великобритания      NaN               Вальдбюне Театр   \n",
       "4490     Великобритания      NaN              Британский музей   \n",
       "5225             Россия      NaN                           NaN   \n",
       "5414             Россия      NaN                           NaN   \n",
       "5632             Россия      NaN                           NaN   \n",
       "5732                США      NaN     Эншутц Интертейнмент Груп   \n",
       "5754             Россия      NaN                           NaN   \n",
       "6189     Великобритания      NaN  Короевский колледж Кембриджа   \n",
       "6206     Великобритания      NaN               Омниверс Визион   \n",
       "\n",
       "                             age_restriction  refundable_support  \\\n",
       "3040  «0+» - для любой зрительской аудитории                 NaN   \n",
       "4490  «0+» - для любой зрительской аудитории                 NaN   \n",
       "5225         «12+» - для детей старше 12 лет                 NaN   \n",
       "5414  «0+» - для любой зрительской аудитории                 NaN   \n",
       "5632         «12+» - для детей старше 12 лет                 NaN   \n",
       "5732  «0+» - для любой зрительской аудитории                 NaN   \n",
       "5754  «0+» - для любой зрительской аудитории                 NaN   \n",
       "6189  «0+» - для любой зрительской аудитории                 NaN   \n",
       "6206  «0+» - для любой зрительской аудитории                 NaN   \n",
       "\n",
       "      nonrefundable_support  budget financing_source  ratings  \\\n",
       "3040                    NaN     NaN              NaN      0.0   \n",
       "4490                    NaN     NaN              NaN      0.0   \n",
       "5225                    NaN     NaN              NaN      0.0   \n",
       "5414                    NaN     NaN              NaN      0.0   \n",
       "5632                    NaN     NaN              NaN      0.0   \n",
       "5732                    NaN     NaN              NaN      7.9   \n",
       "5754                    NaN     NaN              NaN      4.0   \n",
       "6189                    NaN     NaN              NaN      0.0   \n",
       "6206                    NaN     NaN              NaN      6.7   \n",
       "\n",
       "                  genres  \n",
       "3040                 NaN  \n",
       "4490                 NaN  \n",
       "5225                 NaN  \n",
       "5414                 NaN  \n",
       "5632                 NaN  \n",
       "5732      концерт,музыка  \n",
       "5754  мультфильм,комедия  \n",
       "6189                 NaN  \n",
       "6206      концерт,музыка  "
      ]
     },
     "execution_count": 88,
     "metadata": {},
     "output_type": "execute_result"
    }
   ],
   "source": [
    "# колонка director — режиссёр имеет 9 пропусков, рассмотрим их\n",
    "df.loc[df['director'].isna()==True]"
   ]
  },
  {
   "cell_type": "markdown",
   "metadata": {},
   "source": [
    "После изучения фрагмента видим, что эти 9 записей содержат информацию не о фильмах, а о записях концертов или экскурсия, 9 записей составляют 0.001 часть процента, можем их удалить."
   ]
  },
  {
   "cell_type": "code",
   "execution_count": 89,
   "metadata": {},
   "outputs": [],
   "source": [
    "df=df.loc[df['director'].isna()==False]"
   ]
  },
  {
   "cell_type": "code",
   "execution_count": 90,
   "metadata": {
    "scrolled": true
   },
   "outputs": [
    {
     "data": {
      "text/html": [
       "<div>\n",
       "<style scoped>\n",
       "    .dataframe tbody tr th:only-of-type {\n",
       "        vertical-align: middle;\n",
       "    }\n",
       "\n",
       "    .dataframe tbody tr th {\n",
       "        vertical-align: top;\n",
       "    }\n",
       "\n",
       "    .dataframe thead th {\n",
       "        text-align: right;\n",
       "    }\n",
       "</style>\n",
       "<table border=\"1\" class=\"dataframe\">\n",
       "  <thead>\n",
       "    <tr style=\"text-align: right;\">\n",
       "      <th></th>\n",
       "      <th>puNumber</th>\n",
       "      <th>box_office</th>\n",
       "      <th>title</th>\n",
       "      <th>show_start_date</th>\n",
       "      <th>type</th>\n",
       "      <th>film_studio</th>\n",
       "      <th>production_country</th>\n",
       "      <th>director</th>\n",
       "      <th>producer</th>\n",
       "      <th>age_restriction</th>\n",
       "      <th>refundable_support</th>\n",
       "      <th>nonrefundable_support</th>\n",
       "      <th>budget</th>\n",
       "      <th>financing_source</th>\n",
       "      <th>ratings</th>\n",
       "      <th>genres</th>\n",
       "    </tr>\n",
       "  </thead>\n",
       "  <tbody>\n",
       "    <tr>\n",
       "      <td>46</td>\n",
       "      <td>111000915.0</td>\n",
       "      <td>197464.5</td>\n",
       "      <td>Горе от ума.</td>\n",
       "      <td>2015-02-05 12:00:00+00:00</td>\n",
       "      <td>Художественный</td>\n",
       "      <td>Киностудия им. М.Горького</td>\n",
       "      <td>СССР</td>\n",
       "      <td>С.Алексеев, В.Войтецкий</td>\n",
       "      <td>NaN</td>\n",
       "      <td>«6+» - для детей старше 6 лет</td>\n",
       "      <td>NaN</td>\n",
       "      <td>NaN</td>\n",
       "      <td>NaN</td>\n",
       "      <td>NaN</td>\n",
       "      <td>6.0</td>\n",
       "      <td>драма</td>\n",
       "    </tr>\n",
       "    <tr>\n",
       "      <td>113</td>\n",
       "      <td>111002216.0</td>\n",
       "      <td>240.0</td>\n",
       "      <td>Мама  _</td>\n",
       "      <td>2016-02-12 12:00:00+00:00</td>\n",
       "      <td>Художественный</td>\n",
       "      <td>Киностудия \"Мосфильм\", Киностудия \"Букурешти\",...</td>\n",
       "      <td>СССР, Румыния, Франция</td>\n",
       "      <td>Э.Бостан</td>\n",
       "      <td>NaN</td>\n",
       "      <td>«0+» - для любой зрительской аудитории</td>\n",
       "      <td>NaN</td>\n",
       "      <td>NaN</td>\n",
       "      <td>NaN</td>\n",
       "      <td>NaN</td>\n",
       "      <td>7.1</td>\n",
       "      <td>ужасы,драма,триллер</td>\n",
       "    </tr>\n",
       "    <tr>\n",
       "      <td>140</td>\n",
       "      <td>111002915.0</td>\n",
       "      <td>249166767.7</td>\n",
       "      <td>А зори здесь тихие..._</td>\n",
       "      <td>2015-03-16 12:00:00+00:00</td>\n",
       "      <td>Художественный</td>\n",
       "      <td>ООО \"Компания \"Реал-Дакота\"</td>\n",
       "      <td>Россия</td>\n",
       "      <td>Р.Давлетьяров</td>\n",
       "      <td>NaN</td>\n",
       "      <td>«12+» - для детей старше 12 лет</td>\n",
       "      <td>50000000.0</td>\n",
       "      <td>100000000.0</td>\n",
       "      <td>220588394.0</td>\n",
       "      <td>Фонд кино</td>\n",
       "      <td>8.5</td>\n",
       "      <td>драма,военный,история</td>\n",
       "    </tr>\n",
       "    <tr>\n",
       "      <td>148</td>\n",
       "      <td>111003116.0</td>\n",
       "      <td>1900.0</td>\n",
       "      <td>Не может быть!</td>\n",
       "      <td>2016-02-12 12:00:00+00:00</td>\n",
       "      <td>Художественный</td>\n",
       "      <td>Киностудия \"Мосфильм\"</td>\n",
       "      <td>СССР</td>\n",
       "      <td>Л.Гайдай</td>\n",
       "      <td>NaN</td>\n",
       "      <td>«12+» - для детей старше 12 лет</td>\n",
       "      <td>NaN</td>\n",
       "      <td>NaN</td>\n",
       "      <td>NaN</td>\n",
       "      <td>NaN</td>\n",
       "      <td>8.1</td>\n",
       "      <td>мелодрама,комедия</td>\n",
       "    </tr>\n",
       "    <tr>\n",
       "      <td>164</td>\n",
       "      <td>111003616.0</td>\n",
       "      <td>360.0</td>\n",
       "      <td>Неподдающиеся</td>\n",
       "      <td>2016-02-12 12:00:00+00:00</td>\n",
       "      <td>Художественный</td>\n",
       "      <td>Киностудия \"Мосфильм\"</td>\n",
       "      <td>СССР</td>\n",
       "      <td>Ю.Чулюкин</td>\n",
       "      <td>NaN</td>\n",
       "      <td>«6+» - для детей старше 6 лет</td>\n",
       "      <td>NaN</td>\n",
       "      <td>NaN</td>\n",
       "      <td>NaN</td>\n",
       "      <td>NaN</td>\n",
       "      <td>8.0</td>\n",
       "      <td>мелодрама,комедия</td>\n",
       "    </tr>\n",
       "    <tr>\n",
       "      <td>...</td>\n",
       "      <td>...</td>\n",
       "      <td>...</td>\n",
       "      <td>...</td>\n",
       "      <td>...</td>\n",
       "      <td>...</td>\n",
       "      <td>...</td>\n",
       "      <td>...</td>\n",
       "      <td>...</td>\n",
       "      <td>...</td>\n",
       "      <td>...</td>\n",
       "      <td>...</td>\n",
       "      <td>...</td>\n",
       "      <td>...</td>\n",
       "      <td>...</td>\n",
       "      <td>...</td>\n",
       "      <td>...</td>\n",
       "    </tr>\n",
       "    <tr>\n",
       "      <td>7435</td>\n",
       "      <td>111020419.0</td>\n",
       "      <td>NaN</td>\n",
       "      <td>Отряд специального назначения</td>\n",
       "      <td>2019-12-01 12:00:00+00:00</td>\n",
       "      <td>Художественный</td>\n",
       "      <td>Свердловская киностудия</td>\n",
       "      <td>СССР</td>\n",
       "      <td>Г.Кузнецов</td>\n",
       "      <td>NaN</td>\n",
       "      <td>«6+» - для детей старше 6 лет</td>\n",
       "      <td>NaN</td>\n",
       "      <td>NaN</td>\n",
       "      <td>NaN</td>\n",
       "      <td>NaN</td>\n",
       "      <td>7.0</td>\n",
       "      <td>приключения,военный</td>\n",
       "    </tr>\n",
       "    <tr>\n",
       "      <td>7436</td>\n",
       "      <td>111020519.0</td>\n",
       "      <td>NaN</td>\n",
       "      <td>Назначаешься внучкой</td>\n",
       "      <td>2019-12-01 12:00:00+00:00</td>\n",
       "      <td>Художественный</td>\n",
       "      <td>Свердловская киностудия</td>\n",
       "      <td>СССР</td>\n",
       "      <td>Я.Лапшин</td>\n",
       "      <td>NaN</td>\n",
       "      <td>«12+» - для детей старше 12 лет</td>\n",
       "      <td>NaN</td>\n",
       "      <td>NaN</td>\n",
       "      <td>NaN</td>\n",
       "      <td>NaN</td>\n",
       "      <td>7.0</td>\n",
       "      <td>военный</td>\n",
       "    </tr>\n",
       "    <tr>\n",
       "      <td>7437</td>\n",
       "      <td>111020619.0</td>\n",
       "      <td>NaN</td>\n",
       "      <td>Перед рассветом</td>\n",
       "      <td>2019-12-01 12:00:00+00:00</td>\n",
       "      <td>Художественный</td>\n",
       "      <td>Свердловская киностудия</td>\n",
       "      <td>СССР</td>\n",
       "      <td>Я.Лапшин</td>\n",
       "      <td>NaN</td>\n",
       "      <td>«16+» - для детей старше 16 лет</td>\n",
       "      <td>NaN</td>\n",
       "      <td>NaN</td>\n",
       "      <td>NaN</td>\n",
       "      <td>NaN</td>\n",
       "      <td>7.9</td>\n",
       "      <td>драма,мелодрама</td>\n",
       "    </tr>\n",
       "    <tr>\n",
       "      <td>7438</td>\n",
       "      <td>111020719.0</td>\n",
       "      <td>NaN</td>\n",
       "      <td>Ты помнишь</td>\n",
       "      <td>2019-12-01 12:00:00+00:00</td>\n",
       "      <td>Художественный</td>\n",
       "      <td>Свердловская киностудия</td>\n",
       "      <td>СССР</td>\n",
       "      <td>О.Николаевский</td>\n",
       "      <td>NaN</td>\n",
       "      <td>«12+» - для детей старше 12 лет</td>\n",
       "      <td>NaN</td>\n",
       "      <td>NaN</td>\n",
       "      <td>NaN</td>\n",
       "      <td>NaN</td>\n",
       "      <td>7.0</td>\n",
       "      <td>драма,мелодрама,военный</td>\n",
       "    </tr>\n",
       "    <tr>\n",
       "      <td>7439</td>\n",
       "      <td>111020819.0</td>\n",
       "      <td>NaN</td>\n",
       "      <td>Здесь твой фронт</td>\n",
       "      <td>2019-12-01 12:00:00+00:00</td>\n",
       "      <td>Художественный</td>\n",
       "      <td>Свердловская киностудия</td>\n",
       "      <td>СССР</td>\n",
       "      <td>Э.Гаврилов</td>\n",
       "      <td>NaN</td>\n",
       "      <td>«16+» - для детей старше 16 лет</td>\n",
       "      <td>NaN</td>\n",
       "      <td>NaN</td>\n",
       "      <td>NaN</td>\n",
       "      <td>NaN</td>\n",
       "      <td>5.8</td>\n",
       "      <td>драма,военный</td>\n",
       "    </tr>\n",
       "  </tbody>\n",
       "</table>\n",
       "<p>564 rows × 16 columns</p>\n",
       "</div>"
      ],
      "text/plain": [
       "         puNumber   box_office                          title  \\\n",
       "46    111000915.0     197464.5                   Горе от ума.   \n",
       "113   111002216.0        240.0                        Мама  _   \n",
       "140   111002915.0  249166767.7         А зори здесь тихие..._   \n",
       "148   111003116.0       1900.0                 Не может быть!   \n",
       "164   111003616.0        360.0                  Неподдающиеся   \n",
       "...           ...          ...                            ...   \n",
       "7435  111020419.0          NaN  Отряд специального назначения   \n",
       "7436  111020519.0          NaN           Назначаешься внучкой   \n",
       "7437  111020619.0          NaN                Перед рассветом   \n",
       "7438  111020719.0          NaN                     Ты помнишь   \n",
       "7439  111020819.0          NaN               Здесь твой фронт   \n",
       "\n",
       "               show_start_date             type  \\\n",
       "46   2015-02-05 12:00:00+00:00   Художественный   \n",
       "113  2016-02-12 12:00:00+00:00   Художественный   \n",
       "140  2015-03-16 12:00:00+00:00   Художественный   \n",
       "148  2016-02-12 12:00:00+00:00   Художественный   \n",
       "164  2016-02-12 12:00:00+00:00   Художественный   \n",
       "...                        ...              ...   \n",
       "7435 2019-12-01 12:00:00+00:00   Художественный   \n",
       "7436 2019-12-01 12:00:00+00:00   Художественный   \n",
       "7437 2019-12-01 12:00:00+00:00   Художественный   \n",
       "7438 2019-12-01 12:00:00+00:00   Художественный   \n",
       "7439 2019-12-01 12:00:00+00:00   Художественный   \n",
       "\n",
       "                                            film_studio  \\\n",
       "46                            Киностудия им. М.Горького   \n",
       "113   Киностудия \"Мосфильм\", Киностудия \"Букурешти\",...   \n",
       "140                         ООО \"Компания \"Реал-Дакота\"   \n",
       "148                               Киностудия \"Мосфильм\"   \n",
       "164                               Киностудия \"Мосфильм\"   \n",
       "...                                                 ...   \n",
       "7435                            Свердловская киностудия   \n",
       "7436                            Свердловская киностудия   \n",
       "7437                            Свердловская киностудия   \n",
       "7438                            Свердловская киностудия   \n",
       "7439                            Свердловская киностудия   \n",
       "\n",
       "          production_country                 director producer  \\\n",
       "46                      СССР  С.Алексеев, В.Войтецкий      NaN   \n",
       "113   СССР, Румыния, Франция                 Э.Бостан      NaN   \n",
       "140                   Россия            Р.Давлетьяров      NaN   \n",
       "148                     СССР                 Л.Гайдай      NaN   \n",
       "164                     СССР                Ю.Чулюкин      NaN   \n",
       "...                      ...                      ...      ...   \n",
       "7435                    СССР               Г.Кузнецов      NaN   \n",
       "7436                    СССР                 Я.Лапшин      NaN   \n",
       "7437                    СССР                 Я.Лапшин      NaN   \n",
       "7438                    СССР           О.Николаевский      NaN   \n",
       "7439                    СССР               Э.Гаврилов      NaN   \n",
       "\n",
       "                             age_restriction  refundable_support  \\\n",
       "46             «6+» - для детей старше 6 лет                 NaN   \n",
       "113   «0+» - для любой зрительской аудитории                 NaN   \n",
       "140          «12+» - для детей старше 12 лет          50000000.0   \n",
       "148          «12+» - для детей старше 12 лет                 NaN   \n",
       "164            «6+» - для детей старше 6 лет                 NaN   \n",
       "...                                      ...                 ...   \n",
       "7435           «6+» - для детей старше 6 лет                 NaN   \n",
       "7436         «12+» - для детей старше 12 лет                 NaN   \n",
       "7437         «16+» - для детей старше 16 лет                 NaN   \n",
       "7438         «12+» - для детей старше 12 лет                 NaN   \n",
       "7439         «16+» - для детей старше 16 лет                 NaN   \n",
       "\n",
       "      nonrefundable_support       budget financing_source  ratings  \\\n",
       "46                      NaN          NaN              NaN      6.0   \n",
       "113                     NaN          NaN              NaN      7.1   \n",
       "140             100000000.0  220588394.0        Фонд кино      8.5   \n",
       "148                     NaN          NaN              NaN      8.1   \n",
       "164                     NaN          NaN              NaN      8.0   \n",
       "...                     ...          ...              ...      ...   \n",
       "7435                    NaN          NaN              NaN      7.0   \n",
       "7436                    NaN          NaN              NaN      7.0   \n",
       "7437                    NaN          NaN              NaN      7.9   \n",
       "7438                    NaN          NaN              NaN      7.0   \n",
       "7439                    NaN          NaN              NaN      5.8   \n",
       "\n",
       "                       genres  \n",
       "46                      драма  \n",
       "113       ужасы,драма,триллер  \n",
       "140     драма,военный,история  \n",
       "148         мелодрама,комедия  \n",
       "164         мелодрама,комедия  \n",
       "...                       ...  \n",
       "7435      приключения,военный  \n",
       "7436                  военный  \n",
       "7437          драма,мелодрама  \n",
       "7438  драма,мелодрама,военный  \n",
       "7439            драма,военный  \n",
       "\n",
       "[564 rows x 16 columns]"
      ]
     },
     "execution_count": 90,
     "metadata": {},
     "output_type": "execute_result"
    }
   ],
   "source": [
    "# колонка producer — продюсер имеет 564 пропуска\n",
    "df.loc[df['producer'].isna()==True]"
   ]
  },
  {
   "cell_type": "markdown",
   "metadata": {},
   "source": [
    "В осовном запись о продюссере пропущена для фильмов, выпущенных в СССР, фильмы выпускались по заказу государства и такого понятия как продюссирование не существовало. Не стоит удалять эти записи, т.к. их достаточно много и результат исследования может исказиться, кроме того колонка с информацией о продюссере непосредственно в исследовании не участвует. "
   ]
  },
  {
   "cell_type": "code",
   "execution_count": 91,
   "metadata": {},
   "outputs": [
    {
     "data": {
      "text/plain": [
       "драма                              476\n",
       "комедия                            352\n",
       "мелодрама,комедия                  222\n",
       "драма,мелодрама,комедия            189\n",
       "драма,мелодрама                    183\n",
       "                                  ... \n",
       "триллер,драма,боевик                 1\n",
       "документальный,фэнтези               1\n",
       "реальное ТВ                          1\n",
       "фантастика,приключения,детектив      1\n",
       "триллер,криминал,приключения         1\n",
       "Name: genres, Length: 742, dtype: int64"
      ]
     },
     "execution_count": 91,
     "metadata": {},
     "output_type": "execute_result"
    }
   ],
   "source": [
    "# колонка genres — жанр фильма имеет 970 пропусков\n",
    "df['genres'].value_counts()"
   ]
  },
  {
   "cell_type": "markdown",
   "metadata": {},
   "source": [
    "Столбец содеожит категориальные значения, заполнить пропуски нет возможности, удалять их нелься, т. к. их более 10 процентов, оставим пропущенные строки и будем учитывать это при анализе данных."
   ]
  },
  {
   "cell_type": "code",
   "execution_count": 92,
   "metadata": {},
   "outputs": [
    {
     "name": "stdout",
     "output_type": "stream",
     "text": [
      "<class 'pandas.core.frame.DataFrame'>\n",
      "Int64Index: 7477 entries, 0 to 7485\n",
      "Data columns (total 16 columns):\n",
      "puNumber                 7476 non-null float64\n",
      "box_office               3157 non-null float64\n",
      "title                    7477 non-null object\n",
      "show_start_date          7477 non-null datetime64[ns, UTC]\n",
      "type                     7477 non-null object\n",
      "film_studio              7460 non-null object\n",
      "production_country       7477 non-null object\n",
      "director                 7477 non-null object\n",
      "producer                 6913 non-null object\n",
      "age_restriction          7477 non-null object\n",
      "refundable_support       332 non-null float64\n",
      "nonrefundable_support    332 non-null float64\n",
      "budget                   332 non-null float64\n",
      "financing_source         332 non-null object\n",
      "ratings                  7477 non-null float64\n",
      "genres                   6507 non-null object\n",
      "dtypes: datetime64[ns, UTC](1), float64(6), object(9)\n",
      "memory usage: 993.0+ KB\n"
     ]
    }
   ],
   "source": [
    "df.info()"
   ]
  },
  {
   "cell_type": "code",
   "execution_count": 93,
   "metadata": {},
   "outputs": [
    {
     "data": {
      "text/plain": [
       "puNumber                 332\n",
       "box_office               318\n",
       "title                    332\n",
       "show_start_date          332\n",
       "type                     332\n",
       "film_studio              332\n",
       "production_country       332\n",
       "director                 332\n",
       "producer                 330\n",
       "age_restriction          332\n",
       "refundable_support       332\n",
       "nonrefundable_support    332\n",
       "budget                   332\n",
       "financing_source         332\n",
       "ratings                  332\n",
       "genres                   316\n",
       "dtype: int64"
      ]
     },
     "execution_count": 93,
     "metadata": {},
     "output_type": "execute_result"
    }
   ],
   "source": [
    "# рассмтрим полонки `refundable_support`, `nonrefundable_support`, `budget`, `financing_source`\n",
    "# и убедимся в том, что речь идет про одни и теже 332 ненулевые колонки\n",
    "df.loc[(df['refundable_support'].isna()==False)&(df['nonrefundable_support'].isna()==False)&(df['budget'].isna()==False)&(df['financing_source'].isna()==False)].count()"
   ]
  },
  {
   "cell_type": "markdown",
   "metadata": {},
   "source": [
    "Как видно из среза с условием, действительно имеется 332 записи для которых представлена информация об объёме возвретных и невозвратных денежных средств, бюджете и источнике финансирования. Мы сможем пользоваться этими записями для анализа. Остальные удалять разумеется не будем, т. к. незаполненные такими данными записи составляют большую часть базы данных, их нельзя удалять."
   ]
  },
  {
   "cell_type": "markdown",
   "metadata": {
    "id": "4c6k1t9ygFyQ"
   },
   "source": [
    "#### Шаг 2.3. Изучим дубликаты в датафрейме"
   ]
  },
  {
   "cell_type": "code",
   "execution_count": 94,
   "metadata": {
    "id": "aKck8RIdgFyQ"
   },
   "outputs": [
    {
     "data": {
      "text/plain": [
       "puNumber                 0\n",
       "box_office               0\n",
       "title                    0\n",
       "show_start_date          0\n",
       "type                     0\n",
       "film_studio              0\n",
       "production_country       0\n",
       "director                 0\n",
       "producer                 0\n",
       "age_restriction          0\n",
       "refundable_support       0\n",
       "nonrefundable_support    0\n",
       "budget                   0\n",
       "financing_source         0\n",
       "ratings                  0\n",
       "genres                   0\n",
       "dtype: int64"
      ]
     },
     "execution_count": 94,
     "metadata": {},
     "output_type": "execute_result"
    }
   ],
   "source": [
    "# сначала проверим имеются ли записи являющиеся полными дубликатами\n",
    "df.loc[df.duplicated()==True].count()"
   ]
  },
  {
   "cell_type": "markdown",
   "metadata": {},
   "source": [
    "Таких записей нет.\n",
    "\n",
    "Учитывая специфику базы данных, рассмотрим имеются ли дубликаты в основной колонке `title`"
   ]
  },
  {
   "cell_type": "code",
   "execution_count": 95,
   "metadata": {},
   "outputs": [
    {
     "data": {
      "text/plain": [
       "puNumber                 714\n",
       "box_office                30\n",
       "title                    714\n",
       "show_start_date          714\n",
       "type                     714\n",
       "film_studio              713\n",
       "production_country       714\n",
       "director                 714\n",
       "producer                 703\n",
       "age_restriction          714\n",
       "refundable_support         1\n",
       "nonrefundable_support      1\n",
       "budget                     1\n",
       "financing_source           1\n",
       "ratings                  714\n",
       "genres                   705\n",
       "dtype: int64"
      ]
     },
     "execution_count": 95,
     "metadata": {},
     "output_type": "execute_result"
    }
   ],
   "source": [
    "df.loc[df['title'].duplicated()==True].count()"
   ]
  },
  {
   "cell_type": "markdown",
   "metadata": {},
   "source": [
    "Имеется 714 дубликатов, но проверялось совпадение только в колонке название, возможно у фильмов разные режиссёры или год выхода в российский прокат, добавим колонки для поиска, пользуясь возможностями метода duplicated"
   ]
  },
  {
   "cell_type": "code",
   "execution_count": 96,
   "metadata": {},
   "outputs": [
    {
     "data": {
      "text/html": [
       "<div>\n",
       "<style scoped>\n",
       "    .dataframe tbody tr th:only-of-type {\n",
       "        vertical-align: middle;\n",
       "    }\n",
       "\n",
       "    .dataframe tbody tr th {\n",
       "        vertical-align: top;\n",
       "    }\n",
       "\n",
       "    .dataframe thead th {\n",
       "        text-align: right;\n",
       "    }\n",
       "</style>\n",
       "<table border=\"1\" class=\"dataframe\">\n",
       "  <thead>\n",
       "    <tr style=\"text-align: right;\">\n",
       "      <th></th>\n",
       "      <th>puNumber</th>\n",
       "      <th>box_office</th>\n",
       "      <th>title</th>\n",
       "      <th>show_start_date</th>\n",
       "      <th>type</th>\n",
       "      <th>film_studio</th>\n",
       "      <th>production_country</th>\n",
       "      <th>director</th>\n",
       "      <th>producer</th>\n",
       "      <th>age_restriction</th>\n",
       "      <th>refundable_support</th>\n",
       "      <th>nonrefundable_support</th>\n",
       "      <th>budget</th>\n",
       "      <th>financing_source</th>\n",
       "      <th>ratings</th>\n",
       "      <th>genres</th>\n",
       "    </tr>\n",
       "  </thead>\n",
       "  <tbody>\n",
       "    <tr>\n",
       "      <td>1017</td>\n",
       "      <td>121002316.0</td>\n",
       "      <td>332371.0</td>\n",
       "      <td>Анархисты</td>\n",
       "      <td>2016-02-03 12:00:00+00:00</td>\n",
       "      <td>Художественный</td>\n",
       "      <td>24 Май Продюксьон, Франс 2 Синема</td>\n",
       "      <td>Франция</td>\n",
       "      <td>Эли Важеман</td>\n",
       "      <td>Лола Гэнс</td>\n",
       "      <td>«16+» - для детей старше 16 лет</td>\n",
       "      <td>NaN</td>\n",
       "      <td>NaN</td>\n",
       "      <td>NaN</td>\n",
       "      <td>NaN</td>\n",
       "      <td>5.7</td>\n",
       "      <td>драма</td>\n",
       "    </tr>\n",
       "    <tr>\n",
       "      <td>1203</td>\n",
       "      <td>121005715.0</td>\n",
       "      <td>52495.0</td>\n",
       "      <td>Последние пять лет.</td>\n",
       "      <td>2015-03-25 12:00:00+00:00</td>\n",
       "      <td>Художественный</td>\n",
       "      <td>Гранд Пикс Интертейнмент, Лаки Манки Пикчерз, ...</td>\n",
       "      <td>США</td>\n",
       "      <td>Ричард ЛаГравенес</td>\n",
       "      <td>Джанет Бреннер, Лорен Версель, Курт Дойтч, Рич...</td>\n",
       "      <td>«16+» - для детей старше 16 лет</td>\n",
       "      <td>NaN</td>\n",
       "      <td>NaN</td>\n",
       "      <td>NaN</td>\n",
       "      <td>NaN</td>\n",
       "      <td>5.7</td>\n",
       "      <td>мюзикл,драма,мелодрама</td>\n",
       "    </tr>\n",
       "    <tr>\n",
       "      <td>2730</td>\n",
       "      <td>124001915.0</td>\n",
       "      <td>14152495.9</td>\n",
       "      <td>Пингвиненок Пороро: Большие гонки</td>\n",
       "      <td>2015-04-15 12:00:00+00:00</td>\n",
       "      <td>Анимационный</td>\n",
       "      <td>Окон Студиос, Чина Филм, Симка Интертейнмент, ...</td>\n",
       "      <td>Южная Корея - КНР</td>\n",
       "      <td>Юнг Куюн Парк</td>\n",
       "      <td>Иль Хо Ким, Михал Симка</td>\n",
       "      <td>«0+» - для любой зрительской аудитории</td>\n",
       "      <td>NaN</td>\n",
       "      <td>NaN</td>\n",
       "      <td>NaN</td>\n",
       "      <td>NaN</td>\n",
       "      <td>5.2</td>\n",
       "      <td>мультфильм,семейный,спорт</td>\n",
       "    </tr>\n",
       "    <tr>\n",
       "      <td>3147</td>\n",
       "      <td>224001915.0</td>\n",
       "      <td>1360.0</td>\n",
       "      <td>Пингвиненок Пороро: Большие гонки</td>\n",
       "      <td>2015-04-15 12:00:00+00:00</td>\n",
       "      <td>Анимационный</td>\n",
       "      <td>Окон Студиос, Чина Филм, Симка Интертейнмент, ...</td>\n",
       "      <td>Южная Корея - КНР</td>\n",
       "      <td>Юнг Куюн Парк</td>\n",
       "      <td>Иль Хо Ким, Михал Симка</td>\n",
       "      <td>«0+» - для любой зрительской аудитории</td>\n",
       "      <td>NaN</td>\n",
       "      <td>NaN</td>\n",
       "      <td>NaN</td>\n",
       "      <td>NaN</td>\n",
       "      <td>5.2</td>\n",
       "      <td>мультфильм,семейный,спорт</td>\n",
       "    </tr>\n",
       "    <tr>\n",
       "      <td>4184</td>\n",
       "      <td>121025713.0</td>\n",
       "      <td>NaN</td>\n",
       "      <td>Эпидемия_</td>\n",
       "      <td>2013-10-07 12:00:00+00:00</td>\n",
       "      <td>Художественный</td>\n",
       "      <td>Морена Фильм, Ребелион Террестр, А 3 Медиа Гру...</td>\n",
       "      <td>Испания - Франция</td>\n",
       "      <td>Алекс Пастор, Давид Пастор</td>\n",
       "      <td>Мерседес Гамеро, Альберто Марини, Педро Уриоль</td>\n",
       "      <td>«16+» - для детей старше 16 лет</td>\n",
       "      <td>NaN</td>\n",
       "      <td>NaN</td>\n",
       "      <td>NaN</td>\n",
       "      <td>NaN</td>\n",
       "      <td>7.2</td>\n",
       "      <td>драма,фантастика,триллер</td>\n",
       "    </tr>\n",
       "    <tr>\n",
       "      <td>4185</td>\n",
       "      <td>221035513.0</td>\n",
       "      <td>NaN</td>\n",
       "      <td>Эпидемия_</td>\n",
       "      <td>2013-10-07 12:00:00+00:00</td>\n",
       "      <td>Художественный</td>\n",
       "      <td>Морена Фильм, Ребелион Террестр, А 3 Медиа Гру...</td>\n",
       "      <td>Испания - Франция</td>\n",
       "      <td>Алекс Пастор, Давид Пастор</td>\n",
       "      <td>Мерседес Гамеро, Альберто Марини, Педро Уриоль</td>\n",
       "      <td>«16+» - для детей старше 16 лет</td>\n",
       "      <td>NaN</td>\n",
       "      <td>NaN</td>\n",
       "      <td>NaN</td>\n",
       "      <td>NaN</td>\n",
       "      <td>7.2</td>\n",
       "      <td>драма,фантастика,триллер</td>\n",
       "    </tr>\n",
       "    <tr>\n",
       "      <td>4307</td>\n",
       "      <td>121006514.0</td>\n",
       "      <td>NaN</td>\n",
       "      <td>Оторвы</td>\n",
       "      <td>2014-04-07 12:00:00+00:00</td>\n",
       "      <td>Художественный</td>\n",
       "      <td>Проминент Пикчерз, Ворлдвью Интертейнмент, Инд...</td>\n",
       "      <td>США</td>\n",
       "      <td>Кристофер Нельсон</td>\n",
       "      <td>Молли Коннерс, Хезер Рэй</td>\n",
       "      <td>«16+» - для детей старше 16 лет</td>\n",
       "      <td>NaN</td>\n",
       "      <td>NaN</td>\n",
       "      <td>NaN</td>\n",
       "      <td>NaN</td>\n",
       "      <td>3.5</td>\n",
       "      <td>комедия,приключения</td>\n",
       "    </tr>\n",
       "    <tr>\n",
       "      <td>4308</td>\n",
       "      <td>221013214.0</td>\n",
       "      <td>NaN</td>\n",
       "      <td>Оторвы</td>\n",
       "      <td>2014-04-07 12:00:00+00:00</td>\n",
       "      <td>Художественный</td>\n",
       "      <td>Проминент Пикчерз, Ворлдвью Интертейнмент, Инд...</td>\n",
       "      <td>США</td>\n",
       "      <td>Кристофер Нельсон</td>\n",
       "      <td>Молли Коннерс, Хезер Рэй</td>\n",
       "      <td>«16+» - для детей старше 16 лет</td>\n",
       "      <td>NaN</td>\n",
       "      <td>NaN</td>\n",
       "      <td>NaN</td>\n",
       "      <td>NaN</td>\n",
       "      <td>3.5</td>\n",
       "      <td>комедия,приключения</td>\n",
       "    </tr>\n",
       "    <tr>\n",
       "      <td>4725</td>\n",
       "      <td>221008115.0</td>\n",
       "      <td>NaN</td>\n",
       "      <td>Последние пять лет.</td>\n",
       "      <td>2015-03-25 12:00:00+00:00</td>\n",
       "      <td>Художественный</td>\n",
       "      <td>Гранд Пикс Интертейнмент, Лаки Манки Пикчерз, ...</td>\n",
       "      <td>США</td>\n",
       "      <td>Ричард ЛаГравенес</td>\n",
       "      <td>Джанет Бреннер, Лорен Версель, Курт Дойтч, Рич...</td>\n",
       "      <td>«16+» - для детей старше 16 лет</td>\n",
       "      <td>NaN</td>\n",
       "      <td>NaN</td>\n",
       "      <td>NaN</td>\n",
       "      <td>NaN</td>\n",
       "      <td>5.7</td>\n",
       "      <td>мюзикл,драма,мелодрама</td>\n",
       "    </tr>\n",
       "    <tr>\n",
       "      <td>5034</td>\n",
       "      <td>221003916.0</td>\n",
       "      <td>NaN</td>\n",
       "      <td>Анархисты</td>\n",
       "      <td>2016-02-03 12:00:00+00:00</td>\n",
       "      <td>Художественный</td>\n",
       "      <td>24 Май Продюксьон, Франс 2 Синема</td>\n",
       "      <td>Франция</td>\n",
       "      <td>Эли Важеман</td>\n",
       "      <td>Лола Гэнс</td>\n",
       "      <td>«16+» - для детей старше 16 лет</td>\n",
       "      <td>NaN</td>\n",
       "      <td>NaN</td>\n",
       "      <td>NaN</td>\n",
       "      <td>NaN</td>\n",
       "      <td>5.7</td>\n",
       "      <td>драма</td>\n",
       "    </tr>\n",
       "    <tr>\n",
       "      <td>5405</td>\n",
       "      <td>224021210.0</td>\n",
       "      <td>NaN</td>\n",
       "      <td>Бугай</td>\n",
       "      <td>2010-09-24 12:00:00+00:00</td>\n",
       "      <td>Анимационный</td>\n",
       "      <td>Иллюзион Студиос, Процесо</td>\n",
       "      <td>Мексика-Аргентина</td>\n",
       "      <td>Густаво Кова</td>\n",
       "      <td>Хуго Е. Лаура, Хосе Луис Масса</td>\n",
       "      <td>«16+» - для детей старше 16 лет</td>\n",
       "      <td>NaN</td>\n",
       "      <td>NaN</td>\n",
       "      <td>NaN</td>\n",
       "      <td>NaN</td>\n",
       "      <td>6.6</td>\n",
       "      <td>мультфильм,боевик,триллер</td>\n",
       "    </tr>\n",
       "    <tr>\n",
       "      <td>5406</td>\n",
       "      <td>124001210.0</td>\n",
       "      <td>NaN</td>\n",
       "      <td>Бугай</td>\n",
       "      <td>2010-09-24 12:00:00+00:00</td>\n",
       "      <td>Анимационный</td>\n",
       "      <td>Иллюзион Студиос, Процесо</td>\n",
       "      <td>Мексика-Аргентина</td>\n",
       "      <td>Густаво Кова</td>\n",
       "      <td>Хуго Е. Лаура, Хосе Луис Масса</td>\n",
       "      <td>«16+» - для детей старше 16 лет</td>\n",
       "      <td>NaN</td>\n",
       "      <td>NaN</td>\n",
       "      <td>NaN</td>\n",
       "      <td>NaN</td>\n",
       "      <td>6.6</td>\n",
       "      <td>мультфильм,боевик,триллер</td>\n",
       "    </tr>\n",
       "    <tr>\n",
       "      <td>6965</td>\n",
       "      <td>112011818.0</td>\n",
       "      <td>NaN</td>\n",
       "      <td>Ян Антонышев</td>\n",
       "      <td>2018-11-15 12:00:00+00:00</td>\n",
       "      <td>Документальный</td>\n",
       "      <td>NaN</td>\n",
       "      <td>Россия</td>\n",
       "      <td>Е.Окопная</td>\n",
       "      <td>Е.Герасимов</td>\n",
       "      <td>«12+» - для детей старше 12 лет</td>\n",
       "      <td>NaN</td>\n",
       "      <td>NaN</td>\n",
       "      <td>NaN</td>\n",
       "      <td>NaN</td>\n",
       "      <td>0.0</td>\n",
       "      <td>NaN</td>\n",
       "    </tr>\n",
       "    <tr>\n",
       "      <td>6966</td>\n",
       "      <td>112011918.0</td>\n",
       "      <td>NaN</td>\n",
       "      <td>Ян Антонышев</td>\n",
       "      <td>2018-11-15 12:00:00+00:00</td>\n",
       "      <td>Документальный</td>\n",
       "      <td>NaN</td>\n",
       "      <td>Россия</td>\n",
       "      <td>Е.Окопная</td>\n",
       "      <td>Е.Герасимов</td>\n",
       "      <td>«12+» - для детей старше 12 лет</td>\n",
       "      <td>NaN</td>\n",
       "      <td>NaN</td>\n",
       "      <td>NaN</td>\n",
       "      <td>NaN</td>\n",
       "      <td>0.0</td>\n",
       "      <td>NaN</td>\n",
       "    </tr>\n",
       "    <tr>\n",
       "      <td>6995</td>\n",
       "      <td>111022618.0</td>\n",
       "      <td>NaN</td>\n",
       "      <td>Зоя</td>\n",
       "      <td>2018-11-25 12:00:00+00:00</td>\n",
       "      <td>Художественный</td>\n",
       "      <td>Тарханова Юлия Олеговна</td>\n",
       "      <td>Россия</td>\n",
       "      <td>О.Товма</td>\n",
       "      <td>Ю.Тарханова</td>\n",
       "      <td>«16+» - для детей старше 16 лет</td>\n",
       "      <td>NaN</td>\n",
       "      <td>NaN</td>\n",
       "      <td>NaN</td>\n",
       "      <td>NaN</td>\n",
       "      <td>3.9</td>\n",
       "      <td>история,биография,военный</td>\n",
       "    </tr>\n",
       "    <tr>\n",
       "      <td>6996</td>\n",
       "      <td>111022718.0</td>\n",
       "      <td>NaN</td>\n",
       "      <td>Зоя</td>\n",
       "      <td>2018-11-25 12:00:00+00:00</td>\n",
       "      <td>Художественный</td>\n",
       "      <td>Тарханова Юлия Олеговна</td>\n",
       "      <td>Россия</td>\n",
       "      <td>О.Товма</td>\n",
       "      <td>Ю.Тарханова</td>\n",
       "      <td>«16+» - для детей старше 16 лет</td>\n",
       "      <td>NaN</td>\n",
       "      <td>NaN</td>\n",
       "      <td>NaN</td>\n",
       "      <td>NaN</td>\n",
       "      <td>3.9</td>\n",
       "      <td>история,биография,военный</td>\n",
       "    </tr>\n",
       "  </tbody>\n",
       "</table>\n",
       "</div>"
      ],
      "text/plain": [
       "         puNumber  box_office                              title  \\\n",
       "1017  121002316.0    332371.0                          Анархисты   \n",
       "1203  121005715.0     52495.0                Последние пять лет.   \n",
       "2730  124001915.0  14152495.9  Пингвиненок Пороро: Большие гонки   \n",
       "3147  224001915.0      1360.0  Пингвиненок Пороро: Большие гонки   \n",
       "4184  121025713.0         NaN                          Эпидемия_   \n",
       "4185  221035513.0         NaN                          Эпидемия_   \n",
       "4307  121006514.0         NaN                             Оторвы   \n",
       "4308  221013214.0         NaN                             Оторвы   \n",
       "4725  221008115.0         NaN                Последние пять лет.   \n",
       "5034  221003916.0         NaN                          Анархисты   \n",
       "5405  224021210.0         NaN                              Бугай   \n",
       "5406  124001210.0         NaN                              Бугай   \n",
       "6965  112011818.0         NaN                       Ян Антонышев   \n",
       "6966  112011918.0         NaN                       Ян Антонышев   \n",
       "6995  111022618.0         NaN                                Зоя   \n",
       "6996  111022718.0         NaN                                Зоя   \n",
       "\n",
       "               show_start_date             type  \\\n",
       "1017 2016-02-03 12:00:00+00:00   Художественный   \n",
       "1203 2015-03-25 12:00:00+00:00   Художественный   \n",
       "2730 2015-04-15 12:00:00+00:00     Анимационный   \n",
       "3147 2015-04-15 12:00:00+00:00     Анимационный   \n",
       "4184 2013-10-07 12:00:00+00:00   Художественный   \n",
       "4185 2013-10-07 12:00:00+00:00   Художественный   \n",
       "4307 2014-04-07 12:00:00+00:00   Художественный   \n",
       "4308 2014-04-07 12:00:00+00:00   Художественный   \n",
       "4725 2015-03-25 12:00:00+00:00   Художественный   \n",
       "5034 2016-02-03 12:00:00+00:00   Художественный   \n",
       "5405 2010-09-24 12:00:00+00:00     Анимационный   \n",
       "5406 2010-09-24 12:00:00+00:00     Анимационный   \n",
       "6965 2018-11-15 12:00:00+00:00   Документальный   \n",
       "6966 2018-11-15 12:00:00+00:00   Документальный   \n",
       "6995 2018-11-25 12:00:00+00:00   Художественный   \n",
       "6996 2018-11-25 12:00:00+00:00   Художественный   \n",
       "\n",
       "                                            film_studio production_country  \\\n",
       "1017                  24 Май Продюксьон, Франс 2 Синема            Франция   \n",
       "1203  Гранд Пикс Интертейнмент, Лаки Манки Пикчерз, ...                США   \n",
       "2730  Окон Студиос, Чина Филм, Симка Интертейнмент, ...  Южная Корея - КНР   \n",
       "3147  Окон Студиос, Чина Филм, Симка Интертейнмент, ...  Южная Корея - КНР   \n",
       "4184  Морена Фильм, Ребелион Террестр, А 3 Медиа Гру...  Испания - Франция   \n",
       "4185  Морена Фильм, Ребелион Террестр, А 3 Медиа Гру...  Испания - Франция   \n",
       "4307  Проминент Пикчерз, Ворлдвью Интертейнмент, Инд...                США   \n",
       "4308  Проминент Пикчерз, Ворлдвью Интертейнмент, Инд...                США   \n",
       "4725  Гранд Пикс Интертейнмент, Лаки Манки Пикчерз, ...                США   \n",
       "5034                  24 Май Продюксьон, Франс 2 Синема            Франция   \n",
       "5405                          Иллюзион Студиос, Процесо  Мексика-Аргентина   \n",
       "5406                          Иллюзион Студиос, Процесо  Мексика-Аргентина   \n",
       "6965                                                NaN             Россия   \n",
       "6966                                                NaN             Россия   \n",
       "6995                            Тарханова Юлия Олеговна             Россия   \n",
       "6996                            Тарханова Юлия Олеговна             Россия   \n",
       "\n",
       "                        director  \\\n",
       "1017                 Эли Важеман   \n",
       "1203           Ричард ЛаГравенес   \n",
       "2730               Юнг Куюн Парк   \n",
       "3147               Юнг Куюн Парк   \n",
       "4184  Алекс Пастор, Давид Пастор   \n",
       "4185  Алекс Пастор, Давид Пастор   \n",
       "4307           Кристофер Нельсон   \n",
       "4308           Кристофер Нельсон   \n",
       "4725           Ричард ЛаГравенес   \n",
       "5034                 Эли Важеман   \n",
       "5405                Густаво Кова   \n",
       "5406                Густаво Кова   \n",
       "6965                   Е.Окопная   \n",
       "6966                   Е.Окопная   \n",
       "6995                     О.Товма   \n",
       "6996                     О.Товма   \n",
       "\n",
       "                                               producer  \\\n",
       "1017                                          Лола Гэнс   \n",
       "1203  Джанет Бреннер, Лорен Версель, Курт Дойтч, Рич...   \n",
       "2730                            Иль Хо Ким, Михал Симка   \n",
       "3147                            Иль Хо Ким, Михал Симка   \n",
       "4184     Мерседес Гамеро, Альберто Марини, Педро Уриоль   \n",
       "4185     Мерседес Гамеро, Альберто Марини, Педро Уриоль   \n",
       "4307                           Молли Коннерс, Хезер Рэй   \n",
       "4308                           Молли Коннерс, Хезер Рэй   \n",
       "4725  Джанет Бреннер, Лорен Версель, Курт Дойтч, Рич...   \n",
       "5034                                          Лола Гэнс   \n",
       "5405                     Хуго Е. Лаура, Хосе Луис Масса   \n",
       "5406                     Хуго Е. Лаура, Хосе Луис Масса   \n",
       "6965                                        Е.Герасимов   \n",
       "6966                                        Е.Герасимов   \n",
       "6995                                        Ю.Тарханова   \n",
       "6996                                        Ю.Тарханова   \n",
       "\n",
       "                             age_restriction  refundable_support  \\\n",
       "1017         «16+» - для детей старше 16 лет                 NaN   \n",
       "1203         «16+» - для детей старше 16 лет                 NaN   \n",
       "2730  «0+» - для любой зрительской аудитории                 NaN   \n",
       "3147  «0+» - для любой зрительской аудитории                 NaN   \n",
       "4184         «16+» - для детей старше 16 лет                 NaN   \n",
       "4185         «16+» - для детей старше 16 лет                 NaN   \n",
       "4307         «16+» - для детей старше 16 лет                 NaN   \n",
       "4308         «16+» - для детей старше 16 лет                 NaN   \n",
       "4725         «16+» - для детей старше 16 лет                 NaN   \n",
       "5034         «16+» - для детей старше 16 лет                 NaN   \n",
       "5405         «16+» - для детей старше 16 лет                 NaN   \n",
       "5406         «16+» - для детей старше 16 лет                 NaN   \n",
       "6965         «12+» - для детей старше 12 лет                 NaN   \n",
       "6966         «12+» - для детей старше 12 лет                 NaN   \n",
       "6995         «16+» - для детей старше 16 лет                 NaN   \n",
       "6996         «16+» - для детей старше 16 лет                 NaN   \n",
       "\n",
       "      nonrefundable_support  budget financing_source  ratings  \\\n",
       "1017                    NaN     NaN              NaN      5.7   \n",
       "1203                    NaN     NaN              NaN      5.7   \n",
       "2730                    NaN     NaN              NaN      5.2   \n",
       "3147                    NaN     NaN              NaN      5.2   \n",
       "4184                    NaN     NaN              NaN      7.2   \n",
       "4185                    NaN     NaN              NaN      7.2   \n",
       "4307                    NaN     NaN              NaN      3.5   \n",
       "4308                    NaN     NaN              NaN      3.5   \n",
       "4725                    NaN     NaN              NaN      5.7   \n",
       "5034                    NaN     NaN              NaN      5.7   \n",
       "5405                    NaN     NaN              NaN      6.6   \n",
       "5406                    NaN     NaN              NaN      6.6   \n",
       "6965                    NaN     NaN              NaN      0.0   \n",
       "6966                    NaN     NaN              NaN      0.0   \n",
       "6995                    NaN     NaN              NaN      3.9   \n",
       "6996                    NaN     NaN              NaN      3.9   \n",
       "\n",
       "                         genres  \n",
       "1017                      драма  \n",
       "1203     мюзикл,драма,мелодрама  \n",
       "2730  мультфильм,семейный,спорт  \n",
       "3147  мультфильм,семейный,спорт  \n",
       "4184   драма,фантастика,триллер  \n",
       "4185   драма,фантастика,триллер  \n",
       "4307        комедия,приключения  \n",
       "4308        комедия,приключения  \n",
       "4725     мюзикл,драма,мелодрама  \n",
       "5034                      драма  \n",
       "5405  мультфильм,боевик,триллер  \n",
       "5406  мультфильм,боевик,триллер  \n",
       "6965                        NaN  \n",
       "6966                        NaN  \n",
       "6995  история,биография,военный  \n",
       "6996  история,биография,военный  "
      ]
     },
     "execution_count": 96,
     "metadata": {},
     "output_type": "execute_result"
    }
   ],
   "source": [
    "df.loc[df.duplicated(subset=['title','show_start_date','film_studio'],keep=False)==True]"
   ]
  },
  {
   "cell_type": "markdown",
   "metadata": {},
   "source": [
    "Как видно из таблицы, нашлось 8 дубликатов, из одинакового названия, даты выхода в прокат и студии становится ясно, что в данном случае речь идет про одни и те же фильмы, несмотря на то, что у них не совпадают номера прокатных удостоверений, несовпадение может быть связано с тем, что прокатное удостоверение на один и тот же фильм выдано двум разным \"лицам,  имеющим «неисключительную лицензию».\n",
    "\n",
    "Удалим эти дубликаты, т. к. они не повлияют на дальнейшее исследование."
   ]
  },
  {
   "cell_type": "markdown",
   "metadata": {},
   "source": [
    "<div class=\"alert alert-block alert-success\">\n",
    "<b>Success:</b> очень хорошо! Здорово, что глубоко копаешь в тему и разбираешься в контексте"
   ]
  },
  {
   "cell_type": "code",
   "execution_count": 97,
   "metadata": {},
   "outputs": [],
   "source": [
    "df=df.drop_duplicates(subset=['title','show_start_date','film_studio'],keep='first')"
   ]
  },
  {
   "cell_type": "markdown",
   "metadata": {},
   "source": [
    "Теперь из датафрейма удалены дубликаты фильмов, оставлены только первые вхождения."
   ]
  },
  {
   "cell_type": "markdown",
   "metadata": {
    "id": "52fOPrEBgFyQ"
   },
   "source": [
    "#### Шаг 2.4. Изучим категориальные значения\n",
    "\n",
    "- Посмотрим, какая общая проблема встречается почти во всех категориальных столбцах;\n",
    "- Исправим проблемные значения в поле `type`.\n"
   ]
  },
  {
   "cell_type": "markdown",
   "metadata": {
    "id": "PnXKIVdFgFyR"
   },
   "source": [
    "Рассмотрим подробнее данные из категориальных столбцов:`type`, `production_country`, `age_restriction`, `genres`."
   ]
  },
  {
   "cell_type": "code",
   "execution_count": 98,
   "metadata": {},
   "outputs": [
    {
     "data": {
      "text/plain": [
       "Художественный                4512\n",
       " Художественный               1388\n",
       "Анимационный                   826\n",
       "Прочие                         401\n",
       "Документальный                 287\n",
       "Научно-популярный               53\n",
       "Музыкально-развлекательный       1\n",
       " Анимационный                    1\n",
       "Name: type, dtype: int64"
      ]
     },
     "execution_count": 98,
     "metadata": {},
     "output_type": "execute_result"
    }
   ],
   "source": [
    "# рассмотрим столбец `type`\n",
    "df['type'].value_counts()"
   ]
  },
  {
   "cell_type": "code",
   "execution_count": 99,
   "metadata": {},
   "outputs": [
    {
     "data": {
      "text/plain": [
       "Художественный                5900\n",
       "Анимационный                   827\n",
       "Прочие                         401\n",
       "Документальный                 287\n",
       "Научно-популярный               53\n",
       "Музыкально-развлекательный       1\n",
       "Name: type, dtype: int64"
      ]
     },
     "execution_count": 99,
     "metadata": {},
     "output_type": "execute_result"
    }
   ],
   "source": [
    "# В начале некоторых строк имеются пробелы, удалим их и роверим результат\n",
    "df['type']=df['type'].str.strip()\n",
    "df['type'].value_counts()"
   ]
  },
  {
   "cell_type": "code",
   "execution_count": 100,
   "metadata": {},
   "outputs": [
    {
     "data": {
      "text/plain": [
       "США                                 2172\n",
       "Россия                              1817\n",
       "СССР                                 377\n",
       "Франция                              301\n",
       "Великобритания                       255\n",
       "                                    ... \n",
       "Канада-Великобритания                  1\n",
       "Норвегия, Швеция, Дания                1\n",
       "Германия - Нидерланды - ЮАР            1\n",
       "Великобритания, Франция, Бельгия       1\n",
       "США, Канада                            1\n",
       "Name: production_country, Length: 934, dtype: int64"
      ]
     },
     "execution_count": 100,
     "metadata": {},
     "output_type": "execute_result"
    }
   ],
   "source": [
    "# рассмотрим столбец `production_country` \n",
    "df['production_country']=df['production_country'].str.strip() # удаляем лишние пробелы\n",
    "df['production_country'].value_counts()"
   ]
  },
  {
   "cell_type": "markdown",
   "metadata": {},
   "source": [
    "В данном случае следует оставить категориальные значения как есть, но если бы исследование требовало более углублённого анализа стран-производителей фильмов, то возможно было бы правильнее завести отдельную таблицу в названиями колонок - странами произодителями `russia`, `usa` и т. д. и придать им булев тип. И связать эту таблицу с основной через полу индекса."
   ]
  },
  {
   "cell_type": "code",
   "execution_count": 101,
   "metadata": {},
   "outputs": [
    {
     "data": {
      "text/plain": [
       "«16+» - для детей старше 16 лет           2845\n",
       "«18+» - запрещено для детей               1605\n",
       "«12+» - для детей старше 12 лет           1590\n",
       "«0+» - для любой зрительской аудитории     803\n",
       "«6+» - для детей старше 6 лет              626\n",
       "Name: age_restriction, dtype: int64"
      ]
     },
     "execution_count": 101,
     "metadata": {},
     "output_type": "execute_result"
    }
   ],
   "source": [
    "# рассмотрим колонку `age_restriction`\n",
    "df['age_restriction'].value_counts()"
   ]
  },
  {
   "cell_type": "markdown",
   "metadata": {},
   "source": [
    "Эта колонка содержит категории в порядке, в поправках не нуждается."
   ]
  },
  {
   "cell_type": "code",
   "execution_count": 102,
   "metadata": {},
   "outputs": [
    {
     "data": {
      "text/plain": [
       "драма                              475\n",
       "комедия                            352\n",
       "мелодрама,комедия                  222\n",
       "драма,мелодрама,комедия            189\n",
       "драма,мелодрама                    183\n",
       "                                  ... \n",
       "документальный,фэнтези               1\n",
       "фантастика,приключения,детектив      1\n",
       "комедия,приключения,история          1\n",
       "комедия,мелодрама,криминал           1\n",
       "триллер,криминал,приключения         1\n",
       "Name: genres, Length: 742, dtype: int64"
      ]
     },
     "execution_count": 102,
     "metadata": {},
     "output_type": "execute_result"
    }
   ],
   "source": [
    "# рассмотрим колонку `genres`\n",
    "df['genres']=df['genres'].str.strip() # удаляем лишние пробелы\n",
    "df['genres'].value_counts()"
   ]
  },
  {
   "cell_type": "markdown",
   "metadata": {},
   "source": [
    "В данном случае, учитывая, что мы в основном рассматриваем жанровое кино, будет ошибочно например лемматизировать эту колонку, т. к. по данным  портала IMDb ( Internet Movie Database ) один и тот же фильм действительно может сочетать в себе несколько разных жанров, неправильно было бы лишать некоторые фильмы части описания."
   ]
  },
  {
   "cell_type": "markdown",
   "metadata": {
    "id": "XFSN5lrEgFyR"
   },
   "source": [
    "#### Шаг 2.5. Проверим количественные значения\n",
    "\n",
    "- Проверим, обнаружились ли в таких столбцах подозрительные данные.\n"
   ]
  },
  {
   "cell_type": "code",
   "execution_count": 103,
   "metadata": {
    "id": "YbzClBxagFyS"
   },
   "outputs": [
    {
     "name": "stdout",
     "output_type": "stream",
     "text": [
      "<class 'pandas.core.frame.DataFrame'>\n",
      "Int64Index: 7469 entries, 0 to 7485\n",
      "Data columns (total 16 columns):\n",
      "puNumber                 7468 non-null float64\n",
      "box_office               3156 non-null float64\n",
      "title                    7469 non-null object\n",
      "show_start_date          7469 non-null datetime64[ns, UTC]\n",
      "type                     7469 non-null object\n",
      "film_studio              7453 non-null object\n",
      "production_country       7469 non-null object\n",
      "director                 7469 non-null object\n",
      "producer                 6905 non-null object\n",
      "age_restriction          7469 non-null object\n",
      "refundable_support       332 non-null float64\n",
      "nonrefundable_support    332 non-null float64\n",
      "budget                   332 non-null float64\n",
      "financing_source         332 non-null object\n",
      "ratings                  7469 non-null float64\n",
      "genres                   6500 non-null object\n",
      "dtypes: datetime64[ns, UTC](1), float64(6), object(9)\n",
      "memory usage: 992.0+ KB\n"
     ]
    }
   ],
   "source": [
    "df.info()"
   ]
  },
  {
   "cell_type": "markdown",
   "metadata": {},
   "source": [
    "Проверим количественные колонки `refundable_support`, `nonrefundable_support`, `budget`, `box_office`.  В рамках поддержки от Фонда кино (для игрового кино) или от Министерства культуры (документальное, детское, авторское и т. д.) выделяются как возвратные, так и безвозвратные средства, составляющие бюджет фильма, следовательно, если сложить значение в колонках `refundable_support` и `nonrefundable_support`, то должно получиться значение, не превышающее `budget`, проверим это."
   ]
  },
  {
   "cell_type": "code",
   "execution_count": 104,
   "metadata": {},
   "outputs": [
    {
     "data": {
      "text/plain": [
       "17"
      ]
     },
     "execution_count": 104,
     "metadata": {},
     "output_type": "execute_result"
    }
   ],
   "source": [
    "df.loc[df['refundable_support']+df['nonrefundable_support']>df['budget'],'budget'].count()"
   ]
  },
  {
   "cell_type": "markdown",
   "metadata": {},
   "source": [
    "Имеется 17 таких фильмов, рассмотрим подробнее эти значения."
   ]
  },
  {
   "cell_type": "code",
   "execution_count": 105,
   "metadata": {
    "scrolled": true
   },
   "outputs": [
    {
     "data": {
      "text/html": [
       "<div>\n",
       "<style scoped>\n",
       "    .dataframe tbody tr th:only-of-type {\n",
       "        vertical-align: middle;\n",
       "    }\n",
       "\n",
       "    .dataframe tbody tr th {\n",
       "        vertical-align: top;\n",
       "    }\n",
       "\n",
       "    .dataframe thead th {\n",
       "        text-align: right;\n",
       "    }\n",
       "</style>\n",
       "<table border=\"1\" class=\"dataframe\">\n",
       "  <thead>\n",
       "    <tr style=\"text-align: right;\">\n",
       "      <th></th>\n",
       "      <th>puNumber</th>\n",
       "      <th>box_office</th>\n",
       "      <th>title</th>\n",
       "      <th>show_start_date</th>\n",
       "      <th>type</th>\n",
       "      <th>film_studio</th>\n",
       "      <th>production_country</th>\n",
       "      <th>director</th>\n",
       "      <th>producer</th>\n",
       "      <th>age_restriction</th>\n",
       "      <th>refundable_support</th>\n",
       "      <th>nonrefundable_support</th>\n",
       "      <th>budget</th>\n",
       "      <th>financing_source</th>\n",
       "      <th>ratings</th>\n",
       "      <th>genres</th>\n",
       "    </tr>\n",
       "  </thead>\n",
       "  <tbody>\n",
       "    <tr>\n",
       "      <td>16</td>\n",
       "      <td>111000415.0</td>\n",
       "      <td>4.461635e+08</td>\n",
       "      <td>Дуxless 2</td>\n",
       "      <td>2015-01-26 12:00:00+00:00</td>\n",
       "      <td>Художественный</td>\n",
       "      <td>ООО \"Киностудия \"Слово\", ООО \"Арт Пикчерс Студия\"</td>\n",
       "      <td>Россия</td>\n",
       "      <td>Р.Прыгунов</td>\n",
       "      <td>П.Ануров, Ф.Бондарчук, Д.Рудовский</td>\n",
       "      <td>«16+» - для детей старше 16 лет</td>\n",
       "      <td>0.0</td>\n",
       "      <td>75000000.0</td>\n",
       "      <td>0.0</td>\n",
       "      <td>Фонд кино</td>\n",
       "      <td>6.6</td>\n",
       "      <td>драма</td>\n",
       "    </tr>\n",
       "    <tr>\n",
       "      <td>196</td>\n",
       "      <td>111004317.0</td>\n",
       "      <td>5.045195e+07</td>\n",
       "      <td>Мифы</td>\n",
       "      <td>2017-06-07 12:00:00+00:00</td>\n",
       "      <td>Художественный</td>\n",
       "      <td>ООО \"ХАЙПФИЛМ\", ООО \"Арт Пикчерс Студия\"</td>\n",
       "      <td>Россия</td>\n",
       "      <td>А.Молочников</td>\n",
       "      <td>Ф.Бондарчук, Д.Рудовский, И.Стюарт, М.Османн, ...</td>\n",
       "      <td>«16+» - для детей старше 16 лет</td>\n",
       "      <td>25000000.0</td>\n",
       "      <td>20000000.0</td>\n",
       "      <td>0.0</td>\n",
       "      <td>Фонд кино</td>\n",
       "      <td>4.8</td>\n",
       "      <td>комедия</td>\n",
       "    </tr>\n",
       "    <tr>\n",
       "      <td>234</td>\n",
       "      <td>111004916.0</td>\n",
       "      <td>1.536293e+07</td>\n",
       "      <td>Помню - не помню!</td>\n",
       "      <td>2016-03-01 12:00:00+00:00</td>\n",
       "      <td>Художественный</td>\n",
       "      <td>ООО \"КиноФирма\"</td>\n",
       "      <td>Россия</td>\n",
       "      <td>В.Ровенский</td>\n",
       "      <td>ООО \"КиноФирма\"</td>\n",
       "      <td>«12+» - для детей старше 12 лет</td>\n",
       "      <td>0.0</td>\n",
       "      <td>6000000.0</td>\n",
       "      <td>0.0</td>\n",
       "      <td>Министерство культуры</td>\n",
       "      <td>4.3</td>\n",
       "      <td>комедия</td>\n",
       "    </tr>\n",
       "    <tr>\n",
       "      <td>392</td>\n",
       "      <td>111008216.0</td>\n",
       "      <td>7.029905e+07</td>\n",
       "      <td>Любовь с ограничениями</td>\n",
       "      <td>2016-04-29 12:00:00+00:00</td>\n",
       "      <td>Художественный</td>\n",
       "      <td>АО \"ВайТ Медиа\", ООО \"Арт Пикчерс Студия\"</td>\n",
       "      <td>Россия</td>\n",
       "      <td>Д.Тюрин</td>\n",
       "      <td>Ф.Бондарчук, Т.Вайнштейн, Д.Рудовский</td>\n",
       "      <td>«16+» - для детей старше 16 лет</td>\n",
       "      <td>19000000.0</td>\n",
       "      <td>51000000.0</td>\n",
       "      <td>0.0</td>\n",
       "      <td>Фонд кино</td>\n",
       "      <td>6.3</td>\n",
       "      <td>комедия,мелодрама</td>\n",
       "    </tr>\n",
       "    <tr>\n",
       "      <td>454</td>\n",
       "      <td>111009615.0</td>\n",
       "      <td>6.741897e+07</td>\n",
       "      <td>Бармен.</td>\n",
       "      <td>2015-05-26 12:00:00+00:00</td>\n",
       "      <td>Художественный</td>\n",
       "      <td>АО \"ВайТ Медиа\", ООО \"Арт Пикчерс Студия\"</td>\n",
       "      <td>Россия</td>\n",
       "      <td>Д.Штурманова</td>\n",
       "      <td>Т.Вайнштейн</td>\n",
       "      <td>«16+» - для детей старше 16 лет</td>\n",
       "      <td>20000000.0</td>\n",
       "      <td>0.0</td>\n",
       "      <td>0.0</td>\n",
       "      <td>Фонд кино</td>\n",
       "      <td>6.2</td>\n",
       "      <td>комедия,фэнтези</td>\n",
       "    </tr>\n",
       "    <tr>\n",
       "      <td>482</td>\n",
       "      <td>111010215.0</td>\n",
       "      <td>1.957739e+06</td>\n",
       "      <td>Тряпичный союз</td>\n",
       "      <td>2015-06-08 12:00:00+00:00</td>\n",
       "      <td>Художественный</td>\n",
       "      <td>ООО \"Кинокомпания \"КОКТЕБЕЛЬ\"</td>\n",
       "      <td>Россия</td>\n",
       "      <td>М.Местецкий</td>\n",
       "      <td>Р.Борисевич, А.Кушаев</td>\n",
       "      <td>«18+» - запрещено для детей</td>\n",
       "      <td>0.0</td>\n",
       "      <td>59000000.0</td>\n",
       "      <td>0.0</td>\n",
       "      <td>Фонд кино</td>\n",
       "      <td>6.3</td>\n",
       "      <td>комедия,драма</td>\n",
       "    </tr>\n",
       "    <tr>\n",
       "      <td>543</td>\n",
       "      <td>111012117.0</td>\n",
       "      <td>2.251964e+08</td>\n",
       "      <td>Селфи</td>\n",
       "      <td>2018-02-01 12:00:00+00:00</td>\n",
       "      <td>Художественный</td>\n",
       "      <td>ООО \"Киностудия \"Слово\", ООО \"Арт Пикчерс Студия\"</td>\n",
       "      <td>Россия</td>\n",
       "      <td>Н.Хомерики</td>\n",
       "      <td>П.Ануров, Ф.Бондарчук, Д.Рудовский</td>\n",
       "      <td>«16+» - для детей старше 16 лет</td>\n",
       "      <td>20000000.0</td>\n",
       "      <td>40000000.0</td>\n",
       "      <td>0.0</td>\n",
       "      <td>Фонд кино</td>\n",
       "      <td>5.8</td>\n",
       "      <td>триллер,драма</td>\n",
       "    </tr>\n",
       "    <tr>\n",
       "      <td>653</td>\n",
       "      <td>111017115.0</td>\n",
       "      <td>7.293778e+07</td>\n",
       "      <td>Срочно выйду замуж</td>\n",
       "      <td>2015-09-30 12:00:00+00:00</td>\n",
       "      <td>Художественный</td>\n",
       "      <td>АО \"ВайТ Медиа\", ООО \"Арт Пикчерс Студия\"</td>\n",
       "      <td>Россия</td>\n",
       "      <td>С Чекалов</td>\n",
       "      <td>Ф.Бондарчук, Т.Вайнштейн, Д.Рудовский</td>\n",
       "      <td>«16+» - для детей старше 16 лет</td>\n",
       "      <td>0.0</td>\n",
       "      <td>35000000.0</td>\n",
       "      <td>0.0</td>\n",
       "      <td>Фонд кино</td>\n",
       "      <td>5.1</td>\n",
       "      <td>комедия,мелодрама</td>\n",
       "    </tr>\n",
       "    <tr>\n",
       "      <td>658</td>\n",
       "      <td>111017315.0</td>\n",
       "      <td>1.965724e+08</td>\n",
       "      <td>Воин (2015)</td>\n",
       "      <td>2015-09-28 12:00:00+00:00</td>\n",
       "      <td>Художественный</td>\n",
       "      <td>ООО \"Форпост Продакшн\", ООО \"Арт Пикчерс Студия\"</td>\n",
       "      <td>Россия</td>\n",
       "      <td>А.Андрианов</td>\n",
       "      <td>ООО \"Арт Пикчерс Студия\"</td>\n",
       "      <td>«12+» - для детей старше 12 лет</td>\n",
       "      <td>10000000.0</td>\n",
       "      <td>70000000.0</td>\n",
       "      <td>0.0</td>\n",
       "      <td>Фонд кино</td>\n",
       "      <td>7.8</td>\n",
       "      <td>боевик,драма,криминал</td>\n",
       "    </tr>\n",
       "    <tr>\n",
       "      <td>676</td>\n",
       "      <td>111018116.0</td>\n",
       "      <td>1.038321e+09</td>\n",
       "      <td>Притяжение (2016)</td>\n",
       "      <td>2016-12-16 12:00:00+00:00</td>\n",
       "      <td>Художественный</td>\n",
       "      <td>ООО \"Водород 2011\",  ООО \"Арт Пикчерс Студия\"</td>\n",
       "      <td>Россия</td>\n",
       "      <td>Ф.Бондарчук</td>\n",
       "      <td>ООО \"Арт Пикчерс Студия\"</td>\n",
       "      <td>«12+» - для детей старше 12 лет</td>\n",
       "      <td>0.0</td>\n",
       "      <td>250000000.0</td>\n",
       "      <td>0.0</td>\n",
       "      <td>Фонд кино</td>\n",
       "      <td>5.6</td>\n",
       "      <td>фантастика</td>\n",
       "    </tr>\n",
       "    <tr>\n",
       "      <td>753</td>\n",
       "      <td>111023614.0</td>\n",
       "      <td>1.023402e+07</td>\n",
       "      <td>14+</td>\n",
       "      <td>2014-12-19 12:00:00+00:00</td>\n",
       "      <td>Художественный</td>\n",
       "      <td>ООО Киностудия  \"Сентябрь\"</td>\n",
       "      <td>Россия</td>\n",
       "      <td>А.Зайцев</td>\n",
       "      <td>О.Гранина, А.Зайцев</td>\n",
       "      <td>«16+» - для детей старше 16 лет</td>\n",
       "      <td>0.0</td>\n",
       "      <td>23000000.0</td>\n",
       "      <td>0.0</td>\n",
       "      <td>Министерство культуры, Фонд кино</td>\n",
       "      <td>6.6</td>\n",
       "      <td>мелодрама</td>\n",
       "    </tr>\n",
       "    <tr>\n",
       "      <td>829</td>\n",
       "      <td>114001018.0</td>\n",
       "      <td>1.065143e+08</td>\n",
       "      <td>Два хвоста</td>\n",
       "      <td>2018-05-31 12:00:00+00:00</td>\n",
       "      <td>Анимационный</td>\n",
       "      <td>ООО \"ЛИЦЕНЗИОННЫЕ БРЕНДЫ\"</td>\n",
       "      <td>Россия</td>\n",
       "      <td>В.Ровенский, Н.Лопато, В.Азеев</td>\n",
       "      <td>ООО \"ЛИЦЕНЗИОННЫЕ БРЕНДЫ\"</td>\n",
       "      <td>«6+» - для детей старше 6 лет</td>\n",
       "      <td>10000000.0</td>\n",
       "      <td>60000000.0</td>\n",
       "      <td>0.0</td>\n",
       "      <td>Фонд кино</td>\n",
       "      <td>5.0</td>\n",
       "      <td>мультфильм,детский</td>\n",
       "    </tr>\n",
       "    <tr>\n",
       "      <td>841</td>\n",
       "      <td>114001715.0</td>\n",
       "      <td>1.844876e+08</td>\n",
       "      <td>Савва. Сердце воина</td>\n",
       "      <td>2015-07-21 12:00:00+00:00</td>\n",
       "      <td>Анимационный</td>\n",
       "      <td>ООО \"Глюкоза Продакшн\", ООО \"Арт Пикчерс Студия\"</td>\n",
       "      <td>Россия</td>\n",
       "      <td>М.Фадеев</td>\n",
       "      <td>А.Чистяков</td>\n",
       "      <td>«6+» - для детей старше 6 лет</td>\n",
       "      <td>60000000.0</td>\n",
       "      <td>100000000.0</td>\n",
       "      <td>0.0</td>\n",
       "      <td>Фонд кино</td>\n",
       "      <td>4.6</td>\n",
       "      <td>мультфильм,приключения,фэнтези</td>\n",
       "    </tr>\n",
       "    <tr>\n",
       "      <td>845</td>\n",
       "      <td>114001817.0</td>\n",
       "      <td>5.510801e+07</td>\n",
       "      <td>Чудо-юдо</td>\n",
       "      <td>2017-06-27 12:00:00+00:00</td>\n",
       "      <td>Анимационный</td>\n",
       "      <td>ООО \"КиноФирма\"</td>\n",
       "      <td>Россия</td>\n",
       "      <td>А.Лукичев</td>\n",
       "      <td>ООО \"КиноФирма\"</td>\n",
       "      <td>«6+» - для детей старше 6 лет</td>\n",
       "      <td>20000000.0</td>\n",
       "      <td>20000000.0</td>\n",
       "      <td>0.0</td>\n",
       "      <td>Фонд кино</td>\n",
       "      <td>5.2</td>\n",
       "      <td>мультфильм,фэнтези,семейный</td>\n",
       "    </tr>\n",
       "    <tr>\n",
       "      <td>854</td>\n",
       "      <td>114002419.0</td>\n",
       "      <td>1.476068e+08</td>\n",
       "      <td>Большое путешествие</td>\n",
       "      <td>2019-04-20 12:00:00+00:00</td>\n",
       "      <td>Анимационный</td>\n",
       "      <td>ООО \"ЛИЦЕНЗИОННЫЕ БРЕНДЫ\"</td>\n",
       "      <td>Россия</td>\n",
       "      <td>Н.Лопато, В.Ровенский</td>\n",
       "      <td>ООО \"ЛИЦЕНЗИОННЫЕ БРЕНДЫ\"</td>\n",
       "      <td>«6+» - для детей старше 6 лет</td>\n",
       "      <td>60000000.0</td>\n",
       "      <td>120000000.0</td>\n",
       "      <td>0.0</td>\n",
       "      <td>Фонд кино</td>\n",
       "      <td>6.2</td>\n",
       "      <td>мультфильм,комедия,приключения</td>\n",
       "    </tr>\n",
       "    <tr>\n",
       "      <td>866</td>\n",
       "      <td>114003018.0</td>\n",
       "      <td>8.336633e+07</td>\n",
       "      <td>Принцесса и дракон</td>\n",
       "      <td>2018-08-23 12:00:00+00:00</td>\n",
       "      <td>Анимационный</td>\n",
       "      <td>ООО \"ЛИЦЕНЗИОННЫЕ БРЕНДЫ\"</td>\n",
       "      <td>Россия</td>\n",
       "      <td>М.Нефедова</td>\n",
       "      <td>ООО \"ЛИЦЕНЗИОННЫЕ БРЕНДЫ\"</td>\n",
       "      <td>«6+» - для детей старше 6 лет</td>\n",
       "      <td>40000000.0</td>\n",
       "      <td>40000000.0</td>\n",
       "      <td>0.0</td>\n",
       "      <td>Фонд кино</td>\n",
       "      <td>5.2</td>\n",
       "      <td>мультфильм,фэнтези,детский</td>\n",
       "    </tr>\n",
       "    <tr>\n",
       "      <td>893</td>\n",
       "      <td>114006518.0</td>\n",
       "      <td>1.334699e+06</td>\n",
       "      <td>Баба Яга</td>\n",
       "      <td>2018-11-08 12:00:00+00:00</td>\n",
       "      <td>Анимационный</td>\n",
       "      <td>ООО \"Арт Пикчерс Студия\"</td>\n",
       "      <td>Россия</td>\n",
       "      <td>В.Саков</td>\n",
       "      <td>ООО \"Арт Пикчерс Студия\", ООО \"КРИЭЙТИВ АНИМЭЙ...</td>\n",
       "      <td>«6+» - для детей старше 6 лет</td>\n",
       "      <td>0.0</td>\n",
       "      <td>138969465.0</td>\n",
       "      <td>0.0</td>\n",
       "      <td>Фонд кино</td>\n",
       "      <td>0.0</td>\n",
       "      <td>NaN</td>\n",
       "    </tr>\n",
       "  </tbody>\n",
       "</table>\n",
       "</div>"
      ],
      "text/plain": [
       "        puNumber    box_office                   title  \\\n",
       "16   111000415.0  4.461635e+08               Дуxless 2   \n",
       "196  111004317.0  5.045195e+07                    Мифы   \n",
       "234  111004916.0  1.536293e+07       Помню - не помню!   \n",
       "392  111008216.0  7.029905e+07  Любовь с ограничениями   \n",
       "454  111009615.0  6.741897e+07                 Бармен.   \n",
       "482  111010215.0  1.957739e+06          Тряпичный союз   \n",
       "543  111012117.0  2.251964e+08                   Селфи   \n",
       "653  111017115.0  7.293778e+07      Срочно выйду замуж   \n",
       "658  111017315.0  1.965724e+08             Воин (2015)   \n",
       "676  111018116.0  1.038321e+09       Притяжение (2016)   \n",
       "753  111023614.0  1.023402e+07                     14+   \n",
       "829  114001018.0  1.065143e+08              Два хвоста   \n",
       "841  114001715.0  1.844876e+08     Савва. Сердце воина   \n",
       "845  114001817.0  5.510801e+07                Чудо-юдо   \n",
       "854  114002419.0  1.476068e+08     Большое путешествие   \n",
       "866  114003018.0  8.336633e+07      Принцесса и дракон   \n",
       "893  114006518.0  1.334699e+06                Баба Яга   \n",
       "\n",
       "              show_start_date            type  \\\n",
       "16  2015-01-26 12:00:00+00:00  Художественный   \n",
       "196 2017-06-07 12:00:00+00:00  Художественный   \n",
       "234 2016-03-01 12:00:00+00:00  Художественный   \n",
       "392 2016-04-29 12:00:00+00:00  Художественный   \n",
       "454 2015-05-26 12:00:00+00:00  Художественный   \n",
       "482 2015-06-08 12:00:00+00:00  Художественный   \n",
       "543 2018-02-01 12:00:00+00:00  Художественный   \n",
       "653 2015-09-30 12:00:00+00:00  Художественный   \n",
       "658 2015-09-28 12:00:00+00:00  Художественный   \n",
       "676 2016-12-16 12:00:00+00:00  Художественный   \n",
       "753 2014-12-19 12:00:00+00:00  Художественный   \n",
       "829 2018-05-31 12:00:00+00:00    Анимационный   \n",
       "841 2015-07-21 12:00:00+00:00    Анимационный   \n",
       "845 2017-06-27 12:00:00+00:00    Анимационный   \n",
       "854 2019-04-20 12:00:00+00:00    Анимационный   \n",
       "866 2018-08-23 12:00:00+00:00    Анимационный   \n",
       "893 2018-11-08 12:00:00+00:00    Анимационный   \n",
       "\n",
       "                                           film_studio production_country  \\\n",
       "16   ООО \"Киностудия \"Слово\", ООО \"Арт Пикчерс Студия\"             Россия   \n",
       "196           ООО \"ХАЙПФИЛМ\", ООО \"Арт Пикчерс Студия\"             Россия   \n",
       "234                                    ООО \"КиноФирма\"             Россия   \n",
       "392          АО \"ВайТ Медиа\", ООО \"Арт Пикчерс Студия\"             Россия   \n",
       "454          АО \"ВайТ Медиа\", ООО \"Арт Пикчерс Студия\"             Россия   \n",
       "482                      ООО \"Кинокомпания \"КОКТЕБЕЛЬ\"             Россия   \n",
       "543  ООО \"Киностудия \"Слово\", ООО \"Арт Пикчерс Студия\"             Россия   \n",
       "653          АО \"ВайТ Медиа\", ООО \"Арт Пикчерс Студия\"             Россия   \n",
       "658   ООО \"Форпост Продакшн\", ООО \"Арт Пикчерс Студия\"             Россия   \n",
       "676      ООО \"Водород 2011\",  ООО \"Арт Пикчерс Студия\"             Россия   \n",
       "753                         ООО Киностудия  \"Сентябрь\"             Россия   \n",
       "829                          ООО \"ЛИЦЕНЗИОННЫЕ БРЕНДЫ\"             Россия   \n",
       "841   ООО \"Глюкоза Продакшн\", ООО \"Арт Пикчерс Студия\"             Россия   \n",
       "845                                    ООО \"КиноФирма\"             Россия   \n",
       "854                          ООО \"ЛИЦЕНЗИОННЫЕ БРЕНДЫ\"             Россия   \n",
       "866                          ООО \"ЛИЦЕНЗИОННЫЕ БРЕНДЫ\"             Россия   \n",
       "893                           ООО \"Арт Пикчерс Студия\"             Россия   \n",
       "\n",
       "                           director  \\\n",
       "16                       Р.Прыгунов   \n",
       "196                    А.Молочников   \n",
       "234                     В.Ровенский   \n",
       "392                         Д.Тюрин   \n",
       "454                    Д.Штурманова   \n",
       "482                     М.Местецкий   \n",
       "543                      Н.Хомерики   \n",
       "653                       С Чекалов   \n",
       "658                     А.Андрианов   \n",
       "676                     Ф.Бондарчук   \n",
       "753                        А.Зайцев   \n",
       "829  В.Ровенский, Н.Лопато, В.Азеев   \n",
       "841                        М.Фадеев   \n",
       "845                       А.Лукичев   \n",
       "854           Н.Лопато, В.Ровенский   \n",
       "866                      М.Нефедова   \n",
       "893                         В.Саков   \n",
       "\n",
       "                                              producer  \\\n",
       "16                  П.Ануров, Ф.Бондарчук, Д.Рудовский   \n",
       "196  Ф.Бондарчук, Д.Рудовский, И.Стюарт, М.Османн, ...   \n",
       "234                                    ООО \"КиноФирма\"   \n",
       "392              Ф.Бондарчук, Т.Вайнштейн, Д.Рудовский   \n",
       "454                                        Т.Вайнштейн   \n",
       "482                              Р.Борисевич, А.Кушаев   \n",
       "543                 П.Ануров, Ф.Бондарчук, Д.Рудовский   \n",
       "653              Ф.Бондарчук, Т.Вайнштейн, Д.Рудовский   \n",
       "658                           ООО \"Арт Пикчерс Студия\"   \n",
       "676                           ООО \"Арт Пикчерс Студия\"   \n",
       "753                                О.Гранина, А.Зайцев   \n",
       "829                          ООО \"ЛИЦЕНЗИОННЫЕ БРЕНДЫ\"   \n",
       "841                                         А.Чистяков   \n",
       "845                                    ООО \"КиноФирма\"   \n",
       "854                          ООО \"ЛИЦЕНЗИОННЫЕ БРЕНДЫ\"   \n",
       "866                          ООО \"ЛИЦЕНЗИОННЫЕ БРЕНДЫ\"   \n",
       "893  ООО \"Арт Пикчерс Студия\", ООО \"КРИЭЙТИВ АНИМЭЙ...   \n",
       "\n",
       "                     age_restriction  refundable_support  \\\n",
       "16   «16+» - для детей старше 16 лет                 0.0   \n",
       "196  «16+» - для детей старше 16 лет          25000000.0   \n",
       "234  «12+» - для детей старше 12 лет                 0.0   \n",
       "392  «16+» - для детей старше 16 лет          19000000.0   \n",
       "454  «16+» - для детей старше 16 лет          20000000.0   \n",
       "482      «18+» - запрещено для детей                 0.0   \n",
       "543  «16+» - для детей старше 16 лет          20000000.0   \n",
       "653  «16+» - для детей старше 16 лет                 0.0   \n",
       "658  «12+» - для детей старше 12 лет          10000000.0   \n",
       "676  «12+» - для детей старше 12 лет                 0.0   \n",
       "753  «16+» - для детей старше 16 лет                 0.0   \n",
       "829    «6+» - для детей старше 6 лет          10000000.0   \n",
       "841    «6+» - для детей старше 6 лет          60000000.0   \n",
       "845    «6+» - для детей старше 6 лет          20000000.0   \n",
       "854    «6+» - для детей старше 6 лет          60000000.0   \n",
       "866    «6+» - для детей старше 6 лет          40000000.0   \n",
       "893    «6+» - для детей старше 6 лет                 0.0   \n",
       "\n",
       "     nonrefundable_support  budget                  financing_source  ratings  \\\n",
       "16              75000000.0     0.0                         Фонд кино      6.6   \n",
       "196             20000000.0     0.0                         Фонд кино      4.8   \n",
       "234              6000000.0     0.0             Министерство культуры      4.3   \n",
       "392             51000000.0     0.0                         Фонд кино      6.3   \n",
       "454                    0.0     0.0                         Фонд кино      6.2   \n",
       "482             59000000.0     0.0                         Фонд кино      6.3   \n",
       "543             40000000.0     0.0                         Фонд кино      5.8   \n",
       "653             35000000.0     0.0                         Фонд кино      5.1   \n",
       "658             70000000.0     0.0                         Фонд кино      7.8   \n",
       "676            250000000.0     0.0                         Фонд кино      5.6   \n",
       "753             23000000.0     0.0  Министерство культуры, Фонд кино      6.6   \n",
       "829             60000000.0     0.0                         Фонд кино      5.0   \n",
       "841            100000000.0     0.0                         Фонд кино      4.6   \n",
       "845             20000000.0     0.0                         Фонд кино      5.2   \n",
       "854            120000000.0     0.0                         Фонд кино      6.2   \n",
       "866             40000000.0     0.0                         Фонд кино      5.2   \n",
       "893            138969465.0     0.0                         Фонд кино      0.0   \n",
       "\n",
       "                             genres  \n",
       "16                            драма  \n",
       "196                         комедия  \n",
       "234                         комедия  \n",
       "392               комедия,мелодрама  \n",
       "454                 комедия,фэнтези  \n",
       "482                   комедия,драма  \n",
       "543                   триллер,драма  \n",
       "653               комедия,мелодрама  \n",
       "658           боевик,драма,криминал  \n",
       "676                      фантастика  \n",
       "753                       мелодрама  \n",
       "829              мультфильм,детский  \n",
       "841  мультфильм,приключения,фэнтези  \n",
       "845     мультфильм,фэнтези,семейный  \n",
       "854  мультфильм,комедия,приключения  \n",
       "866      мультфильм,фэнтези,детский  \n",
       "893                             NaN  "
      ]
     },
     "execution_count": 105,
     "metadata": {},
     "output_type": "execute_result"
    }
   ],
   "source": [
    "df.loc[df['refundable_support']+df['nonrefundable_support']>df['budget']]"
   ]
  },
  {
   "cell_type": "markdown",
   "metadata": {},
   "source": [
    "Как видно из фрагмента таблицы, имеется 17 записей, у которых в колонке бюджет фильма указан 0, поэтому колонку в данном случае колонку можно обработать таким образом , сложить объём возвратных и невозвратных стредств и сумму внести в колонку `budget`"
   ]
  },
  {
   "cell_type": "code",
   "execution_count": 106,
   "metadata": {},
   "outputs": [],
   "source": [
    "df.loc[df['refundable_support']+df['nonrefundable_support']>df['budget'], 'budget']=df['refundable_support']+df['nonrefundable_support']"
   ]
  },
  {
   "cell_type": "markdown",
   "metadata": {
    "id": "Eu6oWp2CgFyS"
   },
   "source": [
    "#### Шаг 2.6. Добавим новые столбцы\n",
    "\n",
    "\n",
    "\n"
   ]
  },
  {
   "cell_type": "markdown",
   "metadata": {
    "id": "7GgW-UpAgFyS"
   },
   "source": [
    "- Создадим столбец с информацией о годе проката. Выделим год из даты премьеры фильма."
   ]
  },
  {
   "cell_type": "code",
   "execution_count": 107,
   "metadata": {
    "id": "I-yd1DkWgFyT"
   },
   "outputs": [],
   "source": [
    "# создадим столбец с годом прогката фильма\n",
    "df['year_release']=df['show_start_date'].dt.year"
   ]
  },
  {
   "cell_type": "markdown",
   "metadata": {
    "id": "nFTDLDYOgFyT"
   },
   "source": [
    "- Создадим два столбца: с именем и фамилией главного режиссёра и основным жанром фильма. В столбцы войдут первые значения из списка режиссёров и жанров соответственно."
   ]
  },
  {
   "cell_type": "code",
   "execution_count": 108,
   "metadata": {},
   "outputs": [
    {
     "data": {
      "text/html": [
       "<div>\n",
       "<style scoped>\n",
       "    .dataframe tbody tr th:only-of-type {\n",
       "        vertical-align: middle;\n",
       "    }\n",
       "\n",
       "    .dataframe tbody tr th {\n",
       "        vertical-align: top;\n",
       "    }\n",
       "\n",
       "    .dataframe thead th {\n",
       "        text-align: right;\n",
       "    }\n",
       "</style>\n",
       "<table border=\"1\" class=\"dataframe\">\n",
       "  <thead>\n",
       "    <tr style=\"text-align: right;\">\n",
       "      <th></th>\n",
       "      <th>director</th>\n",
       "      <th>main_director</th>\n",
       "      <th>genres</th>\n",
       "      <th>main_genre</th>\n",
       "    </tr>\n",
       "  </thead>\n",
       "  <tbody>\n",
       "    <tr>\n",
       "      <td>0</td>\n",
       "      <td>Ренни Харлин</td>\n",
       "      <td>Ренни Харлин</td>\n",
       "      <td>ужасы,фантастика</td>\n",
       "      <td>ужасы</td>\n",
       "    </tr>\n",
       "    <tr>\n",
       "      <td>1</td>\n",
       "      <td>Ю.Фетинг</td>\n",
       "      <td>Ю.Фетинг</td>\n",
       "      <td>детский,семейный</td>\n",
       "      <td>детский</td>\n",
       "    </tr>\n",
       "    <tr>\n",
       "      <td>2</td>\n",
       "      <td>П.Руминов</td>\n",
       "      <td>П.Руминов</td>\n",
       "      <td>комедия,мелодрама</td>\n",
       "      <td>комедия</td>\n",
       "    </tr>\n",
       "    <tr>\n",
       "      <td>3</td>\n",
       "      <td>А.Матисон</td>\n",
       "      <td>А.Матисон</td>\n",
       "      <td>драма</td>\n",
       "      <td>драма</td>\n",
       "    </tr>\n",
       "    <tr>\n",
       "      <td>4</td>\n",
       "      <td>З.Болотаев, К.Смирнов</td>\n",
       "      <td>З.Болотаев</td>\n",
       "      <td>комедия</td>\n",
       "      <td>комедия</td>\n",
       "    </tr>\n",
       "  </tbody>\n",
       "</table>\n",
       "</div>"
      ],
      "text/plain": [
       "                director main_director             genres main_genre\n",
       "0           Ренни Харлин  Ренни Харлин   ужасы,фантастика      ужасы\n",
       "1               Ю.Фетинг      Ю.Фетинг   детский,семейный    детский\n",
       "2              П.Руминов     П.Руминов  комедия,мелодрама    комедия\n",
       "3              А.Матисон     А.Матисон              драма      драма\n",
       "4  З.Болотаев, К.Смирнов    З.Болотаев            комедия    комедия"
      ]
     },
     "execution_count": 108,
     "metadata": {},
     "output_type": "execute_result"
    }
   ],
   "source": [
    "def first_word(string):# передаём в функцию запись из каждой строки серии\n",
    "    word=string.split(\",\")# разрезаем строку на список с разделителем \",\"\n",
    "    return (word[0])# возвращаем нулевой элемент списка\n",
    "df['main_director']=df['director'].apply(first_word) # применяем функцию к каждой записи серии\n",
    "df['main_genre']=df['genres'].astype(str).apply(first_word)\n",
    "df[['director','main_director','genres','main_genre']].head()# провряем, что получилось"
   ]
  },
  {
   "cell_type": "markdown",
   "metadata": {
    "id": "1FsCXHwdgFyU"
   },
   "source": [
    "- Посчитайте, какую долю от общего бюджета фильма составляет государственная поддержка."
   ]
  },
  {
   "cell_type": "code",
   "execution_count": 109,
   "metadata": {
    "id": "LV6qFuZLgFyV"
   },
   "outputs": [
    {
     "name": "stdout",
     "output_type": "stream",
     "text": [
      "Средняя доля составляет 0.5420979916491464\n"
     ]
    },
    {
     "data": {
      "text/plain": [
       "Text(0.5, 0, 'Доля')"
      ]
     },
     "execution_count": 109,
     "metadata": {},
     "output_type": "execute_result"
    },
    {
     "data": {
      "image/png": "[encoded data removed]",
      "text/plain": [
       "<Figure size 432x288 with 1 Axes>"
      ]
     },
     "metadata": {
      "needs_background": "light"
     },
     "output_type": "display_data"
    }
   ],
   "source": [
    "df['share_of_budget']=0 # создаём новую колонку\n",
    "# в следующей длинной строке заполняем колонку долями для непустых значений\n",
    "df.loc[(df['refundable_support'].isna()==False)&(df['nonrefundable_support'].isna()==False)&(df['budget'].isna()==False)&(df['financing_source'].isna()==False)&(df['budget']!=0),'share_of_budget']=(df['nonrefundable_support']+df['refundable_support'])/df['budget']\n",
    "# рассчитываем среднюю долю\n",
    "print('Средняя доля составляет',df.loc[df['share_of_budget']!=0,'share_of_budget'].mean())\n",
    "# смотрим на разброс\n",
    "df.loc[df['share_of_budget']!=0,'share_of_budget'].plot(kind='hist',bins=10,grid=True,title='Разброс доли средств финансирования от бюджета').set_xlabel('Доля')"
   ]
  },
  {
   "cell_type": "markdown",
   "metadata": {},
   "source": [
    "Как видно, у большей части фильмов доля государственного финансирования составляет более 0,6"
   ]
  },
  {
   "cell_type": "markdown",
   "metadata": {
    "id": "6t4EukPLgFyV"
   },
   "source": [
    "### Шаг 3. Проведем исследовательский анализ данных\n"
   ]
  },
  {
   "cell_type": "markdown",
   "metadata": {
    "id": "vAH8WCzugFyV"
   },
   "source": [
    "- Посмотрим, сколько фильмов выходило в прокат каждый год. Обратм внимание, что данные о прокате в кинотеатрах известны не для всех фильмов. Посчитаем, какую долю составляют фильмы с указанной информацией о прокате в кинотеатрах."
   ]
  },
  {
   "cell_type": "code",
   "execution_count": 110,
   "metadata": {
    "id": "ABeV47y7gFyW"
   },
   "outputs": [
    {
     "data": {
      "text/html": [
       "<div>\n",
       "<style scoped>\n",
       "    .dataframe tbody tr th:only-of-type {\n",
       "        vertical-align: middle;\n",
       "    }\n",
       "\n",
       "    .dataframe tbody tr th {\n",
       "        vertical-align: top;\n",
       "    }\n",
       "\n",
       "    .dataframe thead th {\n",
       "        text-align: right;\n",
       "    }\n",
       "</style>\n",
       "<table border=\"1\" class=\"dataframe\">\n",
       "  <thead>\n",
       "    <tr style=\"text-align: right;\">\n",
       "      <th>year_release</th>\n",
       "      <th>2010</th>\n",
       "      <th>2011</th>\n",
       "      <th>2012</th>\n",
       "      <th>2013</th>\n",
       "      <th>2014</th>\n",
       "      <th>2015</th>\n",
       "      <th>2016</th>\n",
       "      <th>2017</th>\n",
       "      <th>2018</th>\n",
       "      <th>2019</th>\n",
       "    </tr>\n",
       "  </thead>\n",
       "  <tbody>\n",
       "    <tr>\n",
       "      <td>title</td>\n",
       "      <td>979</td>\n",
       "      <td>620</td>\n",
       "      <td>592</td>\n",
       "      <td>628</td>\n",
       "      <td>806</td>\n",
       "      <td>703</td>\n",
       "      <td>817</td>\n",
       "      <td>505</td>\n",
       "      <td>889</td>\n",
       "      <td>930</td>\n",
       "    </tr>\n",
       "  </tbody>\n",
       "</table>\n",
       "</div>"
      ],
      "text/plain": [
       "year_release  2010  2011  2012  2013  2014  2015  2016  2017  2018  2019\n",
       "title          979   620   592   628   806   703   817   505   889   930"
      ]
     },
     "metadata": {},
     "output_type": "display_data"
    },
    {
     "data": {
      "text/plain": [
       "<matplotlib.axes._subplots.AxesSubplot at 0x7fb08a5bce50>"
      ]
     },
     "metadata": {},
     "output_type": "display_data"
    },
    {
     "data": {
      "image/png": "[encoded data removed]",
      "text/plain": [
       "<Figure size 432x288 with 1 Axes>"
      ]
     },
     "metadata": {
      "needs_background": "light"
     },
     "output_type": "display_data"
    }
   ],
   "source": [
    "display(df.pivot_table(columns='year_release',values='title',aggfunc='count'))\n",
    "display(df.pivot_table(index='year_release',values='title',aggfunc='count').plot(title='Выпуск фильмов по годам'))"
   ]
  },
  {
   "cell_type": "markdown",
   "metadata": {
    "id": "tfEhofYvgFyX"
   },
   "source": [
    "Как видно из графика, наибольшее количество фильмов было выпущено в 2010 году, а наименьшее в 2017."
   ]
  },
  {
   "cell_type": "markdown",
   "metadata": {
    "id": "G-7qS-N-gFyY"
   },
   "source": [
    "- С помощью сводной таблицы посчитаем среднюю и медианную сумму сборов для каждого года."
   ]
  },
  {
   "cell_type": "code",
   "execution_count": 111,
   "metadata": {
    "id": "jmp-rgg9gFyY"
   },
   "outputs": [
    {
     "name": "stdout",
     "output_type": "stream",
     "text": [
      "Средняя сумма сборов по годам\n"
     ]
    },
    {
     "data": {
      "text/html": [
       "<style  type=\"text/css\" >\n",
       "    #T_f0a648a8_f2c4_11eb_a641_02420a394444row0_col0 {\n",
       "            : ;\n",
       "            background-color:  #F09EF0;\n",
       "        }    #T_f0a648a8_f2c4_11eb_a641_02420a394444row0_col1 {\n",
       "            : ;\n",
       "            background-color:  #F09EF0;\n",
       "        }    #T_f0a648a8_f2c4_11eb_a641_02420a394444row7_col0 {\n",
       "            background-color:  #952895;\n",
       "            : ;\n",
       "        }    #T_f0a648a8_f2c4_11eb_a641_02420a394444row7_col1 {\n",
       "            background-color:  #952895;\n",
       "            : ;\n",
       "        }</style><table id=\"T_f0a648a8_f2c4_11eb_a641_02420a394444\" ><thead>    <tr>        <th class=\"blank level0\" ></th>        <th class=\"col_heading level0 col0\" >mean</th>        <th class=\"col_heading level0 col1\" >median</th>    </tr>    <tr>        <th class=\"blank level1\" ></th>        <th class=\"col_heading level1 col0\" >box_office_mln</th>        <th class=\"col_heading level1 col1\" >box_office_mln</th>    </tr>    <tr>        <th class=\"index_name level0\" >year_release</th>        <th class=\"blank\" ></th>        <th class=\"blank\" ></th>    </tr></thead><tbody>\n",
       "                <tr>\n",
       "                        <th id=\"T_f0a648a8_f2c4_11eb_a641_02420a394444level0_row0\" class=\"row_heading level0 row0\" >2010</th>\n",
       "                        <td id=\"T_f0a648a8_f2c4_11eb_a641_02420a394444row0_col0\" class=\"data row0 col0\" >0.02313</td>\n",
       "                        <td id=\"T_f0a648a8_f2c4_11eb_a641_02420a394444row0_col1\" class=\"data row0 col1\" >0.0017</td>\n",
       "            </tr>\n",
       "            <tr>\n",
       "                        <th id=\"T_f0a648a8_f2c4_11eb_a641_02420a394444level0_row1\" class=\"row_heading level0 row1\" >2011</th>\n",
       "                        <td id=\"T_f0a648a8_f2c4_11eb_a641_02420a394444row1_col0\" class=\"data row1 col0\" >0.129383</td>\n",
       "                        <td id=\"T_f0a648a8_f2c4_11eb_a641_02420a394444row1_col1\" class=\"data row1 col1\" >0.003</td>\n",
       "            </tr>\n",
       "            <tr>\n",
       "                        <th id=\"T_f0a648a8_f2c4_11eb_a641_02420a394444level0_row2\" class=\"row_heading level0 row2\" >2012</th>\n",
       "                        <td id=\"T_f0a648a8_f2c4_11eb_a641_02420a394444row2_col0\" class=\"data row2 col0\" >0.0544179</td>\n",
       "                        <td id=\"T_f0a648a8_f2c4_11eb_a641_02420a394444row2_col1\" class=\"data row2 col1\" >0.00556</td>\n",
       "            </tr>\n",
       "            <tr>\n",
       "                        <th id=\"T_f0a648a8_f2c4_11eb_a641_02420a394444level0_row3\" class=\"row_heading level0 row3\" >2013</th>\n",
       "                        <td id=\"T_f0a648a8_f2c4_11eb_a641_02420a394444row3_col0\" class=\"data row3 col0\" >0.161955</td>\n",
       "                        <td id=\"T_f0a648a8_f2c4_11eb_a641_02420a394444row3_col1\" class=\"data row3 col1\" >0.0035225</td>\n",
       "            </tr>\n",
       "            <tr>\n",
       "                        <th id=\"T_f0a648a8_f2c4_11eb_a641_02420a394444level0_row4\" class=\"row_heading level0 row4\" >2014</th>\n",
       "                        <td id=\"T_f0a648a8_f2c4_11eb_a641_02420a394444row4_col0\" class=\"data row4 col0\" >26.6844</td>\n",
       "                        <td id=\"T_f0a648a8_f2c4_11eb_a641_02420a394444row4_col1\" class=\"data row4 col1\" >0.01816</td>\n",
       "            </tr>\n",
       "            <tr>\n",
       "                        <th id=\"T_f0a648a8_f2c4_11eb_a641_02420a394444level0_row5\" class=\"row_heading level0 row5\" >2015</th>\n",
       "                        <td id=\"T_f0a648a8_f2c4_11eb_a641_02420a394444row5_col0\" class=\"data row5 col0\" >85.1236</td>\n",
       "                        <td id=\"T_f0a648a8_f2c4_11eb_a641_02420a394444row5_col1\" class=\"data row5 col1\" >4.94675</td>\n",
       "            </tr>\n",
       "            <tr>\n",
       "                        <th id=\"T_f0a648a8_f2c4_11eb_a641_02420a394444level0_row6\" class=\"row_heading level0 row6\" >2016</th>\n",
       "                        <td id=\"T_f0a648a8_f2c4_11eb_a641_02420a394444row6_col0\" class=\"data row6 col0\" >91.0006</td>\n",
       "                        <td id=\"T_f0a648a8_f2c4_11eb_a641_02420a394444row6_col1\" class=\"data row6 col1\" >3.84668</td>\n",
       "            </tr>\n",
       "            <tr>\n",
       "                        <th id=\"T_f0a648a8_f2c4_11eb_a641_02420a394444level0_row7\" class=\"row_heading level0 row7\" >2017</th>\n",
       "                        <td id=\"T_f0a648a8_f2c4_11eb_a641_02420a394444row7_col0\" class=\"data row7 col0\" >136.033</td>\n",
       "                        <td id=\"T_f0a648a8_f2c4_11eb_a641_02420a394444row7_col1\" class=\"data row7 col1\" >9.96834</td>\n",
       "            </tr>\n",
       "            <tr>\n",
       "                        <th id=\"T_f0a648a8_f2c4_11eb_a641_02420a394444level0_row8\" class=\"row_heading level0 row8\" >2018</th>\n",
       "                        <td id=\"T_f0a648a8_f2c4_11eb_a641_02420a394444row8_col0\" class=\"data row8 col0\" >104.565</td>\n",
       "                        <td id=\"T_f0a648a8_f2c4_11eb_a641_02420a394444row8_col1\" class=\"data row8 col1\" >8.8911</td>\n",
       "            </tr>\n",
       "            <tr>\n",
       "                        <th id=\"T_f0a648a8_f2c4_11eb_a641_02420a394444level0_row9\" class=\"row_heading level0 row9\" >2019</th>\n",
       "                        <td id=\"T_f0a648a8_f2c4_11eb_a641_02420a394444row9_col0\" class=\"data row9 col0\" >91.3693</td>\n",
       "                        <td id=\"T_f0a648a8_f2c4_11eb_a641_02420a394444row9_col1\" class=\"data row9 col1\" >4.6278</td>\n",
       "            </tr>\n",
       "    </tbody></table>"
      ],
      "text/plain": [
       "<pandas.io.formats.style.Styler at 0x7fb08927f8d0>"
      ]
     },
     "metadata": {},
     "output_type": "display_data"
    }
   ],
   "source": [
    "# посчитаем среднюю сумму сборов (в миллионах)\n",
    "df['box_office_mln']=(df['box_office']/1000000) # переведём в миллионы\n",
    "print('Средняя сумма сборов по годам')\n",
    "display(df.loc[df['box_office_mln'].isna()==False]\\\n",
    "        .pivot_table(index='year_release',values='box_office_mln',aggfunc=['mean','median'])\\\n",
    "        .style.highlight_max (color = '#952895'). highlight_min (color = '#F09EF0'))"
   ]
  },
  {
   "cell_type": "markdown",
   "metadata": {},
   "source": [
    "Не смотря на то, что в 2010 году сняли наибольшее количество фильмов, прокат этих фильмов собрал наименьшую сумму, а 2017 году, наибольшую, хотя было снято наименьшее число фильмов."
   ]
  },
  {
   "cell_type": "markdown",
   "metadata": {
    "id": "Ok89WFwJgFyZ"
   },
   "source": [
    "- Определим, влияет ли возрастное ограничение аудитории («6+», «12+», «16+», «18+» и т. д.) на сборы фильма в прокате в период с 2015 по 2019 год. Выясним, фильмы с каким возрастным ограничением собрали больше всего денег в прокате; меняется ли картина в зависимости от года (попробуем предположить,  с чем это может быть связано)."
   ]
  },
  {
   "cell_type": "code",
   "execution_count": 112,
   "metadata": {
    "id": "jsSbEqfjgFya"
   },
   "outputs": [
    {
     "data": {
      "text/plain": [
       "Text(0.5, 1, 'Связь возрастных ограничений со сборами фильма')"
      ]
     },
     "execution_count": 112,
     "metadata": {},
     "output_type": "execute_result"
    },
    {
     "data": {
      "image/png": "[encoded data removed]",
      "text/plain": [
       "<Figure size 936x504 with 2 Axes>"
      ]
     },
     "metadata": {
      "needs_background": "light"
     },
     "output_type": "display_data"
    }
   ],
   "source": [
    "# изучим связь возрастных ограничений и сборов фильма в прокате\n",
    "\n",
    "plt.figure(figsize=(13, 7))\n",
    "\n",
    "\n",
    "df_from_heatmap=df.loc[df['year_release']>=2015]\\\n",
    ".pivot_table(index='age_restriction',columns='year_release',values='box_office_mln',aggfunc='sum')\n",
    "\n",
    "sns.heatmap(df_from_heatmap,\n",
    "            linewidths=0.5,\n",
    "            annot_kws={'fontsize':14},\n",
    "            fmt='.7g',\n",
    "            square=False,\n",
    "            annot=True).set_title('Связь возрастных ограничений со сборами фильма')\n"
   ]
  },
  {
   "cell_type": "markdown",
   "metadata": {},
   "source": [
    "Как видно из хитмепа, меньше всего собирают фильмы с возрастным ограничением 0+ (возможно одна из причин  - это льготные билеты, в этой категории как правило снимаются мультфильмы и детские фильмы, зрительская аудитория в возрасте до 6 лет и школьники чаще всего имеют льготы на покупку билетов)\n",
    "Также можно предположить, что категория 16+ - наиболее выгодная с точки зрения сборов фильма (учащиеся старших классов), следующая возрастная категримя - 18+ - студенты и взрослые которые , судя по хитмепу, более неохотно покупают билеты в кино."
   ]
  },
  {
   "cell_type": "code",
   "execution_count": 113,
   "metadata": {
    "id": "jsSbEqfjgFya"
   },
   "outputs": [
    {
     "data": {
      "text/plain": [
       "<matplotlib.axes._subplots.AxesSubplot at 0x7fb08a495590>"
      ]
     },
     "execution_count": 113,
     "metadata": {},
     "output_type": "execute_result"
    },
    {
     "data": {
      "image/png": "[encoded data removed]",
      "text/plain": [
       "<Figure size 1152x648 with 1 Axes>"
      ]
     },
     "metadata": {
      "needs_background": "light"
     },
     "output_type": "display_data"
    }
   ],
   "source": [
    "# рассмотрим зависимость сборов от возрастной категории на графике\n",
    "#plt.figure(figsize=(25,15))\n",
    "df.loc[df['year_release']>=2015]\\\n",
    ".pivot_table(index='age_restriction',columns='year_release',values='box_office_mln',aggfunc='sum').plot(\n",
    "    grid=True,\n",
    "    title='Зависимость сборов от возрастной категории',\n",
    "    figsize=(16,9)\n",
    ")"
   ]
  },
  {
   "cell_type": "markdown",
   "metadata": {},
   "source": [
    "Судя по сборам, в прокате лидируют фильмы с возрастным ограничением 16+, исключение составляет 2015 год, возможно, следует изучить вышедшие в 2017 году фильмы и изменения в рекомендациях возрастных ограничесний, принятые в 2015-2017 году. "
   ]
  },
  {
   "cell_type": "code",
   "execution_count": 114,
   "metadata": {},
   "outputs": [
    {
     "data": {
      "text/html": [
       "<div>\n",
       "<style scoped>\n",
       "    .dataframe tbody tr th:only-of-type {\n",
       "        vertical-align: middle;\n",
       "    }\n",
       "\n",
       "    .dataframe tbody tr th {\n",
       "        vertical-align: top;\n",
       "    }\n",
       "\n",
       "    .dataframe thead th {\n",
       "        text-align: right;\n",
       "    }\n",
       "</style>\n",
       "<table border=\"1\" class=\"dataframe\">\n",
       "  <thead>\n",
       "    <tr style=\"text-align: right;\">\n",
       "      <th></th>\n",
       "      <th>puNumber</th>\n",
       "      <th>box_office</th>\n",
       "      <th>title</th>\n",
       "      <th>show_start_date</th>\n",
       "      <th>type</th>\n",
       "      <th>film_studio</th>\n",
       "      <th>production_country</th>\n",
       "      <th>director</th>\n",
       "      <th>producer</th>\n",
       "      <th>age_restriction</th>\n",
       "      <th>...</th>\n",
       "      <th>nonrefundable_support</th>\n",
       "      <th>budget</th>\n",
       "      <th>financing_source</th>\n",
       "      <th>ratings</th>\n",
       "      <th>genres</th>\n",
       "      <th>year_release</th>\n",
       "      <th>main_director</th>\n",
       "      <th>main_genre</th>\n",
       "      <th>share_of_budget</th>\n",
       "      <th>box_office_mln</th>\n",
       "    </tr>\n",
       "  </thead>\n",
       "  <tbody>\n",
       "    <tr>\n",
       "      <td>533</td>\n",
       "      <td>111011817.0</td>\n",
       "      <td>2.779686e+09</td>\n",
       "      <td>Движение вверх</td>\n",
       "      <td>2017-12-21 12:00:00+00:00</td>\n",
       "      <td>Художественный</td>\n",
       "      <td>ООО \"Студия \"ТРИТЭ\" Никиты Михалкова\"</td>\n",
       "      <td>Россия</td>\n",
       "      <td>А.Мегердичев</td>\n",
       "      <td>Л.Верещагин, А.Златопольский, Н.Михалков, ООО ...</td>\n",
       "      <td>«6+» - для детей старше 6 лет</td>\n",
       "      <td>...</td>\n",
       "      <td>400000000.0</td>\n",
       "      <td>590192191.0</td>\n",
       "      <td>Фонд кино</td>\n",
       "      <td>7.5</td>\n",
       "      <td>спорт,драма</td>\n",
       "      <td>2017</td>\n",
       "      <td>А.Мегердичев</td>\n",
       "      <td>спорт</td>\n",
       "      <td>0.677745</td>\n",
       "      <td>2779.686144</td>\n",
       "    </tr>\n",
       "    <tr>\n",
       "      <td>1377</td>\n",
       "      <td>121009217.0</td>\n",
       "      <td>2.118396e+09</td>\n",
       "      <td>Пираты Карибского моря: Мертвецы не рассказыва...</td>\n",
       "      <td>2017-05-17 12:00:00+00:00</td>\n",
       "      <td>Художественный</td>\n",
       "      <td>Джерри Брукхаймер Филмз, Уолт Дисней Пикчерз, ...</td>\n",
       "      <td>США</td>\n",
       "      <td>Йоаким Реннинг, Эспен Сандберг</td>\n",
       "      <td>Джерри Брукхаймер</td>\n",
       "      <td>«16+» - для детей старше 16 лет</td>\n",
       "      <td>...</td>\n",
       "      <td>NaN</td>\n",
       "      <td>NaN</td>\n",
       "      <td>NaN</td>\n",
       "      <td>6.6</td>\n",
       "      <td>фэнтези,боевик,комедия</td>\n",
       "      <td>2017</td>\n",
       "      <td>Йоаким Реннинг</td>\n",
       "      <td>фэнтези</td>\n",
       "      <td>0.000000</td>\n",
       "      <td>2118.396119</td>\n",
       "    </tr>\n",
       "    <tr>\n",
       "      <td>336</td>\n",
       "      <td>111007017.0</td>\n",
       "      <td>1.655038e+09</td>\n",
       "      <td>Последний богатырь</td>\n",
       "      <td>2017-10-19 12:00:00+00:00</td>\n",
       "      <td>Художественный</td>\n",
       "      <td>ООО \"Киностудия \"Слово\" по заказу ООО \"Уолт Ди...</td>\n",
       "      <td>Россия</td>\n",
       "      <td>Д.Дьяченко</td>\n",
       "      <td>Э.Илоян, Д.Жалинский, М.Озкан, А.Троцюк, В.Шляппо</td>\n",
       "      <td>«12+» - для детей старше 12 лет</td>\n",
       "      <td>...</td>\n",
       "      <td>50000000.0</td>\n",
       "      <td>352477575.0</td>\n",
       "      <td>Фонд кино</td>\n",
       "      <td>6.8</td>\n",
       "      <td>комедия,фэнтези,приключения</td>\n",
       "      <td>2017</td>\n",
       "      <td>Д.Дьяченко</td>\n",
       "      <td>комедия</td>\n",
       "      <td>0.283706</td>\n",
       "      <td>1655.037688</td>\n",
       "    </tr>\n",
       "    <tr>\n",
       "      <td>1325</td>\n",
       "      <td>121008117.0</td>\n",
       "      <td>1.468780e+09</td>\n",
       "      <td>Стражи Галактики. Часть 2</td>\n",
       "      <td>2017-04-27 12:00:00+00:00</td>\n",
       "      <td>Художественный</td>\n",
       "      <td>Марвел Студиос, Уолт Дисней Пикчерз</td>\n",
       "      <td>США</td>\n",
       "      <td>Джеймс Ганн</td>\n",
       "      <td>Кевин Фейги</td>\n",
       "      <td>«16+» - для детей старше 16 лет</td>\n",
       "      <td>...</td>\n",
       "      <td>NaN</td>\n",
       "      <td>NaN</td>\n",
       "      <td>NaN</td>\n",
       "      <td>7.6</td>\n",
       "      <td>фантастика,боевик,приключения</td>\n",
       "      <td>2017</td>\n",
       "      <td>Джеймс Ганн</td>\n",
       "      <td>фантастика</td>\n",
       "      <td>0.000000</td>\n",
       "      <td>1468.779681</td>\n",
       "    </tr>\n",
       "    <tr>\n",
       "      <td>1199</td>\n",
       "      <td>121005617.0</td>\n",
       "      <td>1.429977e+09</td>\n",
       "      <td>Форсаж 8</td>\n",
       "      <td>2017-04-03 12:00:00+00:00</td>\n",
       "      <td>Художественный</td>\n",
       "      <td>Итака Филмз, Уан Рейс Филмз, Ориджинал Фильм</td>\n",
       "      <td>США</td>\n",
       "      <td>Ф.Гэри Грей</td>\n",
       "      <td>Вин Дизель, Нил Х.Мориц, Майкл Фоттрел</td>\n",
       "      <td>«12+» - для детей старше 12 лет</td>\n",
       "      <td>...</td>\n",
       "      <td>NaN</td>\n",
       "      <td>NaN</td>\n",
       "      <td>NaN</td>\n",
       "      <td>6.2</td>\n",
       "      <td>боевик,триллер,криминал</td>\n",
       "      <td>2017</td>\n",
       "      <td>Ф.Гэри Грей</td>\n",
       "      <td>боевик</td>\n",
       "      <td>0.000000</td>\n",
       "      <td>1429.976813</td>\n",
       "    </tr>\n",
       "  </tbody>\n",
       "</table>\n",
       "<p>5 rows × 21 columns</p>\n",
       "</div>"
      ],
      "text/plain": [
       "         puNumber    box_office  \\\n",
       "533   111011817.0  2.779686e+09   \n",
       "1377  121009217.0  2.118396e+09   \n",
       "336   111007017.0  1.655038e+09   \n",
       "1325  121008117.0  1.468780e+09   \n",
       "1199  121005617.0  1.429977e+09   \n",
       "\n",
       "                                                  title  \\\n",
       "533                                      Движение вверх   \n",
       "1377  Пираты Карибского моря: Мертвецы не рассказыва...   \n",
       "336                                  Последний богатырь   \n",
       "1325                          Стражи Галактики. Часть 2   \n",
       "1199                                           Форсаж 8   \n",
       "\n",
       "               show_start_date            type  \\\n",
       "533  2017-12-21 12:00:00+00:00  Художественный   \n",
       "1377 2017-05-17 12:00:00+00:00  Художественный   \n",
       "336  2017-10-19 12:00:00+00:00  Художественный   \n",
       "1325 2017-04-27 12:00:00+00:00  Художественный   \n",
       "1199 2017-04-03 12:00:00+00:00  Художественный   \n",
       "\n",
       "                                            film_studio production_country  \\\n",
       "533               ООО \"Студия \"ТРИТЭ\" Никиты Михалкова\"             Россия   \n",
       "1377  Джерри Брукхаймер Филмз, Уолт Дисней Пикчерз, ...                США   \n",
       "336   ООО \"Киностудия \"Слово\" по заказу ООО \"Уолт Ди...             Россия   \n",
       "1325                Марвел Студиос, Уолт Дисней Пикчерз                США   \n",
       "1199       Итака Филмз, Уан Рейс Филмз, Ориджинал Фильм                США   \n",
       "\n",
       "                            director  \\\n",
       "533                     А.Мегердичев   \n",
       "1377  Йоаким Реннинг, Эспен Сандберг   \n",
       "336                       Д.Дьяченко   \n",
       "1325                     Джеймс Ганн   \n",
       "1199                     Ф.Гэри Грей   \n",
       "\n",
       "                                               producer  \\\n",
       "533   Л.Верещагин, А.Златопольский, Н.Михалков, ООО ...   \n",
       "1377                                  Джерри Брукхаймер   \n",
       "336   Э.Илоян, Д.Жалинский, М.Озкан, А.Троцюк, В.Шляппо   \n",
       "1325                                        Кевин Фейги   \n",
       "1199             Вин Дизель, Нил Х.Мориц, Майкл Фоттрел   \n",
       "\n",
       "                      age_restriction  ...  nonrefundable_support  \\\n",
       "533     «6+» - для детей старше 6 лет  ...            400000000.0   \n",
       "1377  «16+» - для детей старше 16 лет  ...                    NaN   \n",
       "336   «12+» - для детей старше 12 лет  ...             50000000.0   \n",
       "1325  «16+» - для детей старше 16 лет  ...                    NaN   \n",
       "1199  «12+» - для детей старше 12 лет  ...                    NaN   \n",
       "\n",
       "           budget  financing_source ratings                         genres  \\\n",
       "533   590192191.0         Фонд кино     7.5                    спорт,драма   \n",
       "1377          NaN               NaN     6.6         фэнтези,боевик,комедия   \n",
       "336   352477575.0         Фонд кино     6.8    комедия,фэнтези,приключения   \n",
       "1325          NaN               NaN     7.6  фантастика,боевик,приключения   \n",
       "1199          NaN               NaN     6.2        боевик,триллер,криминал   \n",
       "\n",
       "     year_release   main_director  main_genre share_of_budget  box_office_mln  \n",
       "533          2017    А.Мегердичев       спорт        0.677745     2779.686144  \n",
       "1377         2017  Йоаким Реннинг     фэнтези        0.000000     2118.396119  \n",
       "336          2017      Д.Дьяченко     комедия        0.283706     1655.037688  \n",
       "1325         2017     Джеймс Ганн  фантастика        0.000000     1468.779681  \n",
       "1199         2017     Ф.Гэри Грей      боевик        0.000000     1429.976813  \n",
       "\n",
       "[5 rows x 21 columns]"
      ]
     },
     "execution_count": 114,
     "metadata": {},
     "output_type": "execute_result"
    }
   ],
   "source": [
    "df.loc[df['year_release']==2017].sort_values(by='box_office',ascending=False).head()"
   ]
  },
  {
   "cell_type": "markdown",
   "metadata": {
    "id": "l_Kg6Ku4gFya"
   },
   "source": [
    "### Шаг 4. Исследуем фильмы, которые получили государственную поддержку"
   ]
  },
  {
   "cell_type": "markdown",
   "metadata": {
    "id": "W9QKpjUdgFyb"
   },
   "source": [
    "Исследуем фильмы, которые получили государственную поддержку, для этого все фильмы, для которых есть данные о размерах государственной поддержки мы поместим в отдельную таблицу."
   ]
  },
  {
   "cell_type": "code",
   "execution_count": 115,
   "metadata": {},
   "outputs": [
    {
     "name": "stdout",
     "output_type": "stream",
     "text": [
      "<class 'pandas.core.frame.DataFrame'>\n",
      "Int64Index: 332 entries, 1 to 7479\n",
      "Data columns (total 21 columns):\n",
      "puNumber                 332 non-null float64\n",
      "box_office               318 non-null float64\n",
      "title                    332 non-null object\n",
      "show_start_date          332 non-null datetime64[ns, UTC]\n",
      "type                     332 non-null object\n",
      "film_studio              332 non-null object\n",
      "production_country       332 non-null object\n",
      "director                 332 non-null object\n",
      "producer                 330 non-null object\n",
      "age_restriction          332 non-null object\n",
      "refundable_support       332 non-null float64\n",
      "nonrefundable_support    332 non-null float64\n",
      "budget                   332 non-null float64\n",
      "financing_source         332 non-null object\n",
      "ratings                  332 non-null float64\n",
      "genres                   316 non-null object\n",
      "year_release             332 non-null int64\n",
      "main_director            332 non-null object\n",
      "main_genre               332 non-null object\n",
      "share_of_budget          332 non-null float64\n",
      "box_office_mln           318 non-null float64\n",
      "dtypes: datetime64[ns, UTC](1), float64(8), int64(1), object(11)\n",
      "memory usage: 57.1+ KB\n"
     ]
    }
   ],
   "source": [
    "df_gov_sup=df.loc[(df['refundable_support'].isna()==False)&(df['nonrefundable_support'].isna()==False)&(df['budget'].isna()==False)&(df['financing_source'].isna()==False)]\n",
    "df_gov_sup.info()"
   ]
  },
  {
   "cell_type": "markdown",
   "metadata": {},
   "source": [
    "Изучим данные и рассмотрим:\n",
    "\n",
    "1) Какую часть фильмов финансирует Фонд кино, а какую Министерство культуры\n",
    "\n",
    "2) Какие фильмы приносят больше сборов, иговые (Фонд кино) или документальные , детские и т. д. (Министерство культуры)\n",
    "\n",
    "3) Какие фильмы окупаются в прокате в зависимости от жанра\n",
    "\n",
    "4) Изучим рейтинг фильмов и его связь с жанром и окупаемостью."
   ]
  },
  {
   "cell_type": "code",
   "execution_count": 116,
   "metadata": {},
   "outputs": [
    {
     "data": {
      "text/html": [
       "<div>\n",
       "<style scoped>\n",
       "    .dataframe tbody tr th:only-of-type {\n",
       "        vertical-align: middle;\n",
       "    }\n",
       "\n",
       "    .dataframe tbody tr th {\n",
       "        vertical-align: top;\n",
       "    }\n",
       "\n",
       "    .dataframe thead th {\n",
       "        text-align: right;\n",
       "    }\n",
       "</style>\n",
       "<table border=\"1\" class=\"dataframe\">\n",
       "  <thead>\n",
       "    <tr style=\"text-align: right;\">\n",
       "      <th></th>\n",
       "      <th>title</th>\n",
       "    </tr>\n",
       "    <tr>\n",
       "      <th>financing_source</th>\n",
       "      <th></th>\n",
       "    </tr>\n",
       "  </thead>\n",
       "  <tbody>\n",
       "    <tr>\n",
       "      <td>Министерство культуры</td>\n",
       "      <td>164</td>\n",
       "    </tr>\n",
       "    <tr>\n",
       "      <td>Министерство культуры, Фонд кино</td>\n",
       "      <td>22</td>\n",
       "    </tr>\n",
       "    <tr>\n",
       "      <td>Фонд кино</td>\n",
       "      <td>146</td>\n",
       "    </tr>\n",
       "  </tbody>\n",
       "</table>\n",
       "</div>"
      ],
      "text/plain": [
       "                                  title\n",
       "financing_source                       \n",
       "Министерство культуры               164\n",
       "Министерство культуры, Фонд кино     22\n",
       "Фонд кино                           146"
      ]
     },
     "execution_count": 116,
     "metadata": {},
     "output_type": "execute_result"
    }
   ],
   "source": [
    "# изучим какую часть фильмов финансирует Фонд кино, а какую Министерство культуры\n",
    "df_gov_sup.pivot_table(index='financing_source',values='title',aggfunc='count')"
   ]
  },
  {
   "cell_type": "markdown",
   "metadata": {},
   "source": [
    "Как видно финансируется примерно одинаковое количество фильмов, при этом совместные проекты - в меньшинстве. Однако мы располагаем небольшим количеством записей для того, чтобы утвержадть это достоверно. Добавим данные по годам."
   ]
  },
  {
   "cell_type": "code",
   "execution_count": 117,
   "metadata": {},
   "outputs": [
    {
     "data": {
      "text/html": [
       "<div>\n",
       "<style scoped>\n",
       "    .dataframe tbody tr th:only-of-type {\n",
       "        vertical-align: middle;\n",
       "    }\n",
       "\n",
       "    .dataframe tbody tr th {\n",
       "        vertical-align: top;\n",
       "    }\n",
       "\n",
       "    .dataframe thead th {\n",
       "        text-align: right;\n",
       "    }\n",
       "</style>\n",
       "<table border=\"1\" class=\"dataframe\">\n",
       "  <thead>\n",
       "    <tr style=\"text-align: right;\">\n",
       "      <th>year_release</th>\n",
       "      <th>2013</th>\n",
       "      <th>2014</th>\n",
       "      <th>2015</th>\n",
       "      <th>2016</th>\n",
       "      <th>2017</th>\n",
       "      <th>2018</th>\n",
       "      <th>2019</th>\n",
       "    </tr>\n",
       "    <tr>\n",
       "      <th>financing_source</th>\n",
       "      <th></th>\n",
       "      <th></th>\n",
       "      <th></th>\n",
       "      <th></th>\n",
       "      <th></th>\n",
       "      <th></th>\n",
       "      <th></th>\n",
       "    </tr>\n",
       "  </thead>\n",
       "  <tbody>\n",
       "    <tr>\n",
       "      <td>Министерство культуры</td>\n",
       "      <td>1.0</td>\n",
       "      <td>8.0</td>\n",
       "      <td>41.0</td>\n",
       "      <td>27.0</td>\n",
       "      <td>14.0</td>\n",
       "      <td>28.0</td>\n",
       "      <td>45.0</td>\n",
       "    </tr>\n",
       "    <tr>\n",
       "      <td>Министерство культуры, Фонд кино</td>\n",
       "      <td>NaN</td>\n",
       "      <td>3.0</td>\n",
       "      <td>8.0</td>\n",
       "      <td>6.0</td>\n",
       "      <td>2.0</td>\n",
       "      <td>1.0</td>\n",
       "      <td>2.0</td>\n",
       "    </tr>\n",
       "    <tr>\n",
       "      <td>Фонд кино</td>\n",
       "      <td>1.0</td>\n",
       "      <td>5.0</td>\n",
       "      <td>37.0</td>\n",
       "      <td>28.0</td>\n",
       "      <td>25.0</td>\n",
       "      <td>27.0</td>\n",
       "      <td>23.0</td>\n",
       "    </tr>\n",
       "  </tbody>\n",
       "</table>\n",
       "</div>"
      ],
      "text/plain": [
       "year_release                      2013  2014  2015  2016  2017  2018  2019\n",
       "financing_source                                                          \n",
       "Министерство культуры              1.0   8.0  41.0  27.0  14.0  28.0  45.0\n",
       "Министерство культуры, Фонд кино   NaN   3.0   8.0   6.0   2.0   1.0   2.0\n",
       "Фонд кино                          1.0   5.0  37.0  28.0  25.0  27.0  23.0"
      ]
     },
     "metadata": {},
     "output_type": "display_data"
    },
    {
     "data": {
      "text/plain": [
       "<matplotlib.axes._subplots.AxesSubplot at 0x7fb08a528850>"
      ]
     },
     "metadata": {},
     "output_type": "display_data"
    },
    {
     "data": {
      "image/png": "[encoded data removed]",
      "text/plain": [
       "<Figure size 1008x648 with 1 Axes>"
      ]
     },
     "metadata": {
      "needs_background": "light"
     },
     "output_type": "display_data"
    }
   ],
   "source": [
    "# изучим какую часть фильмов финансирует Фонд кино, а какую Министерство культуры\n",
    "display(df_gov_sup.pivot_table(index='financing_source',columns='year_release',values='title',aggfunc='count'))\n",
    "display(df_gov_sup.pivot_table(index='year_release',columns='financing_source',values='title',aggfunc='count').plot(\n",
    "    grid=True,\n",
    "    title='Фильмы снятые при поддержке Фонда кино и Министерства культуры',\n",
    "    figsize=(14,9)\n",
    "))\n"
   ]
  },
  {
   "cell_type": "markdown",
   "metadata": {},
   "source": [
    "Такая тенденция сохраняется и по годам, но в 2017 году Фонд кино финансировал больше фильмов, возможно с этим связано наибольшее количество сборов, аудитория предпочитает игровое кино."
   ]
  },
  {
   "cell_type": "code",
   "execution_count": 118,
   "metadata": {},
   "outputs": [
    {
     "data": {
      "text/html": [
       "<style  type=\"text/css\" >\n",
       "    #T_f1ea8238_f2c4_11eb_a641_02420a394444row0_col0 {\n",
       "            : ;\n",
       "            background-color:  #F09EF0;\n",
       "        }    #T_f1ea8238_f2c4_11eb_a641_02420a394444row0_col1 {\n",
       "            : ;\n",
       "            background-color:  #F09EF0;\n",
       "        }    #T_f1ea8238_f2c4_11eb_a641_02420a394444row1_col2 {\n",
       "            : ;\n",
       "            background-color:  #F09EF0;\n",
       "        }    #T_f1ea8238_f2c4_11eb_a641_02420a394444row1_col3 {\n",
       "            : ;\n",
       "            background-color:  #F09EF0;\n",
       "        }    #T_f1ea8238_f2c4_11eb_a641_02420a394444row1_col4 {\n",
       "            : ;\n",
       "            background-color:  #F09EF0;\n",
       "        }    #T_f1ea8238_f2c4_11eb_a641_02420a394444row1_col5 {\n",
       "            : ;\n",
       "            background-color:  #F09EF0;\n",
       "        }    #T_f1ea8238_f2c4_11eb_a641_02420a394444row1_col6 {\n",
       "            : ;\n",
       "            background-color:  #F09EF0;\n",
       "        }    #T_f1ea8238_f2c4_11eb_a641_02420a394444row2_col0 {\n",
       "            background-color:  #952895;\n",
       "            : ;\n",
       "        }    #T_f1ea8238_f2c4_11eb_a641_02420a394444row2_col1 {\n",
       "            background-color:  #952895;\n",
       "            : ;\n",
       "        }    #T_f1ea8238_f2c4_11eb_a641_02420a394444row2_col2 {\n",
       "            background-color:  #952895;\n",
       "            : ;\n",
       "        }    #T_f1ea8238_f2c4_11eb_a641_02420a394444row2_col3 {\n",
       "            background-color:  #952895;\n",
       "            : ;\n",
       "        }    #T_f1ea8238_f2c4_11eb_a641_02420a394444row2_col4 {\n",
       "            background-color:  #952895;\n",
       "            : ;\n",
       "        }    #T_f1ea8238_f2c4_11eb_a641_02420a394444row2_col5 {\n",
       "            background-color:  #952895;\n",
       "            : ;\n",
       "        }    #T_f1ea8238_f2c4_11eb_a641_02420a394444row2_col6 {\n",
       "            background-color:  #952895;\n",
       "            : ;\n",
       "        }</style><table id=\"T_f1ea8238_f2c4_11eb_a641_02420a394444\" ><thead>    <tr>        <th class=\"index_name level0\" >year_release</th>        <th class=\"col_heading level0 col0\" >2013</th>        <th class=\"col_heading level0 col1\" >2014</th>        <th class=\"col_heading level0 col2\" >2015</th>        <th class=\"col_heading level0 col3\" >2016</th>        <th class=\"col_heading level0 col4\" >2017</th>        <th class=\"col_heading level0 col5\" >2018</th>        <th class=\"col_heading level0 col6\" >2019</th>    </tr>    <tr>        <th class=\"index_name level0\" >financing_source</th>        <th class=\"blank\" ></th>        <th class=\"blank\" ></th>        <th class=\"blank\" ></th>        <th class=\"blank\" ></th>        <th class=\"blank\" ></th>        <th class=\"blank\" ></th>        <th class=\"blank\" ></th>    </tr></thead><tbody>\n",
       "                <tr>\n",
       "                        <th id=\"T_f1ea8238_f2c4_11eb_a641_02420a394444level0_row0\" class=\"row_heading level0 row0\" >Министерство культуры</th>\n",
       "                        <td id=\"T_f1ea8238_f2c4_11eb_a641_02420a394444row0_col0\" class=\"data row0 col0\" >0.365354</td>\n",
       "                        <td id=\"T_f1ea8238_f2c4_11eb_a641_02420a394444row0_col1\" class=\"data row0 col1\" >10.4971</td>\n",
       "                        <td id=\"T_f1ea8238_f2c4_11eb_a641_02420a394444row0_col2\" class=\"data row0 col2\" >564.352</td>\n",
       "                        <td id=\"T_f1ea8238_f2c4_11eb_a641_02420a394444row0_col3\" class=\"data row0 col3\" >844.912</td>\n",
       "                        <td id=\"T_f1ea8238_f2c4_11eb_a641_02420a394444row0_col4\" class=\"data row0 col4\" >280.144</td>\n",
       "                        <td id=\"T_f1ea8238_f2c4_11eb_a641_02420a394444row0_col5\" class=\"data row0 col5\" >1971.15</td>\n",
       "                        <td id=\"T_f1ea8238_f2c4_11eb_a641_02420a394444row0_col6\" class=\"data row0 col6\" >1650.6</td>\n",
       "            </tr>\n",
       "            <tr>\n",
       "                        <th id=\"T_f1ea8238_f2c4_11eb_a641_02420a394444level0_row1\" class=\"row_heading level0 row1\" >Министерство культуры, Фонд кино</th>\n",
       "                        <td id=\"T_f1ea8238_f2c4_11eb_a641_02420a394444row1_col0\" class=\"data row1 col0\" >nan</td>\n",
       "                        <td id=\"T_f1ea8238_f2c4_11eb_a641_02420a394444row1_col1\" class=\"data row1 col1\" >103.085</td>\n",
       "                        <td id=\"T_f1ea8238_f2c4_11eb_a641_02420a394444row1_col2\" class=\"data row1 col2\" >474.235</td>\n",
       "                        <td id=\"T_f1ea8238_f2c4_11eb_a641_02420a394444row1_col3\" class=\"data row1 col3\" >129.47</td>\n",
       "                        <td id=\"T_f1ea8238_f2c4_11eb_a641_02420a394444row1_col4\" class=\"data row1 col4\" >12.671</td>\n",
       "                        <td id=\"T_f1ea8238_f2c4_11eb_a641_02420a394444row1_col5\" class=\"data row1 col5\" >8.42537</td>\n",
       "                        <td id=\"T_f1ea8238_f2c4_11eb_a641_02420a394444row1_col6\" class=\"data row1 col6\" >77.451</td>\n",
       "            </tr>\n",
       "            <tr>\n",
       "                        <th id=\"T_f1ea8238_f2c4_11eb_a641_02420a394444level0_row2\" class=\"row_heading level0 row2\" >Фонд кино</th>\n",
       "                        <td id=\"T_f1ea8238_f2c4_11eb_a641_02420a394444row2_col0\" class=\"data row2 col0\" >19.957</td>\n",
       "                        <td id=\"T_f1ea8238_f2c4_11eb_a641_02420a394444row2_col1\" class=\"data row2 col1\" >903.84</td>\n",
       "                        <td id=\"T_f1ea8238_f2c4_11eb_a641_02420a394444row2_col2\" class=\"data row2 col2\" >4746.7</td>\n",
       "                        <td id=\"T_f1ea8238_f2c4_11eb_a641_02420a394444row2_col3\" class=\"data row2 col3\" >5107.33</td>\n",
       "                        <td id=\"T_f1ea8238_f2c4_11eb_a641_02420a394444row2_col4\" class=\"data row2 col4\" >10572.3</td>\n",
       "                        <td id=\"T_f1ea8238_f2c4_11eb_a641_02420a394444row2_col5\" class=\"data row2 col5\" >7954.49</td>\n",
       "                        <td id=\"T_f1ea8238_f2c4_11eb_a641_02420a394444row2_col6\" class=\"data row2 col6\" >6681.58</td>\n",
       "            </tr>\n",
       "    </tbody></table>"
      ],
      "text/plain": [
       "<pandas.io.formats.style.Styler at 0x7fb08a3b39d0>"
      ]
     },
     "metadata": {},
     "output_type": "display_data"
    },
    {
     "data": {
      "text/plain": [
       "<matplotlib.axes._subplots.AxesSubplot at 0x7fb08ca12bd0>"
      ]
     },
     "metadata": {},
     "output_type": "display_data"
    },
    {
     "data": {
      "image/png": "[encoded data removed]",
      "text/plain": [
       "<Figure size 1008x648 with 1 Axes>"
      ]
     },
     "metadata": {
      "needs_background": "light"
     },
     "output_type": "display_data"
    }
   ],
   "source": [
    "# оценим сборы фильмов\n",
    "display(df_gov_sup.pivot_table(index='financing_source',columns='year_release',values='box_office_mln',aggfunc='sum')\\\n",
    ".style.highlight_max (color = '#952895'). highlight_min (color = '#F09EF0'))\n",
    "display(df_gov_sup.pivot_table(index='year_release',columns='financing_source',values='box_office_mln',aggfunc='sum').plot(\n",
    "    grid=True,\n",
    "    title='Сборы фильмов, снятых при поддержке Фонда кино и Министерства культуры',\n",
    "    figsize=(14,9)\n",
    "))"
   ]
  },
  {
   "cell_type": "markdown",
   "metadata": {},
   "source": [
    "Судя по сборам, гипотеза о предпочтении аудитории игровых фильмов, подтверждается."
   ]
  },
  {
   "cell_type": "code",
   "execution_count": 119,
   "metadata": {},
   "outputs": [
    {
     "name": "stdout",
     "output_type": "stream",
     "text": [
      "Процент окупаемых фильмов составляет 16.867469879518072 %\n"
     ]
    }
   ],
   "source": [
    "# изучим какие фильмы окупаются в прокате \n",
    "# запишем срез в отдельную таблицу\n",
    "df_gov_sup_payback=df_gov_sup.loc[(df_gov_sup['box_office']>=(df_gov_sup['refundable_support']+df_gov_sup['nonrefundable_support']))&(df_gov_sup['refundable_support']!=0)&(df_gov_sup['nonrefundable_support']!=0)]\n",
    "# вычислим процент окупаемых фильмов\n",
    "\n",
    "ratio_payback_film=df_gov_sup_payback['title'].count()/df_gov_sup['title'].count()\n",
    "print('Процент окупаемых фильмов составляет', ratio_payback_film*100,'%')\n"
   ]
  },
  {
   "cell_type": "code",
   "execution_count": 120,
   "metadata": {},
   "outputs": [
    {
     "data": {
      "text/html": [
       "<style  type=\"text/css\" >\n",
       "    #T_f254f8ca_f2c4_11eb_a641_02420a394444row1_col0 {\n",
       "            : ;\n",
       "            background-color:  #F09EF0;\n",
       "        }    #T_f254f8ca_f2c4_11eb_a641_02420a394444row4_col0 {\n",
       "            background-color:  #952895;\n",
       "            : ;\n",
       "        }</style><table id=\"T_f254f8ca_f2c4_11eb_a641_02420a394444\" ><thead>    <tr>        <th class=\"blank level0\" ></th>        <th class=\"col_heading level0 col0\" >box_office_mln</th>    </tr>    <tr>        <th class=\"index_name level0\" >main_genre</th>        <th class=\"blank\" ></th>    </tr></thead><tbody>\n",
       "                <tr>\n",
       "                        <th id=\"T_f254f8ca_f2c4_11eb_a641_02420a394444level0_row0\" class=\"row_heading level0 row0\" >боевик</th>\n",
       "                        <td id=\"T_f254f8ca_f2c4_11eb_a641_02420a394444row0_col0\" class=\"data row0 col0\" >196.572</td>\n",
       "            </tr>\n",
       "            <tr>\n",
       "                        <th id=\"T_f254f8ca_f2c4_11eb_a641_02420a394444level0_row1\" class=\"row_heading level0 row1\" >детектив</th>\n",
       "                        <td id=\"T_f254f8ca_f2c4_11eb_a641_02420a394444row1_col0\" class=\"data row1 col0\" >72.5783</td>\n",
       "            </tr>\n",
       "            <tr>\n",
       "                        <th id=\"T_f254f8ca_f2c4_11eb_a641_02420a394444level0_row2\" class=\"row_heading level0 row2\" >драма</th>\n",
       "                        <td id=\"T_f254f8ca_f2c4_11eb_a641_02420a394444row2_col0\" class=\"data row2 col0\" >4894.88</td>\n",
       "            </tr>\n",
       "            <tr>\n",
       "                        <th id=\"T_f254f8ca_f2c4_11eb_a641_02420a394444level0_row3\" class=\"row_heading level0 row3\" >история</th>\n",
       "                        <td id=\"T_f254f8ca_f2c4_11eb_a641_02420a394444row3_col0\" class=\"data row3 col0\" >1308.11</td>\n",
       "            </tr>\n",
       "            <tr>\n",
       "                        <th id=\"T_f254f8ca_f2c4_11eb_a641_02420a394444level0_row4\" class=\"row_heading level0 row4\" >комедия</th>\n",
       "                        <td id=\"T_f254f8ca_f2c4_11eb_a641_02420a394444row4_col0\" class=\"data row4 col0\" >8439.94</td>\n",
       "            </tr>\n",
       "            <tr>\n",
       "                        <th id=\"T_f254f8ca_f2c4_11eb_a641_02420a394444level0_row5\" class=\"row_heading level0 row5\" >криминал</th>\n",
       "                        <td id=\"T_f254f8ca_f2c4_11eb_a641_02420a394444row5_col0\" class=\"data row5 col0\" >228.578</td>\n",
       "            </tr>\n",
       "            <tr>\n",
       "                        <th id=\"T_f254f8ca_f2c4_11eb_a641_02420a394444level0_row6\" class=\"row_heading level0 row6\" >мультфильм</th>\n",
       "                        <td id=\"T_f254f8ca_f2c4_11eb_a641_02420a394444row6_col0\" class=\"data row6 col0\" >2205.34</td>\n",
       "            </tr>\n",
       "            <tr>\n",
       "                        <th id=\"T_f254f8ca_f2c4_11eb_a641_02420a394444level0_row7\" class=\"row_heading level0 row7\" >приключения</th>\n",
       "                        <td id=\"T_f254f8ca_f2c4_11eb_a641_02420a394444row7_col0\" class=\"data row7 col0\" >877.929</td>\n",
       "            </tr>\n",
       "            <tr>\n",
       "                        <th id=\"T_f254f8ca_f2c4_11eb_a641_02420a394444level0_row8\" class=\"row_heading level0 row8\" >семейный</th>\n",
       "                        <td id=\"T_f254f8ca_f2c4_11eb_a641_02420a394444row8_col0\" class=\"data row8 col0\" >153.47</td>\n",
       "            </tr>\n",
       "            <tr>\n",
       "                        <th id=\"T_f254f8ca_f2c4_11eb_a641_02420a394444level0_row9\" class=\"row_heading level0 row9\" >триллер</th>\n",
       "                        <td id=\"T_f254f8ca_f2c4_11eb_a641_02420a394444row9_col0\" class=\"data row9 col0\" >225.196</td>\n",
       "            </tr>\n",
       "            <tr>\n",
       "                        <th id=\"T_f254f8ca_f2c4_11eb_a641_02420a394444level0_row10\" class=\"row_heading level0 row10\" >ужасы</th>\n",
       "                        <td id=\"T_f254f8ca_f2c4_11eb_a641_02420a394444row10_col0\" class=\"data row10 col0\" >594.028</td>\n",
       "            </tr>\n",
       "            <tr>\n",
       "                        <th id=\"T_f254f8ca_f2c4_11eb_a641_02420a394444level0_row11\" class=\"row_heading level0 row11\" >фантастика</th>\n",
       "                        <td id=\"T_f254f8ca_f2c4_11eb_a641_02420a394444row11_col0\" class=\"data row11 col0\" >466.199</td>\n",
       "            </tr>\n",
       "            <tr>\n",
       "                        <th id=\"T_f254f8ca_f2c4_11eb_a641_02420a394444level0_row12\" class=\"row_heading level0 row12\" >фэнтези</th>\n",
       "                        <td id=\"T_f254f8ca_f2c4_11eb_a641_02420a394444row12_col0\" class=\"data row12 col0\" >785.522</td>\n",
       "            </tr>\n",
       "    </tbody></table>"
      ],
      "text/plain": [
       "<pandas.io.formats.style.Styler at 0x7fb08a347ed0>"
      ]
     },
     "execution_count": 120,
     "metadata": {},
     "output_type": "execute_result"
    }
   ],
   "source": [
    "df_gov_sup_payback.loc[df_gov_sup_payback['main_genre']!='nan'].pivot_table(index='main_genre',values='box_office_mln',aggfunc='sum')\\\n",
    ".style.highlight_max (color = '#952895'). highlight_min (color = '#F09EF0')"
   ]
  },
  {
   "cell_type": "markdown",
   "metadata": {},
   "source": [
    "Как видно из таблицы, комедии лидируют, меньше всего прибыли приносят детективы и семейные фильмы."
   ]
  },
  {
   "cell_type": "code",
   "execution_count": 121,
   "metadata": {},
   "outputs": [
    {
     "data": {
      "text/html": [
       "<style  type=\"text/css\" >\n",
       "    #T_f266b52e_f2c4_11eb_a641_02420a394444row0_col1 {\n",
       "            background-color:  #952895;\n",
       "            : ;\n",
       "        }    #T_f266b52e_f2c4_11eb_a641_02420a394444row25_col0 {\n",
       "            : ;\n",
       "            background-color:  #F09EF0;\n",
       "        }    #T_f266b52e_f2c4_11eb_a641_02420a394444row26_col1 {\n",
       "            : ;\n",
       "            background-color:  #F09EF0;\n",
       "        }    #T_f266b52e_f2c4_11eb_a641_02420a394444row27_col0 {\n",
       "            background-color:  #952895;\n",
       "            : ;\n",
       "        }    #T_f266b52e_f2c4_11eb_a641_02420a394444row27_col1 {\n",
       "            : ;\n",
       "            background-color:  #F09EF0;\n",
       "        }</style><table id=\"T_f266b52e_f2c4_11eb_a641_02420a394444\" ><thead>    <tr>        <th class=\"blank level0\" ></th>        <th class=\"col_heading level0 col0\" >mean_ratings</th>        <th class=\"col_heading level0 col1\" >count_ratings</th>    </tr>    <tr>        <th class=\"index_name level0\" >main_genre</th>        <th class=\"blank\" ></th>        <th class=\"blank\" ></th>    </tr></thead><tbody>\n",
       "                <tr>\n",
       "                        <th id=\"T_f266b52e_f2c4_11eb_a641_02420a394444level0_row0\" class=\"row_heading level0 row0\" >драма</th>\n",
       "                        <td id=\"T_f266b52e_f2c4_11eb_a641_02420a394444row0_col0\" class=\"data row0 col0\" >6.76762</td>\n",
       "                        <td id=\"T_f266b52e_f2c4_11eb_a641_02420a394444row0_col1\" class=\"data row0 col1\" >1686</td>\n",
       "            </tr>\n",
       "            <tr>\n",
       "                        <th id=\"T_f266b52e_f2c4_11eb_a641_02420a394444level0_row1\" class=\"row_heading level0 row1\" >комедия</th>\n",
       "                        <td id=\"T_f266b52e_f2c4_11eb_a641_02420a394444row1_col0\" class=\"data row1 col0\" >5.98606</td>\n",
       "                        <td id=\"T_f266b52e_f2c4_11eb_a641_02420a394444row1_col1\" class=\"data row1 col1\" >696</td>\n",
       "            </tr>\n",
       "            <tr>\n",
       "                        <th id=\"T_f266b52e_f2c4_11eb_a641_02420a394444level0_row2\" class=\"row_heading level0 row2\" >боевик</th>\n",
       "                        <td id=\"T_f266b52e_f2c4_11eb_a641_02420a394444row2_col0\" class=\"data row2 col0\" >6.50891</td>\n",
       "                        <td id=\"T_f266b52e_f2c4_11eb_a641_02420a394444row2_col1\" class=\"data row2 col1\" >617</td>\n",
       "            </tr>\n",
       "            <tr>\n",
       "                        <th id=\"T_f266b52e_f2c4_11eb_a641_02420a394444level0_row3\" class=\"row_heading level0 row3\" >ужасы</th>\n",
       "                        <td id=\"T_f266b52e_f2c4_11eb_a641_02420a394444row3_col0\" class=\"data row3 col0\" >5.65864</td>\n",
       "                        <td id=\"T_f266b52e_f2c4_11eb_a641_02420a394444row3_col1\" class=\"data row3 col1\" >573</td>\n",
       "            </tr>\n",
       "            <tr>\n",
       "                        <th id=\"T_f266b52e_f2c4_11eb_a641_02420a394444level0_row4\" class=\"row_heading level0 row4\" >мультфильм</th>\n",
       "                        <td id=\"T_f266b52e_f2c4_11eb_a641_02420a394444row4_col0\" class=\"data row4 col0\" >6.27757</td>\n",
       "                        <td id=\"T_f266b52e_f2c4_11eb_a641_02420a394444row4_col1\" class=\"data row4 col1\" >535</td>\n",
       "            </tr>\n",
       "            <tr>\n",
       "                        <th id=\"T_f266b52e_f2c4_11eb_a641_02420a394444level0_row5\" class=\"row_heading level0 row5\" >триллер</th>\n",
       "                        <td id=\"T_f266b52e_f2c4_11eb_a641_02420a394444row5_col0\" class=\"data row5 col0\" >6.58964</td>\n",
       "                        <td id=\"T_f266b52e_f2c4_11eb_a641_02420a394444row5_col1\" class=\"data row5 col1\" >521</td>\n",
       "            </tr>\n",
       "            <tr>\n",
       "                        <th id=\"T_f266b52e_f2c4_11eb_a641_02420a394444level0_row6\" class=\"row_heading level0 row6\" >фантастика</th>\n",
       "                        <td id=\"T_f266b52e_f2c4_11eb_a641_02420a394444row6_col0\" class=\"data row6 col0\" >6.64317</td>\n",
       "                        <td id=\"T_f266b52e_f2c4_11eb_a641_02420a394444row6_col1\" class=\"data row6 col1\" >410</td>\n",
       "            </tr>\n",
       "            <tr>\n",
       "                        <th id=\"T_f266b52e_f2c4_11eb_a641_02420a394444level0_row7\" class=\"row_heading level0 row7\" >мелодрама</th>\n",
       "                        <td id=\"T_f266b52e_f2c4_11eb_a641_02420a394444row7_col0\" class=\"data row7 col0\" >6.52298</td>\n",
       "                        <td id=\"T_f266b52e_f2c4_11eb_a641_02420a394444row7_col1\" class=\"data row7 col1\" >383</td>\n",
       "            </tr>\n",
       "            <tr>\n",
       "                        <th id=\"T_f266b52e_f2c4_11eb_a641_02420a394444level0_row8\" class=\"row_heading level0 row8\" >фэнтези</th>\n",
       "                        <td id=\"T_f266b52e_f2c4_11eb_a641_02420a394444row8_col0\" class=\"data row8 col0\" >6.59022</td>\n",
       "                        <td id=\"T_f266b52e_f2c4_11eb_a641_02420a394444row8_col1\" class=\"data row8 col1\" >358</td>\n",
       "            </tr>\n",
       "            <tr>\n",
       "                        <th id=\"T_f266b52e_f2c4_11eb_a641_02420a394444level0_row9\" class=\"row_heading level0 row9\" >документальный</th>\n",
       "                        <td id=\"T_f266b52e_f2c4_11eb_a641_02420a394444row9_col0\" class=\"data row9 col0\" >7.2379</td>\n",
       "                        <td id=\"T_f266b52e_f2c4_11eb_a641_02420a394444row9_col1\" class=\"data row9 col1\" >219</td>\n",
       "            </tr>\n",
       "            <tr>\n",
       "                        <th id=\"T_f266b52e_f2c4_11eb_a641_02420a394444level0_row10\" class=\"row_heading level0 row10\" >аниме</th>\n",
       "                        <td id=\"T_f266b52e_f2c4_11eb_a641_02420a394444row10_col0\" class=\"data row10 col0\" >7.47703</td>\n",
       "                        <td id=\"T_f266b52e_f2c4_11eb_a641_02420a394444row10_col1\" class=\"data row10 col1\" >74</td>\n",
       "            </tr>\n",
       "            <tr>\n",
       "                        <th id=\"T_f266b52e_f2c4_11eb_a641_02420a394444level0_row11\" class=\"row_heading level0 row11\" >мюзикл</th>\n",
       "                        <td id=\"T_f266b52e_f2c4_11eb_a641_02420a394444row11_col0\" class=\"data row11 col0\" >6.92381</td>\n",
       "                        <td id=\"T_f266b52e_f2c4_11eb_a641_02420a394444row11_col1\" class=\"data row11 col1\" >63</td>\n",
       "            </tr>\n",
       "            <tr>\n",
       "                        <th id=\"T_f266b52e_f2c4_11eb_a641_02420a394444level0_row12\" class=\"row_heading level0 row12\" >детектив</th>\n",
       "                        <td id=\"T_f266b52e_f2c4_11eb_a641_02420a394444row12_col0\" class=\"data row12 col0\" >6.64643</td>\n",
       "                        <td id=\"T_f266b52e_f2c4_11eb_a641_02420a394444row12_col1\" class=\"data row12 col1\" >56</td>\n",
       "            </tr>\n",
       "            <tr>\n",
       "                        <th id=\"T_f266b52e_f2c4_11eb_a641_02420a394444level0_row13\" class=\"row_heading level0 row13\" >приключения</th>\n",
       "                        <td id=\"T_f266b52e_f2c4_11eb_a641_02420a394444row13_col0\" class=\"data row13 col0\" >6.39818</td>\n",
       "                        <td id=\"T_f266b52e_f2c4_11eb_a641_02420a394444row13_col1\" class=\"data row13 col1\" >55</td>\n",
       "            </tr>\n",
       "            <tr>\n",
       "                        <th id=\"T_f266b52e_f2c4_11eb_a641_02420a394444level0_row14\" class=\"row_heading level0 row14\" >военный</th>\n",
       "                        <td id=\"T_f266b52e_f2c4_11eb_a641_02420a394444row14_col0\" class=\"data row14 col0\" >6.72609</td>\n",
       "                        <td id=\"T_f266b52e_f2c4_11eb_a641_02420a394444row14_col1\" class=\"data row14 col1\" >46</td>\n",
       "            </tr>\n",
       "            <tr>\n",
       "                        <th id=\"T_f266b52e_f2c4_11eb_a641_02420a394444level0_row15\" class=\"row_heading level0 row15\" >криминал</th>\n",
       "                        <td id=\"T_f266b52e_f2c4_11eb_a641_02420a394444row15_col0\" class=\"data row15 col0\" >6.69744</td>\n",
       "                        <td id=\"T_f266b52e_f2c4_11eb_a641_02420a394444row15_col1\" class=\"data row15 col1\" >39</td>\n",
       "            </tr>\n",
       "            <tr>\n",
       "                        <th id=\"T_f266b52e_f2c4_11eb_a641_02420a394444level0_row16\" class=\"row_heading level0 row16\" >биография</th>\n",
       "                        <td id=\"T_f266b52e_f2c4_11eb_a641_02420a394444row16_col0\" class=\"data row16 col0\" >7.01212</td>\n",
       "                        <td id=\"T_f266b52e_f2c4_11eb_a641_02420a394444row16_col1\" class=\"data row16 col1\" >33</td>\n",
       "            </tr>\n",
       "            <tr>\n",
       "                        <th id=\"T_f266b52e_f2c4_11eb_a641_02420a394444level0_row17\" class=\"row_heading level0 row17\" >семейный</th>\n",
       "                        <td id=\"T_f266b52e_f2c4_11eb_a641_02420a394444row17_col0\" class=\"data row17 col0\" >5.95</td>\n",
       "                        <td id=\"T_f266b52e_f2c4_11eb_a641_02420a394444row17_col1\" class=\"data row17 col1\" >32</td>\n",
       "            </tr>\n",
       "            <tr>\n",
       "                        <th id=\"T_f266b52e_f2c4_11eb_a641_02420a394444level0_row18\" class=\"row_heading level0 row18\" >детский</th>\n",
       "                        <td id=\"T_f266b52e_f2c4_11eb_a641_02420a394444row18_col0\" class=\"data row18 col0\" >6.11429</td>\n",
       "                        <td id=\"T_f266b52e_f2c4_11eb_a641_02420a394444row18_col1\" class=\"data row18 col1\" >28</td>\n",
       "            </tr>\n",
       "            <tr>\n",
       "                        <th id=\"T_f266b52e_f2c4_11eb_a641_02420a394444level0_row19\" class=\"row_heading level0 row19\" >история</th>\n",
       "                        <td id=\"T_f266b52e_f2c4_11eb_a641_02420a394444row19_col0\" class=\"data row19 col0\" >6.536</td>\n",
       "                        <td id=\"T_f266b52e_f2c4_11eb_a641_02420a394444row19_col1\" class=\"data row19 col1\" >25</td>\n",
       "            </tr>\n",
       "            <tr>\n",
       "                        <th id=\"T_f266b52e_f2c4_11eb_a641_02420a394444level0_row20\" class=\"row_heading level0 row20\" >короткометражка</th>\n",
       "                        <td id=\"T_f266b52e_f2c4_11eb_a641_02420a394444row20_col0\" class=\"data row20 col0\" >6.63077</td>\n",
       "                        <td id=\"T_f266b52e_f2c4_11eb_a641_02420a394444row20_col1\" class=\"data row20 col1\" >13</td>\n",
       "            </tr>\n",
       "            <tr>\n",
       "                        <th id=\"T_f266b52e_f2c4_11eb_a641_02420a394444level0_row21\" class=\"row_heading level0 row21\" >концерт</th>\n",
       "                        <td id=\"T_f266b52e_f2c4_11eb_a641_02420a394444row21_col0\" class=\"data row21 col0\" >6.85</td>\n",
       "                        <td id=\"T_f266b52e_f2c4_11eb_a641_02420a394444row21_col1\" class=\"data row21 col1\" >10</td>\n",
       "            </tr>\n",
       "            <tr>\n",
       "                        <th id=\"T_f266b52e_f2c4_11eb_a641_02420a394444level0_row22\" class=\"row_heading level0 row22\" >спорт</th>\n",
       "                        <td id=\"T_f266b52e_f2c4_11eb_a641_02420a394444row22_col0\" class=\"data row22 col0\" >7.14444</td>\n",
       "                        <td id=\"T_f266b52e_f2c4_11eb_a641_02420a394444row22_col1\" class=\"data row22 col1\" >9</td>\n",
       "            </tr>\n",
       "            <tr>\n",
       "                        <th id=\"T_f266b52e_f2c4_11eb_a641_02420a394444level0_row23\" class=\"row_heading level0 row23\" >музыка</th>\n",
       "                        <td id=\"T_f266b52e_f2c4_11eb_a641_02420a394444row23_col0\" class=\"data row23 col0\" >7.37143</td>\n",
       "                        <td id=\"T_f266b52e_f2c4_11eb_a641_02420a394444row23_col1\" class=\"data row23 col1\" >7</td>\n",
       "            </tr>\n",
       "            <tr>\n",
       "                        <th id=\"T_f266b52e_f2c4_11eb_a641_02420a394444level0_row24\" class=\"row_heading level0 row24\" >вестерн</th>\n",
       "                        <td id=\"T_f266b52e_f2c4_11eb_a641_02420a394444row24_col0\" class=\"data row24 col0\" >7.3</td>\n",
       "                        <td id=\"T_f266b52e_f2c4_11eb_a641_02420a394444row24_col1\" class=\"data row24 col1\" >7</td>\n",
       "            </tr>\n",
       "            <tr>\n",
       "                        <th id=\"T_f266b52e_f2c4_11eb_a641_02420a394444level0_row25\" class=\"row_heading level0 row25\" >для взрослых</th>\n",
       "                        <td id=\"T_f266b52e_f2c4_11eb_a641_02420a394444row25_col0\" class=\"data row25 col0\" >4.46667</td>\n",
       "                        <td id=\"T_f266b52e_f2c4_11eb_a641_02420a394444row25_col1\" class=\"data row25 col1\" >3</td>\n",
       "            </tr>\n",
       "            <tr>\n",
       "                        <th id=\"T_f266b52e_f2c4_11eb_a641_02420a394444level0_row26\" class=\"row_heading level0 row26\" >реальное ТВ</th>\n",
       "                        <td id=\"T_f266b52e_f2c4_11eb_a641_02420a394444row26_col0\" class=\"data row26 col0\" >5.6</td>\n",
       "                        <td id=\"T_f266b52e_f2c4_11eb_a641_02420a394444row26_col1\" class=\"data row26 col1\" >1</td>\n",
       "            </tr>\n",
       "            <tr>\n",
       "                        <th id=\"T_f266b52e_f2c4_11eb_a641_02420a394444level0_row27\" class=\"row_heading level0 row27\" >фильм-нуар</th>\n",
       "                        <td id=\"T_f266b52e_f2c4_11eb_a641_02420a394444row27_col0\" class=\"data row27 col0\" >7.6</td>\n",
       "                        <td id=\"T_f266b52e_f2c4_11eb_a641_02420a394444row27_col1\" class=\"data row27 col1\" >1</td>\n",
       "            </tr>\n",
       "    </tbody></table>"
      ],
      "text/plain": [
       "<pandas.io.formats.style.Styler at 0x7fb08c97b590>"
      ]
     },
     "execution_count": 121,
     "metadata": {},
     "output_type": "execute_result"
    }
   ],
   "source": [
    "# изучим рейтинг фильмов и его связь с жанром, здесь можно воспользоваться сначала основной таблице, а затем данными\n",
    "# из таблицы со сведениями о гос поддержке и проследить тенденцию\n",
    "df_ratings_genre=df.loc[(df['main_genre']!='nan')&(df['ratings']!=0)].pivot_table(index='main_genre',values='ratings',aggfunc=['mean','count'])\n",
    "df_ratings_genre.columns=['mean_ratings','count_ratings']\n",
    "df_ratings_genre.sort_values(by='count_ratings',ascending=False).style.highlight_max (color = '#952895'). highlight_min (color = '#F09EF0')"
   ]
  },
  {
   "cell_type": "markdown",
   "metadata": {},
   "source": [
    "Вряд ли можно объективно считать, что самый высокий рейтинг у фильмов в жанре фильм-нуар, т. к. имеется рейтинг только одного фильма, правильно будет взять рейтинги тех фильмов, которых в таблице больше 200"
   ]
  },
  {
   "cell_type": "code",
   "execution_count": 122,
   "metadata": {},
   "outputs": [
    {
     "data": {
      "text/html": [
       "<div>\n",
       "<style scoped>\n",
       "    .dataframe tbody tr th:only-of-type {\n",
       "        vertical-align: middle;\n",
       "    }\n",
       "\n",
       "    .dataframe tbody tr th {\n",
       "        vertical-align: top;\n",
       "    }\n",
       "\n",
       "    .dataframe thead th {\n",
       "        text-align: right;\n",
       "    }\n",
       "</style>\n",
       "<table border=\"1\" class=\"dataframe\">\n",
       "  <thead>\n",
       "    <tr style=\"text-align: right;\">\n",
       "      <th></th>\n",
       "      <th>mean_ratings</th>\n",
       "      <th>count_ratings</th>\n",
       "    </tr>\n",
       "    <tr>\n",
       "      <th>main_genre</th>\n",
       "      <th></th>\n",
       "      <th></th>\n",
       "    </tr>\n",
       "  </thead>\n",
       "  <tbody>\n",
       "    <tr>\n",
       "      <td>документальный</td>\n",
       "      <td>7.237900</td>\n",
       "      <td>219</td>\n",
       "    </tr>\n",
       "    <tr>\n",
       "      <td>драма</td>\n",
       "      <td>6.767616</td>\n",
       "      <td>1686</td>\n",
       "    </tr>\n",
       "    <tr>\n",
       "      <td>фантастика</td>\n",
       "      <td>6.643171</td>\n",
       "      <td>410</td>\n",
       "    </tr>\n",
       "  </tbody>\n",
       "</table>\n",
       "</div>"
      ],
      "text/plain": [
       "                mean_ratings  count_ratings\n",
       "main_genre                                 \n",
       "документальный      7.237900            219\n",
       "драма               6.767616           1686\n",
       "фантастика          6.643171            410"
      ]
     },
     "execution_count": 122,
     "metadata": {},
     "output_type": "execute_result"
    }
   ],
   "source": [
    "df_ratings_genre.columns=['mean_ratings','count_ratings']\n",
    "df_ratings_genre.query('mean_ratings>6.6 & count_ratings>200')\n"
   ]
  },
  {
   "cell_type": "markdown",
   "metadata": {},
   "source": [
    "Исходя из количества фильмов и среднего рейтинга лидируют документальные фильмы, драмы и фантастика.\n",
    "\n",
    "Проверим, сохраняется ли тенденция для фильмов с государственной поддержкой."
   ]
  },
  {
   "cell_type": "code",
   "execution_count": 123,
   "metadata": {},
   "outputs": [
    {
     "data": {
      "text/html": [
       "<style  type=\"text/css\" >\n",
       "    #T_f27797ae_f2c4_11eb_a641_02420a394444row0_col1 {\n",
       "            background-color:  #952895;\n",
       "            : ;\n",
       "        }    #T_f27797ae_f2c4_11eb_a641_02420a394444row7_col0 {\n",
       "            : ;\n",
       "            background-color:  #F09EF0;\n",
       "        }    #T_f27797ae_f2c4_11eb_a641_02420a394444row16_col0 {\n",
       "            background-color:  #952895;\n",
       "            : ;\n",
       "        }    #T_f27797ae_f2c4_11eb_a641_02420a394444row19_col1 {\n",
       "            : ;\n",
       "            background-color:  #F09EF0;\n",
       "        }</style><table id=\"T_f27797ae_f2c4_11eb_a641_02420a394444\" ><thead>    <tr>        <th class=\"blank level0\" ></th>        <th class=\"col_heading level0 col0\" >mean_ratings</th>        <th class=\"col_heading level0 col1\" >count_ratings</th>    </tr>    <tr>        <th class=\"index_name level0\" >main_genre</th>        <th class=\"blank\" ></th>        <th class=\"blank\" ></th>    </tr></thead><tbody>\n",
       "                <tr>\n",
       "                        <th id=\"T_f27797ae_f2c4_11eb_a641_02420a394444level0_row0\" class=\"row_heading level0 row0\" >драма</th>\n",
       "                        <td id=\"T_f27797ae_f2c4_11eb_a641_02420a394444row0_col0\" class=\"data row0 col0\" >6.41935</td>\n",
       "                        <td id=\"T_f27797ae_f2c4_11eb_a641_02420a394444row0_col1\" class=\"data row0 col1\" >93</td>\n",
       "            </tr>\n",
       "            <tr>\n",
       "                        <th id=\"T_f27797ae_f2c4_11eb_a641_02420a394444level0_row1\" class=\"row_heading level0 row1\" >комедия</th>\n",
       "                        <td id=\"T_f27797ae_f2c4_11eb_a641_02420a394444row1_col0\" class=\"data row1 col0\" >5.51486</td>\n",
       "                        <td id=\"T_f27797ae_f2c4_11eb_a641_02420a394444row1_col1\" class=\"data row1 col1\" >74</td>\n",
       "            </tr>\n",
       "            <tr>\n",
       "                        <th id=\"T_f27797ae_f2c4_11eb_a641_02420a394444level0_row2\" class=\"row_heading level0 row2\" >мультфильм</th>\n",
       "                        <td id=\"T_f27797ae_f2c4_11eb_a641_02420a394444row2_col0\" class=\"data row2 col0\" >5.8</td>\n",
       "                        <td id=\"T_f27797ae_f2c4_11eb_a641_02420a394444row2_col1\" class=\"data row2 col1\" >31</td>\n",
       "            </tr>\n",
       "            <tr>\n",
       "                        <th id=\"T_f27797ae_f2c4_11eb_a641_02420a394444level0_row3\" class=\"row_heading level0 row3\" >триллер</th>\n",
       "                        <td id=\"T_f27797ae_f2c4_11eb_a641_02420a394444row3_col0\" class=\"data row3 col0\" >5.70667</td>\n",
       "                        <td id=\"T_f27797ae_f2c4_11eb_a641_02420a394444row3_col1\" class=\"data row3 col1\" >15</td>\n",
       "            </tr>\n",
       "            <tr>\n",
       "                        <th id=\"T_f27797ae_f2c4_11eb_a641_02420a394444level0_row4\" class=\"row_heading level0 row4\" >мелодрама</th>\n",
       "                        <td id=\"T_f27797ae_f2c4_11eb_a641_02420a394444row4_col0\" class=\"data row4 col0\" >5.95333</td>\n",
       "                        <td id=\"T_f27797ae_f2c4_11eb_a641_02420a394444row4_col1\" class=\"data row4 col1\" >15</td>\n",
       "            </tr>\n",
       "            <tr>\n",
       "                        <th id=\"T_f27797ae_f2c4_11eb_a641_02420a394444level0_row5\" class=\"row_heading level0 row5\" >фантастика</th>\n",
       "                        <td id=\"T_f27797ae_f2c4_11eb_a641_02420a394444row5_col0\" class=\"data row5 col0\" >6.14545</td>\n",
       "                        <td id=\"T_f27797ae_f2c4_11eb_a641_02420a394444row5_col1\" class=\"data row5 col1\" >11</td>\n",
       "            </tr>\n",
       "            <tr>\n",
       "                        <th id=\"T_f27797ae_f2c4_11eb_a641_02420a394444level0_row6\" class=\"row_heading level0 row6\" >фэнтези</th>\n",
       "                        <td id=\"T_f27797ae_f2c4_11eb_a641_02420a394444row6_col0\" class=\"data row6 col0\" >6.09091</td>\n",
       "                        <td id=\"T_f27797ae_f2c4_11eb_a641_02420a394444row6_col1\" class=\"data row6 col1\" >11</td>\n",
       "            </tr>\n",
       "            <tr>\n",
       "                        <th id=\"T_f27797ae_f2c4_11eb_a641_02420a394444level0_row7\" class=\"row_heading level0 row7\" >ужасы</th>\n",
       "                        <td id=\"T_f27797ae_f2c4_11eb_a641_02420a394444row7_col0\" class=\"data row7 col0\" >5.2</td>\n",
       "                        <td id=\"T_f27797ae_f2c4_11eb_a641_02420a394444row7_col1\" class=\"data row7 col1\" >10</td>\n",
       "            </tr>\n",
       "            <tr>\n",
       "                        <th id=\"T_f27797ae_f2c4_11eb_a641_02420a394444level0_row8\" class=\"row_heading level0 row8\" >военный</th>\n",
       "                        <td id=\"T_f27797ae_f2c4_11eb_a641_02420a394444row8_col0\" class=\"data row8 col0\" >6.46667</td>\n",
       "                        <td id=\"T_f27797ae_f2c4_11eb_a641_02420a394444row8_col1\" class=\"data row8 col1\" >9</td>\n",
       "            </tr>\n",
       "            <tr>\n",
       "                        <th id=\"T_f27797ae_f2c4_11eb_a641_02420a394444level0_row9\" class=\"row_heading level0 row9\" >приключения</th>\n",
       "                        <td id=\"T_f27797ae_f2c4_11eb_a641_02420a394444row9_col0\" class=\"data row9 col0\" >5.87143</td>\n",
       "                        <td id=\"T_f27797ae_f2c4_11eb_a641_02420a394444row9_col1\" class=\"data row9 col1\" >7</td>\n",
       "            </tr>\n",
       "            <tr>\n",
       "                        <th id=\"T_f27797ae_f2c4_11eb_a641_02420a394444level0_row10\" class=\"row_heading level0 row10\" >семейный</th>\n",
       "                        <td id=\"T_f27797ae_f2c4_11eb_a641_02420a394444row10_col0\" class=\"data row10 col0\" >5.41429</td>\n",
       "                        <td id=\"T_f27797ae_f2c4_11eb_a641_02420a394444row10_col1\" class=\"data row10 col1\" >7</td>\n",
       "            </tr>\n",
       "            <tr>\n",
       "                        <th id=\"T_f27797ae_f2c4_11eb_a641_02420a394444level0_row11\" class=\"row_heading level0 row11\" >боевик</th>\n",
       "                        <td id=\"T_f27797ae_f2c4_11eb_a641_02420a394444row11_col0\" class=\"data row11 col0\" >6.58333</td>\n",
       "                        <td id=\"T_f27797ae_f2c4_11eb_a641_02420a394444row11_col1\" class=\"data row11 col1\" >6</td>\n",
       "            </tr>\n",
       "            <tr>\n",
       "                        <th id=\"T_f27797ae_f2c4_11eb_a641_02420a394444level0_row12\" class=\"row_heading level0 row12\" >детектив</th>\n",
       "                        <td id=\"T_f27797ae_f2c4_11eb_a641_02420a394444row12_col0\" class=\"data row12 col0\" >6.76</td>\n",
       "                        <td id=\"T_f27797ae_f2c4_11eb_a641_02420a394444row12_col1\" class=\"data row12 col1\" >5</td>\n",
       "            </tr>\n",
       "            <tr>\n",
       "                        <th id=\"T_f27797ae_f2c4_11eb_a641_02420a394444level0_row13\" class=\"row_heading level0 row13\" >история</th>\n",
       "                        <td id=\"T_f27797ae_f2c4_11eb_a641_02420a394444row13_col0\" class=\"data row13 col0\" >5.35</td>\n",
       "                        <td id=\"T_f27797ae_f2c4_11eb_a641_02420a394444row13_col1\" class=\"data row13 col1\" >4</td>\n",
       "            </tr>\n",
       "            <tr>\n",
       "                        <th id=\"T_f27797ae_f2c4_11eb_a641_02420a394444level0_row14\" class=\"row_heading level0 row14\" >детский</th>\n",
       "                        <td id=\"T_f27797ae_f2c4_11eb_a641_02420a394444row14_col0\" class=\"data row14 col0\" >7.125</td>\n",
       "                        <td id=\"T_f27797ae_f2c4_11eb_a641_02420a394444row14_col1\" class=\"data row14 col1\" >4</td>\n",
       "            </tr>\n",
       "            <tr>\n",
       "                        <th id=\"T_f27797ae_f2c4_11eb_a641_02420a394444level0_row15\" class=\"row_heading level0 row15\" >мюзикл</th>\n",
       "                        <td id=\"T_f27797ae_f2c4_11eb_a641_02420a394444row15_col0\" class=\"data row15 col0\" >6.55</td>\n",
       "                        <td id=\"T_f27797ae_f2c4_11eb_a641_02420a394444row15_col1\" class=\"data row15 col1\" >4</td>\n",
       "            </tr>\n",
       "            <tr>\n",
       "                        <th id=\"T_f27797ae_f2c4_11eb_a641_02420a394444level0_row16\" class=\"row_heading level0 row16\" >криминал</th>\n",
       "                        <td id=\"T_f27797ae_f2c4_11eb_a641_02420a394444row16_col0\" class=\"data row16 col0\" >7.5</td>\n",
       "                        <td id=\"T_f27797ae_f2c4_11eb_a641_02420a394444row16_col1\" class=\"data row16 col1\" >3</td>\n",
       "            </tr>\n",
       "            <tr>\n",
       "                        <th id=\"T_f27797ae_f2c4_11eb_a641_02420a394444level0_row17\" class=\"row_heading level0 row17\" >спорт</th>\n",
       "                        <td id=\"T_f27797ae_f2c4_11eb_a641_02420a394444row17_col0\" class=\"data row17 col0\" >6.93333</td>\n",
       "                        <td id=\"T_f27797ae_f2c4_11eb_a641_02420a394444row17_col1\" class=\"data row17 col1\" >3</td>\n",
       "            </tr>\n",
       "            <tr>\n",
       "                        <th id=\"T_f27797ae_f2c4_11eb_a641_02420a394444level0_row18\" class=\"row_heading level0 row18\" >биография</th>\n",
       "                        <td id=\"T_f27797ae_f2c4_11eb_a641_02420a394444row18_col0\" class=\"data row18 col0\" >6.9</td>\n",
       "                        <td id=\"T_f27797ae_f2c4_11eb_a641_02420a394444row18_col1\" class=\"data row18 col1\" >3</td>\n",
       "            </tr>\n",
       "            <tr>\n",
       "                        <th id=\"T_f27797ae_f2c4_11eb_a641_02420a394444level0_row19\" class=\"row_heading level0 row19\" >реальное ТВ</th>\n",
       "                        <td id=\"T_f27797ae_f2c4_11eb_a641_02420a394444row19_col0\" class=\"data row19 col0\" >5.6</td>\n",
       "                        <td id=\"T_f27797ae_f2c4_11eb_a641_02420a394444row19_col1\" class=\"data row19 col1\" >1</td>\n",
       "            </tr>\n",
       "    </tbody></table>"
      ],
      "text/plain": [
       "<pandas.io.formats.style.Styler at 0x7fb08a57b110>"
      ]
     },
     "execution_count": 123,
     "metadata": {},
     "output_type": "execute_result"
    }
   ],
   "source": [
    "df_gov_sup_ratings_genre=df_gov_sup.loc[(df_gov_sup['main_genre']!='nan')&(df_gov_sup['ratings']!=0)].pivot_table(index='main_genre',values='ratings',aggfunc=['mean','count'])\n",
    "df_gov_sup_ratings_genre.columns=['mean_ratings','count_ratings']\n",
    "df_gov_sup_ratings_genre.sort_values(by='count_ratings',ascending=False).style.highlight_max (color = '#952895'). highlight_min (color = '#F09EF0')"
   ]
  },
  {
   "cell_type": "markdown",
   "metadata": {},
   "source": [
    "Как видно относительно высокий рейтинг драм и фантастики сохраняется и для фильмов с государственной поддержкой."
   ]
  },
  {
   "cell_type": "code",
   "execution_count": 124,
   "metadata": {},
   "outputs": [
    {
     "data": {
      "text/html": [
       "<style  type=\"text/css\" >\n",
       "    #T_f283b372_f2c4_11eb_a641_02420a394444row0_col1 {\n",
       "            background-color:  #952895;\n",
       "            : ;\n",
       "        }    #T_f283b372_f2c4_11eb_a641_02420a394444row8_col0 {\n",
       "            : ;\n",
       "            background-color:  #F09EF0;\n",
       "        }    #T_f283b372_f2c4_11eb_a641_02420a394444row9_col1 {\n",
       "            : ;\n",
       "            background-color:  #F09EF0;\n",
       "        }    #T_f283b372_f2c4_11eb_a641_02420a394444row10_col1 {\n",
       "            : ;\n",
       "            background-color:  #F09EF0;\n",
       "        }    #T_f283b372_f2c4_11eb_a641_02420a394444row11_col0 {\n",
       "            background-color:  #952895;\n",
       "            : ;\n",
       "        }    #T_f283b372_f2c4_11eb_a641_02420a394444row11_col1 {\n",
       "            : ;\n",
       "            background-color:  #F09EF0;\n",
       "        }    #T_f283b372_f2c4_11eb_a641_02420a394444row12_col1 {\n",
       "            : ;\n",
       "            background-color:  #F09EF0;\n",
       "        }</style><table id=\"T_f283b372_f2c4_11eb_a641_02420a394444\" ><thead>    <tr>        <th class=\"blank level0\" ></th>        <th class=\"col_heading level0 col0\" >mean_ratings</th>        <th class=\"col_heading level0 col1\" >count_ratings</th>    </tr>    <tr>        <th class=\"index_name level0\" >main_genre</th>        <th class=\"blank\" ></th>        <th class=\"blank\" ></th>    </tr></thead><tbody>\n",
       "                <tr>\n",
       "                        <th id=\"T_f283b372_f2c4_11eb_a641_02420a394444level0_row0\" class=\"row_heading level0 row0\" >комедия</th>\n",
       "                        <td id=\"T_f283b372_f2c4_11eb_a641_02420a394444row0_col0\" class=\"data row0 col0\" >5.76471</td>\n",
       "                        <td id=\"T_f283b372_f2c4_11eb_a641_02420a394444row0_col1\" class=\"data row0 col1\" >17</td>\n",
       "            </tr>\n",
       "            <tr>\n",
       "                        <th id=\"T_f283b372_f2c4_11eb_a641_02420a394444level0_row1\" class=\"row_heading level0 row1\" >мультфильм</th>\n",
       "                        <td id=\"T_f283b372_f2c4_11eb_a641_02420a394444row1_col0\" class=\"data row1 col0\" >5.775</td>\n",
       "                        <td id=\"T_f283b372_f2c4_11eb_a641_02420a394444row1_col1\" class=\"data row1 col1\" >12</td>\n",
       "            </tr>\n",
       "            <tr>\n",
       "                        <th id=\"T_f283b372_f2c4_11eb_a641_02420a394444level0_row2\" class=\"row_heading level0 row2\" >драма</th>\n",
       "                        <td id=\"T_f283b372_f2c4_11eb_a641_02420a394444row2_col0\" class=\"data row2 col0\" >6.52857</td>\n",
       "                        <td id=\"T_f283b372_f2c4_11eb_a641_02420a394444row2_col1\" class=\"data row2 col1\" >7</td>\n",
       "            </tr>\n",
       "            <tr>\n",
       "                        <th id=\"T_f283b372_f2c4_11eb_a641_02420a394444level0_row3\" class=\"row_heading level0 row3\" >ужасы</th>\n",
       "                        <td id=\"T_f283b372_f2c4_11eb_a641_02420a394444row3_col0\" class=\"data row3 col0\" >4.725</td>\n",
       "                        <td id=\"T_f283b372_f2c4_11eb_a641_02420a394444row3_col1\" class=\"data row3 col1\" >4</td>\n",
       "            </tr>\n",
       "            <tr>\n",
       "                        <th id=\"T_f283b372_f2c4_11eb_a641_02420a394444level0_row4\" class=\"row_heading level0 row4\" >фэнтези</th>\n",
       "                        <td id=\"T_f283b372_f2c4_11eb_a641_02420a394444row4_col0\" class=\"data row4 col0\" >6.73333</td>\n",
       "                        <td id=\"T_f283b372_f2c4_11eb_a641_02420a394444row4_col1\" class=\"data row4 col1\" >3</td>\n",
       "            </tr>\n",
       "            <tr>\n",
       "                        <th id=\"T_f283b372_f2c4_11eb_a641_02420a394444level0_row5\" class=\"row_heading level0 row5\" >история</th>\n",
       "                        <td id=\"T_f283b372_f2c4_11eb_a641_02420a394444row5_col0\" class=\"data row5 col0\" >6.2</td>\n",
       "                        <td id=\"T_f283b372_f2c4_11eb_a641_02420a394444row5_col1\" class=\"data row5 col1\" >2</td>\n",
       "            </tr>\n",
       "            <tr>\n",
       "                        <th id=\"T_f283b372_f2c4_11eb_a641_02420a394444level0_row6\" class=\"row_heading level0 row6\" >приключения</th>\n",
       "                        <td id=\"T_f283b372_f2c4_11eb_a641_02420a394444row6_col0\" class=\"data row6 col0\" >6.65</td>\n",
       "                        <td id=\"T_f283b372_f2c4_11eb_a641_02420a394444row6_col1\" class=\"data row6 col1\" >2</td>\n",
       "            </tr>\n",
       "            <tr>\n",
       "                        <th id=\"T_f283b372_f2c4_11eb_a641_02420a394444level0_row7\" class=\"row_heading level0 row7\" >семейный</th>\n",
       "                        <td id=\"T_f283b372_f2c4_11eb_a641_02420a394444row7_col0\" class=\"data row7 col0\" >4.4</td>\n",
       "                        <td id=\"T_f283b372_f2c4_11eb_a641_02420a394444row7_col1\" class=\"data row7 col1\" >2</td>\n",
       "            </tr>\n",
       "            <tr>\n",
       "                        <th id=\"T_f283b372_f2c4_11eb_a641_02420a394444level0_row8\" class=\"row_heading level0 row8\" >фантастика</th>\n",
       "                        <td id=\"T_f283b372_f2c4_11eb_a641_02420a394444row8_col0\" class=\"data row8 col0\" >3.95</td>\n",
       "                        <td id=\"T_f283b372_f2c4_11eb_a641_02420a394444row8_col1\" class=\"data row8 col1\" >2</td>\n",
       "            </tr>\n",
       "            <tr>\n",
       "                        <th id=\"T_f283b372_f2c4_11eb_a641_02420a394444level0_row9\" class=\"row_heading level0 row9\" >боевик</th>\n",
       "                        <td id=\"T_f283b372_f2c4_11eb_a641_02420a394444row9_col0\" class=\"data row9 col0\" >7.8</td>\n",
       "                        <td id=\"T_f283b372_f2c4_11eb_a641_02420a394444row9_col1\" class=\"data row9 col1\" >1</td>\n",
       "            </tr>\n",
       "            <tr>\n",
       "                        <th id=\"T_f283b372_f2c4_11eb_a641_02420a394444level0_row10\" class=\"row_heading level0 row10\" >детектив</th>\n",
       "                        <td id=\"T_f283b372_f2c4_11eb_a641_02420a394444row10_col0\" class=\"data row10 col0\" >6.8</td>\n",
       "                        <td id=\"T_f283b372_f2c4_11eb_a641_02420a394444row10_col1\" class=\"data row10 col1\" >1</td>\n",
       "            </tr>\n",
       "            <tr>\n",
       "                        <th id=\"T_f283b372_f2c4_11eb_a641_02420a394444level0_row11\" class=\"row_heading level0 row11\" >криминал</th>\n",
       "                        <td id=\"T_f283b372_f2c4_11eb_a641_02420a394444row11_col0\" class=\"data row11 col0\" >8.5</td>\n",
       "                        <td id=\"T_f283b372_f2c4_11eb_a641_02420a394444row11_col1\" class=\"data row11 col1\" >1</td>\n",
       "            </tr>\n",
       "            <tr>\n",
       "                        <th id=\"T_f283b372_f2c4_11eb_a641_02420a394444level0_row12\" class=\"row_heading level0 row12\" >триллер</th>\n",
       "                        <td id=\"T_f283b372_f2c4_11eb_a641_02420a394444row12_col0\" class=\"data row12 col0\" >5.8</td>\n",
       "                        <td id=\"T_f283b372_f2c4_11eb_a641_02420a394444row12_col1\" class=\"data row12 col1\" >1</td>\n",
       "            </tr>\n",
       "    </tbody></table>"
      ],
      "text/plain": [
       "<pandas.io.formats.style.Styler at 0x7fb08c9810d0>"
      ]
     },
     "execution_count": 124,
     "metadata": {},
     "output_type": "execute_result"
    }
   ],
   "source": [
    "# проверим тенценцию для окупаемых фильмов\n",
    "df_gov_sup_payback_ratings_genre=df_gov_sup_payback.loc[(df_gov_sup_payback['main_genre']!='nan')&(df_gov_sup_payback['ratings']!=0)].pivot_table(index='main_genre',values='ratings',aggfunc=['mean','count'])\n",
    "df_gov_sup_payback_ratings_genre.columns=['mean_ratings','count_ratings']\n",
    "df_gov_sup_payback_ratings_genre.sort_values(by='count_ratings',ascending=False).style.highlight_max (color = '#952895'). highlight_min (color = '#F09EF0')"
   ]
  },
  {
   "cell_type": "markdown",
   "metadata": {},
   "source": [
    "Среди окупаемых фильмов, драмы сохраняют высокий рейтинг, но большую часть прибыли приносят комедии (как видно из предыдущих таблиц) но рейтинг комедий не очень высок."
   ]
  },
  {
   "cell_type": "markdown",
   "metadata": {
    "id": "V2gYwMcPgFyd"
   },
   "source": [
    "### Шаг 5. Напишем общий вывод"
   ]
  },
  {
   "cell_type": "markdown",
   "metadata": {},
   "source": [
    "После изучения предложенного датафрейма можно сделать следующие выводы:\n",
    "\n",
    "1) С 2017 года наметилась положительная динамика производства фильмов (чтобы утверждать это достоверно, нужно изучить и даные за последние 2 года, т. к. в условиях пандемии производство фильмов вероятнее всего сократилось)\n",
    "\n",
    "2) В 2017 году было снято меньше фильмов, чем в другие годы, но большинство комедийного жанра (приносящего наибольшую прибыль), возможно этим можно объяснить то, что сборы в 2017 году превысилы сборы в остальные годы.\n",
    "\n",
    "3) Фильмы категории 0+ приносят меньше всего прибыли в прокате, этим можно объяснить небольшое количество фильмов и мультфильмов для детей, производители принимают во внимание их коммерческую невыгодость, возможно поэтому финансированием таких проектов занимается не Фонд кино, а Министерство культуры.\n",
    "\n",
    "4) Игоровое кино приносит большую прибыть, чем остальное, однако если говорить об окупаемости, то окупается всего около 16% фильмов, снятых с государственной поддержкой.\n",
    "\n",
    "5) Относительно высокий рейтинг у фильмов в жанре драма, однако большие сборы делают комедии ,рейтинг которых невысок, этим можно объяснить сравнительно большое количество выходящих в прокат комедий невысокого качества, зато коммерчески прибыльных."
   ]
  },
  {
   "cell_type": "code",
   "execution_count": null,
   "metadata": {},
   "outputs": [],
   "source": []
  }
 ],
 "metadata": {
  "ExecuteTimeLog": [
   {
    "duration": 537,
    "start_time": "2021-07-07T10:12:08.634Z"
   },
   {
    "duration": 206,
    "start_time": "2021-07-07T10:12:30.191Z"
   },
   {
    "duration": 227,
    "start_time": "2021-07-07T10:12:33.078Z"
   },
   {
    "duration": 153,
    "start_time": "2021-07-07T10:13:42.146Z"
   },
   {
    "duration": 233,
    "start_time": "2021-07-07T10:30:09.252Z"
   },
   {
    "duration": 19,
    "start_time": "2021-07-07T10:30:15.577Z"
   },
   {
    "duration": 18,
    "start_time": "2021-07-07T10:30:57.348Z"
   },
   {
    "duration": 19,
    "start_time": "2021-07-07T10:31:17.452Z"
   },
   {
    "duration": 21,
    "start_time": "2021-07-07T10:31:32.227Z"
   },
   {
    "duration": 27,
    "start_time": "2021-07-07T10:32:06.588Z"
   },
   {
    "duration": 23,
    "start_time": "2021-07-07T10:32:43.645Z"
   },
   {
    "duration": 24,
    "start_time": "2021-07-07T10:33:06.948Z"
   },
   {
    "duration": 7,
    "start_time": "2021-07-07T10:33:28.558Z"
   },
   {
    "duration": 23,
    "start_time": "2021-07-07T10:33:43.761Z"
   },
   {
    "duration": 28,
    "start_time": "2021-07-07T10:34:13.466Z"
   },
   {
    "duration": 23,
    "start_time": "2021-07-07T10:35:56.187Z"
   },
   {
    "duration": 6,
    "start_time": "2021-07-07T10:36:48.182Z"
   },
   {
    "duration": 14,
    "start_time": "2021-07-07T10:37:49.641Z"
   },
   {
    "duration": 6,
    "start_time": "2021-07-07T10:38:06.694Z"
   },
   {
    "duration": 6,
    "start_time": "2021-07-07T10:38:13.493Z"
   },
   {
    "duration": 19,
    "start_time": "2021-07-07T10:38:44.056Z"
   },
   {
    "duration": 186,
    "start_time": "2021-07-07T10:48:35.618Z"
   },
   {
    "duration": 24,
    "start_time": "2021-07-07T10:48:51.498Z"
   },
   {
    "duration": 20,
    "start_time": "2021-07-07T10:48:59.415Z"
   },
   {
    "duration": 20,
    "start_time": "2021-07-07T10:53:02.195Z"
   },
   {
    "duration": 188,
    "start_time": "2021-07-07T10:54:40.486Z"
   },
   {
    "duration": 115,
    "start_time": "2021-07-07T10:54:52.552Z"
   },
   {
    "duration": 214,
    "start_time": "2021-07-07T10:54:56.354Z"
   },
   {
    "duration": 47,
    "start_time": "2021-07-07T10:54:58.282Z"
   },
   {
    "duration": 217,
    "start_time": "2021-07-07T10:59:16.075Z"
   },
   {
    "duration": 51,
    "start_time": "2021-07-07T10:59:16.243Z"
   },
   {
    "duration": 578,
    "start_time": "2021-07-07T10:59:18.774Z"
   },
   {
    "duration": 161,
    "start_time": "2021-07-07T10:59:21.238Z"
   },
   {
    "duration": 59,
    "start_time": "2021-07-07T10:59:21.453Z"
   },
   {
    "duration": 3,
    "start_time": "2021-07-07T11:02:10.786Z"
   },
   {
    "duration": 13,
    "start_time": "2021-07-07T11:07:07.722Z"
   },
   {
    "duration": 26,
    "start_time": "2021-07-07T11:07:17.958Z"
   },
   {
    "duration": 22,
    "start_time": "2021-07-07T11:08:17.939Z"
   },
   {
    "duration": 212,
    "start_time": "2021-07-07T11:08:19.665Z"
   },
   {
    "duration": 21,
    "start_time": "2021-07-07T11:08:29.945Z"
   },
   {
    "duration": 31,
    "start_time": "2021-07-07T11:08:38.899Z"
   },
   {
    "duration": 23,
    "start_time": "2021-07-07T11:08:54.527Z"
   },
   {
    "duration": 8,
    "start_time": "2021-07-07T11:18:55.974Z"
   },
   {
    "duration": 7,
    "start_time": "2021-07-07T11:19:03.639Z"
   },
   {
    "duration": 7,
    "start_time": "2021-07-07T11:19:06.444Z"
   },
   {
    "duration": 578,
    "start_time": "2021-07-07T12:09:59.576Z"
   },
   {
    "duration": 195,
    "start_time": "2021-07-07T12:10:00.156Z"
   },
   {
    "duration": 115,
    "start_time": "2021-07-07T12:10:00.353Z"
   },
   {
    "duration": 3,
    "start_time": "2021-07-07T12:10:00.470Z"
   },
   {
    "duration": 32,
    "start_time": "2021-07-07T12:10:00.474Z"
   },
   {
    "duration": 23,
    "start_time": "2021-07-07T12:10:00.508Z"
   },
   {
    "duration": 19,
    "start_time": "2021-07-07T12:10:00.533Z"
   },
   {
    "duration": 44,
    "start_time": "2021-07-07T12:10:00.553Z"
   },
   {
    "duration": 7,
    "start_time": "2021-07-07T12:10:00.600Z"
   },
   {
    "duration": 7,
    "start_time": "2021-07-07T12:19:45.761Z"
   },
   {
    "duration": 21,
    "start_time": "2021-07-07T12:21:35.482Z"
   },
   {
    "duration": 21,
    "start_time": "2021-07-07T12:29:23.569Z"
   },
   {
    "duration": 525,
    "start_time": "2021-07-07T12:29:44.542Z"
   },
   {
    "duration": 214,
    "start_time": "2021-07-07T12:29:45.069Z"
   },
   {
    "duration": 92,
    "start_time": "2021-07-07T12:29:45.285Z"
   },
   {
    "duration": 3,
    "start_time": "2021-07-07T12:29:45.379Z"
   },
   {
    "duration": 28,
    "start_time": "2021-07-07T12:29:45.384Z"
   },
   {
    "duration": 23,
    "start_time": "2021-07-07T12:29:45.413Z"
   },
   {
    "duration": 21,
    "start_time": "2021-07-07T12:29:45.437Z"
   },
   {
    "duration": 41,
    "start_time": "2021-07-07T12:29:45.460Z"
   },
   {
    "duration": 7,
    "start_time": "2021-07-07T12:29:45.502Z"
   },
   {
    "duration": 20,
    "start_time": "2021-07-07T12:29:45.511Z"
   },
   {
    "duration": 12,
    "start_time": "2021-07-07T12:34:02.800Z"
   },
   {
    "duration": 7,
    "start_time": "2021-07-07T12:35:10.479Z"
   },
   {
    "duration": 8,
    "start_time": "2021-07-07T12:35:22.440Z"
   },
   {
    "duration": 6,
    "start_time": "2021-07-07T12:35:35.649Z"
   },
   {
    "duration": 6,
    "start_time": "2021-07-07T12:35:43.107Z"
   },
   {
    "duration": 22,
    "start_time": "2021-07-07T12:38:03.029Z"
   },
   {
    "duration": 10,
    "start_time": "2021-07-07T12:38:06.592Z"
   },
   {
    "duration": 563,
    "start_time": "2021-07-07T12:38:46.493Z"
   },
   {
    "duration": 265,
    "start_time": "2021-07-07T12:38:47.058Z"
   },
   {
    "duration": 94,
    "start_time": "2021-07-07T12:38:47.325Z"
   },
   {
    "duration": 3,
    "start_time": "2021-07-07T12:38:47.422Z"
   },
   {
    "duration": 30,
    "start_time": "2021-07-07T12:38:47.427Z"
   },
   {
    "duration": 16,
    "start_time": "2021-07-07T12:38:53.305Z"
   },
   {
    "duration": 10,
    "start_time": "2021-07-07T12:38:53.499Z"
   },
   {
    "duration": 8,
    "start_time": "2021-07-07T12:39:48.161Z"
   },
   {
    "duration": 27,
    "start_time": "2021-07-07T12:41:17.629Z"
   },
   {
    "duration": 17,
    "start_time": "2021-07-07T12:41:17.867Z"
   },
   {
    "duration": 21,
    "start_time": "2021-07-07T12:41:19.310Z"
   },
   {
    "duration": 7,
    "start_time": "2021-07-07T12:41:19.544Z"
   },
   {
    "duration": 20,
    "start_time": "2021-07-07T12:41:20.504Z"
   },
   {
    "duration": 554,
    "start_time": "2021-07-07T12:56:23.696Z"
   },
   {
    "duration": 200,
    "start_time": "2021-07-07T12:56:25.234Z"
   },
   {
    "duration": 119,
    "start_time": "2021-07-07T12:56:25.480Z"
   },
   {
    "duration": 4,
    "start_time": "2021-07-07T12:56:25.762Z"
   },
   {
    "duration": 26,
    "start_time": "2021-07-07T12:56:27.172Z"
   },
   {
    "duration": 12,
    "start_time": "2021-07-07T12:56:29.051Z"
   },
   {
    "duration": 10,
    "start_time": "2021-07-07T12:56:29.291Z"
   },
   {
    "duration": 8,
    "start_time": "2021-07-07T12:56:29.623Z"
   },
   {
    "duration": 28,
    "start_time": "2021-07-07T12:56:32.137Z"
   },
   {
    "duration": 19,
    "start_time": "2021-07-07T12:56:39.785Z"
   },
   {
    "duration": 20,
    "start_time": "2021-07-07T12:56:44.297Z"
   },
   {
    "duration": 7,
    "start_time": "2021-07-07T12:56:45.392Z"
   },
   {
    "duration": 23,
    "start_time": "2021-07-07T12:56:46.615Z"
   },
   {
    "duration": 4,
    "start_time": "2021-07-07T12:57:06.625Z"
   },
   {
    "duration": 32,
    "start_time": "2021-07-07T12:57:36.690Z"
   },
   {
    "duration": 18,
    "start_time": "2021-07-07T12:58:00.149Z"
   },
   {
    "duration": 15,
    "start_time": "2021-07-07T12:59:16.793Z"
   },
   {
    "duration": 7,
    "start_time": "2021-07-07T13:19:22.624Z"
   },
   {
    "duration": 6,
    "start_time": "2021-07-07T14:17:33.527Z"
   },
   {
    "duration": 9,
    "start_time": "2021-07-07T14:17:48.409Z"
   },
   {
    "duration": 8,
    "start_time": "2021-07-07T14:20:13.060Z"
   },
   {
    "duration": 8,
    "start_time": "2021-07-07T14:20:37.957Z"
   },
   {
    "duration": 8,
    "start_time": "2021-07-07T14:20:47.470Z"
   },
   {
    "duration": 9,
    "start_time": "2021-07-07T14:20:54.503Z"
   },
   {
    "duration": 10,
    "start_time": "2021-07-07T14:28:57.763Z"
   },
   {
    "duration": 3,
    "start_time": "2021-07-07T14:30:23.377Z"
   },
   {
    "duration": 3,
    "start_time": "2021-07-07T14:30:36.489Z"
   },
   {
    "duration": 103,
    "start_time": "2021-07-07T14:30:52.351Z"
   },
   {
    "duration": 8,
    "start_time": "2021-07-07T14:30:54.763Z"
   },
   {
    "duration": 8,
    "start_time": "2021-07-07T14:31:29.301Z"
   },
   {
    "duration": 13,
    "start_time": "2021-07-07T14:31:44.516Z"
   },
   {
    "duration": 7,
    "start_time": "2021-07-07T14:33:10.972Z"
   },
   {
    "duration": 11,
    "start_time": "2021-07-07T14:33:27.780Z"
   },
   {
    "duration": 8,
    "start_time": "2021-07-07T14:34:44.588Z"
   },
   {
    "duration": 57,
    "start_time": "2021-07-07T14:35:59.042Z"
   },
   {
    "duration": 3,
    "start_time": "2021-07-07T14:36:28.168Z"
   },
   {
    "duration": 5,
    "start_time": "2021-07-07T14:36:46.254Z"
   },
   {
    "duration": 4,
    "start_time": "2021-07-07T14:36:52.714Z"
   },
   {
    "duration": 3,
    "start_time": "2021-07-07T14:36:56.612Z"
   },
   {
    "duration": 4,
    "start_time": "2021-07-07T14:36:57.049Z"
   },
   {
    "duration": 3,
    "start_time": "2021-07-07T14:39:21.214Z"
   },
   {
    "duration": 7,
    "start_time": "2021-07-07T14:39:52.406Z"
   },
   {
    "duration": 11,
    "start_time": "2021-07-07T14:39:58.576Z"
   },
   {
    "duration": 9,
    "start_time": "2021-07-07T14:40:26.301Z"
   },
   {
    "duration": 10,
    "start_time": "2021-07-07T14:40:31.704Z"
   },
   {
    "duration": 11,
    "start_time": "2021-07-07T14:40:36.249Z"
   },
   {
    "duration": 10,
    "start_time": "2021-07-07T14:40:39.783Z"
   },
   {
    "duration": 9,
    "start_time": "2021-07-07T14:40:48.558Z"
   },
   {
    "duration": 10,
    "start_time": "2021-07-07T14:40:57.143Z"
   },
   {
    "duration": 9,
    "start_time": "2021-07-07T14:41:06.074Z"
   },
   {
    "duration": 4324,
    "start_time": "2021-07-07T14:41:22.004Z"
   },
   {
    "duration": 11,
    "start_time": "2021-07-07T14:41:33.392Z"
   },
   {
    "duration": 9,
    "start_time": "2021-07-07T14:41:39.288Z"
   },
   {
    "duration": 569,
    "start_time": "2021-07-07T14:42:14.387Z"
   },
   {
    "duration": 197,
    "start_time": "2021-07-07T14:42:14.959Z"
   },
   {
    "duration": 84,
    "start_time": "2021-07-07T14:42:16.052Z"
   },
   {
    "duration": 4,
    "start_time": "2021-07-07T14:42:16.900Z"
   },
   {
    "duration": 27,
    "start_time": "2021-07-07T14:42:19.898Z"
   },
   {
    "duration": 12,
    "start_time": "2021-07-07T14:42:21.577Z"
   },
   {
    "duration": 9,
    "start_time": "2021-07-07T14:42:21.813Z"
   },
   {
    "duration": 9,
    "start_time": "2021-07-07T14:42:22.569Z"
   },
   {
    "duration": 29,
    "start_time": "2021-07-07T14:42:25.837Z"
   },
   {
    "duration": 20,
    "start_time": "2021-07-07T14:42:27.003Z"
   },
   {
    "duration": 21,
    "start_time": "2021-07-07T14:42:28.767Z"
   },
   {
    "duration": 7,
    "start_time": "2021-07-07T14:42:29.838Z"
   },
   {
    "duration": 4,
    "start_time": "2021-07-07T14:43:25.493Z"
   },
   {
    "duration": 7,
    "start_time": "2021-07-07T14:43:26.573Z"
   },
   {
    "duration": 10,
    "start_time": "2021-07-07T14:43:31.639Z"
   },
   {
    "duration": 9,
    "start_time": "2021-07-07T14:43:32.046Z"
   },
   {
    "duration": 10,
    "start_time": "2021-07-07T14:43:33.301Z"
   },
   {
    "duration": 12,
    "start_time": "2021-07-07T14:43:33.658Z"
   },
   {
    "duration": 8,
    "start_time": "2021-07-07T14:43:34.552Z"
   },
   {
    "duration": 9,
    "start_time": "2021-07-07T14:43:35.058Z"
   },
   {
    "duration": 12,
    "start_time": "2021-07-07T14:43:35.914Z"
   },
   {
    "duration": 17,
    "start_time": "2021-07-07T14:45:34.368Z"
   },
   {
    "duration": 512,
    "start_time": "2021-07-07T14:51:58.236Z"
   },
   {
    "duration": 223,
    "start_time": "2021-07-07T14:51:58.750Z"
   },
   {
    "duration": 93,
    "start_time": "2021-07-07T14:51:58.977Z"
   },
   {
    "duration": 4,
    "start_time": "2021-07-07T14:51:59.071Z"
   },
   {
    "duration": 37,
    "start_time": "2021-07-07T14:51:59.077Z"
   },
   {
    "duration": 18,
    "start_time": "2021-07-07T14:51:59.116Z"
   },
   {
    "duration": 10,
    "start_time": "2021-07-07T14:51:59.137Z"
   },
   {
    "duration": 8,
    "start_time": "2021-07-07T14:51:59.149Z"
   },
   {
    "duration": 54,
    "start_time": "2021-07-07T14:51:59.158Z"
   },
   {
    "duration": 18,
    "start_time": "2021-07-07T14:51:59.213Z"
   },
   {
    "duration": 22,
    "start_time": "2021-07-07T14:51:59.232Z"
   },
   {
    "duration": 36,
    "start_time": "2021-07-07T14:51:59.255Z"
   },
   {
    "duration": 7,
    "start_time": "2021-07-07T14:51:59.293Z"
   },
   {
    "duration": 10,
    "start_time": "2021-07-07T14:51:59.302Z"
   },
   {
    "duration": 9,
    "start_time": "2021-07-07T14:51:59.313Z"
   },
   {
    "duration": 11,
    "start_time": "2021-07-07T14:51:59.324Z"
   },
   {
    "duration": 8,
    "start_time": "2021-07-07T14:51:59.337Z"
   },
   {
    "duration": 46,
    "start_time": "2021-07-07T14:51:59.347Z"
   },
   {
    "duration": 22,
    "start_time": "2021-07-07T14:51:59.395Z"
   },
   {
    "duration": 24,
    "start_time": "2021-07-07T14:57:32.911Z"
   },
   {
    "duration": 7,
    "start_time": "2021-07-07T14:58:22.070Z"
   },
   {
    "duration": 4,
    "start_time": "2021-07-07T14:59:11.239Z"
   },
   {
    "duration": 25,
    "start_time": "2021-07-07T15:07:22.208Z"
   },
   {
    "duration": 16,
    "start_time": "2021-07-07T15:08:25.560Z"
   },
   {
    "duration": 15,
    "start_time": "2021-07-07T15:08:40.647Z"
   },
   {
    "duration": 14,
    "start_time": "2021-07-07T15:08:46.669Z"
   },
   {
    "duration": 533,
    "start_time": "2021-07-07T15:18:07.440Z"
   },
   {
    "duration": 173,
    "start_time": "2021-07-07T15:18:07.974Z"
   },
   {
    "duration": 84,
    "start_time": "2021-07-07T15:18:08.149Z"
   },
   {
    "duration": 3,
    "start_time": "2021-07-07T15:18:08.235Z"
   },
   {
    "duration": 30,
    "start_time": "2021-07-07T15:18:08.240Z"
   },
   {
    "duration": 22,
    "start_time": "2021-07-07T15:18:08.272Z"
   },
   {
    "duration": 11,
    "start_time": "2021-07-07T15:18:08.295Z"
   },
   {
    "duration": 11,
    "start_time": "2021-07-07T15:18:08.309Z"
   },
   {
    "duration": 40,
    "start_time": "2021-07-07T15:18:08.322Z"
   },
   {
    "duration": 42,
    "start_time": "2021-07-07T15:18:08.364Z"
   },
   {
    "duration": 22,
    "start_time": "2021-07-07T15:18:08.408Z"
   },
   {
    "duration": 5,
    "start_time": "2021-07-07T15:18:08.432Z"
   },
   {
    "duration": 13,
    "start_time": "2021-07-07T15:18:08.439Z"
   },
   {
    "duration": 9,
    "start_time": "2021-07-07T15:18:08.454Z"
   },
   {
    "duration": 32,
    "start_time": "2021-07-07T15:18:08.465Z"
   },
   {
    "duration": 10,
    "start_time": "2021-07-07T15:18:08.501Z"
   },
   {
    "duration": 7,
    "start_time": "2021-07-07T15:18:08.513Z"
   },
   {
    "duration": 11,
    "start_time": "2021-07-07T15:18:08.521Z"
   },
   {
    "duration": 17,
    "start_time": "2021-07-07T15:18:08.534Z"
   },
   {
    "duration": 44,
    "start_time": "2021-07-07T15:18:08.553Z"
   },
   {
    "duration": 22,
    "start_time": "2021-07-07T15:18:08.599Z"
   },
   {
    "duration": 61,
    "start_time": "2021-07-07T15:18:08.622Z"
   },
   {
    "duration": 7,
    "start_time": "2021-07-07T15:18:39.457Z"
   },
   {
    "duration": 5,
    "start_time": "2021-07-07T16:05:17.020Z"
   },
   {
    "duration": 5,
    "start_time": "2021-07-07T16:51:28.794Z"
   },
   {
    "duration": 546,
    "start_time": "2021-07-07T16:52:26.306Z"
   },
   {
    "duration": 203,
    "start_time": "2021-07-07T16:52:27.523Z"
   },
   {
    "duration": 85,
    "start_time": "2021-07-07T16:52:27.736Z"
   },
   {
    "duration": 4,
    "start_time": "2021-07-07T16:52:27.899Z"
   },
   {
    "duration": 25,
    "start_time": "2021-07-07T16:52:28.674Z"
   },
   {
    "duration": 8,
    "start_time": "2021-07-07T16:52:32.956Z"
   },
   {
    "duration": 18,
    "start_time": "2021-07-07T16:52:35.616Z"
   },
   {
    "duration": 6,
    "start_time": "2021-07-07T16:52:36.913Z"
   },
   {
    "duration": 11,
    "start_time": "2021-07-07T16:52:40.258Z"
   },
   {
    "duration": 10,
    "start_time": "2021-07-07T16:52:46.251Z"
   },
   {
    "duration": 8,
    "start_time": "2021-07-07T16:52:47.182Z"
   },
   {
    "duration": 27,
    "start_time": "2021-07-07T16:53:20.391Z"
   },
   {
    "duration": 20,
    "start_time": "2021-07-07T16:53:22.022Z"
   },
   {
    "duration": 23,
    "start_time": "2021-07-07T16:53:23.690Z"
   },
   {
    "duration": 8,
    "start_time": "2021-07-07T16:53:24.261Z"
   },
   {
    "duration": 4,
    "start_time": "2021-07-07T16:53:38.733Z"
   },
   {
    "duration": 7,
    "start_time": "2021-07-07T16:53:40.445Z"
   },
   {
    "duration": 11,
    "start_time": "2021-07-07T16:53:41.348Z"
   },
   {
    "duration": 13,
    "start_time": "2021-07-07T16:53:45.250Z"
   },
   {
    "duration": 12,
    "start_time": "2021-07-07T16:53:45.467Z"
   },
   {
    "duration": 4,
    "start_time": "2021-07-07T16:55:32.704Z"
   },
   {
    "duration": 12,
    "start_time": "2021-07-07T16:55:49.012Z"
   },
   {
    "duration": 18,
    "start_time": "2021-07-07T16:55:49.547Z"
   },
   {
    "duration": 611,
    "start_time": "2021-07-07T16:58:35.156Z"
   },
   {
    "duration": 200,
    "start_time": "2021-07-07T16:58:35.770Z"
   },
   {
    "duration": 86,
    "start_time": "2021-07-07T16:58:35.972Z"
   },
   {
    "duration": 3,
    "start_time": "2021-07-07T16:58:36.060Z"
   },
   {
    "duration": 27,
    "start_time": "2021-07-07T16:58:36.065Z"
   },
   {
    "duration": 8,
    "start_time": "2021-07-07T16:58:36.094Z"
   },
   {
    "duration": 17,
    "start_time": "2021-07-07T16:58:36.103Z"
   },
   {
    "duration": 5,
    "start_time": "2021-07-07T16:58:36.123Z"
   },
   {
    "duration": 11,
    "start_time": "2021-07-07T16:58:36.130Z"
   },
   {
    "duration": 7,
    "start_time": "2021-07-07T16:58:36.143Z"
   },
   {
    "duration": 37,
    "start_time": "2021-07-07T16:58:36.152Z"
   },
   {
    "duration": 27,
    "start_time": "2021-07-07T16:58:36.191Z"
   },
   {
    "duration": 19,
    "start_time": "2021-07-07T16:58:36.219Z"
   },
   {
    "duration": 49,
    "start_time": "2021-07-07T16:58:36.240Z"
   },
   {
    "duration": 6,
    "start_time": "2021-07-07T16:58:36.291Z"
   },
   {
    "duration": 3,
    "start_time": "2021-07-07T16:58:36.299Z"
   },
   {
    "duration": 13,
    "start_time": "2021-07-07T16:58:36.304Z"
   },
   {
    "duration": 10,
    "start_time": "2021-07-07T16:58:36.319Z"
   },
   {
    "duration": 10,
    "start_time": "2021-07-07T16:58:36.331Z"
   },
   {
    "duration": 44,
    "start_time": "2021-07-07T16:58:36.343Z"
   },
   {
    "duration": 4,
    "start_time": "2021-07-07T16:58:36.388Z"
   },
   {
    "duration": 13,
    "start_time": "2021-07-07T16:58:36.394Z"
   },
   {
    "duration": 16,
    "start_time": "2021-07-07T16:58:36.410Z"
   },
   {
    "duration": 8,
    "start_time": "2021-07-07T17:02:31.629Z"
   },
   {
    "duration": 8,
    "start_time": "2021-07-07T17:02:34.308Z"
   },
   {
    "duration": 6,
    "start_time": "2021-07-07T17:05:13.483Z"
   },
   {
    "duration": 17,
    "start_time": "2021-07-07T17:05:20.606Z"
   },
   {
    "duration": 7,
    "start_time": "2021-07-07T17:05:34.638Z"
   },
   {
    "duration": 3,
    "start_time": "2021-07-07T17:06:31.883Z"
   },
   {
    "duration": 570,
    "start_time": "2021-07-07T17:06:37.165Z"
   },
   {
    "duration": 174,
    "start_time": "2021-07-07T17:06:37.737Z"
   },
   {
    "duration": 47,
    "start_time": "2021-07-07T17:06:37.913Z"
   },
   {
    "duration": 3,
    "start_time": "2021-07-07T17:06:37.962Z"
   },
   {
    "duration": 27,
    "start_time": "2021-07-07T17:06:37.967Z"
   },
   {
    "duration": 7,
    "start_time": "2021-07-07T17:06:37.996Z"
   },
   {
    "duration": 16,
    "start_time": "2021-07-07T17:06:38.005Z"
   },
   {
    "duration": 6,
    "start_time": "2021-07-07T17:06:38.024Z"
   },
   {
    "duration": 12,
    "start_time": "2021-07-07T17:06:38.031Z"
   },
   {
    "duration": 41,
    "start_time": "2021-07-07T17:06:38.045Z"
   },
   {
    "duration": 8,
    "start_time": "2021-07-07T17:06:38.088Z"
   },
   {
    "duration": 26,
    "start_time": "2021-07-07T17:06:38.098Z"
   },
   {
    "duration": 17,
    "start_time": "2021-07-07T17:06:38.126Z"
   },
   {
    "duration": 43,
    "start_time": "2021-07-07T17:06:38.144Z"
   },
   {
    "duration": 6,
    "start_time": "2021-07-07T17:06:38.188Z"
   },
   {
    "duration": 5,
    "start_time": "2021-07-07T17:06:38.195Z"
   },
   {
    "duration": 9,
    "start_time": "2021-07-07T17:06:38.201Z"
   },
   {
    "duration": 12,
    "start_time": "2021-07-07T17:06:38.212Z"
   },
   {
    "duration": 11,
    "start_time": "2021-07-07T17:06:38.226Z"
   },
   {
    "duration": 47,
    "start_time": "2021-07-07T17:06:38.239Z"
   },
   {
    "duration": 4,
    "start_time": "2021-07-07T17:06:38.288Z"
   },
   {
    "duration": 13,
    "start_time": "2021-07-07T17:06:38.293Z"
   },
   {
    "duration": 5,
    "start_time": "2021-07-07T17:06:38.309Z"
   },
   {
    "duration": 18,
    "start_time": "2021-07-07T17:06:38.325Z"
   },
   {
    "duration": 20,
    "start_time": "2021-07-07T17:07:02.805Z"
   },
   {
    "duration": 19,
    "start_time": "2021-07-07T17:07:08.527Z"
   },
   {
    "duration": 19,
    "start_time": "2021-07-07T17:07:12.758Z"
   },
   {
    "duration": 22,
    "start_time": "2021-07-07T17:07:17.497Z"
   },
   {
    "duration": 19,
    "start_time": "2021-07-07T17:07:19.645Z"
   },
   {
    "duration": 10,
    "start_time": "2021-07-07T17:07:34.239Z"
   },
   {
    "duration": 17,
    "start_time": "2021-07-07T17:07:54.144Z"
   },
   {
    "duration": 14,
    "start_time": "2021-07-07T17:08:14.357Z"
   },
   {
    "duration": 616,
    "start_time": "2021-07-07T17:08:45.254Z"
   },
   {
    "duration": 178,
    "start_time": "2021-07-07T17:08:45.872Z"
   },
   {
    "duration": 60,
    "start_time": "2021-07-07T17:08:46.054Z"
   },
   {
    "duration": 3,
    "start_time": "2021-07-07T17:08:46.116Z"
   },
   {
    "duration": 26,
    "start_time": "2021-07-07T17:08:46.121Z"
   },
   {
    "duration": 7,
    "start_time": "2021-07-07T17:08:46.149Z"
   },
   {
    "duration": 17,
    "start_time": "2021-07-07T17:08:46.158Z"
   },
   {
    "duration": 14,
    "start_time": "2021-07-07T17:08:46.176Z"
   },
   {
    "duration": 17,
    "start_time": "2021-07-07T17:08:46.193Z"
   },
   {
    "duration": 9,
    "start_time": "2021-07-07T17:08:46.211Z"
   },
   {
    "duration": 21,
    "start_time": "2021-07-07T17:08:46.221Z"
   },
   {
    "duration": 49,
    "start_time": "2021-07-07T17:08:46.244Z"
   },
   {
    "duration": 24,
    "start_time": "2021-07-07T17:08:46.295Z"
   },
   {
    "duration": 22,
    "start_time": "2021-07-07T17:08:46.321Z"
   },
   {
    "duration": 6,
    "start_time": "2021-07-07T17:08:46.345Z"
   },
   {
    "duration": 5,
    "start_time": "2021-07-07T17:08:46.353Z"
   },
   {
    "duration": 13,
    "start_time": "2021-07-07T17:08:46.386Z"
   },
   {
    "duration": 12,
    "start_time": "2021-07-07T17:08:46.402Z"
   },
   {
    "duration": 10,
    "start_time": "2021-07-07T17:08:46.415Z"
   },
   {
    "duration": 7,
    "start_time": "2021-07-07T17:08:46.427Z"
   },
   {
    "duration": 8,
    "start_time": "2021-07-07T17:08:46.435Z"
   },
   {
    "duration": 68,
    "start_time": "2021-07-07T17:08:46.446Z"
   },
   {
    "duration": 13,
    "start_time": "2021-07-07T17:08:46.516Z"
   },
   {
    "duration": 78,
    "start_time": "2021-07-07T17:08:46.530Z"
   },
   {
    "duration": 40,
    "start_time": "2021-07-07T17:09:08.185Z"
   },
   {
    "duration": 16,
    "start_time": "2021-07-07T17:09:19.324Z"
   },
   {
    "duration": 21,
    "start_time": "2021-07-07T17:09:23.290Z"
   },
   {
    "duration": 13,
    "start_time": "2021-07-07T17:09:54.812Z"
   },
   {
    "duration": 13,
    "start_time": "2021-07-07T17:10:02.039Z"
   },
   {
    "duration": 10,
    "start_time": "2021-07-07T17:10:29.632Z"
   },
   {
    "duration": 13,
    "start_time": "2021-07-07T17:10:52.372Z"
   },
   {
    "duration": 13,
    "start_time": "2021-07-07T17:11:17.270Z"
   },
   {
    "duration": 13,
    "start_time": "2021-07-07T17:14:59.284Z"
   },
   {
    "duration": 547,
    "start_time": "2021-07-07T17:18:52.403Z"
   },
   {
    "duration": 163,
    "start_time": "2021-07-07T17:18:52.952Z"
   },
   {
    "duration": 44,
    "start_time": "2021-07-07T17:18:53.117Z"
   },
   {
    "duration": 3,
    "start_time": "2021-07-07T17:18:53.162Z"
   },
   {
    "duration": 26,
    "start_time": "2021-07-07T17:18:53.167Z"
   },
   {
    "duration": 6,
    "start_time": "2021-07-07T17:18:53.195Z"
   },
   {
    "duration": 15,
    "start_time": "2021-07-07T17:18:53.203Z"
   },
   {
    "duration": 5,
    "start_time": "2021-07-07T17:18:53.220Z"
   },
   {
    "duration": 11,
    "start_time": "2021-07-07T17:18:53.228Z"
   },
   {
    "duration": 9,
    "start_time": "2021-07-07T17:18:53.241Z"
   },
   {
    "duration": 41,
    "start_time": "2021-07-07T17:18:53.252Z"
   },
   {
    "duration": 33,
    "start_time": "2021-07-07T17:18:53.295Z"
   },
   {
    "duration": 19,
    "start_time": "2021-07-07T17:18:53.330Z"
   },
   {
    "duration": 49,
    "start_time": "2021-07-07T17:18:53.350Z"
   },
   {
    "duration": 5,
    "start_time": "2021-07-07T17:18:53.401Z"
   },
   {
    "duration": 5,
    "start_time": "2021-07-07T17:18:53.408Z"
   },
   {
    "duration": 11,
    "start_time": "2021-07-07T17:18:53.414Z"
   },
   {
    "duration": 9,
    "start_time": "2021-07-07T17:18:53.427Z"
   },
   {
    "duration": 10,
    "start_time": "2021-07-07T17:18:53.437Z"
   },
   {
    "duration": 39,
    "start_time": "2021-07-07T17:18:53.448Z"
   },
   {
    "duration": 26,
    "start_time": "2021-07-07T17:18:55.799Z"
   },
   {
    "duration": 598,
    "start_time": "2021-07-07T17:20:17.862Z"
   },
   {
    "duration": 161,
    "start_time": "2021-07-07T17:20:18.462Z"
   },
   {
    "duration": 45,
    "start_time": "2021-07-07T17:20:18.626Z"
   },
   {
    "duration": 4,
    "start_time": "2021-07-07T17:20:18.673Z"
   },
   {
    "duration": 38,
    "start_time": "2021-07-07T17:20:26.877Z"
   },
   {
    "duration": 7,
    "start_time": "2021-07-07T17:20:37.405Z"
   },
   {
    "duration": 19,
    "start_time": "2021-07-07T17:20:51.534Z"
   },
   {
    "duration": 5,
    "start_time": "2021-07-07T17:20:57.228Z"
   },
   {
    "duration": 7,
    "start_time": "2021-07-07T17:21:08.235Z"
   },
   {
    "duration": 19,
    "start_time": "2021-07-07T17:21:42.158Z"
   },
   {
    "duration": 14,
    "start_time": "2021-07-07T17:21:50.225Z"
   },
   {
    "duration": 22,
    "start_time": "2021-07-07T17:22:54.104Z"
   },
   {
    "duration": 5,
    "start_time": "2021-07-07T17:22:56.371Z"
   },
   {
    "duration": 14,
    "start_time": "2021-07-07T17:22:58.316Z"
   },
   {
    "duration": 5,
    "start_time": "2021-07-07T17:22:58.493Z"
   },
   {
    "duration": 35,
    "start_time": "2021-07-07T17:22:59.666Z"
   },
   {
    "duration": 6,
    "start_time": "2021-07-07T17:23:02.410Z"
   },
   {
    "duration": 611,
    "start_time": "2021-07-07T17:24:59.664Z"
   },
   {
    "duration": 178,
    "start_time": "2021-07-07T17:25:01.945Z"
   },
   {
    "duration": 47,
    "start_time": "2021-07-07T17:25:02.125Z"
   },
   {
    "duration": 2,
    "start_time": "2021-07-07T17:25:07.903Z"
   },
   {
    "duration": 254,
    "start_time": "2021-07-07T17:25:08.232Z"
   },
   {
    "duration": 182,
    "start_time": "2021-07-07T17:25:08.671Z"
   },
   {
    "duration": 6,
    "start_time": "2021-07-07T17:25:13.104Z"
   },
   {
    "duration": 36,
    "start_time": "2021-07-07T17:25:13.662Z"
   },
   {
    "duration": 7,
    "start_time": "2021-07-07T17:25:14.528Z"
   },
   {
    "duration": 24,
    "start_time": "2021-07-07T17:25:27.982Z"
   },
   {
    "duration": 3,
    "start_time": "2021-07-07T17:25:48.982Z"
   },
   {
    "duration": 165,
    "start_time": "2021-07-07T17:25:48.987Z"
   },
   {
    "duration": 50,
    "start_time": "2021-07-07T17:25:49.154Z"
   },
   {
    "duration": 4,
    "start_time": "2021-07-07T17:25:49.206Z"
   },
   {
    "duration": 26,
    "start_time": "2021-07-07T17:25:49.212Z"
   },
   {
    "duration": 7,
    "start_time": "2021-07-07T17:25:49.240Z"
   },
   {
    "duration": 16,
    "start_time": "2021-07-07T17:25:49.249Z"
   },
   {
    "duration": 22,
    "start_time": "2021-07-07T17:25:49.266Z"
   },
   {
    "duration": 16,
    "start_time": "2021-07-07T17:25:49.291Z"
   },
   {
    "duration": 9,
    "start_time": "2021-07-07T17:25:49.309Z"
   },
   {
    "duration": 7,
    "start_time": "2021-07-07T17:25:49.319Z"
   },
   {
    "duration": 28,
    "start_time": "2021-07-07T17:25:49.328Z"
   },
   {
    "duration": 44,
    "start_time": "2021-07-07T17:25:49.357Z"
   },
   {
    "duration": 22,
    "start_time": "2021-07-07T17:25:49.403Z"
   },
   {
    "duration": 7,
    "start_time": "2021-07-07T17:25:49.427Z"
   },
   {
    "duration": 3,
    "start_time": "2021-07-07T17:25:49.436Z"
   },
   {
    "duration": 44,
    "start_time": "2021-07-07T17:25:49.441Z"
   },
   {
    "duration": 12,
    "start_time": "2021-07-07T17:25:49.488Z"
   },
   {
    "duration": 13,
    "start_time": "2021-07-07T17:25:49.502Z"
   },
   {
    "duration": 10,
    "start_time": "2021-07-07T17:25:49.516Z"
   },
   {
    "duration": 62,
    "start_time": "2021-07-07T17:25:49.527Z"
   },
   {
    "duration": 26,
    "start_time": "2021-07-07T17:26:51.809Z"
   },
   {
    "duration": 26,
    "start_time": "2021-07-07T17:26:55.759Z"
   },
   {
    "duration": 26,
    "start_time": "2021-07-07T17:27:04.501Z"
   },
   {
    "duration": 25,
    "start_time": "2021-07-07T17:28:24.859Z"
   },
   {
    "duration": 21,
    "start_time": "2021-07-07T17:28:55.250Z"
   },
   {
    "duration": 21,
    "start_time": "2021-07-07T17:28:58.885Z"
   },
   {
    "duration": 7,
    "start_time": "2021-07-07T17:45:40.972Z"
   },
   {
    "duration": 13,
    "start_time": "2021-07-07T17:45:42.529Z"
   },
   {
    "duration": 27,
    "start_time": "2021-07-07T17:45:51.026Z"
   },
   {
    "duration": 518,
    "start_time": "2021-07-07T17:46:15.532Z"
   },
   {
    "duration": 235,
    "start_time": "2021-07-07T17:46:16.053Z"
   },
   {
    "duration": 80,
    "start_time": "2021-07-07T17:46:16.292Z"
   },
   {
    "duration": 5,
    "start_time": "2021-07-07T17:46:16.373Z"
   },
   {
    "duration": 26,
    "start_time": "2021-07-07T17:46:16.380Z"
   },
   {
    "duration": 7,
    "start_time": "2021-07-07T17:46:16.408Z"
   },
   {
    "duration": 16,
    "start_time": "2021-07-07T17:46:16.418Z"
   },
   {
    "duration": 5,
    "start_time": "2021-07-07T17:46:16.436Z"
   },
   {
    "duration": 13,
    "start_time": "2021-07-07T17:46:16.442Z"
   },
   {
    "duration": 35,
    "start_time": "2021-07-07T17:46:16.456Z"
   },
   {
    "duration": 8,
    "start_time": "2021-07-07T17:46:16.493Z"
   },
   {
    "duration": 28,
    "start_time": "2021-07-07T17:46:16.502Z"
   },
   {
    "duration": 17,
    "start_time": "2021-07-07T17:46:16.532Z"
   },
   {
    "duration": 44,
    "start_time": "2021-07-07T17:46:16.551Z"
   },
   {
    "duration": 6,
    "start_time": "2021-07-07T17:46:16.597Z"
   },
   {
    "duration": 4,
    "start_time": "2021-07-07T17:46:16.605Z"
   },
   {
    "duration": 9,
    "start_time": "2021-07-07T17:46:16.610Z"
   },
   {
    "duration": 9,
    "start_time": "2021-07-07T17:46:16.621Z"
   },
   {
    "duration": 10,
    "start_time": "2021-07-07T17:46:16.632Z"
   },
   {
    "duration": 43,
    "start_time": "2021-07-07T17:46:16.644Z"
   },
   {
    "duration": 26,
    "start_time": "2021-07-07T17:46:16.689Z"
   },
   {
    "duration": 19,
    "start_time": "2021-07-07T17:46:16.718Z"
   },
   {
    "duration": 8,
    "start_time": "2021-07-07T17:46:16.738Z"
   },
   {
    "duration": 43,
    "start_time": "2021-07-07T17:46:16.747Z"
   },
   {
    "duration": 19,
    "start_time": "2021-07-07T17:46:16.791Z"
   },
   {
    "duration": 9,
    "start_time": "2021-07-07T17:46:16.812Z"
   },
   {
    "duration": 60,
    "start_time": "2021-07-07T17:46:16.822Z"
   },
   {
    "duration": -8,
    "start_time": "2021-07-07T17:46:16.892Z"
   },
   {
    "duration": 12,
    "start_time": "2021-07-07T17:48:47.707Z"
   },
   {
    "duration": 553,
    "start_time": "2021-07-07T18:10:09.350Z"
   },
   {
    "duration": 230,
    "start_time": "2021-07-07T18:10:09.905Z"
   },
   {
    "duration": 97,
    "start_time": "2021-07-07T18:10:10.137Z"
   },
   {
    "duration": 5,
    "start_time": "2021-07-07T18:10:10.236Z"
   },
   {
    "duration": 29,
    "start_time": "2021-07-07T18:10:10.242Z"
   },
   {
    "duration": 7,
    "start_time": "2021-07-07T18:10:10.272Z"
   },
   {
    "duration": 15,
    "start_time": "2021-07-07T18:10:10.281Z"
   },
   {
    "duration": 4,
    "start_time": "2021-07-07T18:10:10.299Z"
   },
   {
    "duration": 14,
    "start_time": "2021-07-07T18:10:10.305Z"
   },
   {
    "duration": 8,
    "start_time": "2021-07-07T18:10:10.321Z"
   },
   {
    "duration": 8,
    "start_time": "2021-07-07T18:10:10.331Z"
   },
   {
    "duration": 56,
    "start_time": "2021-07-07T18:10:10.341Z"
   },
   {
    "duration": 19,
    "start_time": "2021-07-07T18:10:10.399Z"
   },
   {
    "duration": 23,
    "start_time": "2021-07-07T18:10:10.419Z"
   },
   {
    "duration": 6,
    "start_time": "2021-07-07T18:10:10.444Z"
   },
   {
    "duration": 9,
    "start_time": "2021-07-07T18:10:10.451Z"
   },
   {
    "duration": 30,
    "start_time": "2021-07-07T18:10:10.462Z"
   },
   {
    "duration": 9,
    "start_time": "2021-07-07T18:10:10.494Z"
   },
   {
    "duration": 14,
    "start_time": "2021-07-07T18:10:10.505Z"
   },
   {
    "duration": 7,
    "start_time": "2021-07-07T18:10:10.521Z"
   },
   {
    "duration": 26,
    "start_time": "2021-07-07T18:10:10.530Z"
   },
   {
    "duration": 44,
    "start_time": "2021-07-07T18:10:10.558Z"
   },
   {
    "duration": 7,
    "start_time": "2021-07-07T18:10:10.605Z"
   },
   {
    "duration": 11,
    "start_time": "2021-07-07T18:10:10.614Z"
   },
   {
    "duration": 19,
    "start_time": "2021-07-07T18:10:10.626Z"
   },
   {
    "duration": 44,
    "start_time": "2021-07-07T18:10:10.646Z"
   },
   {
    "duration": 516,
    "start_time": "2021-07-07T18:14:00.826Z"
   },
   {
    "duration": 230,
    "start_time": "2021-07-07T18:14:01.344Z"
   },
   {
    "duration": 105,
    "start_time": "2021-07-07T18:14:01.576Z"
   },
   {
    "duration": 5,
    "start_time": "2021-07-07T18:14:01.683Z"
   },
   {
    "duration": 46,
    "start_time": "2021-07-07T18:14:01.690Z"
   },
   {
    "duration": 7,
    "start_time": "2021-07-07T18:14:01.738Z"
   },
   {
    "duration": 20,
    "start_time": "2021-07-07T18:14:01.747Z"
   },
   {
    "duration": 16,
    "start_time": "2021-07-07T18:14:01.769Z"
   },
   {
    "duration": 14,
    "start_time": "2021-07-07T18:14:01.787Z"
   },
   {
    "duration": 15,
    "start_time": "2021-07-07T18:14:01.803Z"
   },
   {
    "duration": 12,
    "start_time": "2021-07-07T18:14:01.820Z"
   },
   {
    "duration": 35,
    "start_time": "2021-07-07T18:14:01.833Z"
   },
   {
    "duration": 31,
    "start_time": "2021-07-07T18:14:01.869Z"
   },
   {
    "duration": 37,
    "start_time": "2021-07-07T18:14:01.902Z"
   },
   {
    "duration": 8,
    "start_time": "2021-07-07T18:14:01.942Z"
   },
   {
    "duration": 16,
    "start_time": "2021-07-07T18:14:01.952Z"
   },
   {
    "duration": 13,
    "start_time": "2021-07-07T18:14:01.970Z"
   },
   {
    "duration": 32,
    "start_time": "2021-07-07T18:14:01.985Z"
   },
   {
    "duration": 11,
    "start_time": "2021-07-07T18:14:02.019Z"
   },
   {
    "duration": 22,
    "start_time": "2021-07-07T18:14:02.031Z"
   },
   {
    "duration": 27,
    "start_time": "2021-07-07T18:14:02.055Z"
   },
   {
    "duration": 18,
    "start_time": "2021-07-07T18:14:02.084Z"
   },
   {
    "duration": 18,
    "start_time": "2021-07-07T18:14:02.106Z"
   },
   {
    "duration": 11,
    "start_time": "2021-07-07T18:14:02.126Z"
   },
   {
    "duration": 21,
    "start_time": "2021-07-07T18:14:02.138Z"
   },
   {
    "duration": 32,
    "start_time": "2021-07-07T18:14:02.161Z"
   },
   {
    "duration": 28,
    "start_time": "2021-07-07T18:14:44.295Z"
   },
   {
    "duration": 6,
    "start_time": "2021-07-07T18:15:05.834Z"
   },
   {
    "duration": 511,
    "start_time": "2021-07-07T18:15:41.541Z"
   },
   {
    "duration": 183,
    "start_time": "2021-07-07T18:15:42.054Z"
   },
   {
    "duration": 50,
    "start_time": "2021-07-07T18:15:42.239Z"
   },
   {
    "duration": 5,
    "start_time": "2021-07-07T18:15:42.291Z"
   },
   {
    "duration": 48,
    "start_time": "2021-07-07T18:15:42.297Z"
   },
   {
    "duration": 8,
    "start_time": "2021-07-07T18:15:42.346Z"
   },
   {
    "duration": 17,
    "start_time": "2021-07-07T18:15:42.356Z"
   },
   {
    "duration": 15,
    "start_time": "2021-07-07T18:15:42.375Z"
   },
   {
    "duration": 12,
    "start_time": "2021-07-07T18:15:42.392Z"
   },
   {
    "duration": 7,
    "start_time": "2021-07-07T18:15:42.406Z"
   },
   {
    "duration": 7,
    "start_time": "2021-07-07T18:15:42.415Z"
   },
   {
    "duration": 29,
    "start_time": "2021-07-07T18:15:42.423Z"
   },
   {
    "duration": 43,
    "start_time": "2021-07-07T18:15:42.453Z"
   },
   {
    "duration": 18,
    "start_time": "2021-07-07T18:15:42.497Z"
   },
   {
    "duration": 6,
    "start_time": "2021-07-07T18:15:42.516Z"
   },
   {
    "duration": 3,
    "start_time": "2021-07-07T18:15:42.523Z"
   },
   {
    "duration": 18,
    "start_time": "2021-07-07T18:15:42.528Z"
   },
   {
    "duration": 10,
    "start_time": "2021-07-07T18:15:42.547Z"
   },
   {
    "duration": 36,
    "start_time": "2021-07-07T18:15:42.559Z"
   },
   {
    "duration": 8,
    "start_time": "2021-07-07T18:15:42.597Z"
   },
   {
    "duration": 28,
    "start_time": "2021-07-07T18:15:42.606Z"
   },
   {
    "duration": 52,
    "start_time": "2021-07-07T18:15:42.635Z"
   },
   {
    "duration": 7,
    "start_time": "2021-07-07T18:15:42.690Z"
   },
   {
    "duration": 10,
    "start_time": "2021-07-07T18:15:42.699Z"
   },
   {
    "duration": 19,
    "start_time": "2021-07-07T18:15:42.711Z"
   },
   {
    "duration": 9,
    "start_time": "2021-07-07T18:15:42.732Z"
   },
   {
    "duration": 5,
    "start_time": "2021-07-07T18:15:42.743Z"
   },
   {
    "duration": 1450,
    "start_time": "2021-07-07T18:15:51.984Z"
   },
   {
    "duration": 161,
    "start_time": "2021-07-07T18:15:53.435Z"
   },
   {
    "duration": 124,
    "start_time": "2021-07-07T18:15:53.598Z"
   },
   {
    "duration": 5,
    "start_time": "2021-07-07T18:15:53.724Z"
   },
   {
    "duration": 34,
    "start_time": "2021-07-07T18:15:53.730Z"
   },
   {
    "duration": 7,
    "start_time": "2021-07-07T18:15:53.765Z"
   },
   {
    "duration": 15,
    "start_time": "2021-07-07T18:15:53.773Z"
   },
   {
    "duration": 5,
    "start_time": "2021-07-07T18:15:53.791Z"
   },
   {
    "duration": 19,
    "start_time": "2021-07-07T18:15:53.798Z"
   },
   {
    "duration": 9,
    "start_time": "2021-07-07T18:15:53.818Z"
   },
   {
    "duration": 19,
    "start_time": "2021-07-07T18:15:53.828Z"
   },
   {
    "duration": 27,
    "start_time": "2021-07-07T18:15:53.848Z"
   },
   {
    "duration": 16,
    "start_time": "2021-07-07T18:15:53.884Z"
   },
   {
    "duration": 29,
    "start_time": "2021-07-07T18:15:53.901Z"
   },
   {
    "duration": 5,
    "start_time": "2021-07-07T18:15:53.932Z"
   },
   {
    "duration": 15,
    "start_time": "2021-07-07T18:15:53.939Z"
   },
   {
    "duration": 13,
    "start_time": "2021-07-07T18:15:53.956Z"
   },
   {
    "duration": 20,
    "start_time": "2021-07-07T18:15:53.971Z"
   },
   {
    "duration": 14,
    "start_time": "2021-07-07T18:15:53.992Z"
   },
   {
    "duration": 9,
    "start_time": "2021-07-07T18:15:54.009Z"
   },
   {
    "duration": 28,
    "start_time": "2021-07-07T18:15:54.020Z"
   },
   {
    "duration": 50,
    "start_time": "2021-07-07T18:15:54.051Z"
   },
   {
    "duration": 8,
    "start_time": "2021-07-07T18:15:54.105Z"
   },
   {
    "duration": 11,
    "start_time": "2021-07-07T18:15:54.115Z"
   },
   {
    "duration": 20,
    "start_time": "2021-07-07T18:15:54.128Z"
   },
   {
    "duration": 13,
    "start_time": "2021-07-07T18:15:54.184Z"
   },
   {
    "duration": 7,
    "start_time": "2021-07-07T18:15:54.199Z"
   },
   {
    "duration": 7,
    "start_time": "2021-07-07T18:17:08.042Z"
   },
   {
    "duration": 8,
    "start_time": "2021-07-07T18:17:21.008Z"
   },
   {
    "duration": 7,
    "start_time": "2021-07-07T18:17:29.003Z"
   },
   {
    "duration": 8,
    "start_time": "2021-07-07T18:17:32.492Z"
   },
   {
    "duration": 9,
    "start_time": "2021-07-07T18:17:41.758Z"
   },
   {
    "duration": 255,
    "start_time": "2021-07-07T18:20:20.897Z"
   },
   {
    "duration": 173,
    "start_time": "2021-07-07T18:20:26.636Z"
   },
   {
    "duration": 7,
    "start_time": "2021-07-07T18:21:47.164Z"
   },
   {
    "duration": 254,
    "start_time": "2021-07-07T18:23:08.703Z"
   },
   {
    "duration": 21,
    "start_time": "2021-07-07T18:23:22.506Z"
   },
   {
    "duration": 315,
    "start_time": "2021-07-07T18:25:54.801Z"
   },
   {
    "duration": 34,
    "start_time": "2021-07-07T18:26:51.817Z"
   },
   {
    "duration": 327,
    "start_time": "2021-07-07T18:26:56.147Z"
   },
   {
    "duration": 342,
    "start_time": "2021-07-07T18:27:15.887Z"
   },
   {
    "duration": 302,
    "start_time": "2021-07-07T18:28:18.569Z"
   },
   {
    "duration": 226,
    "start_time": "2021-07-07T18:29:20.879Z"
   },
   {
    "duration": 207,
    "start_time": "2021-07-07T18:29:58.114Z"
   },
   {
    "duration": 140,
    "start_time": "2021-07-07T18:32:04.372Z"
   },
   {
    "duration": 158,
    "start_time": "2021-07-07T18:32:32.508Z"
   },
   {
    "duration": 145,
    "start_time": "2021-07-07T18:32:41.365Z"
   },
   {
    "duration": 132,
    "start_time": "2021-07-07T18:32:45.199Z"
   },
   {
    "duration": 11,
    "start_time": "2021-07-07T18:35:24.679Z"
   },
   {
    "duration": 268,
    "start_time": "2021-07-07T18:36:16.145Z"
   },
   {
    "duration": 227,
    "start_time": "2021-07-07T18:37:04.918Z"
   },
   {
    "duration": 3,
    "start_time": "2021-07-07T18:37:33.012Z"
   },
   {
    "duration": 671,
    "start_time": "2021-07-07T18:37:38.295Z"
   },
   {
    "duration": 54,
    "start_time": "2021-07-07T18:37:53.406Z"
   },
   {
    "duration": 631,
    "start_time": "2021-07-07T18:37:56.463Z"
   },
   {
    "duration": 19,
    "start_time": "2021-07-07T18:39:40.535Z"
   },
   {
    "duration": 20,
    "start_time": "2021-07-07T18:40:12.236Z"
   },
   {
    "duration": 633,
    "start_time": "2021-07-07T18:42:00.398Z"
   },
   {
    "duration": 218,
    "start_time": "2021-07-07T18:42:01.033Z"
   },
   {
    "duration": 49,
    "start_time": "2021-07-07T18:42:01.253Z"
   },
   {
    "duration": 5,
    "start_time": "2021-07-07T18:42:01.303Z"
   },
   {
    "duration": 27,
    "start_time": "2021-07-07T18:42:01.310Z"
   },
   {
    "duration": 8,
    "start_time": "2021-07-07T18:42:01.339Z"
   },
   {
    "duration": 20,
    "start_time": "2021-07-07T18:42:01.348Z"
   },
   {
    "duration": 6,
    "start_time": "2021-07-07T18:42:01.386Z"
   },
   {
    "duration": 16,
    "start_time": "2021-07-07T18:42:01.394Z"
   },
   {
    "duration": 9,
    "start_time": "2021-07-07T18:42:01.411Z"
   },
   {
    "duration": 11,
    "start_time": "2021-07-07T18:42:01.421Z"
   },
   {
    "duration": 31,
    "start_time": "2021-07-07T18:42:01.434Z"
   },
   {
    "duration": 18,
    "start_time": "2021-07-07T18:42:01.485Z"
   },
   {
    "duration": 23,
    "start_time": "2021-07-07T18:42:01.505Z"
   },
   {
    "duration": 6,
    "start_time": "2021-07-07T18:42:01.530Z"
   },
   {
    "duration": 10,
    "start_time": "2021-07-07T18:42:01.538Z"
   },
   {
    "duration": 13,
    "start_time": "2021-07-07T18:42:01.550Z"
   },
   {
    "duration": 24,
    "start_time": "2021-07-07T18:42:01.564Z"
   },
   {
    "duration": 20,
    "start_time": "2021-07-07T18:42:01.590Z"
   },
   {
    "duration": 8,
    "start_time": "2021-07-07T18:42:01.611Z"
   },
   {
    "duration": 31,
    "start_time": "2021-07-07T18:42:01.620Z"
   },
   {
    "duration": 39,
    "start_time": "2021-07-07T18:42:01.653Z"
   },
   {
    "duration": 8,
    "start_time": "2021-07-07T18:42:01.696Z"
   },
   {
    "duration": 13,
    "start_time": "2021-07-07T18:42:01.705Z"
   },
   {
    "duration": 20,
    "start_time": "2021-07-07T18:42:01.720Z"
   },
   {
    "duration": 12,
    "start_time": "2021-07-07T18:42:01.741Z"
   },
   {
    "duration": 35,
    "start_time": "2021-07-07T18:42:01.755Z"
   },
   {
    "duration": 14,
    "start_time": "2021-07-07T18:42:01.792Z"
   },
   {
    "duration": 188,
    "start_time": "2021-07-07T18:42:01.808Z"
   },
   {
    "duration": 19,
    "start_time": "2021-07-07T18:42:01.998Z"
   },
   {
    "duration": 175,
    "start_time": "2021-07-07T18:42:02.019Z"
   },
   {
    "duration": 134,
    "start_time": "2021-07-07T18:42:02.196Z"
   },
   {
    "duration": 10,
    "start_time": "2021-07-07T18:42:02.331Z"
   },
   {
    "duration": 19,
    "start_time": "2021-07-07T18:42:02.343Z"
   },
   {
    "duration": 628,
    "start_time": "2021-07-07T18:46:30.701Z"
   },
   {
    "duration": 183,
    "start_time": "2021-07-07T18:46:31.331Z"
   },
   {
    "duration": 48,
    "start_time": "2021-07-07T18:46:31.516Z"
   },
   {
    "duration": 5,
    "start_time": "2021-07-07T18:46:31.566Z"
   },
   {
    "duration": 28,
    "start_time": "2021-07-07T18:46:31.572Z"
   },
   {
    "duration": 8,
    "start_time": "2021-07-07T18:46:31.602Z"
   },
   {
    "duration": 19,
    "start_time": "2021-07-07T18:46:31.611Z"
   },
   {
    "duration": 6,
    "start_time": "2021-07-07T18:46:31.633Z"
   },
   {
    "duration": 17,
    "start_time": "2021-07-07T18:46:31.642Z"
   },
   {
    "duration": 10,
    "start_time": "2021-07-07T18:46:31.684Z"
   },
   {
    "duration": 9,
    "start_time": "2021-07-07T18:46:31.695Z"
   },
   {
    "duration": 28,
    "start_time": "2021-07-07T18:46:31.705Z"
   },
   {
    "duration": 18,
    "start_time": "2021-07-07T18:46:31.735Z"
   },
   {
    "duration": 48,
    "start_time": "2021-07-07T18:46:31.755Z"
   },
   {
    "duration": 6,
    "start_time": "2021-07-07T18:46:31.804Z"
   },
   {
    "duration": 4,
    "start_time": "2021-07-07T18:46:31.812Z"
   },
   {
    "duration": 9,
    "start_time": "2021-07-07T18:46:31.817Z"
   },
   {
    "duration": 10,
    "start_time": "2021-07-07T18:46:31.827Z"
   },
   {
    "duration": 12,
    "start_time": "2021-07-07T18:46:31.838Z"
   },
   {
    "duration": 39,
    "start_time": "2021-07-07T18:46:31.851Z"
   },
   {
    "duration": 24,
    "start_time": "2021-07-07T18:46:31.892Z"
   },
   {
    "duration": 15,
    "start_time": "2021-07-07T18:46:31.918Z"
   },
   {
    "duration": 7,
    "start_time": "2021-07-07T18:46:31.936Z"
   },
   {
    "duration": 8,
    "start_time": "2021-07-07T18:46:31.944Z"
   },
   {
    "duration": 19,
    "start_time": "2021-07-07T18:46:31.984Z"
   },
   {
    "duration": 10,
    "start_time": "2021-07-07T18:46:32.004Z"
   },
   {
    "duration": 5,
    "start_time": "2021-07-07T18:46:32.016Z"
   },
   {
    "duration": 9,
    "start_time": "2021-07-07T18:46:32.023Z"
   },
   {
    "duration": 199,
    "start_time": "2021-07-07T18:46:32.033Z"
   },
   {
    "duration": 19,
    "start_time": "2021-07-07T18:46:32.234Z"
   },
   {
    "duration": 159,
    "start_time": "2021-07-07T18:46:32.255Z"
   },
   {
    "duration": 134,
    "start_time": "2021-07-07T18:46:32.416Z"
   },
   {
    "duration": 10,
    "start_time": "2021-07-07T18:46:32.552Z"
   },
   {
    "duration": 34,
    "start_time": "2021-07-07T18:46:32.563Z"
   },
   {
    "duration": 1039,
    "start_time": "2021-07-08T08:41:09.419Z"
   },
   {
    "duration": 333,
    "start_time": "2021-07-08T08:41:10.459Z"
   },
   {
    "duration": 173,
    "start_time": "2021-07-08T08:41:10.794Z"
   },
   {
    "duration": 5,
    "start_time": "2021-07-08T08:41:10.968Z"
   },
   {
    "duration": 25,
    "start_time": "2021-07-08T08:41:10.975Z"
   },
   {
    "duration": 9,
    "start_time": "2021-07-08T08:41:11.002Z"
   },
   {
    "duration": 18,
    "start_time": "2021-07-08T08:41:11.013Z"
   },
   {
    "duration": 6,
    "start_time": "2021-07-08T08:41:11.033Z"
   },
   {
    "duration": 44,
    "start_time": "2021-07-08T08:41:11.042Z"
   },
   {
    "duration": 10,
    "start_time": "2021-07-08T08:41:11.088Z"
   },
   {
    "duration": 9,
    "start_time": "2021-07-08T08:41:11.100Z"
   },
   {
    "duration": 27,
    "start_time": "2021-07-08T08:41:11.111Z"
   },
   {
    "duration": 46,
    "start_time": "2021-07-08T08:41:11.140Z"
   },
   {
    "duration": 17,
    "start_time": "2021-07-08T08:41:11.187Z"
   },
   {
    "duration": 6,
    "start_time": "2021-07-08T08:41:11.206Z"
   },
   {
    "duration": 5,
    "start_time": "2021-07-08T08:41:11.213Z"
   },
   {
    "duration": 10,
    "start_time": "2021-07-08T08:41:11.219Z"
   },
   {
    "duration": 9,
    "start_time": "2021-07-08T08:41:11.230Z"
   },
   {
    "duration": 45,
    "start_time": "2021-07-08T08:41:11.241Z"
   },
   {
    "duration": 7,
    "start_time": "2021-07-08T08:41:11.287Z"
   },
   {
    "duration": 24,
    "start_time": "2021-07-08T08:41:11.296Z"
   },
   {
    "duration": 16,
    "start_time": "2021-07-08T08:41:11.322Z"
   },
   {
    "duration": 7,
    "start_time": "2021-07-08T08:41:11.341Z"
   },
   {
    "duration": 41,
    "start_time": "2021-07-08T08:41:11.349Z"
   },
   {
    "duration": 17,
    "start_time": "2021-07-08T08:41:11.391Z"
   },
   {
    "duration": 9,
    "start_time": "2021-07-08T08:41:11.410Z"
   },
   {
    "duration": 5,
    "start_time": "2021-07-08T08:41:11.421Z"
   },
   {
    "duration": 6,
    "start_time": "2021-07-08T08:41:11.428Z"
   },
   {
    "duration": 198,
    "start_time": "2021-07-08T08:41:11.435Z"
   },
   {
    "duration": 18,
    "start_time": "2021-07-08T08:41:11.635Z"
   },
   {
    "duration": 155,
    "start_time": "2021-07-08T08:41:11.655Z"
   },
   {
    "duration": 138,
    "start_time": "2021-07-08T08:41:11.811Z"
   },
   {
    "duration": 10,
    "start_time": "2021-07-08T08:41:11.950Z"
   },
   {
    "duration": 29,
    "start_time": "2021-07-08T08:41:11.961Z"
   },
   {
    "duration": 171,
    "start_time": "2021-07-08T08:47:44.522Z"
   },
   {
    "duration": 124,
    "start_time": "2021-07-08T08:47:46.872Z"
   },
   {
    "duration": 191,
    "start_time": "2021-07-08T08:47:58.148Z"
   },
   {
    "duration": 191,
    "start_time": "2021-07-08T08:48:07.412Z"
   },
   {
    "duration": 261,
    "start_time": "2021-07-08T08:48:10.385Z"
   },
   {
    "duration": 255,
    "start_time": "2021-07-08T08:48:14.494Z"
   },
   {
    "duration": 219,
    "start_time": "2021-07-08T08:48:22.752Z"
   },
   {
    "duration": 173,
    "start_time": "2021-07-08T08:49:06.395Z"
   },
   {
    "duration": 180,
    "start_time": "2021-07-08T08:49:21.011Z"
   },
   {
    "duration": 6,
    "start_time": "2021-07-08T08:50:31.697Z"
   },
   {
    "duration": 10,
    "start_time": "2021-07-08T08:50:47.394Z"
   },
   {
    "duration": 11,
    "start_time": "2021-07-08T08:53:49.332Z"
   },
   {
    "duration": 171,
    "start_time": "2021-07-08T08:54:28.408Z"
   },
   {
    "duration": 636,
    "start_time": "2021-07-08T09:02:48.385Z"
   },
   {
    "duration": 227,
    "start_time": "2021-07-08T09:02:49.023Z"
   },
   {
    "duration": 104,
    "start_time": "2021-07-08T09:02:49.252Z"
   },
   {
    "duration": 5,
    "start_time": "2021-07-08T09:02:49.358Z"
   },
   {
    "duration": 27,
    "start_time": "2021-07-08T09:02:49.365Z"
   },
   {
    "duration": 8,
    "start_time": "2021-07-08T09:02:49.394Z"
   },
   {
    "duration": 18,
    "start_time": "2021-07-08T09:02:49.404Z"
   },
   {
    "duration": 6,
    "start_time": "2021-07-08T09:02:49.424Z"
   },
   {
    "duration": 11,
    "start_time": "2021-07-08T09:02:49.433Z"
   },
   {
    "duration": 13,
    "start_time": "2021-07-08T09:02:49.485Z"
   },
   {
    "duration": 9,
    "start_time": "2021-07-08T09:02:49.500Z"
   },
   {
    "duration": 38,
    "start_time": "2021-07-08T09:02:49.511Z"
   },
   {
    "duration": 42,
    "start_time": "2021-07-08T09:02:49.551Z"
   },
   {
    "duration": 21,
    "start_time": "2021-07-08T09:02:49.594Z"
   },
   {
    "duration": 6,
    "start_time": "2021-07-08T09:02:49.616Z"
   },
   {
    "duration": 3,
    "start_time": "2021-07-08T09:02:49.623Z"
   },
   {
    "duration": 9,
    "start_time": "2021-07-08T09:02:49.628Z"
   },
   {
    "duration": 52,
    "start_time": "2021-07-08T09:02:49.638Z"
   },
   {
    "duration": 11,
    "start_time": "2021-07-08T09:02:49.692Z"
   },
   {
    "duration": 8,
    "start_time": "2021-07-08T09:02:49.704Z"
   },
   {
    "duration": 27,
    "start_time": "2021-07-08T09:02:49.713Z"
   },
   {
    "duration": 59,
    "start_time": "2021-07-08T09:02:49.741Z"
   },
   {
    "duration": 8,
    "start_time": "2021-07-08T09:02:49.803Z"
   },
   {
    "duration": 14,
    "start_time": "2021-07-08T09:02:49.813Z"
   },
   {
    "duration": 20,
    "start_time": "2021-07-08T09:02:49.829Z"
   },
   {
    "duration": 44,
    "start_time": "2021-07-08T09:02:49.851Z"
   },
   {
    "duration": 14,
    "start_time": "2021-07-08T09:02:49.896Z"
   },
   {
    "duration": 221,
    "start_time": "2021-07-08T09:02:49.912Z"
   },
   {
    "duration": 6,
    "start_time": "2021-07-08T09:02:50.134Z"
   },
   {
    "duration": 206,
    "start_time": "2021-07-08T09:02:50.142Z"
   },
   {
    "duration": 19,
    "start_time": "2021-07-08T09:02:50.350Z"
   },
   {
    "duration": 21,
    "start_time": "2021-07-08T09:02:50.370Z"
   },
   {
    "duration": 20,
    "start_time": "2021-07-08T09:02:50.393Z"
   },
   {
    "duration": 5,
    "start_time": "2021-07-08T09:02:50.414Z"
   },
   {
    "duration": 5,
    "start_time": "2021-07-08T09:03:34.173Z"
   },
   {
    "duration": 6,
    "start_time": "2021-07-08T09:04:49.062Z"
   },
   {
    "duration": 9,
    "start_time": "2021-07-08T09:04:50.118Z"
   },
   {
    "duration": 14,
    "start_time": "2021-07-08T09:04:58.512Z"
   },
   {
    "duration": 9,
    "start_time": "2021-07-08T09:05:10.988Z"
   },
   {
    "duration": 11,
    "start_time": "2021-07-08T09:05:11.743Z"
   },
   {
    "duration": 7,
    "start_time": "2021-07-08T09:05:25.677Z"
   },
   {
    "duration": 13,
    "start_time": "2021-07-08T09:05:47.189Z"
   },
   {
    "duration": 13,
    "start_time": "2021-07-08T09:05:54.755Z"
   },
   {
    "duration": 4,
    "start_time": "2021-07-08T09:06:29.189Z"
   },
   {
    "duration": 244,
    "start_time": "2021-07-08T09:06:29.195Z"
   },
   {
    "duration": 91,
    "start_time": "2021-07-08T09:06:29.441Z"
   },
   {
    "duration": 4,
    "start_time": "2021-07-08T09:06:29.534Z"
   },
   {
    "duration": 28,
    "start_time": "2021-07-08T09:06:29.540Z"
   },
   {
    "duration": 6,
    "start_time": "2021-07-08T09:06:29.570Z"
   },
   {
    "duration": 18,
    "start_time": "2021-07-08T09:06:29.578Z"
   },
   {
    "duration": 5,
    "start_time": "2021-07-08T09:06:29.597Z"
   },
   {
    "duration": 13,
    "start_time": "2021-07-08T09:06:29.605Z"
   },
   {
    "duration": 8,
    "start_time": "2021-07-08T09:06:29.620Z"
   },
   {
    "duration": 7,
    "start_time": "2021-07-08T09:06:29.630Z"
   },
   {
    "duration": 63,
    "start_time": "2021-07-08T09:06:29.639Z"
   },
   {
    "duration": 17,
    "start_time": "2021-07-08T09:06:29.704Z"
   },
   {
    "duration": 20,
    "start_time": "2021-07-08T09:06:29.723Z"
   },
   {
    "duration": 6,
    "start_time": "2021-07-08T09:06:29.745Z"
   },
   {
    "duration": 3,
    "start_time": "2021-07-08T09:06:29.752Z"
   },
   {
    "duration": 7,
    "start_time": "2021-07-08T09:06:29.785Z"
   },
   {
    "duration": 11,
    "start_time": "2021-07-08T09:06:29.794Z"
   },
   {
    "duration": 15,
    "start_time": "2021-07-08T09:06:29.807Z"
   },
   {
    "duration": 8,
    "start_time": "2021-07-08T09:06:29.823Z"
   },
   {
    "duration": 70,
    "start_time": "2021-07-08T09:06:29.832Z"
   },
   {
    "duration": 17,
    "start_time": "2021-07-08T09:06:29.903Z"
   },
   {
    "duration": 9,
    "start_time": "2021-07-08T09:06:29.921Z"
   },
   {
    "duration": 9,
    "start_time": "2021-07-08T09:06:29.932Z"
   },
   {
    "duration": 57,
    "start_time": "2021-07-08T09:06:29.942Z"
   },
   {
    "duration": 11,
    "start_time": "2021-07-08T09:06:30.001Z"
   },
   {
    "duration": 19,
    "start_time": "2021-07-08T09:06:30.016Z"
   },
   {
    "duration": 217,
    "start_time": "2021-07-08T09:06:30.037Z"
   },
   {
    "duration": 6,
    "start_time": "2021-07-08T09:06:30.255Z"
   },
   {
    "duration": 205,
    "start_time": "2021-07-08T09:06:30.263Z"
   },
   {
    "duration": 27,
    "start_time": "2021-07-08T09:06:30.470Z"
   },
   {
    "duration": 11,
    "start_time": "2021-07-08T09:06:30.500Z"
   },
   {
    "duration": 31,
    "start_time": "2021-07-08T09:06:30.513Z"
   },
   {
    "duration": 18,
    "start_time": "2021-07-08T09:06:30.546Z"
   },
   {
    "duration": 11,
    "start_time": "2021-07-08T09:06:30.566Z"
   },
   {
    "duration": 19,
    "start_time": "2021-07-08T09:06:30.579Z"
   },
   {
    "duration": 20,
    "start_time": "2021-07-08T09:06:49.466Z"
   },
   {
    "duration": 9,
    "start_time": "2021-07-08T09:06:51.994Z"
   },
   {
    "duration": 20,
    "start_time": "2021-07-08T09:06:52.273Z"
   },
   {
    "duration": 246,
    "start_time": "2021-07-08T09:10:21.272Z"
   },
   {
    "duration": 84,
    "start_time": "2021-07-08T09:10:21.436Z"
   },
   {
    "duration": 7,
    "start_time": "2021-07-08T09:10:37.608Z"
   },
   {
    "duration": 189,
    "start_time": "2021-07-08T09:10:38.573Z"
   },
   {
    "duration": 185,
    "start_time": "2021-07-08T09:10:53.181Z"
   },
   {
    "duration": 11,
    "start_time": "2021-07-08T09:10:59.549Z"
   },
   {
    "duration": 42,
    "start_time": "2021-07-08T09:10:59.709Z"
   },
   {
    "duration": 12,
    "start_time": "2021-07-08T09:11:02.857Z"
   },
   {
    "duration": 28,
    "start_time": "2021-07-08T09:11:10.062Z"
   },
   {
    "duration": 249,
    "start_time": "2021-07-08T09:11:37.388Z"
   },
   {
    "duration": 232,
    "start_time": "2021-07-08T09:11:49.485Z"
   },
   {
    "duration": 453,
    "start_time": "2021-07-08T09:12:01.546Z"
   },
   {
    "duration": 440,
    "start_time": "2021-07-08T09:12:12.347Z"
   },
   {
    "duration": 213,
    "start_time": "2021-07-08T09:13:32.196Z"
   },
   {
    "duration": 172,
    "start_time": "2021-07-08T09:14:07.400Z"
   },
   {
    "duration": 185,
    "start_time": "2021-07-08T09:14:14.905Z"
   },
   {
    "duration": 209,
    "start_time": "2021-07-08T09:14:40.109Z"
   },
   {
    "duration": 201,
    "start_time": "2021-07-08T09:14:54.506Z"
   },
   {
    "duration": 622,
    "start_time": "2021-07-08T09:18:14.497Z"
   },
   {
    "duration": 220,
    "start_time": "2021-07-08T09:18:15.121Z"
   },
   {
    "duration": 79,
    "start_time": "2021-07-08T09:18:15.343Z"
   },
   {
    "duration": 4,
    "start_time": "2021-07-08T09:18:15.425Z"
   },
   {
    "duration": 24,
    "start_time": "2021-07-08T09:18:15.431Z"
   },
   {
    "duration": 8,
    "start_time": "2021-07-08T09:18:15.457Z"
   },
   {
    "duration": 16,
    "start_time": "2021-07-08T09:18:15.466Z"
   },
   {
    "duration": 5,
    "start_time": "2021-07-08T09:18:15.484Z"
   },
   {
    "duration": 10,
    "start_time": "2021-07-08T09:18:15.493Z"
   },
   {
    "duration": 8,
    "start_time": "2021-07-08T09:18:15.504Z"
   },
   {
    "duration": 7,
    "start_time": "2021-07-08T09:18:15.513Z"
   },
   {
    "duration": 26,
    "start_time": "2021-07-08T09:18:15.522Z"
   },
   {
    "duration": 49,
    "start_time": "2021-07-08T09:18:15.550Z"
   },
   {
    "duration": 21,
    "start_time": "2021-07-08T09:18:15.601Z"
   },
   {
    "duration": 8,
    "start_time": "2021-07-08T09:18:15.624Z"
   },
   {
    "duration": 3,
    "start_time": "2021-07-08T09:18:15.634Z"
   },
   {
    "duration": 8,
    "start_time": "2021-07-08T09:18:15.639Z"
   },
   {
    "duration": 45,
    "start_time": "2021-07-08T09:18:15.649Z"
   },
   {
    "duration": 13,
    "start_time": "2021-07-08T09:18:15.696Z"
   },
   {
    "duration": 10,
    "start_time": "2021-07-08T09:18:15.711Z"
   },
   {
    "duration": 64,
    "start_time": "2021-07-08T09:18:15.722Z"
   },
   {
    "duration": 19,
    "start_time": "2021-07-08T09:18:15.788Z"
   },
   {
    "duration": 9,
    "start_time": "2021-07-08T09:18:15.809Z"
   },
   {
    "duration": 9,
    "start_time": "2021-07-08T09:18:15.820Z"
   },
   {
    "duration": 18,
    "start_time": "2021-07-08T09:18:15.831Z"
   },
   {
    "duration": 43,
    "start_time": "2021-07-08T09:18:15.851Z"
   },
   {
    "duration": 12,
    "start_time": "2021-07-08T09:18:15.897Z"
   },
   {
    "duration": 219,
    "start_time": "2021-07-08T09:18:15.911Z"
   },
   {
    "duration": 8,
    "start_time": "2021-07-08T09:18:16.132Z"
   },
   {
    "duration": 199,
    "start_time": "2021-07-08T09:18:16.141Z"
   },
   {
    "duration": 18,
    "start_time": "2021-07-08T09:18:16.341Z"
   },
   {
    "duration": 24,
    "start_time": "2021-07-08T09:18:16.361Z"
   },
   {
    "duration": 24,
    "start_time": "2021-07-08T09:18:16.387Z"
   },
   {
    "duration": 211,
    "start_time": "2021-07-08T09:18:16.413Z"
   },
   {
    "duration": 18,
    "start_time": "2021-07-08T09:18:16.626Z"
   },
   {
    "duration": 596,
    "start_time": "2021-07-08T10:06:33.623Z"
   },
   {
    "duration": 181,
    "start_time": "2021-07-08T10:06:34.221Z"
   },
   {
    "duration": 176,
    "start_time": "2021-07-08T10:06:34.635Z"
   },
   {
    "duration": 239,
    "start_time": "2021-07-08T10:06:55.572Z"
   },
   {
    "duration": 6,
    "start_time": "2021-07-08T10:06:57.687Z"
   },
   {
    "duration": 4,
    "start_time": "2021-07-08T10:07:03.956Z"
   },
   {
    "duration": 4,
    "start_time": "2021-07-08T10:07:10.376Z"
   },
   {
    "duration": 4,
    "start_time": "2021-07-08T10:17:19.889Z"
   },
   {
    "duration": 3,
    "start_time": "2021-07-08T10:19:19.407Z"
   },
   {
    "duration": 197,
    "start_time": "2021-07-08T10:19:19.412Z"
   },
   {
    "duration": 127,
    "start_time": "2021-07-08T10:19:19.611Z"
   },
   {
    "duration": 4,
    "start_time": "2021-07-08T10:19:19.740Z"
   },
   {
    "duration": 27,
    "start_time": "2021-07-08T10:19:19.746Z"
   },
   {
    "duration": 7,
    "start_time": "2021-07-08T10:19:19.775Z"
   },
   {
    "duration": 30,
    "start_time": "2021-07-08T10:19:19.784Z"
   },
   {
    "duration": 7,
    "start_time": "2021-07-08T10:19:19.817Z"
   },
   {
    "duration": 26,
    "start_time": "2021-07-08T10:19:19.826Z"
   },
   {
    "duration": 18,
    "start_time": "2021-07-08T10:19:19.854Z"
   },
   {
    "duration": 14,
    "start_time": "2021-07-08T10:19:19.874Z"
   },
   {
    "duration": 48,
    "start_time": "2021-07-08T10:19:19.890Z"
   },
   {
    "duration": 17,
    "start_time": "2021-07-08T10:19:19.940Z"
   },
   {
    "duration": 38,
    "start_time": "2021-07-08T10:19:19.959Z"
   },
   {
    "duration": 8,
    "start_time": "2021-07-08T10:19:19.999Z"
   },
   {
    "duration": 15,
    "start_time": "2021-07-08T10:19:20.009Z"
   },
   {
    "duration": 22,
    "start_time": "2021-07-08T10:19:20.026Z"
   },
   {
    "duration": 10,
    "start_time": "2021-07-08T10:19:20.050Z"
   },
   {
    "duration": 10,
    "start_time": "2021-07-08T10:19:20.062Z"
   },
   {
    "duration": 20,
    "start_time": "2021-07-08T10:19:20.073Z"
   },
   {
    "duration": 29,
    "start_time": "2021-07-08T10:19:20.095Z"
   },
   {
    "duration": 17,
    "start_time": "2021-07-08T10:19:20.126Z"
   },
   {
    "duration": 40,
    "start_time": "2021-07-08T10:19:20.146Z"
   },
   {
    "duration": 15,
    "start_time": "2021-07-08T10:19:20.189Z"
   },
   {
    "duration": 19,
    "start_time": "2021-07-08T10:19:20.206Z"
   },
   {
    "duration": 10,
    "start_time": "2021-07-08T10:19:20.226Z"
   },
   {
    "duration": 11,
    "start_time": "2021-07-08T10:19:20.238Z"
   },
   {
    "duration": 297,
    "start_time": "2021-07-08T10:19:20.250Z"
   },
   {
    "duration": 6,
    "start_time": "2021-07-08T10:19:20.549Z"
   },
   {
    "duration": 191,
    "start_time": "2021-07-08T10:19:20.557Z"
   },
   {
    "duration": 19,
    "start_time": "2021-07-08T10:19:20.750Z"
   },
   {
    "duration": 20,
    "start_time": "2021-07-08T10:19:20.771Z"
   },
   {
    "duration": 15,
    "start_time": "2021-07-08T10:19:20.793Z"
   },
   {
    "duration": 222,
    "start_time": "2021-07-08T10:19:20.809Z"
   },
   {
    "duration": 20,
    "start_time": "2021-07-08T10:19:21.033Z"
   },
   {
    "duration": 27,
    "start_time": "2021-07-08T10:45:04.055Z"
   },
   {
    "duration": 8,
    "start_time": "2021-07-08T10:45:08.478Z"
   },
   {
    "duration": 8,
    "start_time": "2021-07-08T10:45:31.982Z"
   },
   {
    "duration": 10,
    "start_time": "2021-07-08T10:46:01.221Z"
   },
   {
    "duration": 17,
    "start_time": "2021-07-08T10:46:40.011Z"
   },
   {
    "duration": 193,
    "start_time": "2021-07-08T10:48:19.471Z"
   },
   {
    "duration": 225,
    "start_time": "2021-07-08T10:49:26.480Z"
   },
   {
    "duration": 204,
    "start_time": "2021-07-08T10:49:59.992Z"
   },
   {
    "duration": 435,
    "start_time": "2021-07-08T10:50:06.779Z"
   },
   {
    "duration": 199,
    "start_time": "2021-07-08T10:50:14.891Z"
   },
   {
    "duration": 204,
    "start_time": "2021-07-08T10:50:18.501Z"
   },
   {
    "duration": 244,
    "start_time": "2021-07-08T10:50:23.359Z"
   },
   {
    "duration": 192,
    "start_time": "2021-07-08T10:50:29.135Z"
   },
   {
    "duration": 218,
    "start_time": "2021-07-08T10:50:33.092Z"
   },
   {
    "duration": 207,
    "start_time": "2021-07-08T10:52:45.381Z"
   },
   {
    "duration": 5,
    "start_time": "2021-07-08T10:53:34.641Z"
   },
   {
    "duration": 196,
    "start_time": "2021-07-08T10:53:41.478Z"
   },
   {
    "duration": 43,
    "start_time": "2021-07-08T10:53:50.335Z"
   },
   {
    "duration": 32,
    "start_time": "2021-07-08T10:53:55.294Z"
   },
   {
    "duration": 55,
    "start_time": "2021-07-08T10:54:09.675Z"
   },
   {
    "duration": 16,
    "start_time": "2021-07-08T10:54:12.260Z"
   },
   {
    "duration": 15,
    "start_time": "2021-07-08T10:54:49.150Z"
   },
   {
    "duration": 20,
    "start_time": "2021-07-08T10:56:07.596Z"
   },
   {
    "duration": 16,
    "start_time": "2021-07-08T10:58:26.276Z"
   },
   {
    "duration": 22,
    "start_time": "2021-07-08T10:59:00.486Z"
   },
   {
    "duration": 18,
    "start_time": "2021-07-08T11:02:09.653Z"
   },
   {
    "duration": 10,
    "start_time": "2021-07-08T11:03:44.331Z"
   },
   {
    "duration": 10,
    "start_time": "2021-07-08T11:03:54.055Z"
   },
   {
    "duration": 12,
    "start_time": "2021-07-08T11:04:41.967Z"
   },
   {
    "duration": 24,
    "start_time": "2021-07-08T11:07:30.732Z"
   },
   {
    "duration": 6,
    "start_time": "2021-07-08T11:07:37.364Z"
   },
   {
    "duration": 16,
    "start_time": "2021-07-08T11:08:01.819Z"
   },
   {
    "duration": 17,
    "start_time": "2021-07-08T11:09:47.488Z"
   },
   {
    "duration": 246,
    "start_time": "2021-07-08T11:10:00.830Z"
   },
   {
    "duration": 18,
    "start_time": "2021-07-08T11:13:55.195Z"
   },
   {
    "duration": 204,
    "start_time": "2021-07-08T11:14:04.951Z"
   },
   {
    "duration": 19,
    "start_time": "2021-07-08T11:15:10.613Z"
   },
   {
    "duration": 680,
    "start_time": "2021-07-08T11:16:25.793Z"
   },
   {
    "duration": 451,
    "start_time": "2021-07-08T11:16:40.313Z"
   },
   {
    "duration": 469,
    "start_time": "2021-07-08T11:17:21.286Z"
   },
   {
    "duration": 20,
    "start_time": "2021-07-08T11:19:12.554Z"
   },
   {
    "duration": 35,
    "start_time": "2021-07-08T11:20:05.484Z"
   },
   {
    "duration": 53,
    "start_time": "2021-07-08T11:21:40.050Z"
   },
   {
    "duration": 13,
    "start_time": "2021-07-08T11:22:26.059Z"
   },
   {
    "duration": 19,
    "start_time": "2021-07-08T11:22:47.419Z"
   },
   {
    "duration": 25,
    "start_time": "2021-07-08T11:23:19.958Z"
   },
   {
    "duration": 29,
    "start_time": "2021-07-08T11:23:25.415Z"
   },
   {
    "duration": 10,
    "start_time": "2021-07-08T11:24:45.138Z"
   },
   {
    "duration": 19,
    "start_time": "2021-07-08T11:24:54.498Z"
   },
   {
    "duration": 12,
    "start_time": "2021-07-08T11:25:32.225Z"
   },
   {
    "duration": 19,
    "start_time": "2021-07-08T11:25:37.092Z"
   },
   {
    "duration": 17,
    "start_time": "2021-07-08T11:25:58.116Z"
   },
   {
    "duration": 15,
    "start_time": "2021-07-08T11:26:02.258Z"
   },
   {
    "duration": 8,
    "start_time": "2021-07-08T11:26:59.682Z"
   },
   {
    "duration": 184,
    "start_time": "2021-07-08T11:27:21.894Z"
   },
   {
    "duration": 8,
    "start_time": "2021-07-08T11:27:23.824Z"
   },
   {
    "duration": 202,
    "start_time": "2021-07-08T11:27:23.962Z"
   },
   {
    "duration": 360,
    "start_time": "2021-07-08T11:28:33.215Z"
   },
   {
    "duration": 231,
    "start_time": "2021-07-08T11:32:05.542Z"
   },
   {
    "duration": 607,
    "start_time": "2021-07-08T11:36:27.854Z"
   },
   {
    "duration": 241,
    "start_time": "2021-07-08T11:36:28.463Z"
   },
   {
    "duration": 67,
    "start_time": "2021-07-08T11:36:28.709Z"
   },
   {
    "duration": 5,
    "start_time": "2021-07-08T11:36:28.778Z"
   },
   {
    "duration": 32,
    "start_time": "2021-07-08T11:36:28.784Z"
   },
   {
    "duration": 11,
    "start_time": "2021-07-08T11:36:28.819Z"
   },
   {
    "duration": 20,
    "start_time": "2021-07-08T11:36:28.834Z"
   },
   {
    "duration": 36,
    "start_time": "2021-07-08T11:36:28.857Z"
   },
   {
    "duration": 16,
    "start_time": "2021-07-08T11:36:28.895Z"
   },
   {
    "duration": 14,
    "start_time": "2021-07-08T11:36:28.913Z"
   },
   {
    "duration": 9,
    "start_time": "2021-07-08T11:36:28.930Z"
   },
   {
    "duration": 55,
    "start_time": "2021-07-08T11:36:28.941Z"
   },
   {
    "duration": 27,
    "start_time": "2021-07-08T11:36:28.999Z"
   },
   {
    "duration": 30,
    "start_time": "2021-07-08T11:36:29.028Z"
   },
   {
    "duration": 31,
    "start_time": "2021-07-08T11:36:29.060Z"
   },
   {
    "duration": 3,
    "start_time": "2021-07-08T11:36:29.093Z"
   },
   {
    "duration": 12,
    "start_time": "2021-07-08T11:36:29.099Z"
   },
   {
    "duration": 11,
    "start_time": "2021-07-08T11:36:29.112Z"
   },
   {
    "duration": 12,
    "start_time": "2021-07-08T11:36:29.125Z"
   },
   {
    "duration": 9,
    "start_time": "2021-07-08T11:36:29.139Z"
   },
   {
    "duration": 31,
    "start_time": "2021-07-08T11:36:29.191Z"
   },
   {
    "duration": 17,
    "start_time": "2021-07-08T11:36:29.226Z"
   },
   {
    "duration": 7,
    "start_time": "2021-07-08T11:36:29.245Z"
   },
   {
    "duration": 10,
    "start_time": "2021-07-08T11:36:29.254Z"
   },
   {
    "duration": 30,
    "start_time": "2021-07-08T11:36:29.292Z"
   },
   {
    "duration": 11,
    "start_time": "2021-07-08T11:36:29.324Z"
   },
   {
    "duration": 11,
    "start_time": "2021-07-08T11:36:29.337Z"
   },
   {
    "duration": 230,
    "start_time": "2021-07-08T11:36:29.349Z"
   },
   {
    "duration": 13,
    "start_time": "2021-07-08T11:36:29.588Z"
   },
   {
    "duration": 205,
    "start_time": "2021-07-08T11:36:29.603Z"
   },
   {
    "duration": 20,
    "start_time": "2021-07-08T11:36:29.810Z"
   },
   {
    "duration": 9,
    "start_time": "2021-07-08T11:36:29.832Z"
   },
   {
    "duration": 16,
    "start_time": "2021-07-08T11:36:29.843Z"
   },
   {
    "duration": 283,
    "start_time": "2021-07-08T11:36:29.861Z"
   },
   {
    "duration": 50,
    "start_time": "2021-07-08T11:36:30.146Z"
   },
   {
    "duration": 14,
    "start_time": "2021-07-08T11:36:30.198Z"
   },
   {
    "duration": 11,
    "start_time": "2021-07-08T11:36:30.214Z"
   },
   {
    "duration": 245,
    "start_time": "2021-07-08T11:36:30.227Z"
   },
   {
    "duration": 439,
    "start_time": "2021-07-08T11:36:30.474Z"
   },
   {
    "duration": 210,
    "start_time": "2021-07-08T11:36:30.915Z"
   },
   {
    "duration": 15,
    "start_time": "2021-07-08T11:36:31.127Z"
   },
   {
    "duration": 17,
    "start_time": "2021-07-08T11:38:20.451Z"
   },
   {
    "duration": 642,
    "start_time": "2021-07-08T11:46:17.881Z"
   },
   {
    "duration": 210,
    "start_time": "2021-07-08T11:46:18.525Z"
   },
   {
    "duration": 104,
    "start_time": "2021-07-08T11:46:18.741Z"
   },
   {
    "duration": 8,
    "start_time": "2021-07-08T11:46:18.847Z"
   },
   {
    "duration": 25,
    "start_time": "2021-07-08T11:46:18.857Z"
   },
   {
    "duration": 14,
    "start_time": "2021-07-08T11:46:18.884Z"
   },
   {
    "duration": 22,
    "start_time": "2021-07-08T11:46:18.900Z"
   },
   {
    "duration": 5,
    "start_time": "2021-07-08T11:46:18.924Z"
   },
   {
    "duration": 13,
    "start_time": "2021-07-08T11:46:18.931Z"
   },
   {
    "duration": 45,
    "start_time": "2021-07-08T11:46:18.946Z"
   },
   {
    "duration": 12,
    "start_time": "2021-07-08T11:46:18.993Z"
   },
   {
    "duration": 38,
    "start_time": "2021-07-08T11:46:19.006Z"
   },
   {
    "duration": 50,
    "start_time": "2021-07-08T11:46:19.046Z"
   },
   {
    "duration": 29,
    "start_time": "2021-07-08T11:46:19.099Z"
   },
   {
    "duration": 7,
    "start_time": "2021-07-08T11:46:19.130Z"
   },
   {
    "duration": 3,
    "start_time": "2021-07-08T11:46:19.139Z"
   },
   {
    "duration": 11,
    "start_time": "2021-07-08T11:46:19.144Z"
   },
   {
    "duration": 40,
    "start_time": "2021-07-08T11:46:19.157Z"
   },
   {
    "duration": 15,
    "start_time": "2021-07-08T11:46:19.199Z"
   },
   {
    "duration": 10,
    "start_time": "2021-07-08T11:46:19.217Z"
   },
   {
    "duration": 68,
    "start_time": "2021-07-08T11:46:19.230Z"
   },
   {
    "duration": 17,
    "start_time": "2021-07-08T11:46:19.301Z"
   },
   {
    "duration": 7,
    "start_time": "2021-07-08T11:46:19.321Z"
   },
   {
    "duration": 11,
    "start_time": "2021-07-08T11:46:19.330Z"
   },
   {
    "duration": 59,
    "start_time": "2021-07-08T11:46:19.343Z"
   },
   {
    "duration": 17,
    "start_time": "2021-07-08T11:46:19.405Z"
   },
   {
    "duration": 16,
    "start_time": "2021-07-08T11:46:19.424Z"
   },
   {
    "duration": 252,
    "start_time": "2021-07-08T11:46:19.443Z"
   },
   {
    "duration": 9,
    "start_time": "2021-07-08T11:46:19.697Z"
   },
   {
    "duration": 224,
    "start_time": "2021-07-08T11:46:19.708Z"
   },
   {
    "duration": 21,
    "start_time": "2021-07-08T11:46:19.934Z"
   },
   {
    "duration": 9,
    "start_time": "2021-07-08T11:46:19.956Z"
   },
   {
    "duration": 32,
    "start_time": "2021-07-08T11:46:19.967Z"
   },
   {
    "duration": 288,
    "start_time": "2021-07-08T11:46:20.004Z"
   },
   {
    "duration": 23,
    "start_time": "2021-07-08T11:46:20.300Z"
   },
   {
    "duration": 11,
    "start_time": "2021-07-08T11:46:20.325Z"
   },
   {
    "duration": 11,
    "start_time": "2021-07-08T11:46:20.339Z"
   },
   {
    "duration": 259,
    "start_time": "2021-07-08T11:46:20.352Z"
   },
   {
    "duration": 438,
    "start_time": "2021-07-08T11:46:20.613Z"
   },
   {
    "duration": 207,
    "start_time": "2021-07-08T11:46:21.054Z"
   },
   {
    "duration": 27,
    "start_time": "2021-07-08T11:46:21.262Z"
   },
   {
    "duration": 19,
    "start_time": "2021-07-08T11:46:21.291Z"
   },
   {
    "duration": 820,
    "start_time": "2021-07-08T11:49:01.655Z"
   },
   {
    "duration": 372,
    "start_time": "2021-07-08T11:49:02.478Z"
   },
   {
    "duration": 98,
    "start_time": "2021-07-08T11:49:02.853Z"
   },
   {
    "duration": 6,
    "start_time": "2021-07-08T11:49:02.953Z"
   },
   {
    "duration": 39,
    "start_time": "2021-07-08T11:49:02.960Z"
   },
   {
    "duration": 9,
    "start_time": "2021-07-08T11:49:03.003Z"
   },
   {
    "duration": 23,
    "start_time": "2021-07-08T11:49:03.014Z"
   },
   {
    "duration": 6,
    "start_time": "2021-07-08T11:49:03.041Z"
   },
   {
    "duration": 20,
    "start_time": "2021-07-08T11:49:03.049Z"
   },
   {
    "duration": 18,
    "start_time": "2021-07-08T11:49:03.084Z"
   },
   {
    "duration": 14,
    "start_time": "2021-07-08T11:49:03.104Z"
   },
   {
    "duration": 39,
    "start_time": "2021-07-08T11:49:03.119Z"
   },
   {
    "duration": 38,
    "start_time": "2021-07-08T11:49:03.160Z"
   },
   {
    "duration": 26,
    "start_time": "2021-07-08T11:49:03.200Z"
   },
   {
    "duration": 7,
    "start_time": "2021-07-08T11:49:03.227Z"
   },
   {
    "duration": 4,
    "start_time": "2021-07-08T11:49:03.236Z"
   },
   {
    "duration": 15,
    "start_time": "2021-07-08T11:49:03.243Z"
   },
   {
    "duration": 21,
    "start_time": "2021-07-08T11:49:03.285Z"
   },
   {
    "duration": 17,
    "start_time": "2021-07-08T11:49:03.309Z"
   },
   {
    "duration": 10,
    "start_time": "2021-07-08T11:49:03.328Z"
   },
   {
    "duration": 65,
    "start_time": "2021-07-08T11:49:03.340Z"
   },
   {
    "duration": 18,
    "start_time": "2021-07-08T11:49:03.407Z"
   },
   {
    "duration": 8,
    "start_time": "2021-07-08T11:49:03.428Z"
   },
   {
    "duration": 15,
    "start_time": "2021-07-08T11:49:03.438Z"
   },
   {
    "duration": 40,
    "start_time": "2021-07-08T11:49:03.455Z"
   },
   {
    "duration": 12,
    "start_time": "2021-07-08T11:49:03.497Z"
   },
   {
    "duration": 29,
    "start_time": "2021-07-08T11:49:03.511Z"
   },
   {
    "duration": 285,
    "start_time": "2021-07-08T11:49:03.542Z"
   },
   {
    "duration": 8,
    "start_time": "2021-07-08T11:49:03.829Z"
   },
   {
    "duration": 227,
    "start_time": "2021-07-08T11:49:03.838Z"
   },
   {
    "duration": 40,
    "start_time": "2021-07-08T11:49:04.066Z"
   },
   {
    "duration": 10,
    "start_time": "2021-07-08T11:49:04.108Z"
   },
   {
    "duration": 26,
    "start_time": "2021-07-08T11:49:04.121Z"
   },
   {
    "duration": 290,
    "start_time": "2021-07-08T11:49:04.149Z"
   },
   {
    "duration": 26,
    "start_time": "2021-07-08T11:49:04.441Z"
   },
   {
    "duration": 31,
    "start_time": "2021-07-08T11:49:04.470Z"
   },
   {
    "duration": 14,
    "start_time": "2021-07-08T11:49:04.503Z"
   },
   {
    "duration": 259,
    "start_time": "2021-07-08T11:49:04.521Z"
   },
   {
    "duration": 480,
    "start_time": "2021-07-08T11:49:04.782Z"
   },
   {
    "duration": 225,
    "start_time": "2021-07-08T11:49:05.264Z"
   },
   {
    "duration": 22,
    "start_time": "2021-07-08T11:49:05.491Z"
   },
   {
    "duration": 24,
    "start_time": "2021-07-08T11:49:05.515Z"
   },
   {
    "duration": 634,
    "start_time": "2021-07-08T11:52:24.960Z"
   },
   {
    "duration": 199,
    "start_time": "2021-07-08T11:52:25.599Z"
   },
   {
    "duration": 106,
    "start_time": "2021-07-08T11:52:25.803Z"
   },
   {
    "duration": 7,
    "start_time": "2021-07-08T11:52:25.911Z"
   },
   {
    "duration": 29,
    "start_time": "2021-07-08T11:52:25.920Z"
   },
   {
    "duration": 7,
    "start_time": "2021-07-08T11:52:25.951Z"
   },
   {
    "duration": 26,
    "start_time": "2021-07-08T11:52:25.961Z"
   },
   {
    "duration": 11,
    "start_time": "2021-07-08T11:52:25.990Z"
   },
   {
    "duration": 29,
    "start_time": "2021-07-08T11:52:26.005Z"
   },
   {
    "duration": 9,
    "start_time": "2021-07-08T11:52:26.036Z"
   },
   {
    "duration": 8,
    "start_time": "2021-07-08T11:52:26.047Z"
   },
   {
    "duration": 63,
    "start_time": "2021-07-08T11:52:26.057Z"
   },
   {
    "duration": 17,
    "start_time": "2021-07-08T11:52:26.122Z"
   },
   {
    "duration": 43,
    "start_time": "2021-07-08T11:52:26.142Z"
   },
   {
    "duration": 17,
    "start_time": "2021-07-08T11:52:26.187Z"
   },
   {
    "duration": 5,
    "start_time": "2021-07-08T11:52:26.206Z"
   },
   {
    "duration": 12,
    "start_time": "2021-07-08T11:52:26.212Z"
   },
   {
    "duration": 11,
    "start_time": "2021-07-08T11:52:26.226Z"
   },
   {
    "duration": 12,
    "start_time": "2021-07-08T11:52:26.238Z"
   },
   {
    "duration": 38,
    "start_time": "2021-07-08T11:52:26.252Z"
   },
   {
    "duration": 40,
    "start_time": "2021-07-08T11:52:26.292Z"
   },
   {
    "duration": 17,
    "start_time": "2021-07-08T11:52:26.336Z"
   },
   {
    "duration": 39,
    "start_time": "2021-07-08T11:52:26.355Z"
   },
   {
    "duration": 11,
    "start_time": "2021-07-08T11:52:26.395Z"
   },
   {
    "duration": 23,
    "start_time": "2021-07-08T11:52:26.408Z"
   },
   {
    "duration": 12,
    "start_time": "2021-07-08T11:52:26.432Z"
   },
   {
    "duration": 41,
    "start_time": "2021-07-08T11:52:26.446Z"
   },
   {
    "duration": 215,
    "start_time": "2021-07-08T11:52:26.493Z"
   },
   {
    "duration": 8,
    "start_time": "2021-07-08T11:52:26.710Z"
   },
   {
    "duration": 228,
    "start_time": "2021-07-08T11:52:26.720Z"
   },
   {
    "duration": 18,
    "start_time": "2021-07-08T11:52:26.950Z"
   },
   {
    "duration": 35,
    "start_time": "2021-07-08T11:52:26.969Z"
   },
   {
    "duration": 23,
    "start_time": "2021-07-08T11:52:27.006Z"
   },
   {
    "duration": 258,
    "start_time": "2021-07-08T11:52:27.030Z"
   },
   {
    "duration": 24,
    "start_time": "2021-07-08T11:52:27.290Z"
   },
   {
    "duration": 12,
    "start_time": "2021-07-08T11:52:27.316Z"
   },
   {
    "duration": 10,
    "start_time": "2021-07-08T11:52:27.329Z"
   },
   {
    "duration": 298,
    "start_time": "2021-07-08T11:52:27.341Z"
   },
   {
    "duration": 436,
    "start_time": "2021-07-08T11:52:27.641Z"
   },
   {
    "duration": 216,
    "start_time": "2021-07-08T11:52:28.079Z"
   },
   {
    "duration": 20,
    "start_time": "2021-07-08T11:52:28.297Z"
   },
   {
    "duration": 17,
    "start_time": "2021-07-08T11:52:28.319Z"
   },
   {
    "duration": 594,
    "start_time": "2021-07-23T14:58:57.211Z"
   },
   {
    "duration": 64,
    "start_time": "2021-07-23T14:59:29.731Z"
   },
   {
    "duration": 62,
    "start_time": "2021-07-23T15:00:01.152Z"
   },
   {
    "duration": 1672,
    "start_time": "2021-07-23T15:01:59.384Z"
   },
   {
    "duration": 62,
    "start_time": "2021-07-23T15:02:06.076Z"
   },
   {
    "duration": 39,
    "start_time": "2021-07-23T15:02:58.197Z"
   },
   {
    "duration": 90,
    "start_time": "2021-07-23T15:04:54.457Z"
   },
   {
    "duration": 263,
    "start_time": "2021-07-23T15:05:47.916Z"
   },
   {
    "duration": 36,
    "start_time": "2021-07-23T15:05:51.659Z"
   },
   {
    "duration": 59,
    "start_time": "2021-07-23T15:06:06.867Z"
   },
   {
    "duration": 6,
    "start_time": "2021-07-23T15:15:33.188Z"
   },
   {
    "duration": 222,
    "start_time": "2021-07-23T15:18:06.773Z"
   },
   {
    "duration": 245,
    "start_time": "2021-07-23T15:20:28.774Z"
   },
   {
    "duration": 5,
    "start_time": "2021-07-23T15:20:41.033Z"
   },
   {
    "duration": 6,
    "start_time": "2021-07-23T15:20:54.134Z"
   },
   {
    "duration": 6,
    "start_time": "2021-07-23T15:22:00.455Z"
   },
   {
    "duration": 6,
    "start_time": "2021-07-23T15:22:10.853Z"
   },
   {
    "duration": 264,
    "start_time": "2021-07-23T15:22:44.449Z"
   },
   {
    "duration": 65,
    "start_time": "2021-07-23T15:22:55.862Z"
   },
   {
    "duration": 38,
    "start_time": "2021-07-23T15:22:55.929Z"
   },
   {
    "duration": 5,
    "start_time": "2021-07-23T15:22:55.969Z"
   },
   {
    "duration": 904,
    "start_time": "2021-07-23T15:22:55.976Z"
   },
   {
    "duration": 9,
    "start_time": "2021-07-23T15:23:55.554Z"
   },
   {
    "duration": 4,
    "start_time": "2021-07-23T15:24:17.341Z"
   },
   {
    "duration": 4,
    "start_time": "2021-07-23T15:24:24.660Z"
   },
   {
    "duration": 4,
    "start_time": "2021-07-23T15:24:32.604Z"
   },
   {
    "duration": 65,
    "start_time": "2021-07-23T15:30:14.272Z"
   },
   {
    "duration": 37,
    "start_time": "2021-07-23T15:30:14.339Z"
   },
   {
    "duration": 3,
    "start_time": "2021-07-23T15:30:14.378Z"
   },
   {
    "duration": 9,
    "start_time": "2021-07-23T15:30:14.383Z"
   },
   {
    "duration": 13,
    "start_time": "2021-07-23T15:31:40.495Z"
   },
   {
    "duration": 15,
    "start_time": "2021-07-23T15:32:38.450Z"
   },
   {
    "duration": 17,
    "start_time": "2021-07-23T15:36:57.777Z"
   },
   {
    "duration": 61,
    "start_time": "2021-07-23T15:37:12.489Z"
   },
   {
    "duration": 38,
    "start_time": "2021-07-23T15:37:12.552Z"
   },
   {
    "duration": 5,
    "start_time": "2021-07-23T15:37:12.592Z"
   },
   {
    "duration": 19,
    "start_time": "2021-07-23T15:37:15.404Z"
   },
   {
    "duration": 5,
    "start_time": "2021-07-23T15:37:44.791Z"
   },
   {
    "duration": 77,
    "start_time": "2021-07-23T15:38:07.014Z"
   },
   {
    "duration": 17,
    "start_time": "2021-07-23T15:38:10.717Z"
   },
   {
    "duration": 222,
    "start_time": "2021-07-23T15:38:28.476Z"
   },
   {
    "duration": 6,
    "start_time": "2021-07-23T15:39:12.295Z"
   },
   {
    "duration": 240,
    "start_time": "2021-07-23T15:40:38.769Z"
   },
   {
    "duration": 8,
    "start_time": "2021-07-23T15:40:50.437Z"
   },
   {
    "duration": 9,
    "start_time": "2021-07-23T15:41:43.237Z"
   },
   {
    "duration": 81,
    "start_time": "2021-07-23T15:42:04.468Z"
   },
   {
    "duration": 226,
    "start_time": "2021-07-23T15:42:21.743Z"
   },
   {
    "duration": 244,
    "start_time": "2021-07-23T15:42:52.901Z"
   },
   {
    "duration": 231,
    "start_time": "2021-07-23T15:43:02.058Z"
   },
   {
    "duration": 61,
    "start_time": "2021-07-23T15:43:31.165Z"
   },
   {
    "duration": 37,
    "start_time": "2021-07-23T15:43:31.228Z"
   },
   {
    "duration": 7,
    "start_time": "2021-07-23T15:43:31.267Z"
   },
   {
    "duration": 248,
    "start_time": "2021-07-23T15:43:31.275Z"
   },
   {
    "duration": 79,
    "start_time": "2021-07-23T15:43:50.592Z"
   },
   {
    "duration": 11,
    "start_time": "2021-07-23T15:43:54.948Z"
   },
   {
    "duration": 6,
    "start_time": "2021-07-23T15:46:35.998Z"
   },
   {
    "duration": 29,
    "start_time": "2021-07-23T15:52:00.783Z"
   },
   {
    "duration": 22,
    "start_time": "2021-07-23T15:52:19.735Z"
   },
   {
    "duration": 82,
    "start_time": "2021-07-23T15:53:53.592Z"
   },
   {
    "duration": 103,
    "start_time": "2021-07-23T16:00:25.483Z"
   },
   {
    "duration": 1133,
    "start_time": "2021-07-26T09:54:52.210Z"
   },
   {
    "duration": 42,
    "start_time": "2021-07-26T09:54:53.347Z"
   },
   {
    "duration": 26,
    "start_time": "2021-07-26T09:54:53.393Z"
   },
   {
    "duration": 632,
    "start_time": "2021-07-26T09:54:53.422Z"
   },
   {
    "duration": -3018,
    "start_time": "2021-07-26T09:54:57.075Z"
   },
   {
    "duration": -3022,
    "start_time": "2021-07-26T09:54:57.081Z"
   },
   {
    "duration": 105,
    "start_time": "2021-07-26T09:55:58.272Z"
   },
   {
    "duration": 37,
    "start_time": "2021-07-26T09:55:58.380Z"
   },
   {
    "duration": 7,
    "start_time": "2021-07-26T09:55:58.421Z"
   },
   {
    "duration": 367,
    "start_time": "2021-07-26T09:55:58.431Z"
   },
   {
    "duration": -3026,
    "start_time": "2021-07-26T09:56:01.827Z"
   },
   {
    "duration": -3031,
    "start_time": "2021-07-26T09:56:01.834Z"
   },
   {
    "duration": 28,
    "start_time": "2021-07-26T09:56:43.609Z"
   },
   {
    "duration": 10,
    "start_time": "2021-07-26T09:57:01.659Z"
   },
   {
    "duration": 35,
    "start_time": "2021-07-26T09:57:07.671Z"
   },
   {
    "duration": 10,
    "start_time": "2021-07-26T09:59:14.870Z"
   },
   {
    "duration": 11,
    "start_time": "2021-07-26T09:59:47.271Z"
   },
   {
    "duration": 15,
    "start_time": "2021-07-26T10:10:08.662Z"
   },
   {
    "duration": 12,
    "start_time": "2021-07-26T10:10:27.191Z"
   },
   {
    "duration": 10642,
    "start_time": "2021-07-26T10:15:56.669Z"
   },
   {
    "duration": 9290,
    "start_time": "2021-07-26T10:16:25.390Z"
   },
   {
    "duration": 32,
    "start_time": "2021-07-26T10:16:46.970Z"
   },
   {
    "duration": 1410,
    "start_time": "2021-07-26T10:17:03.809Z"
   },
   {
    "duration": 8,
    "start_time": "2021-07-26T10:17:41.509Z"
   },
   {
    "duration": 17,
    "start_time": "2021-07-26T10:18:05.484Z"
   },
   {
    "duration": 30,
    "start_time": "2021-07-26T10:18:32.390Z"
   },
   {
    "duration": 8,
    "start_time": "2021-07-26T10:18:59.789Z"
   },
   {
    "duration": 91,
    "start_time": "2021-07-26T10:19:03.179Z"
   },
   {
    "duration": 36,
    "start_time": "2021-07-26T10:19:03.273Z"
   },
   {
    "duration": 7,
    "start_time": "2021-07-26T10:19:03.312Z"
   },
   {
    "duration": 36,
    "start_time": "2021-07-26T10:19:03.322Z"
   },
   {
    "duration": 26,
    "start_time": "2021-07-26T10:19:03.361Z"
   },
   {
    "duration": 45,
    "start_time": "2021-07-26T10:19:03.389Z"
   },
   {
    "duration": 10,
    "start_time": "2021-07-26T10:19:03.437Z"
   },
   {
    "duration": 51,
    "start_time": "2021-07-26T10:19:03.450Z"
   },
   {
    "duration": 9,
    "start_time": "2021-07-26T10:19:03.510Z"
   },
   {
    "duration": 377,
    "start_time": "2021-07-26T10:19:53.157Z"
   },
   {
    "duration": 16,
    "start_time": "2021-07-26T10:20:02.670Z"
   },
   {
    "duration": 9,
    "start_time": "2021-07-26T10:21:31.410Z"
   },
   {
    "duration": 7,
    "start_time": "2021-07-26T10:24:23.316Z"
   },
   {
    "duration": 9,
    "start_time": "2021-07-26T10:26:40.510Z"
   },
   {
    "duration": 10,
    "start_time": "2021-07-26T10:26:45.469Z"
   },
   {
    "duration": 10,
    "start_time": "2021-07-26T10:28:44.083Z"
   },
   {
    "duration": 9,
    "start_time": "2021-07-26T10:29:37.459Z"
   },
   {
    "duration": 121,
    "start_time": "2021-07-26T10:31:23.797Z"
   },
   {
    "duration": 37,
    "start_time": "2021-07-26T10:31:23.920Z"
   },
   {
    "duration": 6,
    "start_time": "2021-07-26T10:31:23.960Z"
   },
   {
    "duration": 55,
    "start_time": "2021-07-26T10:31:23.969Z"
   },
   {
    "duration": 8,
    "start_time": "2021-07-26T10:31:24.027Z"
   },
   {
    "duration": 36,
    "start_time": "2021-07-26T10:31:24.038Z"
   },
   {
    "duration": 12,
    "start_time": "2021-07-26T10:31:24.077Z"
   },
   {
    "duration": 32,
    "start_time": "2021-07-26T10:31:24.092Z"
   },
   {
    "duration": 13,
    "start_time": "2021-07-26T10:31:24.128Z"
   },
   {
    "duration": 10,
    "start_time": "2021-07-26T10:31:24.144Z"
   },
   {
    "duration": 17,
    "start_time": "2021-07-26T10:31:24.157Z"
   },
   {
    "duration": 7,
    "start_time": "2021-07-26T10:31:40.059Z"
   },
   {
    "duration": 96,
    "start_time": "2021-07-26T10:31:45.478Z"
   },
   {
    "duration": 39,
    "start_time": "2021-07-26T10:31:45.577Z"
   },
   {
    "duration": 7,
    "start_time": "2021-07-26T10:31:45.620Z"
   },
   {
    "duration": 33,
    "start_time": "2021-07-26T10:31:45.630Z"
   },
   {
    "duration": 25,
    "start_time": "2021-07-26T10:31:45.665Z"
   },
   {
    "duration": 40,
    "start_time": "2021-07-26T10:31:45.698Z"
   },
   {
    "duration": 9,
    "start_time": "2021-07-26T10:31:45.740Z"
   },
   {
    "duration": 50,
    "start_time": "2021-07-26T10:31:45.753Z"
   },
   {
    "duration": 8,
    "start_time": "2021-07-26T10:31:45.806Z"
   },
   {
    "duration": 13,
    "start_time": "2021-07-26T10:31:45.816Z"
   },
   {
    "duration": 13,
    "start_time": "2021-07-26T10:31:45.831Z"
   },
   {
    "duration": 7,
    "start_time": "2021-07-26T10:33:14.025Z"
   },
   {
    "duration": 8,
    "start_time": "2021-07-26T10:42:05.469Z"
   },
   {
    "duration": 93,
    "start_time": "2021-07-26T10:42:14.558Z"
   },
   {
    "duration": 40,
    "start_time": "2021-07-26T10:42:14.654Z"
   },
   {
    "duration": 10,
    "start_time": "2021-07-26T10:42:14.698Z"
   },
   {
    "duration": 72,
    "start_time": "2021-07-26T10:42:14.712Z"
   },
   {
    "duration": 16,
    "start_time": "2021-07-26T10:42:14.788Z"
   },
   {
    "duration": 35,
    "start_time": "2021-07-26T10:42:14.807Z"
   },
   {
    "duration": 7,
    "start_time": "2021-07-26T10:42:14.845Z"
   },
   {
    "duration": 25,
    "start_time": "2021-07-26T10:42:14.887Z"
   },
   {
    "duration": 8,
    "start_time": "2021-07-26T10:42:14.915Z"
   },
   {
    "duration": 18,
    "start_time": "2021-07-26T10:42:14.926Z"
   },
   {
    "duration": 44,
    "start_time": "2021-07-26T10:42:14.947Z"
   },
   {
    "duration": 10,
    "start_time": "2021-07-26T10:45:06.708Z"
   },
   {
    "duration": 30,
    "start_time": "2021-07-26T10:45:15.791Z"
   },
   {
    "duration": 26,
    "start_time": "2021-07-26T10:46:09.968Z"
   },
   {
    "duration": 500,
    "start_time": "2021-07-26T10:46:30.588Z"
   },
   {
    "duration": 788,
    "start_time": "2021-07-26T10:47:20.986Z"
   },
   {
    "duration": 595,
    "start_time": "2021-07-26T10:47:26.569Z"
   },
   {
    "duration": 28,
    "start_time": "2021-07-26T10:47:36.608Z"
   },
   {
    "duration": 12,
    "start_time": "2021-07-26T10:49:20.950Z"
   },
   {
    "duration": 7217,
    "start_time": "2021-07-26T10:50:36.630Z"
   },
   {
    "duration": 7360,
    "start_time": "2021-07-26T10:51:06.169Z"
   },
   {
    "duration": 6990,
    "start_time": "2021-07-26T10:51:29.709Z"
   },
   {
    "duration": 124,
    "start_time": "2021-07-26T10:55:06.558Z"
   },
   {
    "duration": 8484,
    "start_time": "2021-07-26T10:55:27.740Z"
   },
   {
    "duration": 9,
    "start_time": "2021-07-26T10:57:18.395Z"
   },
   {
    "duration": 83,
    "start_time": "2021-07-26T11:02:17.501Z"
   },
   {
    "duration": 36,
    "start_time": "2021-07-26T11:02:17.588Z"
   },
   {
    "duration": 7,
    "start_time": "2021-07-26T11:02:17.628Z"
   },
   {
    "duration": 46,
    "start_time": "2021-07-26T11:02:17.638Z"
   },
   {
    "duration": 10,
    "start_time": "2021-07-26T11:02:17.687Z"
   },
   {
    "duration": 83,
    "start_time": "2021-07-26T11:02:17.700Z"
   },
   {
    "duration": 10,
    "start_time": "2021-07-26T11:02:17.786Z"
   },
   {
    "duration": 19,
    "start_time": "2021-07-26T11:02:17.799Z"
   },
   {
    "duration": 8,
    "start_time": "2021-07-26T11:02:17.822Z"
   },
   {
    "duration": 53,
    "start_time": "2021-07-26T11:02:17.832Z"
   },
   {
    "duration": 8,
    "start_time": "2021-07-26T11:02:17.888Z"
   },
   {
    "duration": 6745,
    "start_time": "2021-07-26T11:02:17.899Z"
   },
   {
    "duration": 1256,
    "start_time": "2021-07-26T11:03:37.007Z"
   },
   {
    "duration": 22,
    "start_time": "2021-07-26T11:03:44.365Z"
   },
   {
    "duration": 88,
    "start_time": "2021-07-26T11:05:23.844Z"
   },
   {
    "duration": 35,
    "start_time": "2021-07-26T11:05:23.935Z"
   },
   {
    "duration": 6,
    "start_time": "2021-07-26T11:05:23.974Z"
   },
   {
    "duration": 32,
    "start_time": "2021-07-26T11:05:23.983Z"
   },
   {
    "duration": 8,
    "start_time": "2021-07-26T11:05:24.017Z"
   },
   {
    "duration": 67,
    "start_time": "2021-07-26T11:05:24.028Z"
   },
   {
    "duration": 7,
    "start_time": "2021-07-26T11:05:24.097Z"
   },
   {
    "duration": 21,
    "start_time": "2021-07-26T11:05:24.106Z"
   },
   {
    "duration": 8,
    "start_time": "2021-07-26T11:05:24.130Z"
   },
   {
    "duration": 43,
    "start_time": "2021-07-26T11:05:24.140Z"
   },
   {
    "duration": 9,
    "start_time": "2021-07-26T11:05:24.186Z"
   },
   {
    "duration": 31,
    "start_time": "2021-07-26T11:05:24.197Z"
   },
   {
    "duration": 6749,
    "start_time": "2021-07-26T11:05:55.439Z"
   },
   {
    "duration": 15,
    "start_time": "2021-07-26T11:06:25.958Z"
   },
   {
    "duration": 17,
    "start_time": "2021-07-26T11:19:34.167Z"
   },
   {
    "duration": 15,
    "start_time": "2021-07-26T11:20:16.467Z"
   },
   {
    "duration": 34,
    "start_time": "2021-07-26T11:20:41.749Z"
   },
   {
    "duration": 20,
    "start_time": "2021-07-26T11:21:26.484Z"
   },
   {
    "duration": 383,
    "start_time": "2021-07-26T11:29:22.964Z"
   },
   {
    "duration": 456,
    "start_time": "2021-07-26T11:29:53.788Z"
   },
   {
    "duration": 353,
    "start_time": "2021-07-26T11:30:11.419Z"
   },
   {
    "duration": 395,
    "start_time": "2021-07-26T11:30:17.784Z"
   },
   {
    "duration": 130,
    "start_time": "2021-07-26T11:31:12.005Z"
   },
   {
    "duration": 41,
    "start_time": "2021-07-26T11:31:12.138Z"
   },
   {
    "duration": 9,
    "start_time": "2021-07-26T11:31:12.183Z"
   },
   {
    "duration": 33,
    "start_time": "2021-07-26T11:31:12.195Z"
   },
   {
    "duration": 8,
    "start_time": "2021-07-26T11:31:12.231Z"
   },
   {
    "duration": 73,
    "start_time": "2021-07-26T11:31:12.242Z"
   },
   {
    "duration": 11,
    "start_time": "2021-07-26T11:31:12.318Z"
   },
   {
    "duration": 56,
    "start_time": "2021-07-26T11:31:12.332Z"
   },
   {
    "duration": 11,
    "start_time": "2021-07-26T11:31:12.393Z"
   },
   {
    "duration": 10,
    "start_time": "2021-07-26T11:31:12.407Z"
   },
   {
    "duration": 9,
    "start_time": "2021-07-26T11:31:12.420Z"
   },
   {
    "duration": 420,
    "start_time": "2021-07-26T11:31:12.432Z"
   },
   {
    "duration": 365,
    "start_time": "2021-07-26T11:35:43.083Z"
   },
   {
    "duration": 9,
    "start_time": "2021-07-26T11:36:06.180Z"
   },
   {
    "duration": 11,
    "start_time": "2021-07-26T11:41:55.243Z"
   },
   {
    "duration": 12,
    "start_time": "2021-07-26T11:42:02.783Z"
   },
   {
    "duration": 18,
    "start_time": "2021-07-26T11:42:17.763Z"
   },
   {
    "duration": 12,
    "start_time": "2021-07-26T11:42:31.003Z"
   },
   {
    "duration": 48,
    "start_time": "2021-07-26T11:43:01.763Z"
   },
   {
    "duration": 14,
    "start_time": "2021-07-26T11:44:15.383Z"
   },
   {
    "duration": 12,
    "start_time": "2021-07-26T11:44:26.130Z"
   },
   {
    "duration": 19,
    "start_time": "2021-07-26T11:47:58.665Z"
   },
   {
    "duration": 16,
    "start_time": "2021-07-26T11:48:13.991Z"
   },
   {
    "duration": 116,
    "start_time": "2021-07-26T11:48:42.684Z"
   },
   {
    "duration": 38,
    "start_time": "2021-07-26T11:48:42.803Z"
   },
   {
    "duration": 7,
    "start_time": "2021-07-26T11:48:42.845Z"
   },
   {
    "duration": 44,
    "start_time": "2021-07-26T11:48:42.855Z"
   },
   {
    "duration": 7,
    "start_time": "2021-07-26T11:48:42.901Z"
   },
   {
    "duration": 35,
    "start_time": "2021-07-26T11:48:42.910Z"
   },
   {
    "duration": 37,
    "start_time": "2021-07-26T11:48:42.948Z"
   },
   {
    "duration": 21,
    "start_time": "2021-07-26T11:48:42.987Z"
   },
   {
    "duration": 11,
    "start_time": "2021-07-26T11:48:43.013Z"
   },
   {
    "duration": 10,
    "start_time": "2021-07-26T11:48:43.027Z"
   },
   {
    "duration": 50,
    "start_time": "2021-07-26T11:48:43.039Z"
   },
   {
    "duration": 340,
    "start_time": "2021-07-26T11:48:43.092Z"
   },
   {
    "duration": 17,
    "start_time": "2021-07-26T11:49:55.783Z"
   },
   {
    "duration": 399,
    "start_time": "2021-07-26T11:54:00.182Z"
   },
   {
    "duration": 1429,
    "start_time": "2021-07-26T11:54:22.563Z"
   },
   {
    "duration": 1391,
    "start_time": "2021-07-26T11:54:29.502Z"
   },
   {
    "duration": 357,
    "start_time": "2021-07-26T11:55:06.472Z"
   },
   {
    "duration": 18,
    "start_time": "2021-07-26T11:55:31.713Z"
   },
   {
    "duration": 387,
    "start_time": "2021-07-26T11:56:18.453Z"
   },
   {
    "duration": 136,
    "start_time": "2021-07-26T11:56:53.175Z"
   },
   {
    "duration": 41,
    "start_time": "2021-07-26T11:56:53.314Z"
   },
   {
    "duration": 9,
    "start_time": "2021-07-26T11:56:53.359Z"
   },
   {
    "duration": 39,
    "start_time": "2021-07-26T11:56:53.371Z"
   },
   {
    "duration": 7,
    "start_time": "2021-07-26T11:56:53.413Z"
   },
   {
    "duration": 73,
    "start_time": "2021-07-26T11:56:53.423Z"
   },
   {
    "duration": 9,
    "start_time": "2021-07-26T11:56:53.499Z"
   },
   {
    "duration": 27,
    "start_time": "2021-07-26T11:56:53.512Z"
   },
   {
    "duration": 45,
    "start_time": "2021-07-26T11:56:53.542Z"
   },
   {
    "duration": 15,
    "start_time": "2021-07-26T11:56:53.590Z"
   },
   {
    "duration": 17,
    "start_time": "2021-07-26T11:56:53.608Z"
   },
   {
    "duration": 56,
    "start_time": "2021-07-26T11:56:53.628Z"
   },
   {
    "duration": 12,
    "start_time": "2021-07-26T11:59:05.046Z"
   },
   {
    "duration": 13,
    "start_time": "2021-07-26T11:59:45.247Z"
   },
   {
    "duration": 15,
    "start_time": "2021-07-26T12:04:30.968Z"
   },
   {
    "duration": 7,
    "start_time": "2021-07-26T12:06:30.332Z"
   },
   {
    "duration": 26,
    "start_time": "2021-07-26T12:06:49.870Z"
   },
   {
    "duration": 19,
    "start_time": "2021-07-26T12:07:53.066Z"
   },
   {
    "duration": 9,
    "start_time": "2021-07-26T12:09:36.066Z"
   },
   {
    "duration": 15,
    "start_time": "2021-07-26T12:09:44.265Z"
   },
   {
    "duration": 9,
    "start_time": "2021-07-26T12:11:12.829Z"
   },
   {
    "duration": 36,
    "start_time": "2021-07-26T12:11:32.825Z"
   },
   {
    "duration": 12,
    "start_time": "2021-07-26T12:12:49.331Z"
   },
   {
    "duration": 8,
    "start_time": "2021-07-26T12:13:04.137Z"
   },
   {
    "duration": 8,
    "start_time": "2021-07-26T12:13:32.423Z"
   },
   {
    "duration": 85,
    "start_time": "2021-07-26T12:14:08.059Z"
   },
   {
    "duration": 38,
    "start_time": "2021-07-26T12:14:08.146Z"
   },
   {
    "duration": 7,
    "start_time": "2021-07-26T12:14:08.187Z"
   },
   {
    "duration": 31,
    "start_time": "2021-07-26T12:14:08.197Z"
   },
   {
    "duration": 7,
    "start_time": "2021-07-26T12:14:08.231Z"
   },
   {
    "duration": 46,
    "start_time": "2021-07-26T12:14:08.241Z"
   },
   {
    "duration": 8,
    "start_time": "2021-07-26T12:14:08.290Z"
   },
   {
    "duration": 20,
    "start_time": "2021-07-26T12:14:08.301Z"
   },
   {
    "duration": 18,
    "start_time": "2021-07-26T12:14:08.324Z"
   },
   {
    "duration": 13,
    "start_time": "2021-07-26T12:14:08.345Z"
   },
   {
    "duration": 16,
    "start_time": "2021-07-26T12:14:08.360Z"
   },
   {
    "duration": 32,
    "start_time": "2021-07-26T12:14:08.378Z"
   },
   {
    "duration": 11,
    "start_time": "2021-07-26T12:14:08.412Z"
   },
   {
    "duration": 26,
    "start_time": "2021-07-26T12:14:08.425Z"
   },
   {
    "duration": 13,
    "start_time": "2021-07-26T12:14:08.453Z"
   },
   {
    "duration": 14,
    "start_time": "2021-07-26T12:14:08.469Z"
   },
   {
    "duration": 9,
    "start_time": "2021-07-26T12:14:31.542Z"
   },
   {
    "duration": 83,
    "start_time": "2021-07-26T12:14:45.046Z"
   },
   {
    "duration": 36,
    "start_time": "2021-07-26T12:14:45.131Z"
   },
   {
    "duration": 7,
    "start_time": "2021-07-26T12:14:45.171Z"
   },
   {
    "duration": 30,
    "start_time": "2021-07-26T12:14:45.180Z"
   },
   {
    "duration": 7,
    "start_time": "2021-07-26T12:14:45.212Z"
   },
   {
    "duration": 66,
    "start_time": "2021-07-26T12:14:45.222Z"
   },
   {
    "duration": 9,
    "start_time": "2021-07-26T12:14:45.291Z"
   },
   {
    "duration": 21,
    "start_time": "2021-07-26T12:14:45.303Z"
   },
   {
    "duration": 8,
    "start_time": "2021-07-26T12:14:45.327Z"
   },
   {
    "duration": 11,
    "start_time": "2021-07-26T12:14:45.337Z"
   },
   {
    "duration": 46,
    "start_time": "2021-07-26T12:14:45.351Z"
   },
   {
    "duration": 34,
    "start_time": "2021-07-26T12:14:45.399Z"
   },
   {
    "duration": 10,
    "start_time": "2021-07-26T12:14:45.436Z"
   },
   {
    "duration": 33,
    "start_time": "2021-07-26T12:14:45.449Z"
   },
   {
    "duration": 7,
    "start_time": "2021-07-26T12:14:45.484Z"
   },
   {
    "duration": 13,
    "start_time": "2021-07-26T12:14:45.494Z"
   },
   {
    "duration": 10,
    "start_time": "2021-07-26T12:15:33.702Z"
   },
   {
    "duration": 10,
    "start_time": "2021-07-26T12:15:43.772Z"
   },
   {
    "duration": 15,
    "start_time": "2021-07-26T12:15:49.206Z"
   },
   {
    "duration": 9,
    "start_time": "2021-07-26T12:15:57.704Z"
   },
   {
    "duration": 9,
    "start_time": "2021-07-26T12:17:23.654Z"
   },
   {
    "duration": 33,
    "start_time": "2021-07-26T12:18:34.305Z"
   },
   {
    "duration": 33,
    "start_time": "2021-07-26T12:31:56.768Z"
   },
   {
    "duration": 4,
    "start_time": "2021-07-26T12:33:53.121Z"
   },
   {
    "duration": 27,
    "start_time": "2021-07-26T12:34:19.628Z"
   },
   {
    "duration": 28,
    "start_time": "2021-07-26T12:34:35.149Z"
   },
   {
    "duration": 8,
    "start_time": "2021-07-26T12:40:42.761Z"
   },
   {
    "duration": 18,
    "start_time": "2021-07-26T12:40:49.748Z"
   },
   {
    "duration": 9,
    "start_time": "2021-07-26T12:41:44.306Z"
   },
   {
    "duration": 41,
    "start_time": "2021-07-26T12:42:43.168Z"
   },
   {
    "duration": 9524,
    "start_time": "2021-07-26T12:48:18.027Z"
   },
   {
    "duration": 39,
    "start_time": "2021-07-26T12:48:38.464Z"
   },
   {
    "duration": 64,
    "start_time": "2021-07-26T12:48:57.453Z"
   },
   {
    "duration": 142,
    "start_time": "2021-07-26T12:50:06.265Z"
   },
   {
    "duration": 43,
    "start_time": "2021-07-26T12:50:06.410Z"
   },
   {
    "duration": 10,
    "start_time": "2021-07-26T12:50:06.459Z"
   },
   {
    "duration": 37,
    "start_time": "2021-07-26T12:50:06.473Z"
   },
   {
    "duration": 7,
    "start_time": "2021-07-26T12:50:06.513Z"
   },
   {
    "duration": 46,
    "start_time": "2021-07-26T12:50:06.522Z"
   },
   {
    "duration": 56,
    "start_time": "2021-07-26T12:50:06.570Z"
   },
   {
    "duration": 11,
    "start_time": "2021-07-26T12:50:06.629Z"
   },
   {
    "duration": 18,
    "start_time": "2021-07-26T12:50:06.644Z"
   },
   {
    "duration": 9,
    "start_time": "2021-07-26T12:50:06.665Z"
   },
   {
    "duration": 9,
    "start_time": "2021-07-26T12:50:06.683Z"
   },
   {
    "duration": 21,
    "start_time": "2021-07-26T12:50:06.694Z"
   },
   {
    "duration": 29,
    "start_time": "2021-07-26T12:50:06.719Z"
   },
   {
    "duration": 10,
    "start_time": "2021-07-26T12:50:06.751Z"
   },
   {
    "duration": 28,
    "start_time": "2021-07-26T12:50:06.763Z"
   },
   {
    "duration": 19,
    "start_time": "2021-07-26T12:50:06.793Z"
   },
   {
    "duration": 34,
    "start_time": "2021-07-26T12:50:06.814Z"
   },
   {
    "duration": 37,
    "start_time": "2021-07-26T12:50:06.850Z"
   },
   {
    "duration": 11,
    "start_time": "2021-07-26T12:50:06.889Z"
   },
   {
    "duration": 63,
    "start_time": "2021-07-26T12:50:06.903Z"
   },
   {
    "duration": 43,
    "start_time": "2021-07-26T12:52:27.561Z"
   },
   {
    "duration": 15,
    "start_time": "2021-07-26T13:44:33.837Z"
   },
   {
    "duration": 10,
    "start_time": "2021-07-26T13:47:02.250Z"
   },
   {
    "duration": 864,
    "start_time": "2021-07-27T16:18:25.496Z"
   },
   {
    "duration": 87,
    "start_time": "2021-07-27T16:18:26.363Z"
   },
   {
    "duration": 17,
    "start_time": "2021-07-27T16:18:26.453Z"
   },
   {
    "duration": 34,
    "start_time": "2021-07-27T16:18:26.473Z"
   },
   {
    "duration": 8,
    "start_time": "2021-07-27T16:18:26.510Z"
   },
   {
    "duration": 71,
    "start_time": "2021-07-27T16:18:26.521Z"
   },
   {
    "duration": 8,
    "start_time": "2021-07-27T16:18:26.595Z"
   },
   {
    "duration": 54,
    "start_time": "2021-07-27T16:18:26.608Z"
   },
   {
    "duration": 9,
    "start_time": "2021-07-27T16:18:26.665Z"
   },
   {
    "duration": 10,
    "start_time": "2021-07-27T16:18:26.677Z"
   },
   {
    "duration": 15,
    "start_time": "2021-07-27T16:18:26.689Z"
   },
   {
    "duration": 74,
    "start_time": "2021-07-27T16:18:26.707Z"
   },
   {
    "duration": 11,
    "start_time": "2021-07-27T16:18:26.784Z"
   },
   {
    "duration": 24,
    "start_time": "2021-07-27T16:18:26.797Z"
   },
   {
    "duration": 39,
    "start_time": "2021-07-27T16:18:26.823Z"
   },
   {
    "duration": 26,
    "start_time": "2021-07-27T16:18:26.864Z"
   },
   {
    "duration": 30,
    "start_time": "2021-07-27T16:18:26.892Z"
   },
   {
    "duration": 9,
    "start_time": "2021-07-27T16:18:26.925Z"
   },
   {
    "duration": 58,
    "start_time": "2021-07-27T16:18:26.961Z"
   },
   {
    "duration": 17,
    "start_time": "2021-07-27T16:18:27.021Z"
   },
   {
    "duration": 34,
    "start_time": "2021-07-27T16:18:27.041Z"
   },
   {
    "duration": 113,
    "start_time": "2021-07-27T16:35:30.674Z"
   },
   {
    "duration": 109,
    "start_time": "2021-07-27T16:35:42.114Z"
   },
   {
    "duration": 16,
    "start_time": "2021-07-27T16:36:04.073Z"
   },
   {
    "duration": 480,
    "start_time": "2021-07-27T16:42:11.714Z"
   },
   {
    "duration": 310,
    "start_time": "2021-07-27T16:42:24.116Z"
   },
   {
    "duration": 378,
    "start_time": "2021-07-27T16:42:28.735Z"
   },
   {
    "duration": 30,
    "start_time": "2021-07-27T16:44:00.145Z"
   },
   {
    "duration": 29,
    "start_time": "2021-07-27T16:44:36.414Z"
   },
   {
    "duration": 12,
    "start_time": "2021-07-27T16:46:56.415Z"
   },
   {
    "duration": 11,
    "start_time": "2021-07-27T16:47:06.015Z"
   },
   {
    "duration": 15,
    "start_time": "2021-07-27T16:47:34.134Z"
   },
   {
    "duration": 13,
    "start_time": "2021-07-27T16:49:49.014Z"
   },
   {
    "duration": 11,
    "start_time": "2021-07-27T16:49:56.355Z"
   },
   {
    "duration": 10,
    "start_time": "2021-07-27T16:50:22.879Z"
   },
   {
    "duration": 50,
    "start_time": "2021-07-27T16:50:51.814Z"
   },
   {
    "duration": -862,
    "start_time": "2021-07-27T16:51:44.509Z"
   },
   {
    "duration": 44,
    "start_time": "2021-07-27T16:52:18.794Z"
   },
   {
    "duration": 24,
    "start_time": "2021-07-27T16:53:19.225Z"
   },
   {
    "duration": 35,
    "start_time": "2021-07-27T16:56:46.602Z"
   },
   {
    "duration": 28,
    "start_time": "2021-07-27T16:57:00.634Z"
   },
   {
    "duration": 13,
    "start_time": "2021-07-27T17:00:44.494Z"
   },
   {
    "duration": 17,
    "start_time": "2021-07-27T17:05:42.255Z"
   },
   {
    "duration": 34,
    "start_time": "2021-07-27T17:05:51.754Z"
   },
   {
    "duration": 41,
    "start_time": "2021-07-27T17:06:23.295Z"
   },
   {
    "duration": 24,
    "start_time": "2021-07-27T17:10:18.954Z"
   },
   {
    "duration": 25,
    "start_time": "2021-07-27T17:10:24.974Z"
   },
   {
    "duration": 42,
    "start_time": "2021-07-27T17:10:30.255Z"
   },
   {
    "duration": 18,
    "start_time": "2021-07-27T17:20:20.265Z"
   },
   {
    "duration": 42,
    "start_time": "2021-07-27T17:20:32.535Z"
   },
   {
    "duration": 23,
    "start_time": "2021-07-27T17:26:36.584Z"
   },
   {
    "duration": 23,
    "start_time": "2021-07-27T17:28:02.155Z"
   },
   {
    "duration": 16,
    "start_time": "2021-07-27T17:28:15.414Z"
   },
   {
    "duration": 1145,
    "start_time": "2021-07-27T20:09:46.040Z"
   },
   {
    "duration": 54,
    "start_time": "2021-07-27T20:09:47.188Z"
   },
   {
    "duration": 28,
    "start_time": "2021-07-27T20:09:47.246Z"
   },
   {
    "duration": 39,
    "start_time": "2021-07-27T20:09:47.276Z"
   },
   {
    "duration": 10,
    "start_time": "2021-07-27T20:09:47.317Z"
   },
   {
    "duration": 64,
    "start_time": "2021-07-27T20:09:47.330Z"
   },
   {
    "duration": 7,
    "start_time": "2021-07-27T20:09:47.396Z"
   },
   {
    "duration": 34,
    "start_time": "2021-07-27T20:09:47.405Z"
   },
   {
    "duration": 9,
    "start_time": "2021-07-27T20:09:47.464Z"
   },
   {
    "duration": 28,
    "start_time": "2021-07-27T20:09:47.476Z"
   },
   {
    "duration": 24,
    "start_time": "2021-07-27T20:09:47.507Z"
   },
   {
    "duration": 58,
    "start_time": "2021-07-27T20:09:47.534Z"
   },
   {
    "duration": 11,
    "start_time": "2021-07-27T20:09:47.594Z"
   },
   {
    "duration": 35,
    "start_time": "2021-07-27T20:09:47.609Z"
   },
   {
    "duration": 8,
    "start_time": "2021-07-27T20:09:47.663Z"
   },
   {
    "duration": 34,
    "start_time": "2021-07-27T20:09:47.674Z"
   },
   {
    "duration": 55,
    "start_time": "2021-07-27T20:09:47.710Z"
   },
   {
    "duration": 20,
    "start_time": "2021-07-27T20:09:47.768Z"
   },
   {
    "duration": 44,
    "start_time": "2021-07-27T20:09:47.791Z"
   },
   {
    "duration": 30,
    "start_time": "2021-07-27T20:09:47.838Z"
   },
   {
    "duration": 18,
    "start_time": "2021-07-27T20:09:47.870Z"
   },
   {
    "duration": 16,
    "start_time": "2021-07-27T20:09:47.891Z"
   },
   {
    "duration": 64,
    "start_time": "2021-07-27T20:09:47.910Z"
   },
   {
    "duration": 13,
    "start_time": "2021-07-27T20:09:47.977Z"
   },
   {
    "duration": 40,
    "start_time": "2021-07-27T20:09:47.993Z"
   },
   {
    "duration": 38,
    "start_time": "2021-07-27T20:09:48.036Z"
   },
   {
    "duration": 26,
    "start_time": "2021-07-27T20:11:10.359Z"
   },
   {
    "duration": 42,
    "start_time": "2021-07-27T20:11:31.750Z"
   },
   {
    "duration": 23,
    "start_time": "2021-07-27T20:12:39.967Z"
   },
   {
    "duration": 41,
    "start_time": "2021-07-27T20:13:08.699Z"
   },
   {
    "duration": 24,
    "start_time": "2021-07-27T20:16:42.727Z"
   },
   {
    "duration": 24,
    "start_time": "2021-07-27T20:16:58.471Z"
   },
   {
    "duration": 15,
    "start_time": "2021-07-27T20:17:15.119Z"
   },
   {
    "duration": 446,
    "start_time": "2021-07-27T20:29:07.547Z"
   },
   {
    "duration": 9,
    "start_time": "2021-07-27T20:29:13.727Z"
   },
   {
    "duration": 13,
    "start_time": "2021-07-27T20:30:28.887Z"
   },
   {
    "duration": 13,
    "start_time": "2021-07-27T20:30:44.807Z"
   },
   {
    "duration": 15,
    "start_time": "2021-07-27T20:31:42.259Z"
   },
   {
    "duration": 12,
    "start_time": "2021-07-27T20:36:04.400Z"
   },
   {
    "duration": 12,
    "start_time": "2021-07-27T20:37:37.351Z"
   },
   {
    "duration": 14,
    "start_time": "2021-07-27T20:47:42.817Z"
   },
   {
    "duration": 15,
    "start_time": "2021-07-27T20:49:08.596Z"
   },
   {
    "duration": 874,
    "start_time": "2021-07-28T13:25:39.207Z"
   },
   {
    "duration": 47,
    "start_time": "2021-07-28T13:25:40.084Z"
   },
   {
    "duration": 15,
    "start_time": "2021-07-28T13:25:40.134Z"
   },
   {
    "duration": 40,
    "start_time": "2021-07-28T13:25:40.151Z"
   },
   {
    "duration": 9,
    "start_time": "2021-07-28T13:25:40.193Z"
   },
   {
    "duration": 53,
    "start_time": "2021-07-28T13:25:40.204Z"
   },
   {
    "duration": 8,
    "start_time": "2021-07-28T13:25:40.259Z"
   },
   {
    "duration": 19,
    "start_time": "2021-07-28T13:25:40.270Z"
   },
   {
    "duration": 16,
    "start_time": "2021-07-28T13:25:40.292Z"
   },
   {
    "duration": 11,
    "start_time": "2021-07-28T13:25:40.310Z"
   },
   {
    "duration": 47,
    "start_time": "2021-07-28T13:25:40.323Z"
   },
   {
    "duration": 37,
    "start_time": "2021-07-28T13:25:40.373Z"
   },
   {
    "duration": 13,
    "start_time": "2021-07-28T13:25:40.413Z"
   },
   {
    "duration": 50,
    "start_time": "2021-07-28T13:25:40.429Z"
   },
   {
    "duration": 17,
    "start_time": "2021-07-28T13:25:40.481Z"
   },
   {
    "duration": 35,
    "start_time": "2021-07-28T13:25:40.500Z"
   },
   {
    "duration": 39,
    "start_time": "2021-07-28T13:25:40.538Z"
   },
   {
    "duration": 13,
    "start_time": "2021-07-28T13:25:40.580Z"
   },
   {
    "duration": 61,
    "start_time": "2021-07-28T13:25:40.595Z"
   },
   {
    "duration": 10,
    "start_time": "2021-07-28T13:25:40.659Z"
   },
   {
    "duration": 25,
    "start_time": "2021-07-28T13:25:40.672Z"
   },
   {
    "duration": 16,
    "start_time": "2021-07-28T13:25:40.700Z"
   },
   {
    "duration": 55,
    "start_time": "2021-07-28T13:25:40.721Z"
   },
   {
    "duration": 12,
    "start_time": "2021-07-28T13:25:40.779Z"
   },
   {
    "duration": 64,
    "start_time": "2021-07-28T13:25:40.794Z"
   },
   {
    "duration": 14,
    "start_time": "2021-07-28T13:25:40.860Z"
   },
   {
    "duration": 8,
    "start_time": "2021-07-28T13:25:40.876Z"
   },
   {
    "duration": 31,
    "start_time": "2021-07-28T13:25:40.886Z"
   },
   {
    "duration": 36,
    "start_time": "2021-07-28T13:25:40.919Z"
   },
   {
    "duration": 8,
    "start_time": "2021-07-28T13:25:40.958Z"
   },
   {
    "duration": 16,
    "start_time": "2021-07-28T13:25:40.968Z"
   },
   {
    "duration": 15,
    "start_time": "2021-07-28T13:26:12.978Z"
   },
   {
    "duration": 357,
    "start_time": "2021-07-28T13:39:14.487Z"
   },
   {
    "duration": 12,
    "start_time": "2021-07-28T13:39:26.275Z"
   },
   {
    "duration": 9,
    "start_time": "2021-07-28T13:40:01.127Z"
   },
   {
    "duration": 37,
    "start_time": "2021-07-28T13:41:01.607Z"
   },
   {
    "duration": 93,
    "start_time": "2021-07-28T14:56:36.400Z"
   },
   {
    "duration": 90,
    "start_time": "2021-07-28T14:56:36.497Z"
   },
   {
    "duration": 8,
    "start_time": "2021-07-28T14:56:36.591Z"
   },
   {
    "duration": 36,
    "start_time": "2021-07-28T14:56:36.602Z"
   },
   {
    "duration": 10,
    "start_time": "2021-07-28T14:56:36.653Z"
   },
   {
    "duration": 37,
    "start_time": "2021-07-28T14:56:36.666Z"
   },
   {
    "duration": 51,
    "start_time": "2021-07-28T14:56:36.706Z"
   },
   {
    "duration": 20,
    "start_time": "2021-07-28T14:56:36.763Z"
   },
   {
    "duration": 9,
    "start_time": "2021-07-28T14:56:36.786Z"
   },
   {
    "duration": 7,
    "start_time": "2021-07-28T14:56:36.797Z"
   },
   {
    "duration": 53,
    "start_time": "2021-07-28T14:56:36.806Z"
   },
   {
    "duration": 26,
    "start_time": "2021-07-28T14:56:36.861Z"
   },
   {
    "duration": 11,
    "start_time": "2021-07-28T14:56:36.890Z"
   },
   {
    "duration": 54,
    "start_time": "2021-07-28T14:56:36.903Z"
   },
   {
    "duration": 8,
    "start_time": "2021-07-28T14:56:36.959Z"
   },
   {
    "duration": 33,
    "start_time": "2021-07-28T14:56:36.969Z"
   },
   {
    "duration": 61,
    "start_time": "2021-07-28T14:56:37.005Z"
   },
   {
    "duration": 10,
    "start_time": "2021-07-28T14:56:37.069Z"
   },
   {
    "duration": 40,
    "start_time": "2021-07-28T14:56:37.082Z"
   },
   {
    "duration": 35,
    "start_time": "2021-07-28T14:56:37.125Z"
   },
   {
    "duration": 18,
    "start_time": "2021-07-28T14:56:37.162Z"
   },
   {
    "duration": 18,
    "start_time": "2021-07-28T14:56:37.183Z"
   },
   {
    "duration": 66,
    "start_time": "2021-07-28T14:56:37.208Z"
   },
   {
    "duration": 15,
    "start_time": "2021-07-28T14:56:37.277Z"
   },
   {
    "duration": 72,
    "start_time": "2021-07-28T14:56:37.295Z"
   },
   {
    "duration": 13,
    "start_time": "2021-07-28T14:56:37.370Z"
   },
   {
    "duration": 8,
    "start_time": "2021-07-28T14:56:37.386Z"
   },
   {
    "duration": 14,
    "start_time": "2021-07-28T14:56:37.396Z"
   },
   {
    "duration": 48,
    "start_time": "2021-07-28T14:56:37.412Z"
   },
   {
    "duration": 8,
    "start_time": "2021-07-28T14:56:37.462Z"
   },
   {
    "duration": 14,
    "start_time": "2021-07-28T14:56:37.473Z"
   },
   {
    "duration": 17,
    "start_time": "2021-07-28T14:56:37.489Z"
   },
   {
    "duration": 7,
    "start_time": "2021-07-28T14:56:37.508Z"
   },
   {
    "duration": 71,
    "start_time": "2021-07-28T14:56:37.518Z"
   },
   {
    "duration": 9,
    "start_time": "2021-07-28T15:07:05.806Z"
   },
   {
    "duration": 9,
    "start_time": "2021-07-28T15:07:38.615Z"
   },
   {
    "duration": 16,
    "start_time": "2021-07-28T15:07:41.606Z"
   },
   {
    "duration": 8,
    "start_time": "2021-07-28T15:07:49.126Z"
   },
   {
    "duration": 8,
    "start_time": "2021-07-28T15:08:01.248Z"
   },
   {
    "duration": 15,
    "start_time": "2021-07-28T15:08:05.306Z"
   },
   {
    "duration": 8,
    "start_time": "2021-07-28T15:08:19.947Z"
   },
   {
    "duration": 8,
    "start_time": "2021-07-28T15:08:28.500Z"
   },
   {
    "duration": 6,
    "start_time": "2021-07-28T15:12:15.986Z"
   },
   {
    "duration": 19,
    "start_time": "2021-07-28T15:12:29.406Z"
   },
   {
    "duration": 27,
    "start_time": "2021-07-28T15:12:43.786Z"
   },
   {
    "duration": 6,
    "start_time": "2021-07-28T15:12:55.087Z"
   },
   {
    "duration": 89,
    "start_time": "2021-07-28T15:26:32.726Z"
   },
   {
    "duration": 85,
    "start_time": "2021-07-28T15:26:49.332Z"
   },
   {
    "duration": 88,
    "start_time": "2021-07-28T15:26:56.526Z"
   },
   {
    "duration": 80,
    "start_time": "2021-07-28T15:27:01.406Z"
   },
   {
    "duration": 106,
    "start_time": "2021-07-28T15:27:20.286Z"
   },
   {
    "duration": 1895,
    "start_time": "2021-07-28T15:27:29.546Z"
   },
   {
    "duration": 1373,
    "start_time": "2021-07-28T15:31:51.646Z"
   },
   {
    "duration": 93,
    "start_time": "2021-07-28T15:32:04.832Z"
   },
   {
    "duration": 469,
    "start_time": "2021-07-28T15:32:08.472Z"
   },
   {
    "duration": 437,
    "start_time": "2021-07-28T15:33:30.932Z"
   },
   {
    "duration": 1335,
    "start_time": "2021-07-28T15:34:36.306Z"
   },
   {
    "duration": 1531,
    "start_time": "2021-07-28T15:34:48.892Z"
   },
   {
    "duration": 1119,
    "start_time": "2021-07-28T15:38:52.666Z"
   },
   {
    "duration": 1182,
    "start_time": "2021-07-28T15:39:11.766Z"
   },
   {
    "duration": 91,
    "start_time": "2021-07-28T15:39:26.872Z"
   },
   {
    "duration": 249,
    "start_time": "2021-07-28T15:39:32.466Z"
   },
   {
    "duration": 245,
    "start_time": "2021-07-28T15:39:44.668Z"
   },
   {
    "duration": 1313,
    "start_time": "2021-07-28T15:55:41.886Z"
   },
   {
    "duration": 1156,
    "start_time": "2021-07-28T15:56:07.926Z"
   },
   {
    "duration": 1174,
    "start_time": "2021-07-28T15:57:28.632Z"
   },
   {
    "duration": 14,
    "start_time": "2021-07-28T15:58:01.246Z"
   },
   {
    "duration": 20,
    "start_time": "2021-07-28T15:58:26.946Z"
   },
   {
    "duration": 1217,
    "start_time": "2021-07-28T16:01:42.788Z"
   },
   {
    "duration": 1251,
    "start_time": "2021-07-28T16:01:58.166Z"
   },
   {
    "duration": 1172,
    "start_time": "2021-07-28T16:02:15.812Z"
   },
   {
    "duration": 1132,
    "start_time": "2021-07-28T16:02:33.177Z"
   },
   {
    "duration": 1170,
    "start_time": "2021-07-28T16:02:59.126Z"
   },
   {
    "duration": 1205,
    "start_time": "2021-07-28T16:03:07.869Z"
   },
   {
    "duration": 25,
    "start_time": "2021-07-28T16:05:11.727Z"
   },
   {
    "duration": 6630,
    "start_time": "2021-07-28T16:06:15.546Z"
   },
   {
    "duration": 1702,
    "start_time": "2021-07-28T16:06:49.926Z"
   },
   {
    "duration": 255,
    "start_time": "2021-07-28T16:07:03.847Z"
   },
   {
    "duration": 24,
    "start_time": "2021-07-28T16:08:31.226Z"
   },
   {
    "duration": 21,
    "start_time": "2021-07-28T16:14:12.566Z"
   },
   {
    "duration": 19,
    "start_time": "2021-07-28T16:15:30.566Z"
   },
   {
    "duration": 1175,
    "start_time": "2021-07-28T16:16:24.066Z"
   },
   {
    "duration": 1185,
    "start_time": "2021-07-28T16:16:48.706Z"
   },
   {
    "duration": 17,
    "start_time": "2021-07-28T16:17:08.426Z"
   },
   {
    "duration": 37,
    "start_time": "2021-07-28T16:17:41.073Z"
   },
   {
    "duration": 25,
    "start_time": "2021-07-28T16:17:55.906Z"
   },
   {
    "duration": 24,
    "start_time": "2021-07-28T16:18:46.946Z"
   },
   {
    "duration": 31,
    "start_time": "2021-07-28T16:20:28.146Z"
   },
   {
    "duration": 27,
    "start_time": "2021-07-28T16:21:26.428Z"
   },
   {
    "duration": 29,
    "start_time": "2021-07-28T16:21:52.609Z"
   },
   {
    "duration": 92,
    "start_time": "2021-07-28T16:33:54.731Z"
   },
   {
    "duration": 77,
    "start_time": "2021-07-28T16:33:54.826Z"
   },
   {
    "duration": 19,
    "start_time": "2021-07-28T16:33:54.906Z"
   },
   {
    "duration": 56,
    "start_time": "2021-07-28T16:33:54.929Z"
   },
   {
    "duration": 8,
    "start_time": "2021-07-28T16:33:54.988Z"
   },
   {
    "duration": 60,
    "start_time": "2021-07-28T16:33:54.998Z"
   },
   {
    "duration": 9,
    "start_time": "2021-07-28T16:33:55.061Z"
   },
   {
    "duration": 40,
    "start_time": "2021-07-28T16:33:55.073Z"
   },
   {
    "duration": 20,
    "start_time": "2021-07-28T16:33:55.118Z"
   },
   {
    "duration": 31,
    "start_time": "2021-07-28T16:33:55.141Z"
   },
   {
    "duration": 31,
    "start_time": "2021-07-28T16:33:55.174Z"
   },
   {
    "duration": 56,
    "start_time": "2021-07-28T16:33:55.208Z"
   },
   {
    "duration": 44,
    "start_time": "2021-07-28T16:33:55.267Z"
   },
   {
    "duration": 43,
    "start_time": "2021-07-28T16:33:55.314Z"
   },
   {
    "duration": 34,
    "start_time": "2021-07-28T16:33:55.360Z"
   },
   {
    "duration": 51,
    "start_time": "2021-07-28T16:33:55.396Z"
   },
   {
    "duration": 42,
    "start_time": "2021-07-28T16:33:55.450Z"
   },
   {
    "duration": 31,
    "start_time": "2021-07-28T16:33:55.494Z"
   },
   {
    "duration": 63,
    "start_time": "2021-07-28T16:33:55.528Z"
   },
   {
    "duration": 24,
    "start_time": "2021-07-28T16:33:55.595Z"
   },
   {
    "duration": 48,
    "start_time": "2021-07-28T16:33:55.621Z"
   },
   {
    "duration": 37,
    "start_time": "2021-07-28T16:33:55.671Z"
   },
   {
    "duration": 43,
    "start_time": "2021-07-28T16:33:55.710Z"
   },
   {
    "duration": 15,
    "start_time": "2021-07-28T16:33:55.755Z"
   },
   {
    "duration": 53,
    "start_time": "2021-07-28T16:33:55.772Z"
   },
   {
    "duration": 35,
    "start_time": "2021-07-28T16:33:55.828Z"
   },
   {
    "duration": 17,
    "start_time": "2021-07-28T16:33:55.869Z"
   },
   {
    "duration": 44,
    "start_time": "2021-07-28T16:33:55.888Z"
   },
   {
    "duration": 21,
    "start_time": "2021-07-28T16:33:55.935Z"
   },
   {
    "duration": 18,
    "start_time": "2021-07-28T16:33:55.958Z"
   },
   {
    "duration": 29,
    "start_time": "2021-07-28T16:33:55.979Z"
   },
   {
    "duration": 40,
    "start_time": "2021-07-28T16:33:56.010Z"
   },
   {
    "duration": 19,
    "start_time": "2021-07-28T16:33:56.052Z"
   },
   {
    "duration": 40,
    "start_time": "2021-07-28T16:33:56.073Z"
   },
   {
    "duration": 23,
    "start_time": "2021-07-28T16:33:56.116Z"
   },
   {
    "duration": 17,
    "start_time": "2021-07-28T16:33:56.141Z"
   },
   {
    "duration": 42,
    "start_time": "2021-07-28T16:33:56.160Z"
   },
   {
    "duration": 22,
    "start_time": "2021-07-28T16:39:47.068Z"
   },
   {
    "duration": 441,
    "start_time": "2021-07-28T16:41:54.603Z"
   },
   {
    "duration": 327,
    "start_time": "2021-07-28T16:42:51.548Z"
   },
   {
    "duration": 87,
    "start_time": "2021-07-28T16:43:03.369Z"
   },
   {
    "duration": 474,
    "start_time": "2021-07-28T16:43:19.711Z"
   },
   {
    "duration": 355,
    "start_time": "2021-07-28T16:45:28.189Z"
   },
   {
    "duration": 340,
    "start_time": "2021-07-28T16:45:51.530Z"
   },
   {
    "duration": 27,
    "start_time": "2021-07-28T16:49:00.410Z"
   },
   {
    "duration": 8,
    "start_time": "2021-07-28T16:51:16.008Z"
   },
   {
    "duration": 262,
    "start_time": "2021-07-28T16:58:00.909Z"
   },
   {
    "duration": 35,
    "start_time": "2021-07-28T16:58:07.098Z"
   },
   {
    "duration": 355,
    "start_time": "2021-07-28T17:01:03.148Z"
   },
   {
    "duration": 717,
    "start_time": "2021-07-28T17:01:32.506Z"
   },
   {
    "duration": 358,
    "start_time": "2021-07-28T17:01:55.888Z"
   },
   {
    "duration": 345,
    "start_time": "2021-07-28T17:02:53.549Z"
   },
   {
    "duration": 352,
    "start_time": "2021-07-28T17:04:35.649Z"
   },
   {
    "duration": 313,
    "start_time": "2021-07-28T17:04:50.428Z"
   },
   {
    "duration": 344,
    "start_time": "2021-07-28T17:05:30.874Z"
   },
   {
    "duration": 407,
    "start_time": "2021-07-28T17:05:57.410Z"
   },
   {
    "duration": 47,
    "start_time": "2021-07-28T17:10:11.010Z"
   },
   {
    "duration": 40,
    "start_time": "2021-07-28T17:10:53.574Z"
   },
   {
    "duration": 54,
    "start_time": "2021-07-28T17:11:28.740Z"
   },
   {
    "duration": 45,
    "start_time": "2021-07-28T17:11:45.830Z"
   },
   {
    "duration": 30,
    "start_time": "2021-07-28T17:12:05.948Z"
   },
   {
    "duration": 29,
    "start_time": "2021-07-28T17:12:24.289Z"
   },
   {
    "duration": 451,
    "start_time": "2021-07-28T17:19:33.389Z"
   },
   {
    "duration": 330,
    "start_time": "2021-07-28T17:19:53.210Z"
   },
   {
    "duration": 735,
    "start_time": "2021-07-28T17:20:12.790Z"
   },
   {
    "duration": 30,
    "start_time": "2021-07-28T17:20:26.504Z"
   },
   {
    "duration": 32,
    "start_time": "2021-07-28T17:29:43.928Z"
   },
   {
    "duration": 32,
    "start_time": "2021-07-28T17:30:21.660Z"
   },
   {
    "duration": 32,
    "start_time": "2021-07-28T17:30:44.310Z"
   },
   {
    "duration": 814,
    "start_time": "2021-07-28T20:10:36.210Z"
   },
   {
    "duration": 43,
    "start_time": "2021-07-28T20:10:37.028Z"
   },
   {
    "duration": 15,
    "start_time": "2021-07-28T20:10:37.075Z"
   },
   {
    "duration": 63,
    "start_time": "2021-07-28T20:10:37.093Z"
   },
   {
    "duration": 9,
    "start_time": "2021-07-28T20:10:37.159Z"
   },
   {
    "duration": 35,
    "start_time": "2021-07-28T20:10:37.171Z"
   },
   {
    "duration": 8,
    "start_time": "2021-07-28T20:10:37.208Z"
   },
   {
    "duration": 53,
    "start_time": "2021-07-28T20:10:37.220Z"
   },
   {
    "duration": 8,
    "start_time": "2021-07-28T20:10:37.276Z"
   },
   {
    "duration": 10,
    "start_time": "2021-07-28T20:10:37.286Z"
   },
   {
    "duration": 17,
    "start_time": "2021-07-28T20:10:37.298Z"
   },
   {
    "duration": 66,
    "start_time": "2021-07-28T20:10:37.317Z"
   },
   {
    "duration": 10,
    "start_time": "2021-07-28T20:10:37.385Z"
   },
   {
    "duration": 25,
    "start_time": "2021-07-28T20:10:37.398Z"
   },
   {
    "duration": 35,
    "start_time": "2021-07-28T20:10:37.426Z"
   },
   {
    "duration": 29,
    "start_time": "2021-07-28T20:10:37.463Z"
   },
   {
    "duration": 38,
    "start_time": "2021-07-28T20:10:37.494Z"
   },
   {
    "duration": 34,
    "start_time": "2021-07-28T20:10:37.535Z"
   },
   {
    "duration": 43,
    "start_time": "2021-07-28T20:10:37.572Z"
   },
   {
    "duration": 11,
    "start_time": "2021-07-28T20:10:37.619Z"
   },
   {
    "duration": 17,
    "start_time": "2021-07-28T20:10:37.656Z"
   },
   {
    "duration": 16,
    "start_time": "2021-07-28T20:10:37.675Z"
   },
   {
    "duration": 69,
    "start_time": "2021-07-28T20:10:37.698Z"
   },
   {
    "duration": 15,
    "start_time": "2021-07-28T20:10:37.770Z"
   },
   {
    "duration": 40,
    "start_time": "2021-07-28T20:10:37.787Z"
   },
   {
    "duration": 38,
    "start_time": "2021-07-28T20:10:37.830Z"
   },
   {
    "duration": 9,
    "start_time": "2021-07-28T20:10:37.871Z"
   },
   {
    "duration": 22,
    "start_time": "2021-07-28T20:10:37.882Z"
   },
   {
    "duration": 49,
    "start_time": "2021-07-28T20:10:37.907Z"
   },
   {
    "duration": 9,
    "start_time": "2021-07-28T20:10:37.959Z"
   },
   {
    "duration": 19,
    "start_time": "2021-07-28T20:10:37.970Z"
   },
   {
    "duration": 16,
    "start_time": "2021-07-28T20:10:37.992Z"
   },
   {
    "duration": 8,
    "start_time": "2021-07-28T20:10:38.011Z"
   },
   {
    "duration": 51,
    "start_time": "2021-07-28T20:10:38.022Z"
   },
   {
    "duration": 10,
    "start_time": "2021-07-28T20:10:38.075Z"
   },
   {
    "duration": 10,
    "start_time": "2021-07-28T20:10:38.088Z"
   },
   {
    "duration": 31,
    "start_time": "2021-07-28T20:10:38.100Z"
   },
   {
    "duration": 826,
    "start_time": "2021-07-28T20:10:38.133Z"
   },
   {
    "duration": 445,
    "start_time": "2021-07-28T20:10:38.961Z"
   },
   {
    "duration": 86,
    "start_time": "2021-07-28T20:10:39.409Z"
   },
   {
    "duration": 454,
    "start_time": "2021-07-28T20:10:39.043Z"
   },
   {
    "duration": 444,
    "start_time": "2021-07-28T20:10:39.054Z"
   },
   {
    "duration": 88,
    "start_time": "2021-07-28T20:11:15.400Z"
   },
   {
    "duration": 43,
    "start_time": "2021-07-28T20:11:15.491Z"
   },
   {
    "duration": 8,
    "start_time": "2021-07-28T20:11:15.537Z"
   },
   {
    "duration": 30,
    "start_time": "2021-07-28T20:11:15.555Z"
   },
   {
    "duration": 14,
    "start_time": "2021-07-28T20:11:15.587Z"
   },
   {
    "duration": 59,
    "start_time": "2021-07-28T20:11:15.604Z"
   },
   {
    "duration": 7,
    "start_time": "2021-07-28T20:11:15.666Z"
   },
   {
    "duration": 18,
    "start_time": "2021-07-28T20:11:15.675Z"
   },
   {
    "duration": 7,
    "start_time": "2021-07-28T20:11:15.698Z"
   },
   {
    "duration": 7,
    "start_time": "2021-07-28T20:11:15.708Z"
   },
   {
    "duration": 12,
    "start_time": "2021-07-28T20:11:15.755Z"
   },
   {
    "duration": 24,
    "start_time": "2021-07-28T20:11:15.770Z"
   },
   {
    "duration": 11,
    "start_time": "2021-07-28T20:11:15.796Z"
   },
   {
    "duration": 60,
    "start_time": "2021-07-28T20:11:15.809Z"
   },
   {
    "duration": 14,
    "start_time": "2021-07-28T20:11:15.872Z"
   },
   {
    "duration": 27,
    "start_time": "2021-07-28T20:11:15.888Z"
   },
   {
    "duration": 49,
    "start_time": "2021-07-28T20:11:15.917Z"
   },
   {
    "duration": 8,
    "start_time": "2021-07-28T20:11:15.969Z"
   },
   {
    "duration": 41,
    "start_time": "2021-07-28T20:11:15.980Z"
   },
   {
    "duration": 38,
    "start_time": "2021-07-28T20:11:16.024Z"
   },
   {
    "duration": 19,
    "start_time": "2021-07-28T20:11:16.064Z"
   },
   {
    "duration": 15,
    "start_time": "2021-07-28T20:11:16.085Z"
   },
   {
    "duration": 64,
    "start_time": "2021-07-28T20:11:16.103Z"
   },
   {
    "duration": 13,
    "start_time": "2021-07-28T20:11:16.169Z"
   },
   {
    "duration": 38,
    "start_time": "2021-07-28T20:11:16.184Z"
   },
   {
    "duration": 42,
    "start_time": "2021-07-28T20:11:16.225Z"
   },
   {
    "duration": 9,
    "start_time": "2021-07-28T20:11:16.272Z"
   },
   {
    "duration": 18,
    "start_time": "2021-07-28T20:11:16.283Z"
   },
   {
    "duration": 17,
    "start_time": "2021-07-28T20:11:16.304Z"
   },
   {
    "duration": 8,
    "start_time": "2021-07-28T20:11:16.356Z"
   },
   {
    "duration": 15,
    "start_time": "2021-07-28T20:11:16.366Z"
   },
   {
    "duration": 15,
    "start_time": "2021-07-28T20:11:16.384Z"
   },
   {
    "duration": 7,
    "start_time": "2021-07-28T20:11:16.402Z"
   },
   {
    "duration": 80,
    "start_time": "2021-07-28T20:11:16.411Z"
   },
   {
    "duration": 9,
    "start_time": "2021-07-28T20:11:16.493Z"
   },
   {
    "duration": 8,
    "start_time": "2021-07-28T20:11:16.504Z"
   },
   {
    "duration": 63,
    "start_time": "2021-07-28T20:11:16.514Z"
   },
   {
    "duration": 350,
    "start_time": "2021-07-28T20:11:16.579Z"
   },
   {
    "duration": 389,
    "start_time": "2021-07-28T20:11:16.931Z"
   },
   {
    "duration": 99,
    "start_time": "2021-07-28T20:11:17.323Z"
   },
   {
    "duration": 540,
    "start_time": "2021-07-28T20:11:16.884Z"
   },
   {
    "duration": 530,
    "start_time": "2021-07-28T20:11:16.895Z"
   },
   {
    "duration": 32,
    "start_time": "2021-07-28T20:11:38.847Z"
   },
   {
    "duration": 37,
    "start_time": "2021-07-28T20:11:40.727Z"
   },
   {
    "duration": 19,
    "start_time": "2021-07-28T20:16:12.292Z"
   },
   {
    "duration": 19,
    "start_time": "2021-07-28T20:16:24.768Z"
   },
   {
    "duration": 47,
    "start_time": "2021-07-28T20:16:58.200Z"
   },
   {
    "duration": 35,
    "start_time": "2021-07-28T20:17:28.670Z"
   },
   {
    "duration": 31,
    "start_time": "2021-07-28T20:18:37.339Z"
   },
   {
    "duration": 382,
    "start_time": "2021-07-28T20:20:33.429Z"
   },
   {
    "duration": 381,
    "start_time": "2021-07-28T20:22:38.441Z"
   },
   {
    "duration": 388,
    "start_time": "2021-07-28T20:23:40.872Z"
   },
   {
    "duration": 7,
    "start_time": "2021-07-28T20:34:22.592Z"
   },
   {
    "duration": 832,
    "start_time": "2021-07-28T20:35:53.602Z"
   },
   {
    "duration": 371,
    "start_time": "2021-07-28T20:37:05.952Z"
   },
   {
    "duration": 440,
    "start_time": "2021-07-28T20:37:17.681Z"
   },
   {
    "duration": 66,
    "start_time": "2021-07-28T20:37:28.469Z"
   },
   {
    "duration": 62,
    "start_time": "2021-07-28T20:37:48.801Z"
   },
   {
    "duration": 65,
    "start_time": "2021-07-28T20:37:56.773Z"
   },
   {
    "duration": 59,
    "start_time": "2021-07-28T20:38:54.115Z"
   },
   {
    "duration": 45,
    "start_time": "2021-07-28T20:39:19.912Z"
   },
   {
    "duration": 41,
    "start_time": "2021-07-28T20:39:27.341Z"
   },
   {
    "duration": 60,
    "start_time": "2021-07-28T20:56:40.045Z"
   },
   {
    "duration": 34,
    "start_time": "2021-07-28T20:56:59.209Z"
   },
   {
    "duration": 732,
    "start_time": "2021-07-28T20:59:21.642Z"
   },
   {
    "duration": 153,
    "start_time": "2021-07-28T20:59:36.769Z"
   },
   {
    "duration": 165,
    "start_time": "2021-07-28T20:59:56.652Z"
   },
   {
    "duration": 149,
    "start_time": "2021-07-28T21:03:00.232Z"
   },
   {
    "duration": 291,
    "start_time": "2021-07-28T21:10:41.941Z"
   },
   {
    "duration": 1827,
    "start_time": "2021-07-28T21:11:03.042Z"
   },
   {
    "duration": 523,
    "start_time": "2021-07-28T21:12:00.741Z"
   },
   {
    "duration": 410,
    "start_time": "2021-07-28T21:14:52.173Z"
   },
   {
    "duration": 459,
    "start_time": "2021-07-28T21:15:33.422Z"
   },
   {
    "duration": 506,
    "start_time": "2021-07-28T21:15:40.643Z"
   },
   {
    "duration": 104,
    "start_time": "2021-07-28T21:16:31.300Z"
   },
   {
    "duration": 495,
    "start_time": "2021-07-28T21:16:42.364Z"
   },
   {
    "duration": 425,
    "start_time": "2021-07-28T21:17:10.833Z"
   },
   {
    "duration": 530,
    "start_time": "2021-07-28T21:20:07.433Z"
   },
   {
    "duration": 467,
    "start_time": "2021-07-28T21:23:50.705Z"
   },
   {
    "duration": 342,
    "start_time": "2021-07-28T21:24:04.832Z"
   },
   {
    "duration": 416,
    "start_time": "2021-07-28T21:24:10.572Z"
   },
   {
    "duration": 324,
    "start_time": "2021-07-28T21:24:20.332Z"
   },
   {
    "duration": 716,
    "start_time": "2021-07-28T21:24:33.940Z"
   },
   {
    "duration": 521,
    "start_time": "2021-07-28T21:25:06.153Z"
   },
   {
    "duration": 493,
    "start_time": "2021-07-28T21:25:14.254Z"
   },
   {
    "duration": 1135,
    "start_time": "2021-07-28T21:26:48.602Z"
   },
   {
    "duration": 303,
    "start_time": "2021-07-28T21:27:25.061Z"
   },
   {
    "duration": 149,
    "start_time": "2021-07-28T21:27:32.412Z"
   },
   {
    "duration": 678,
    "start_time": "2021-07-28T21:28:05.012Z"
   },
   {
    "duration": 722,
    "start_time": "2021-07-28T21:28:36.292Z"
   },
   {
    "duration": 327,
    "start_time": "2021-07-28T21:29:33.861Z"
   },
   {
    "duration": 539,
    "start_time": "2021-07-28T21:29:47.042Z"
   },
   {
    "duration": 89,
    "start_time": "2021-07-28T21:31:44.012Z"
   },
   {
    "duration": 290,
    "start_time": "2021-07-28T21:31:50.561Z"
   },
   {
    "duration": 101,
    "start_time": "2021-07-28T21:32:38.973Z"
   },
   {
    "duration": 282,
    "start_time": "2021-07-28T21:32:43.232Z"
   },
   {
    "duration": 137,
    "start_time": "2021-07-28T21:32:50.694Z"
   },
   {
    "duration": 510,
    "start_time": "2021-07-28T21:33:00.801Z"
   },
   {
    "duration": 1556,
    "start_time": "2021-07-28T21:35:13.832Z"
   },
   {
    "duration": 322,
    "start_time": "2021-07-28T21:35:41.992Z"
   },
   {
    "duration": 525,
    "start_time": "2021-07-28T21:35:47.812Z"
   },
   {
    "duration": 493,
    "start_time": "2021-07-28T21:40:07.252Z"
   },
   {
    "duration": 306,
    "start_time": "2021-07-28T21:41:08.692Z"
   },
   {
    "duration": 397,
    "start_time": "2021-07-28T21:46:34.421Z"
   },
   {
    "duration": 486,
    "start_time": "2021-07-28T21:46:46.472Z"
   },
   {
    "duration": 552,
    "start_time": "2021-07-28T21:46:55.692Z"
   },
   {
    "duration": 538,
    "start_time": "2021-07-28T21:47:10.610Z"
   },
   {
    "duration": 291,
    "start_time": "2021-07-28T21:49:23.392Z"
   },
   {
    "duration": 305,
    "start_time": "2021-07-28T21:50:13.252Z"
   },
   {
    "duration": 291,
    "start_time": "2021-07-28T21:54:13.152Z"
   },
   {
    "duration": 289,
    "start_time": "2021-07-28T21:54:35.592Z"
   },
   {
    "duration": 290,
    "start_time": "2021-07-28T21:54:43.321Z"
   },
   {
    "duration": 285,
    "start_time": "2021-07-28T21:55:17.501Z"
   },
   {
    "duration": 274,
    "start_time": "2021-07-28T21:56:21.101Z"
   },
   {
    "duration": 282,
    "start_time": "2021-07-28T21:56:37.565Z"
   },
   {
    "duration": 299,
    "start_time": "2021-07-28T21:56:47.381Z"
   },
   {
    "duration": 303,
    "start_time": "2021-07-28T21:57:01.012Z"
   },
   {
    "duration": 533,
    "start_time": "2021-07-28T21:57:51.612Z"
   },
   {
    "duration": 855,
    "start_time": "2021-07-31T10:27:02.664Z"
   },
   {
    "duration": 36,
    "start_time": "2021-07-31T10:27:03.522Z"
   },
   {
    "duration": 14,
    "start_time": "2021-07-31T10:27:03.561Z"
   },
   {
    "duration": 31,
    "start_time": "2021-07-31T10:27:03.578Z"
   },
   {
    "duration": 9,
    "start_time": "2021-07-31T10:27:03.611Z"
   },
   {
    "duration": 61,
    "start_time": "2021-07-31T10:27:03.622Z"
   },
   {
    "duration": 8,
    "start_time": "2021-07-31T10:27:03.685Z"
   },
   {
    "duration": 22,
    "start_time": "2021-07-31T10:27:03.696Z"
   },
   {
    "duration": 9,
    "start_time": "2021-07-31T10:27:03.722Z"
   },
   {
    "duration": 9,
    "start_time": "2021-07-31T10:27:03.735Z"
   },
   {
    "duration": 45,
    "start_time": "2021-07-31T10:27:03.747Z"
   },
   {
    "duration": 31,
    "start_time": "2021-07-31T10:27:03.794Z"
   },
   {
    "duration": 10,
    "start_time": "2021-07-31T10:27:03.828Z"
   },
   {
    "duration": 52,
    "start_time": "2021-07-31T10:27:03.841Z"
   },
   {
    "duration": 9,
    "start_time": "2021-07-31T10:27:03.895Z"
   },
   {
    "duration": 25,
    "start_time": "2021-07-31T10:27:03.907Z"
   },
   {
    "duration": 56,
    "start_time": "2021-07-31T10:27:03.935Z"
   },
   {
    "duration": 8,
    "start_time": "2021-07-31T10:27:03.993Z"
   },
   {
    "duration": 39,
    "start_time": "2021-07-31T10:27:04.004Z"
   },
   {
    "duration": 39,
    "start_time": "2021-07-31T10:27:04.045Z"
   },
   {
    "duration": 15,
    "start_time": "2021-07-31T10:27:04.086Z"
   },
   {
    "duration": 16,
    "start_time": "2021-07-31T10:27:04.103Z"
   },
   {
    "duration": 62,
    "start_time": "2021-07-31T10:27:04.122Z"
   },
   {
    "duration": 12,
    "start_time": "2021-07-31T10:27:04.186Z"
   },
   {
    "duration": 38,
    "start_time": "2021-07-31T10:27:04.200Z"
   },
   {
    "duration": 45,
    "start_time": "2021-07-31T10:27:04.240Z"
   },
   {
    "duration": 7,
    "start_time": "2021-07-31T10:27:04.291Z"
   },
   {
    "duration": 15,
    "start_time": "2021-07-31T10:27:04.301Z"
   },
   {
    "duration": 17,
    "start_time": "2021-07-31T10:27:04.319Z"
   },
   {
    "duration": 8,
    "start_time": "2021-07-31T10:27:04.339Z"
   },
   {
    "duration": 43,
    "start_time": "2021-07-31T10:27:04.349Z"
   },
   {
    "duration": 18,
    "start_time": "2021-07-31T10:27:04.395Z"
   },
   {
    "duration": 7,
    "start_time": "2021-07-31T10:27:04.415Z"
   },
   {
    "duration": 62,
    "start_time": "2021-07-31T10:27:04.424Z"
   },
   {
    "duration": 8,
    "start_time": "2021-07-31T10:27:04.489Z"
   },
   {
    "duration": 7,
    "start_time": "2021-07-31T10:27:04.500Z"
   },
   {
    "duration": 30,
    "start_time": "2021-07-31T10:27:04.510Z"
   },
   {
    "duration": 450,
    "start_time": "2021-07-31T10:27:04.542Z"
   },
   {
    "duration": 322,
    "start_time": "2021-07-31T10:27:04.995Z"
   },
   {
    "duration": 792,
    "start_time": "2021-07-31T10:27:05.319Z"
   },
   {
    "duration": 1189,
    "start_time": "2021-07-31T10:27:06.113Z"
   },
   {
    "duration": 419,
    "start_time": "2021-07-31T10:27:07.305Z"
   },
   {
    "duration": 75,
    "start_time": "2021-07-31T10:27:07.727Z"
   },
   {
    "duration": 469,
    "start_time": "2021-07-31T10:36:23.394Z"
   },
   {
    "duration": 11,
    "start_time": "2021-07-31T10:43:12.494Z"
   },
   {
    "duration": 19,
    "start_time": "2021-07-31T10:43:28.734Z"
   },
   {
    "duration": 16,
    "start_time": "2021-07-31T10:51:49.014Z"
   },
   {
    "duration": 32,
    "start_time": "2021-07-31T10:55:31.006Z"
   },
   {
    "duration": 29,
    "start_time": "2021-07-31T11:00:15.496Z"
   },
   {
    "duration": 117,
    "start_time": "2021-07-31T11:01:35.917Z"
   },
   {
    "duration": 60,
    "start_time": "2021-07-31T11:02:14.188Z"
   },
   {
    "duration": 500,
    "start_time": "2021-07-31T11:16:01.247Z"
   },
   {
    "duration": 341,
    "start_time": "2021-07-31T11:16:35.528Z"
   },
   {
    "duration": 356,
    "start_time": "2021-07-31T11:17:04.514Z"
   },
   {
    "duration": 395,
    "start_time": "2021-07-31T11:17:29.667Z"
   },
   {
    "duration": 378,
    "start_time": "2021-07-31T11:18:42.547Z"
   },
   {
    "duration": 9,
    "start_time": "2021-07-31T11:19:05.427Z"
   },
   {
    "duration": 9,
    "start_time": "2021-07-31T11:19:17.128Z"
   },
   {
    "duration": 12,
    "start_time": "2021-07-31T11:21:11.646Z"
   },
   {
    "duration": 12,
    "start_time": "2021-07-31T11:21:54.666Z"
   },
   {
    "duration": 15,
    "start_time": "2021-07-31T11:23:41.738Z"
   },
   {
    "duration": 43,
    "start_time": "2021-07-31T11:26:12.826Z"
   },
   {
    "duration": 43,
    "start_time": "2021-07-31T11:30:29.108Z"
   },
   {
    "duration": 32,
    "start_time": "2021-07-31T11:30:42.887Z"
   },
   {
    "duration": 43,
    "start_time": "2021-07-31T11:30:48.207Z"
   },
   {
    "duration": 184,
    "start_time": "2021-07-31T11:37:49.505Z"
   },
   {
    "duration": 58,
    "start_time": "2021-07-31T11:38:25.505Z"
   },
   {
    "duration": 49,
    "start_time": "2021-07-31T11:55:50.125Z"
   },
   {
    "duration": 253,
    "start_time": "2021-07-31T12:00:06.405Z"
   },
   {
    "duration": 311,
    "start_time": "2021-07-31T12:00:52.634Z"
   },
   {
    "duration": 382,
    "start_time": "2021-07-31T12:09:23.179Z"
   },
   {
    "duration": 433,
    "start_time": "2021-07-31T12:17:53.440Z"
   },
   {
    "duration": 34,
    "start_time": "2021-07-31T12:18:27.138Z"
   },
   {
    "duration": 402,
    "start_time": "2021-07-31T12:18:58.038Z"
   },
   {
    "duration": 52,
    "start_time": "2021-07-31T12:19:31.799Z"
   },
   {
    "duration": 52,
    "start_time": "2021-07-31T12:30:41.871Z"
   },
   {
    "duration": 53,
    "start_time": "2021-07-31T12:30:54.701Z"
   },
   {
    "duration": 418,
    "start_time": "2021-07-31T12:42:08.731Z"
   },
   {
    "duration": 413,
    "start_time": "2021-07-31T12:42:24.592Z"
   },
   {
    "duration": 403,
    "start_time": "2021-07-31T12:42:30.871Z"
   },
   {
    "duration": 423,
    "start_time": "2021-07-31T12:42:43.578Z"
   },
   {
    "duration": 30,
    "start_time": "2021-07-31T12:45:40.931Z"
   },
   {
    "duration": 47,
    "start_time": "2021-07-31T12:46:02.059Z"
   },
   {
    "duration": 39,
    "start_time": "2021-07-31T12:47:32.351Z"
   },
   {
    "duration": 31,
    "start_time": "2021-07-31T12:47:50.230Z"
   },
   {
    "duration": 43,
    "start_time": "2021-07-31T12:47:55.181Z"
   },
   {
    "duration": 405,
    "start_time": "2021-07-31T12:49:36.452Z"
   },
   {
    "duration": 40,
    "start_time": "2021-07-31T12:50:28.231Z"
   },
   {
    "duration": 388,
    "start_time": "2021-07-31T12:52:09.812Z"
   },
   {
    "duration": 1613,
    "start_time": "2021-07-31T12:52:20.041Z"
   },
   {
    "duration": 41,
    "start_time": "2021-07-31T12:52:36.232Z"
   },
   {
    "duration": 35,
    "start_time": "2021-07-31T12:52:58.812Z"
   },
   {
    "duration": 38,
    "start_time": "2021-07-31T12:53:21.091Z"
   },
   {
    "duration": 42,
    "start_time": "2021-07-31T12:55:32.791Z"
   },
   {
    "duration": 29,
    "start_time": "2021-07-31T12:56:04.532Z"
   },
   {
    "duration": 40,
    "start_time": "2021-07-31T12:56:53.001Z"
   },
   {
    "duration": 17,
    "start_time": "2021-07-31T12:58:34.694Z"
   },
   {
    "duration": 334,
    "start_time": "2021-07-31T12:59:03.135Z"
   },
   {
    "duration": 399,
    "start_time": "2021-07-31T12:59:51.855Z"
   },
   {
    "duration": 377,
    "start_time": "2021-07-31T13:00:20.735Z"
   },
   {
    "duration": 76,
    "start_time": "2021-07-31T13:01:07.762Z"
   },
   {
    "duration": 56,
    "start_time": "2021-07-31T13:03:37.282Z"
   },
   {
    "duration": 43,
    "start_time": "2021-07-31T13:03:55.273Z"
   },
   {
    "duration": 15,
    "start_time": "2021-07-31T13:04:14.874Z"
   },
   {
    "duration": 13,
    "start_time": "2021-07-31T13:04:37.962Z"
   },
   {
    "duration": 110,
    "start_time": "2021-07-31T13:05:31.514Z"
   },
   {
    "duration": 96,
    "start_time": "2021-07-31T13:05:35.314Z"
   },
   {
    "duration": 79,
    "start_time": "2021-07-31T13:08:49.615Z"
   },
   {
    "duration": 331,
    "start_time": "2021-07-31T13:17:56.707Z"
   },
   {
    "duration": 51,
    "start_time": "2021-07-31T13:18:43.463Z"
   },
   {
    "duration": 60,
    "start_time": "2021-07-31T13:23:51.521Z"
   },
   {
    "duration": 16,
    "start_time": "2021-07-31T13:30:47.717Z"
   },
   {
    "duration": 16,
    "start_time": "2021-07-31T13:31:02.476Z"
   },
   {
    "duration": 9,
    "start_time": "2021-07-31T13:33:13.856Z"
   },
   {
    "duration": 10,
    "start_time": "2021-07-31T13:33:56.036Z"
   },
   {
    "duration": 16,
    "start_time": "2021-07-31T13:34:14.716Z"
   },
   {
    "duration": 98,
    "start_time": "2021-07-31T13:59:30.232Z"
   },
   {
    "duration": 35,
    "start_time": "2021-07-31T13:59:30.333Z"
   },
   {
    "duration": 12,
    "start_time": "2021-07-31T13:59:30.372Z"
   },
   {
    "duration": 35,
    "start_time": "2021-07-31T13:59:30.387Z"
   },
   {
    "duration": 8,
    "start_time": "2021-07-31T13:59:30.424Z"
   },
   {
    "duration": 74,
    "start_time": "2021-07-31T13:59:30.434Z"
   },
   {
    "duration": 7,
    "start_time": "2021-07-31T13:59:30.510Z"
   },
   {
    "duration": 25,
    "start_time": "2021-07-31T13:59:30.520Z"
   },
   {
    "duration": 34,
    "start_time": "2021-07-31T13:59:30.549Z"
   },
   {
    "duration": 8,
    "start_time": "2021-07-31T13:59:30.588Z"
   },
   {
    "duration": 17,
    "start_time": "2021-07-31T13:59:30.599Z"
   },
   {
    "duration": 29,
    "start_time": "2021-07-31T13:59:30.618Z"
   },
   {
    "duration": 43,
    "start_time": "2021-07-31T13:59:30.650Z"
   },
   {
    "duration": 37,
    "start_time": "2021-07-31T13:59:30.696Z"
   },
   {
    "duration": 23,
    "start_time": "2021-07-31T13:59:30.736Z"
   },
   {
    "duration": 43,
    "start_time": "2021-07-31T13:59:30.761Z"
   },
   {
    "duration": 60,
    "start_time": "2021-07-31T13:59:30.807Z"
   },
   {
    "duration": 25,
    "start_time": "2021-07-31T13:59:30.870Z"
   },
   {
    "duration": 47,
    "start_time": "2021-07-31T13:59:30.898Z"
   },
   {
    "duration": 22,
    "start_time": "2021-07-31T13:59:30.947Z"
   },
   {
    "duration": 23,
    "start_time": "2021-07-31T13:59:30.972Z"
   },
   {
    "duration": 18,
    "start_time": "2021-07-31T13:59:30.999Z"
   },
   {
    "duration": 42,
    "start_time": "2021-07-31T13:59:31.020Z"
   },
   {
    "duration": 34,
    "start_time": "2021-07-31T13:59:31.064Z"
   },
   {
    "duration": 37,
    "start_time": "2021-07-31T13:59:31.101Z"
   },
   {
    "duration": 47,
    "start_time": "2021-07-31T13:59:31.140Z"
   },
   {
    "duration": 10,
    "start_time": "2021-07-31T13:59:31.198Z"
   },
   {
    "duration": 21,
    "start_time": "2021-07-31T13:59:31.211Z"
   },
   {
    "duration": 19,
    "start_time": "2021-07-31T13:59:31.234Z"
   },
   {
    "duration": 34,
    "start_time": "2021-07-31T13:59:31.256Z"
   },
   {
    "duration": 34,
    "start_time": "2021-07-31T13:59:31.293Z"
   },
   {
    "duration": 32,
    "start_time": "2021-07-31T13:59:31.329Z"
   },
   {
    "duration": 7,
    "start_time": "2021-07-31T13:59:31.364Z"
   },
   {
    "duration": 44,
    "start_time": "2021-07-31T13:59:31.373Z"
   },
   {
    "duration": 12,
    "start_time": "2021-07-31T13:59:31.419Z"
   },
   {
    "duration": 19,
    "start_time": "2021-07-31T13:59:31.433Z"
   },
   {
    "duration": 53,
    "start_time": "2021-07-31T13:59:31.454Z"
   },
   {
    "duration": 417,
    "start_time": "2021-07-31T13:59:31.510Z"
   },
   {
    "duration": 375,
    "start_time": "2021-07-31T13:59:31.930Z"
   },
   {
    "duration": 166,
    "start_time": "2021-07-31T13:59:32.309Z"
   },
   {
    "duration": 542,
    "start_time": "2021-07-31T13:59:32.482Z"
   },
   {
    "duration": 583,
    "start_time": "2021-07-31T13:59:33.027Z"
   },
   {
    "duration": 41,
    "start_time": "2021-07-31T13:59:33.612Z"
   },
   {
    "duration": 43,
    "start_time": "2021-07-31T13:59:33.656Z"
   },
   {
    "duration": 17,
    "start_time": "2021-07-31T13:59:33.701Z"
   },
   {
    "duration": 32,
    "start_time": "2021-07-31T13:59:33.721Z"
   },
   {
    "duration": 63,
    "start_time": "2021-07-31T13:59:33.783Z"
   },
   {
    "duration": 11,
    "start_time": "2021-07-31T13:59:33.849Z"
   },
   {
    "duration": 66,
    "start_time": "2021-07-31T13:59:33.863Z"
   },
   {
    "duration": 120,
    "start_time": "2021-07-31T13:59:33.932Z"
   },
   {
    "duration": 27,
    "start_time": "2021-07-31T13:59:34.055Z"
   },
   {
    "duration": 77,
    "start_time": "2021-07-31T13:59:34.085Z"
   },
   {
    "duration": 81,
    "start_time": "2021-07-31T13:59:34.164Z"
   },
   {
    "duration": 697,
    "start_time": "2021-07-31T14:00:17.445Z"
   },
   {
    "duration": 623,
    "start_time": "2021-07-31T14:00:41.884Z"
   },
   {
    "duration": 512,
    "start_time": "2021-07-31T14:01:06.196Z"
   },
   {
    "duration": 527,
    "start_time": "2021-07-31T14:01:30.664Z"
   },
   {
    "duration": 656,
    "start_time": "2021-07-31T14:15:46.550Z"
   },
   {
    "duration": 710,
    "start_time": "2021-07-31T14:18:41.330Z"
   },
   {
    "duration": 574,
    "start_time": "2021-07-31T14:19:02.830Z"
   },
   {
    "duration": 126,
    "start_time": "2021-07-31T14:22:53.471Z"
   },
   {
    "duration": 370,
    "start_time": "2021-07-31T14:22:57.898Z"
   },
   {
    "duration": 653,
    "start_time": "2021-07-31T14:23:04.591Z"
   },
   {
    "duration": 606,
    "start_time": "2021-07-31T14:28:18.016Z"
   },
   {
    "duration": 630,
    "start_time": "2021-07-31T14:42:40.014Z"
   },
   {
    "duration": 519,
    "start_time": "2021-07-31T14:42:58.553Z"
   },
   {
    "duration": 590,
    "start_time": "2021-07-31T14:50:29.245Z"
   },
   {
    "duration": 808,
    "start_time": "2021-07-31T14:50:35.345Z"
   },
   {
    "duration": 607,
    "start_time": "2021-07-31T14:50:40.665Z"
   },
   {
    "duration": 568,
    "start_time": "2021-07-31T14:50:47.986Z"
   },
   {
    "duration": 565,
    "start_time": "2021-07-31T14:50:56.325Z"
   },
   {
    "duration": 583,
    "start_time": "2021-07-31T14:52:57.565Z"
   },
   {
    "duration": 599,
    "start_time": "2021-07-31T14:53:15.525Z"
   },
   {
    "duration": 603,
    "start_time": "2021-07-31T14:53:31.825Z"
   },
   {
    "duration": 615,
    "start_time": "2021-07-31T14:53:50.051Z"
   },
   {
    "duration": 625,
    "start_time": "2021-07-31T14:54:07.425Z"
   },
   {
    "duration": 627,
    "start_time": "2021-07-31T14:54:26.265Z"
   },
   {
    "duration": 645,
    "start_time": "2021-07-31T14:58:03.417Z"
   },
   {
    "duration": 736,
    "start_time": "2021-07-31T14:59:50.057Z"
   },
   {
    "duration": 641,
    "start_time": "2021-07-31T15:01:45.213Z"
   },
   {
    "duration": 396,
    "start_time": "2021-07-31T15:05:13.973Z"
   },
   {
    "duration": 360,
    "start_time": "2021-07-31T15:05:35.393Z"
   },
   {
    "duration": 776,
    "start_time": "2021-07-31T15:06:28.353Z"
   },
   {
    "duration": 723,
    "start_time": "2021-07-31T15:07:05.085Z"
   },
   {
    "duration": 779,
    "start_time": "2021-07-31T15:07:19.814Z"
   },
   {
    "duration": 783,
    "start_time": "2021-07-31T15:08:05.094Z"
   },
   {
    "duration": 754,
    "start_time": "2021-07-31T15:08:18.072Z"
   },
   {
    "duration": 769,
    "start_time": "2021-07-31T15:09:46.093Z"
   },
   {
    "duration": 129,
    "start_time": "2021-07-31T15:13:51.013Z"
   },
   {
    "duration": 650,
    "start_time": "2021-07-31T15:13:58.094Z"
   },
   {
    "duration": 767,
    "start_time": "2021-07-31T15:14:16.604Z"
   },
   {
    "duration": 710,
    "start_time": "2021-07-31T15:14:29.861Z"
   },
   {
    "duration": 735,
    "start_time": "2021-07-31T15:14:45.313Z"
   },
   {
    "duration": 663,
    "start_time": "2021-07-31T15:15:17.374Z"
   },
   {
    "duration": 593,
    "start_time": "2021-07-31T15:15:35.980Z"
   },
   {
    "duration": 470,
    "start_time": "2021-07-31T15:16:02.764Z"
   },
   {
    "duration": 477,
    "start_time": "2021-07-31T15:16:11.815Z"
   },
   {
    "duration": 455,
    "start_time": "2021-07-31T15:16:18.673Z"
   },
   {
    "duration": 715,
    "start_time": "2021-07-31T15:17:23.014Z"
   },
   {
    "duration": 675,
    "start_time": "2021-07-31T15:17:29.353Z"
   },
   {
    "duration": 363,
    "start_time": "2021-07-31T15:19:30.173Z"
   },
   {
    "duration": 506,
    "start_time": "2021-07-31T15:19:47.194Z"
   },
   {
    "duration": 486,
    "start_time": "2021-07-31T15:20:20.733Z"
   },
   {
    "duration": 829,
    "start_time": "2021-07-31T15:20:34.572Z"
   },
   {
    "duration": 142,
    "start_time": "2021-07-31T15:20:46.184Z"
   },
   {
    "duration": 737,
    "start_time": "2021-07-31T15:20:49.011Z"
   },
   {
    "duration": 1157,
    "start_time": "2021-07-31T15:21:17.464Z"
   },
   {
    "duration": 683,
    "start_time": "2021-07-31T15:21:30.594Z"
   },
   {
    "duration": 647,
    "start_time": "2021-07-31T15:22:03.293Z"
   },
   {
    "duration": 554,
    "start_time": "2021-07-31T15:26:09.596Z"
   },
   {
    "duration": 614,
    "start_time": "2021-07-31T15:26:40.154Z"
   },
   {
    "duration": 836,
    "start_time": "2021-08-01T04:39:27.092Z"
   },
   {
    "duration": 93,
    "start_time": "2021-08-01T12:11:14.187Z"
   },
   {
    "duration": 315,
    "start_time": "2021-08-01T12:11:31.328Z"
   },
   {
    "duration": 890,
    "start_time": "2021-08-01T12:11:47.727Z"
   },
   {
    "duration": 40,
    "start_time": "2021-08-01T12:11:48.620Z"
   },
   {
    "duration": 14,
    "start_time": "2021-08-01T12:11:48.664Z"
   },
   {
    "duration": 32,
    "start_time": "2021-08-01T12:11:48.681Z"
   },
   {
    "duration": 45,
    "start_time": "2021-08-01T12:11:48.715Z"
   },
   {
    "duration": 36,
    "start_time": "2021-08-01T12:11:48.763Z"
   },
   {
    "duration": 8,
    "start_time": "2021-08-01T12:11:48.801Z"
   },
   {
    "duration": 55,
    "start_time": "2021-08-01T12:11:48.811Z"
   },
   {
    "duration": 9,
    "start_time": "2021-08-01T12:11:48.870Z"
   },
   {
    "duration": 11,
    "start_time": "2021-08-01T12:11:48.882Z"
   },
   {
    "duration": 15,
    "start_time": "2021-08-01T12:11:48.895Z"
   },
   {
    "duration": 67,
    "start_time": "2021-08-01T12:11:48.912Z"
   },
   {
    "duration": 10,
    "start_time": "2021-08-01T12:11:48.981Z"
   },
   {
    "duration": 24,
    "start_time": "2021-08-01T12:11:48.993Z"
   },
   {
    "duration": 38,
    "start_time": "2021-08-01T12:11:49.020Z"
   },
   {
    "duration": 35,
    "start_time": "2021-08-01T12:11:49.061Z"
   },
   {
    "duration": 30,
    "start_time": "2021-08-01T12:11:49.099Z"
   },
   {
    "duration": 30,
    "start_time": "2021-08-01T12:11:49.132Z"
   },
   {
    "duration": 42,
    "start_time": "2021-08-01T12:11:49.165Z"
   },
   {
    "duration": 47,
    "start_time": "2021-08-01T12:11:49.210Z"
   },
   {
    "duration": 18,
    "start_time": "2021-08-01T12:11:49.260Z"
   },
   {
    "duration": 17,
    "start_time": "2021-08-01T12:11:49.281Z"
   },
   {
    "duration": 79,
    "start_time": "2021-08-01T12:11:49.301Z"
   },
   {
    "duration": 14,
    "start_time": "2021-08-01T12:11:49.383Z"
   },
   {
    "duration": 68,
    "start_time": "2021-08-01T12:11:49.400Z"
   },
   {
    "duration": 14,
    "start_time": "2021-08-01T12:11:49.470Z"
   },
   {
    "duration": 9,
    "start_time": "2021-08-01T12:11:49.490Z"
   },
   {
    "duration": 17,
    "start_time": "2021-08-01T12:11:49.502Z"
   },
   {
    "duration": 15,
    "start_time": "2021-08-01T12:11:49.554Z"
   },
   {
    "duration": 8,
    "start_time": "2021-08-01T12:11:49.572Z"
   },
   {
    "duration": 13,
    "start_time": "2021-08-01T12:11:49.583Z"
   },
   {
    "duration": 59,
    "start_time": "2021-08-01T12:11:49.599Z"
   },
   {
    "duration": 7,
    "start_time": "2021-08-01T12:11:49.661Z"
   },
   {
    "duration": 39,
    "start_time": "2021-08-01T12:11:49.670Z"
   },
   {
    "duration": 44,
    "start_time": "2021-08-01T12:11:49.712Z"
   },
   {
    "duration": 6,
    "start_time": "2021-08-01T12:11:49.758Z"
   },
   {
    "duration": 33,
    "start_time": "2021-08-01T12:11:49.767Z"
   },
   {
    "duration": 482,
    "start_time": "2021-08-01T12:11:49.802Z"
   },
   {
    "duration": 350,
    "start_time": "2021-08-01T12:11:50.287Z"
   },
   {
    "duration": 809,
    "start_time": "2021-08-01T12:11:50.640Z"
   },
   {
    "duration": 1278,
    "start_time": "2021-08-01T12:11:51.456Z"
   },
   {
    "duration": 626,
    "start_time": "2021-08-01T12:11:52.737Z"
   },
   {
    "duration": 43,
    "start_time": "2021-08-01T12:11:53.366Z"
   },
   {
    "duration": 48,
    "start_time": "2021-08-01T12:11:53.412Z"
   },
   {
    "duration": 114,
    "start_time": "2021-08-01T12:11:53.463Z"
   },
   {
    "duration": 33,
    "start_time": "2021-08-01T12:11:53.580Z"
   },
   {
    "duration": 89,
    "start_time": "2021-08-01T12:11:53.616Z"
   },
   {
    "duration": 12,
    "start_time": "2021-08-01T12:11:53.708Z"
   },
   {
    "duration": 72,
    "start_time": "2021-08-01T12:11:53.722Z"
   },
   {
    "duration": 107,
    "start_time": "2021-08-01T12:11:53.797Z"
   },
   {
    "duration": 14,
    "start_time": "2021-08-01T12:11:53.906Z"
   },
   {
    "duration": 97,
    "start_time": "2021-08-01T12:11:53.922Z"
   },
   {
    "duration": 79,
    "start_time": "2021-08-01T12:11:54.022Z"
   },
   {
    "duration": 88,
    "start_time": "2021-08-01T12:13:29.037Z"
   },
   {
    "duration": 11,
    "start_time": "2021-08-01T12:13:43.216Z"
   },
   {
    "duration": 91,
    "start_time": "2021-08-01T12:13:54.787Z"
   },
   {
    "duration": 9,
    "start_time": "2021-08-01T12:14:03.047Z"
   },
   {
    "duration": 35,
    "start_time": "2021-08-01T12:26:25.166Z"
   },
   {
    "duration": 396,
    "start_time": "2021-08-01T12:26:43.506Z"
   },
   {
    "duration": 453,
    "start_time": "2021-08-01T12:27:05.766Z"
   },
   {
    "duration": 579,
    "start_time": "2021-08-01T12:28:34.726Z"
   },
   {
    "duration": 540,
    "start_time": "2021-08-01T12:29:02.126Z"
   },
   {
    "duration": 63,
    "start_time": "2021-08-01T12:29:43.906Z"
   },
   {
    "duration": 649,
    "start_time": "2021-08-01T12:30:50.666Z"
   },
   {
    "duration": 597,
    "start_time": "2021-08-01T12:31:30.666Z"
   },
   {
    "duration": 3,
    "start_time": "2021-08-01T12:34:36.546Z"
   },
   {
    "duration": 89,
    "start_time": "2021-08-01T12:34:38.306Z"
   },
   {
    "duration": 3,
    "start_time": "2021-08-01T12:35:14.966Z"
   },
   {
    "duration": 3,
    "start_time": "2021-08-01T12:35:20.887Z"
   },
   {
    "duration": 96,
    "start_time": "2021-08-01T12:35:20.893Z"
   },
   {
    "duration": 42,
    "start_time": "2021-08-01T12:35:20.992Z"
   },
   {
    "duration": 7,
    "start_time": "2021-08-01T12:35:21.036Z"
   },
   {
    "duration": 37,
    "start_time": "2021-08-01T12:35:21.045Z"
   },
   {
    "duration": 7,
    "start_time": "2021-08-01T12:35:21.085Z"
   },
   {
    "duration": 68,
    "start_time": "2021-08-01T12:35:21.095Z"
   },
   {
    "duration": 7,
    "start_time": "2021-08-01T12:35:21.168Z"
   },
   {
    "duration": 21,
    "start_time": "2021-08-01T12:35:21.178Z"
   },
   {
    "duration": 8,
    "start_time": "2021-08-01T12:35:21.201Z"
   },
   {
    "duration": 47,
    "start_time": "2021-08-01T12:35:21.212Z"
   },
   {
    "duration": 14,
    "start_time": "2021-08-01T12:35:21.262Z"
   },
   {
    "duration": 28,
    "start_time": "2021-08-01T12:35:21.279Z"
   },
   {
    "duration": 11,
    "start_time": "2021-08-01T12:35:21.309Z"
   },
   {
    "duration": 55,
    "start_time": "2021-08-01T12:35:21.322Z"
   },
   {
    "duration": 10,
    "start_time": "2021-08-01T12:35:21.380Z"
   },
   {
    "duration": 29,
    "start_time": "2021-08-01T12:35:21.392Z"
   },
   {
    "duration": 60,
    "start_time": "2021-08-01T12:35:21.423Z"
   },
   {
    "duration": 12,
    "start_time": "2021-08-01T12:35:21.486Z"
   },
   {
    "duration": 78,
    "start_time": "2021-08-01T12:35:21.501Z"
   },
   {
    "duration": 10,
    "start_time": "2021-08-01T12:35:21.581Z"
   },
   {
    "duration": 20,
    "start_time": "2021-08-01T12:35:21.593Z"
   },
   {
    "duration": 41,
    "start_time": "2021-08-01T12:35:21.619Z"
   },
   {
    "duration": 35,
    "start_time": "2021-08-01T12:35:21.663Z"
   },
   {
    "duration": 14,
    "start_time": "2021-08-01T12:35:21.701Z"
   },
   {
    "duration": 66,
    "start_time": "2021-08-01T12:35:21.717Z"
   },
   {
    "duration": 12,
    "start_time": "2021-08-01T12:35:21.786Z"
   },
   {
    "duration": 8,
    "start_time": "2021-08-01T12:35:21.801Z"
   },
   {
    "duration": 50,
    "start_time": "2021-08-01T12:35:21.811Z"
   },
   {
    "duration": 16,
    "start_time": "2021-08-01T12:35:21.863Z"
   },
   {
    "duration": 8,
    "start_time": "2021-08-01T12:35:21.882Z"
   },
   {
    "duration": 14,
    "start_time": "2021-08-01T12:35:21.893Z"
   },
   {
    "duration": 50,
    "start_time": "2021-08-01T12:35:21.910Z"
   },
   {
    "duration": 8,
    "start_time": "2021-08-01T12:35:21.963Z"
   },
   {
    "duration": 37,
    "start_time": "2021-08-01T12:35:21.974Z"
   },
   {
    "duration": 44,
    "start_time": "2021-08-01T12:35:22.013Z"
   },
   {
    "duration": 12,
    "start_time": "2021-08-01T12:35:22.059Z"
   },
   {
    "duration": 30,
    "start_time": "2021-08-01T12:35:22.073Z"
   },
   {
    "duration": 371,
    "start_time": "2021-08-01T12:35:22.106Z"
   },
   {
    "duration": 350,
    "start_time": "2021-08-01T12:35:22.479Z"
   },
   {
    "duration": 163,
    "start_time": "2021-08-01T12:35:22.831Z"
   },
   {
    "duration": 704,
    "start_time": "2021-08-01T12:35:22.997Z"
   },
   {
    "duration": 628,
    "start_time": "2021-08-01T12:35:23.703Z"
   },
   {
    "duration": 58,
    "start_time": "2021-08-01T12:35:24.333Z"
   },
   {
    "duration": 21,
    "start_time": "2021-08-01T12:35:24.394Z"
   },
   {
    "duration": 51,
    "start_time": "2021-08-01T12:35:24.418Z"
   },
   {
    "duration": 582,
    "start_time": "2021-08-01T12:35:24.472Z"
   },
   {
    "duration": 697,
    "start_time": "2021-08-01T12:35:25.057Z"
   },
   {
    "duration": 12,
    "start_time": "2021-08-01T12:35:25.756Z"
   },
   {
    "duration": 45,
    "start_time": "2021-08-01T12:35:25.770Z"
   },
   {
    "duration": 117,
    "start_time": "2021-08-01T12:35:25.818Z"
   },
   {
    "duration": 30,
    "start_time": "2021-08-01T12:35:25.937Z"
   },
   {
    "duration": 87,
    "start_time": "2021-08-01T12:35:25.969Z"
   },
   {
    "duration": 65,
    "start_time": "2021-08-01T12:35:26.058Z"
   }
  ],
  "colab": {
   "name": "DA+. Сборный проект 1. Шаблон (1).ipynb",
   "provenance": []
  },
  "kernelspec": {
   "display_name": "Python 3",
   "language": "python",
   "name": "python3"
  },
  "language_info": {
   "codemirror_mode": {
    "name": "ipython",
    "version": 3
   },
   "file_extension": ".py",
   "mimetype": "text/x-python",
   "name": "python",
   "nbconvert_exporter": "python",
   "pygments_lexer": "ipython3",
   "version": "3.8.8"
  },
  "toc": {
   "base_numbering": 1,
   "nav_menu": {
    "height": "251px",
    "width": "644px"
   },
   "number_sections": true,
   "sideBar": true,
   "skip_h1_title": true,
   "title_cell": "Table of Contents",
   "title_sidebar": "Contents",
   "toc_cell": false,
   "toc_position": {
    "height": "calc(100% - 180px)",
    "left": "10px",
    "top": "150px",
    "width": "375.391px"
   },
   "toc_section_display": true,
   "toc_window_display": false
  }
 },
 "nbformat": 4,
 "nbformat_minor": 1
}
