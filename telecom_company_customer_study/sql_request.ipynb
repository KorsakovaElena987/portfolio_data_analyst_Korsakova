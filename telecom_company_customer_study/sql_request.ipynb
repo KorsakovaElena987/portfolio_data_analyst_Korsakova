{
 "cells": [
  {
   "cell_type": "code",
   "execution_count": 1,
   "metadata": {
    "tags": [
     "aa81075c-062f-4de0-b5fe-14c73dc7468e"
    ]
   },
   "outputs": [],
   "source": [
    "import pandas as pd\n",
    "import numpy as np\n",
    "\n",
    "from sqlalchemy import create_engine"
   ]
  },
  {
   "cell_type": "code",
   "execution_count": 2,
   "metadata": {},
   "outputs": [],
   "source": [
    "path_to_db = '/datasets/telecomm_csi.db'\n",
    "engine = create_engine(f'sqlite:///{path_to_db}', echo = False)"
   ]
  },
  {
   "cell_type": "code",
   "execution_count": 3,
   "metadata": {},
   "outputs": [],
   "source": [
    "query = \"\"\"\n",
    "SELECT us.user_id,\n",
    "       us.lt_day,\n",
    "       (CASE \n",
    "            WHEN us.lt_day<=365 THEN '1' ELSE '0' \n",
    "            END) AS is_new,\n",
    "        us.age,\n",
    "        (CASE \n",
    "            WHEN us.gender_segment=1 THEN 'Ж' \n",
    "            WHEN us.gender_segment=0 THEN 'М'\n",
    "            END) AS gender_segment,\n",
    "        us.os_name,\n",
    "        us.cpe_type_name,\n",
    "        loc.country,\n",
    "        loc.city,\n",
    "        ags.title AS age_segment,\n",
    "        trs.title AS traffic_segment,\n",
    "        lts.title AS lifetime_segment,\n",
    "        us.nps_score,\n",
    "        (CASE WHEN us.nps_score=10 OR us.nps_score=9 THEN 'сторонник'\n",
    "                  WHEN us.nps_score=8 OR us.nps_score=7 THEN 'нейтрален'\n",
    "                  WHEN us.nps_score>=0 AND us.nps_score<=6 THEN 'критик'\n",
    "                  END) AS nps_group\n",
    "FROM user AS us\n",
    "JOIN location AS loc ON us.location_id=loc.location_id\n",
    "JOIN age_segment AS ags ON us.age_gr_id=ags.age_gr_id\n",
    "JOIN traffic_segment AS trs ON us.tr_gr_id=trs.tr_gr_id\n",
    "JOIN lifetime_segment AS lts ON us.lt_gr_id=lts.lt_gr_id;\n",
    "\"\"\""
   ]
  },
  {
   "cell_type": "code",
   "execution_count": 7,
   "metadata": {},
   "outputs": [
    {
     "name": "stdout",
     "output_type": "stream",
     "text": [
      "Upload was successful\n"
     ]
    },
    {
     "data": {
      "text/html": [
       "<div>\n",
       "<style scoped>\n",
       "    .dataframe tbody tr th:only-of-type {\n",
       "        vertical-align: middle;\n",
       "    }\n",
       "\n",
       "    .dataframe tbody tr th {\n",
       "        vertical-align: top;\n",
       "    }\n",
       "\n",
       "    .dataframe thead th {\n",
       "        text-align: right;\n",
       "    }\n",
       "</style>\n",
       "<table border=\"1\" class=\"dataframe\">\n",
       "  <thead>\n",
       "    <tr style=\"text-align: right;\">\n",
       "      <th></th>\n",
       "      <th>user_id</th>\n",
       "      <th>lt_day</th>\n",
       "      <th>is_new</th>\n",
       "      <th>age</th>\n",
       "      <th>gender_segment</th>\n",
       "      <th>os_name</th>\n",
       "      <th>cpe_type_name</th>\n",
       "      <th>country</th>\n",
       "      <th>city</th>\n",
       "      <th>age_segment</th>\n",
       "      <th>traffic_segment</th>\n",
       "      <th>lifetime_segment</th>\n",
       "      <th>nps_score</th>\n",
       "      <th>nps_group</th>\n",
       "    </tr>\n",
       "  </thead>\n",
       "  <tbody>\n",
       "    <tr>\n",
       "      <td>0</td>\n",
       "      <td>A001A2</td>\n",
       "      <td>2320</td>\n",
       "      <td>0</td>\n",
       "      <td>45.0</td>\n",
       "      <td>Ж</td>\n",
       "      <td>ANDROID</td>\n",
       "      <td>SMARTPHONE</td>\n",
       "      <td>Россия</td>\n",
       "      <td>Уфа</td>\n",
       "      <td>05 45-54</td>\n",
       "      <td>04 1-5</td>\n",
       "      <td>08 36+</td>\n",
       "      <td>10</td>\n",
       "      <td>сторонник</td>\n",
       "    </tr>\n",
       "    <tr>\n",
       "      <td>1</td>\n",
       "      <td>A001WF</td>\n",
       "      <td>2344</td>\n",
       "      <td>0</td>\n",
       "      <td>53.0</td>\n",
       "      <td>М</td>\n",
       "      <td>ANDROID</td>\n",
       "      <td>SMARTPHONE</td>\n",
       "      <td>Россия</td>\n",
       "      <td>Киров</td>\n",
       "      <td>05 45-54</td>\n",
       "      <td>04 1-5</td>\n",
       "      <td>08 36+</td>\n",
       "      <td>10</td>\n",
       "      <td>сторонник</td>\n",
       "    </tr>\n",
       "    <tr>\n",
       "      <td>2</td>\n",
       "      <td>A003Q7</td>\n",
       "      <td>467</td>\n",
       "      <td>0</td>\n",
       "      <td>57.0</td>\n",
       "      <td>М</td>\n",
       "      <td>ANDROID</td>\n",
       "      <td>SMARTPHONE</td>\n",
       "      <td>Россия</td>\n",
       "      <td>Москва</td>\n",
       "      <td>06 55-64</td>\n",
       "      <td>08 20-25</td>\n",
       "      <td>06 13-24</td>\n",
       "      <td>10</td>\n",
       "      <td>сторонник</td>\n",
       "    </tr>\n",
       "    <tr>\n",
       "      <td>3</td>\n",
       "      <td>A004TB</td>\n",
       "      <td>4190</td>\n",
       "      <td>0</td>\n",
       "      <td>44.0</td>\n",
       "      <td>Ж</td>\n",
       "      <td>IOS</td>\n",
       "      <td>SMARTPHONE</td>\n",
       "      <td>Россия</td>\n",
       "      <td>РостовнаДону</td>\n",
       "      <td>04 35-44</td>\n",
       "      <td>03 0.1-1</td>\n",
       "      <td>08 36+</td>\n",
       "      <td>10</td>\n",
       "      <td>сторонник</td>\n",
       "    </tr>\n",
       "    <tr>\n",
       "      <td>4</td>\n",
       "      <td>A004XT</td>\n",
       "      <td>1163</td>\n",
       "      <td>0</td>\n",
       "      <td>24.0</td>\n",
       "      <td>М</td>\n",
       "      <td>ANDROID</td>\n",
       "      <td>SMARTPHONE</td>\n",
       "      <td>Россия</td>\n",
       "      <td>Рязань</td>\n",
       "      <td>02 16-24</td>\n",
       "      <td>05 5-10</td>\n",
       "      <td>08 36+</td>\n",
       "      <td>10</td>\n",
       "      <td>сторонник</td>\n",
       "    </tr>\n",
       "  </tbody>\n",
       "</table>\n",
       "</div>"
      ],
      "text/plain": [
       "  user_id  lt_day is_new   age gender_segment  os_name cpe_type_name country  \\\n",
       "0  A001A2    2320      0  45.0              Ж  ANDROID    SMARTPHONE  Россия   \n",
       "1  A001WF    2344      0  53.0              М  ANDROID    SMARTPHONE  Россия   \n",
       "2  A003Q7     467      0  57.0              М  ANDROID    SMARTPHONE  Россия   \n",
       "3  A004TB    4190      0  44.0              Ж      IOS    SMARTPHONE  Россия   \n",
       "4  A004XT    1163      0  24.0              М  ANDROID    SMARTPHONE  Россия   \n",
       "\n",
       "           city age_segment traffic_segment lifetime_segment  nps_score  \\\n",
       "0           Уфа    05 45-54          04 1-5           08 36+         10   \n",
       "1         Киров    05 45-54          04 1-5           08 36+         10   \n",
       "2        Москва    06 55-64        08 20-25         06 13-24         10   \n",
       "3  РостовнаДону    04 35-44        03 0.1-1           08 36+         10   \n",
       "4        Рязань    02 16-24         05 5-10           08 36+         10   \n",
       "\n",
       "   nps_group  \n",
       "0  сторонник  \n",
       "1  сторонник  \n",
       "2  сторонник  \n",
       "3  сторонник  \n",
       "4  сторонник  "
      ]
     },
     "execution_count": 7,
     "metadata": {},
     "output_type": "execute_result"
    }
   ],
   "source": [
    "try:\n",
    "    df = pd.read_sql(query, engine)\n",
    "except: \n",
    "    print('Error loading data')\n",
    "else: \n",
    "    print('Upload was successful')\n",
    "df.head()"
   ]
  },
  {
   "cell_type": "code",
   "execution_count": 5,
   "metadata": {},
   "outputs": [],
   "source": [
    "df.to_csv('telecomm_csi_tableau.csv', index=False)"
   ]
  }
 ],
 "metadata": {
  "ExecuteTimeLog": [
   {
    "duration": 752,
    "start_time": "2021-10-03T17:40:52.731Z"
   },
   {
    "duration": 20,
    "start_time": "2021-10-03T17:40:53.486Z"
   },
   {
    "duration": 4,
    "start_time": "2021-10-03T17:41:04.638Z"
   },
   {
    "duration": 461,
    "start_time": "2021-10-03T17:41:04.912Z"
   },
   {
    "duration": 284,
    "start_time": "2021-10-03T17:41:05.376Z"
   },
   {
    "duration": 574,
    "start_time": "2021-10-06T07:55:05.029Z"
   },
   {
    "duration": 6,
    "start_time": "2021-10-06T07:55:05.605Z"
   },
   {
    "duration": 3,
    "start_time": "2021-10-06T07:55:14.685Z"
   },
   {
    "duration": 406,
    "start_time": "2021-10-06T07:55:15.522Z"
   },
   {
    "duration": 67,
    "start_time": "2021-10-06T07:55:15.929Z"
   },
   {
    "duration": 818,
    "start_time": "2021-10-12T09:21:05.770Z"
   },
   {
    "duration": 13,
    "start_time": "2021-10-12T09:21:06.590Z"
   },
   {
    "duration": 4,
    "start_time": "2021-10-12T09:21:06.606Z"
   },
   {
    "duration": 426,
    "start_time": "2021-10-12T09:21:06.613Z"
   },
   {
    "duration": 318,
    "start_time": "2021-10-12T09:21:07.041Z"
   },
   {
    "duration": 4,
    "start_time": "2021-10-12T09:24:43.118Z"
   },
   {
    "duration": 4,
    "start_time": "2021-10-12T09:24:50.584Z"
   },
   {
    "duration": 10,
    "start_time": "2021-10-12T09:24:50.590Z"
   },
   {
    "duration": 9,
    "start_time": "2021-10-12T09:24:50.602Z"
   },
   {
    "duration": 3873,
    "start_time": "2021-10-12T09:24:50.613Z"
   },
   {
    "duration": 6903,
    "start_time": "2021-10-12T09:24:54.489Z"
   },
   {
    "duration": 3,
    "start_time": "2021-10-12T09:32:17.228Z"
   },
   {
    "duration": 1417,
    "start_time": "2021-10-12T09:32:18.996Z"
   },
   {
    "duration": 4,
    "start_time": "2021-10-12T09:45:25.299Z"
   },
   {
    "duration": 411,
    "start_time": "2021-10-12T09:45:26.401Z"
   },
   {
    "duration": 412,
    "start_time": "2021-10-12T09:45:39.166Z"
   },
   {
    "duration": 3,
    "start_time": "2021-10-12T09:55:55.334Z"
   },
   {
    "duration": 2649,
    "start_time": "2021-10-12T09:55:57.861Z"
   },
   {
    "duration": 3,
    "start_time": "2021-10-12T10:27:20.758Z"
   },
   {
    "duration": 3563,
    "start_time": "2021-10-12T10:27:23.095Z"
   },
   {
    "duration": 3,
    "start_time": "2021-10-12T10:31:57.854Z"
   },
   {
    "duration": 4120,
    "start_time": "2021-10-12T10:31:58.647Z"
   },
   {
    "duration": 3,
    "start_time": "2021-10-12T10:33:06.916Z"
   },
   {
    "duration": 6148,
    "start_time": "2021-10-12T10:33:07.651Z"
   },
   {
    "duration": 3,
    "start_time": "2021-10-12T10:38:34.791Z"
   },
   {
    "duration": 768,
    "start_time": "2021-10-12T10:38:36.046Z"
   },
   {
    "duration": 4,
    "start_time": "2021-10-12T10:39:41.524Z"
   },
   {
    "duration": 658,
    "start_time": "2021-10-12T10:39:42.381Z"
   },
   {
    "duration": 3,
    "start_time": "2021-10-12T10:40:12.421Z"
   },
   {
    "duration": 696,
    "start_time": "2021-10-12T10:40:14.245Z"
   },
   {
    "duration": 4,
    "start_time": "2021-10-12T10:50:00.207Z"
   },
   {
    "duration": 706,
    "start_time": "2021-10-12T10:50:01.628Z"
   },
   {
    "duration": 4,
    "start_time": "2021-10-12T10:50:47.481Z"
   },
   {
    "duration": 675,
    "start_time": "2021-10-12T10:50:48.423Z"
   },
   {
    "duration": 4,
    "start_time": "2021-10-12T10:55:25.952Z"
   },
   {
    "duration": 608,
    "start_time": "2021-10-12T10:55:28.021Z"
   },
   {
    "duration": 4,
    "start_time": "2021-10-12T11:28:09.043Z"
   },
   {
    "duration": 3,
    "start_time": "2021-10-12T11:36:35.530Z"
   },
   {
    "duration": 4247,
    "start_time": "2021-10-12T11:36:36.778Z"
   },
   {
    "duration": 4,
    "start_time": "2021-10-12T11:40:27.139Z"
   },
   {
    "duration": 4306,
    "start_time": "2021-10-12T11:40:28.392Z"
   },
   {
    "duration": 4,
    "start_time": "2021-10-12T11:41:57.618Z"
   },
   {
    "duration": 1329,
    "start_time": "2021-10-12T11:41:59.739Z"
   },
   {
    "duration": 4,
    "start_time": "2021-10-12T11:42:50.984Z"
   },
   {
    "duration": 595,
    "start_time": "2021-10-12T11:42:52.666Z"
   },
   {
    "duration": 4,
    "start_time": "2021-10-12T11:51:03.623Z"
   },
   {
    "duration": 4597,
    "start_time": "2021-10-12T11:51:04.459Z"
   },
   {
    "duration": 3,
    "start_time": "2021-10-12T11:51:43.457Z"
   },
   {
    "duration": 4746,
    "start_time": "2021-10-12T11:51:46.077Z"
   },
   {
    "duration": 3,
    "start_time": "2021-10-12T11:53:32.770Z"
   },
   {
    "duration": 826,
    "start_time": "2021-10-12T11:53:34.513Z"
   },
   {
    "duration": 4,
    "start_time": "2021-10-12T11:53:45.227Z"
   },
   {
    "duration": 5523,
    "start_time": "2021-10-12T11:53:46.258Z"
   },
   {
    "duration": 4,
    "start_time": "2021-10-12T11:58:25.144Z"
   },
   {
    "duration": 480,
    "start_time": "2021-10-12T11:58:26.548Z"
   },
   {
    "duration": 3,
    "start_time": "2021-10-12T11:58:50.849Z"
   },
   {
    "duration": 5682,
    "start_time": "2021-10-12T11:58:52.641Z"
   },
   {
    "duration": 4,
    "start_time": "2021-10-12T12:03:08.675Z"
   },
   {
    "duration": 6219,
    "start_time": "2021-10-12T12:03:11.076Z"
   },
   {
    "duration": 6,
    "start_time": "2021-10-12T12:03:40.093Z"
   },
   {
    "duration": 5,
    "start_time": "2021-10-12T12:04:21.159Z"
   },
   {
    "duration": 400,
    "start_time": "2021-10-12T12:04:23.259Z"
   },
   {
    "duration": 842,
    "start_time": "2021-10-12T12:04:28.784Z"
   },
   {
    "duration": 10,
    "start_time": "2021-10-12T12:04:29.628Z"
   },
   {
    "duration": 3,
    "start_time": "2021-10-12T12:04:29.641Z"
   },
   {
    "duration": 6121,
    "start_time": "2021-10-12T12:04:29.647Z"
   },
   {
    "duration": 7026,
    "start_time": "2021-10-12T12:04:35.770Z"
   },
   {
    "duration": 874,
    "start_time": "2021-10-22T07:56:06.032Z"
   },
   {
    "duration": 11,
    "start_time": "2021-10-22T07:56:06.909Z"
   },
   {
    "duration": 4,
    "start_time": "2021-10-22T07:56:06.924Z"
   },
   {
    "duration": 5921,
    "start_time": "2021-10-22T07:56:06.930Z"
   },
   {
    "duration": 7202,
    "start_time": "2021-10-22T07:56:12.854Z"
   },
   {
    "duration": 23,
    "start_time": "2021-10-22T07:57:39.244Z"
   },
   {
    "duration": 5862,
    "start_time": "2021-10-22T07:57:47.607Z"
   }
  ],
  "kernelspec": {
   "display_name": "Python 3",
   "language": "python",
   "name": "python3"
  },
  "language_info": {
   "codemirror_mode": {
    "name": "ipython",
    "version": 3
   },
   "file_extension": ".py",
   "mimetype": "text/x-python",
   "name": "python",
   "nbconvert_exporter": "python",
   "pygments_lexer": "ipython3",
   "version": "3.7.8"
  },
  "toc": {
   "base_numbering": 1,
   "nav_menu": {},
   "number_sections": true,
   "sideBar": true,
   "skip_h1_title": true,
   "title_cell": "Table of Contents",
   "title_sidebar": "Contents",
   "toc_cell": false,
   "toc_position": {},
   "toc_section_display": true,
   "toc_window_display": false
  }
 },
 "nbformat": 4,
 "nbformat_minor": 5
}
